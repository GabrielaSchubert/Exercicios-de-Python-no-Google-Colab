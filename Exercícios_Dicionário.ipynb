{
  "nbformat": 4,
  "nbformat_minor": 0,
  "metadata": {
    "colab": {
      "provenance": [],
      "authorship_tag": "ABX9TyNNObKz998HCQ9Od1knDpbf",
      "include_colab_link": true
    },
    "kernelspec": {
      "name": "python3",
      "display_name": "Python 3"
    },
    "language_info": {
      "name": "python"
    }
  },
  "cells": [
    {
      "cell_type": "markdown",
      "metadata": {
        "id": "view-in-github",
        "colab_type": "text"
      },
      "source": [
        "<a href=\"https://colab.research.google.com/github/GabrielaSchubert/Python_no_Google_Colaboratory/blob/main/Exerc%C3%ADcios_Dicion%C3%A1rio.ipynb\" target=\"_parent\"><img src=\"https://colab.research.google.com/assets/colab-badge.svg\" alt=\"Open In Colab\"/></a>"
      ]
    },
    {
      "cell_type": "markdown",
      "source": [
        "1) Crie um dicionário que contenha os nomes de 10 pessoas e suas respectivas\n",
        "idades.\n"
      ],
      "metadata": {
        "id": "9K-TYtyRPcQF"
      }
    },
    {
      "cell_type": "code",
      "execution_count": null,
      "metadata": {
        "id": "UQuAZKw5DeJh"
      },
      "outputs": [],
      "source": [
        "pessoas_e_idades = {'Victor': 20, 'Gabi': 18, 'Ana': 21, 'Pedro': 15, 'Beatriz': 17, 'Thiago': 19, 'Henrique': 21, 'Karla': 30, 'Maria': 20, 'Lucas': 10}\n"
      ]
    },
    {
      "cell_type": "markdown",
      "source": [
        "2) Imprima o nome e a idade de todas as pessoas no dicionário."
      ],
      "metadata": {
        "id": "AnPq3mH3Rxf2"
      }
    },
    {
      "cell_type": "code",
      "source": [
        "pessoas_e_idades = {'Victor': 20, 'Gabi': 18, 'Ana': 21, 'Pedro': 15, 'Beatriz': 17, 'Thiago': 19, 'Henrique': 21, 'Karla': 30, 'Maria': 20, 'Lucas': 10}\n",
        "\n",
        "for nome, idade in pessoas_e_idades.items():\n",
        "    print(f\"Nome: {nome}, Idade: {idade}\")"
      ],
      "metadata": {
        "colab": {
          "base_uri": "https://localhost:8080/"
        },
        "id": "HsuW8j5WR81V",
        "outputId": "82d5f98b-a3bb-478f-8295-926ede00a26a"
      },
      "execution_count": null,
      "outputs": [
        {
          "output_type": "stream",
          "name": "stdout",
          "text": [
            "Nome: Victor, Idade: 20\n",
            "Nome: Gabi, Idade: 18\n",
            "Nome: Ana, Idade: 21\n",
            "Nome: Pedro, Idade: 15\n",
            "Nome: Beatriz, Idade: 17\n",
            "Nome: Thiago, Idade: 19\n",
            "Nome: Henrique, Idade: 21\n",
            "Nome: Karla, Idade: 30\n",
            "Nome: Maria, Idade: 20\n",
            "Nome: Lucas, Idade: 10\n"
          ]
        }
      ]
    },
    {
      "cell_type": "markdown",
      "source": [
        "3) Crie uma função que receba um nome como parâmetro e retorne a idade da\n",
        "pessoa correspondente no dicionário."
      ],
      "metadata": {
        "id": "lC6rbkkmSGwp"
      }
    },
    {
      "cell_type": "code",
      "source": [
        "def idade_por_nome(pessoas_e_idades):\n",
        "  nome = input(\"digite o nome: \")\n",
        "  if nome in pessoas_e_idades:\n",
        "        return pessoas_e_idades[nome]\n",
        "  else:\n",
        "        return \"Nome não encontrado no dicionário\"\n",
        "pessoas_e_idades =  {'Victor': 20, 'Gabi': 18, 'Ana': 21, 'Pedro': 15, 'Beatriz': 17, 'Thiago': 19, 'Henrique': 21, 'Karla': 30, 'Maria': 20, 'Lucas': 10}\n",
        "idade_encontrada = idade_por_nome(pessoas_e_idades)\n",
        "if idade_encontrada != \"Nome não encontrado no dicionário\":\n",
        "    print(f\"A idade é de {idade_encontrada} anos.\")\n",
        "else:\n",
        "    print(idade_encontrada)"
      ],
      "metadata": {
        "colab": {
          "base_uri": "https://localhost:8080/"
        },
        "id": "H35P9L3CSLUf",
        "outputId": "4bade2e3-29e8-4154-c2ae-a8ab3029e6f9"
      },
      "execution_count": null,
      "outputs": [
        {
          "output_type": "stream",
          "name": "stdout",
          "text": [
            "digite o nome: Gabi\n",
            "A idade é de 18 anos.\n"
          ]
        }
      ]
    },
    {
      "cell_type": "markdown",
      "source": [
        "4) Crie uma função que receba um nome e uma nova idade como parâmetros e\n",
        "atualize a idade da pessoa correspondente no dicionário."
      ],
      "metadata": {
        "id": "_lBB8KSkegv_"
      }
    },
    {
      "cell_type": "code",
      "source": [
        "def atualizar_idade(nome , nova_idade, pessoas_e_idades):\n",
        "  if nome in pessoas_e_idades:\n",
        "        pessoas_e_idades[nome] = nova_idade\n",
        "        return f\"Idade de {nome} atualizada para {nova_idade} anos.\"\n",
        "  else:\n",
        "        return \"Nome não encontrado no dicionário\"\n",
        "pessoas_e_idades = {'Victor': 20, 'Gabi': 18, 'Ana': 21, 'Pedro': 15, 'Maria': 22}\n",
        "\n",
        "nome_lista = input(\"digite o nome: \")\n",
        "nova_idade = input(\"digite a nova idade: \")\n",
        "resultado = atualizar_idade(nome_lista, nova_idade, pessoas_e_idades)\n",
        "print(resultado)\n",
        "print(\"dicionário atualizado:\", pessoas_e_idades)"
      ],
      "metadata": {
        "colab": {
          "base_uri": "https://localhost:8080/"
        },
        "id": "jOfXMtUSejE-",
        "outputId": "141e9401-8886-4cae-865b-b90292ef58b0"
      },
      "execution_count": null,
      "outputs": [
        {
          "output_type": "stream",
          "name": "stdout",
          "text": [
            "digite o nome: Maria\n",
            "digite a nova idade: 25\n",
            "Idade de Maria atualizada para 25 anos.\n",
            "dicionário atualizado: {'Victor': 20, 'Gabi': 18, 'Ana': 21, 'Pedro': 15, 'Maria': '25'}\n"
          ]
        }
      ]
    },
    {
      "cell_type": "markdown",
      "source": [
        "5) Crie uma função que remova uma pessoa do dicionário."
      ],
      "metadata": {
        "id": "k67qm-zEhcjz"
      }
    },
    {
      "cell_type": "code",
      "source": [
        "def removed_pessoa(nome, pessoas_e_idades):\n",
        "    if nome in pessoas_e_idades:\n",
        "        pessoas_e_idades.pop(nome)\n",
        "        return f\"{nome} foi removido do dicionário.\"\n",
        "    else:\n",
        "        return \"Nome não encontrado no dicionário.\"\n",
        "pessoas_e_idades = {'Victor': 20, 'Gabi': 18, 'Ana': 21, 'Pedro': 15, 'Maria': 20}\n",
        "nome_para_remover = input(\"digite o nome para ser removido: \")\n",
        "resultado = removed_pessoa(nome_para_remover, pessoas_e_idades)\n",
        "print(resultado)\n",
        "print(\"dicionário atualizado:\", pessoas_e_idades)"
      ],
      "metadata": {
        "colab": {
          "base_uri": "https://localhost:8080/"
        },
        "id": "drORRWRvhg5G",
        "outputId": "aa7c5ed1-751d-475b-ac70-3da86d84c62b"
      },
      "execution_count": null,
      "outputs": [
        {
          "output_type": "stream",
          "name": "stdout",
          "text": [
            "digite o nome para ser removido: Maria\n",
            "Maria foi removido do dicionário.\n",
            "dicionário atualizado: {'Victor': 20, 'Gabi': 18, 'Ana': 21, 'Pedro': 15}\n"
          ]
        }
      ]
    },
    {
      "cell_type": "markdown",
      "source": [
        "6) Crie uma função que retorne a quantidade de pessoas no dicionário."
      ],
      "metadata": {
        "id": "5LA8GRjoiMyU"
      }
    },
    {
      "cell_type": "code",
      "source": [
        "def contar_pessoas(pessoas_idades):\n",
        "    quantidade = len(pessoas_e_idades)\n",
        "    return quantidade\n",
        "pessoas_e_idades = {'Victor': 20, 'Gabi': 18, 'Ana': 21, 'Pedro': 15, 'Beatriz': 17, 'Thiago': 19, 'Henrique': 21, 'Karla': 30, 'Maria': 20, 'Lucas': 10}\n",
        "quantidade_pessoas = contar_pessoas(pessoas_e_idades)\n",
        "print(f\"o dicionário contém {quantidade_pessoas} pessoas\")"
      ],
      "metadata": {
        "colab": {
          "base_uri": "https://localhost:8080/"
        },
        "id": "xpOlcpiviRKz",
        "outputId": "3a6a0319-4edf-448d-aa9c-00e0a3826f81"
      },
      "execution_count": null,
      "outputs": [
        {
          "output_type": "stream",
          "name": "stdout",
          "text": [
            "o dicionário contém 10 pessoas\n"
          ]
        }
      ]
    },
    {
      "cell_type": "markdown",
      "source": [
        "7) Crie uma função que retorne a média das idades das pessoas no dicionário."
      ],
      "metadata": {
        "id": "33KHibTjiit-"
      }
    },
    {
      "cell_type": "code",
      "source": [
        "def calcular_media(pessoas_e_idades):\n",
        "  total = sum(pessoas_e_idades.values())\n",
        "  quantidades_pessoas = len(pessoas_e_idades)\n",
        "  if quantidade_pessoas > 0:\n",
        "      media = total / quantidade_pessoas\n",
        "      return media\n",
        "  else:\n",
        "        return 0\n",
        "pessoas_e_idades = {'Victor': 20, 'Gabi': 18, 'Ana': 21, 'Pedro': 15, 'Beatriz': 17}\n",
        "media = calcular_media(pessoas_e_idades)\n",
        "print(f\"a média das pessoas do dicionário é {media:.2f} anos\")"
      ],
      "metadata": {
        "colab": {
          "base_uri": "https://localhost:8080/"
        },
        "id": "55sEPresiq8x",
        "outputId": "12ed7d88-8caa-4b34-d279-2d99accfaef2"
      },
      "execution_count": null,
      "outputs": [
        {
          "output_type": "stream",
          "name": "stdout",
          "text": [
            "a média das pessoas do dicionário é 18.20 anos\n"
          ]
        }
      ]
    },
    {
      "cell_type": "markdown",
      "source": [
        "8) Crie uma função que retorne a pessoa mais velha do dicionário."
      ],
      "metadata": {
        "id": "t4tfAnVikAI2"
      }
    },
    {
      "cell_type": "code",
      "source": [
        "def pessoa_mais_velha(pessoas_e_idades):\n",
        "  pessoa_mais_velha = \" \"\n",
        "  idade_mais_velha = 0\n",
        "  for nome, idade in pessoas_e_idades.items():\n",
        "        if idade > idade_mais_velha:\n",
        "            pessoa_mais_velha = nome\n",
        "            idade_mais_velha = idade\n",
        "  return pessoa_mais_velha, idade_mais_velha\n",
        "pessoas_e_idades =  {'Victor': 20, 'Gabi': 18, 'Ana': 21, 'Pedro': 15, 'Beatriz': 17, 'Thiago': 19, 'Karla': 30}\n",
        "\n",
        "nome_mais_velho, idade_mais_velho = pessoa_mais_velha(pessoas_e_idades)\n",
        "print(f\"a pessoa mais velha é {nome_mais_velho} com a idade de {idade_mais_velho} anos\")"
      ],
      "metadata": {
        "id": "AM4lBy4nkE7E",
        "colab": {
          "base_uri": "https://localhost:8080/"
        },
        "outputId": "5c78f783-777f-471d-c076-700cdc59e414"
      },
      "execution_count": null,
      "outputs": [
        {
          "output_type": "stream",
          "name": "stdout",
          "text": [
            "a pessoa mais velha é Karla com a idade de 30 anos\n"
          ]
        }
      ]
    },
    {
      "cell_type": "markdown",
      "source": [
        "9) Crie uma função que retorne a pessoa mais nova do dicionário."
      ],
      "metadata": {
        "id": "_cKsVkvIPYQA"
      }
    },
    {
      "cell_type": "code",
      "source": [
        "def pessoa_mais_nova(pessoas_e_idades):\n",
        "  pessoa_mais_nova = \" \"\n",
        "  idade_mais_nova = 0\n",
        "  for pessoa, idade in pessoas_e_idades.items():\n",
        "      if idade_mais_nova == 0 or idade < idade_mais_nova:\n",
        "        pessoa_mais_nova = pessoa\n",
        "        idade_mais_nova = idade\n",
        "  return pessoa_mais_nova, idade_mais_nova\n",
        "pessoas_e_idades =  {'Victor': 20, 'Gabi': 18, 'Ana': 21, 'Pedro': 15, 'Beatriz': 17, 'Thiago': 19, 'Karla': 30}\n",
        "\n",
        "nome_mais_novo, idade_mais_nova = pessoa_mais_nova(pessoas_e_idades)\n",
        "print(f\"a pessoa mais nova é {nome_mais_novo} com a idade de {idade_mais_nova} anos\")"
      ],
      "metadata": {
        "colab": {
          "base_uri": "https://localhost:8080/"
        },
        "id": "ThF8on-9Pbrh",
        "outputId": "4925845e-4ffe-405b-f042-8b2450523005"
      },
      "execution_count": null,
      "outputs": [
        {
          "output_type": "stream",
          "name": "stdout",
          "text": [
            "a pessoa mais nova é Pedro com a idade de 15 anos\n"
          ]
        }
      ]
    },
    {
      "cell_type": "markdown",
      "source": [
        "10) Crie uma função que retorne uma lista com as pessoas cujo nome começa com a letra \"J\"."
      ],
      "metadata": {
        "id": "0CLA1ImmNLI8"
      }
    },
    {
      "cell_type": "code",
      "source": [
        "def nomes_com_J(lista_pessoas):\n",
        "  return [nome for nome in lista_pessoas if nome [0] == 'J']\n",
        "\n",
        "lista_pessoas = {'José': 20, 'Gabi': 18, 'Jéssica': 21, 'Pedro': 15, 'Beatriz': 17, 'Jonas': 19, 'Karla': 30}\n",
        "nomes_iniciados_com_J = nomes_com_J(lista_pessoas)\n",
        "print(nomes_iniciados_com_J)"
      ],
      "metadata": {
        "colab": {
          "base_uri": "https://localhost:8080/"
        },
        "id": "_ZvgK226NODH",
        "outputId": "88eea31f-2e5f-4c1c-c230-e04cf4904df3"
      },
      "execution_count": null,
      "outputs": [
        {
          "output_type": "stream",
          "name": "stdout",
          "text": [
            "['José', 'Jéssica', 'Jonas']\n"
          ]
        }
      ]
    }
  ]
}