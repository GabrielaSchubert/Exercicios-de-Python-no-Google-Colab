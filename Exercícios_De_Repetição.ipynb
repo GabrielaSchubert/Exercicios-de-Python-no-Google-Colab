{
  "nbformat": 4,
  "nbformat_minor": 0,
  "metadata": {
    "colab": {
      "provenance": [],
      "authorship_tag": "ABX9TyMul566mxzxvYEni/U5cmJD",
      "include_colab_link": true
    },
    "kernelspec": {
      "name": "python3",
      "display_name": "Python 3"
    },
    "language_info": {
      "name": "python"
    }
  },
  "cells": [
    {
      "cell_type": "markdown",
      "metadata": {
        "id": "view-in-github",
        "colab_type": "text"
      },
      "source": [
        "<a href=\"https://colab.research.google.com/github/GabrielaSchubert/Python_no_Google_Colaboratory/blob/main/Exerc%C3%ADcios_De_Repeti%C3%A7%C3%A3o.ipynb\" target=\"_parent\"><img src=\"https://colab.research.google.com/assets/colab-badge.svg\" alt=\"Open In Colab\"/></a>"
      ]
    },
    {
      "cell_type": "markdown",
      "source": [
        "Exercício 1"
      ],
      "metadata": {
        "id": "Hp0w0bmpZCz8"
      }
    },
    {
      "cell_type": "code",
      "source": [
        "soma = 0\n",
        "contador_positivo = 0\n",
        "contador = 0\n",
        "while contador <= 5:\n",
        "  num = int(input(\"Digite um valor: \"))\n",
        "  if num < 0:\n",
        "    print(f\"o {num} é negativo\")\n",
        "  else:\n",
        "    contador_positivo = contador_positivo + 1\n",
        "    soma = soma + num\n",
        "  contador = contador + 1\n",
        "\n",
        "media_positivo = soma/contador_positivo\n",
        "print(f\"A soma dos números positivos é:\", contador_positivo)"
      ],
      "metadata": {
        "colab": {
          "base_uri": "https://localhost:8080/"
        },
        "id": "5y2UaYCT0yWo",
        "outputId": "2b0af1cc-ce63-4703-ed86-9dada04e49cf"
      },
      "execution_count": null,
      "outputs": [
        {
          "output_type": "stream",
          "name": "stdout",
          "text": [
            "Digite um valor: 6\n",
            "Digite um valor: 3\n",
            "Digite um valor: -1\n",
            "o -1 é negativo\n",
            "Digite um valor: 5\n",
            "Digite um valor: 4\n",
            "Digite um valor: 2\n",
            "A soma dos números positivos é: 5\n"
          ]
        }
      ]
    },
    {
      "cell_type": "markdown",
      "source": [
        "Exercício 2"
      ],
      "metadata": {
        "id": "desv03T9iNGW"
      }
    },
    {
      "cell_type": "code",
      "source": [
        "for i in range (5):\n",
        "  num = int(input(\"digite o numero: \"))\n",
        "  if num % 2 == 0:\n",
        "    print(num,\"par\")\n",
        "  elif num % 1 == 0:\n",
        "    print(num, \"impar\")"
      ],
      "metadata": {
        "colab": {
          "base_uri": "https://localhost:8080/"
        },
        "id": "Gg5ixBLx9_lA",
        "outputId": "b008be58-a36f-4131-9f11-379d9a9d4c6c"
      },
      "execution_count": null,
      "outputs": [
        {
          "output_type": "stream",
          "name": "stdout",
          "text": [
            "digite o numero: 7\n",
            "7 impar\n",
            "digite o numero: 4\n",
            "4 par\n",
            "digite o numero: 2\n",
            "2 par\n",
            "digite o numero: 9\n",
            "9 impar\n",
            "digite o numero: 6\n",
            "6 par\n"
          ]
        }
      ]
    },
    {
      "cell_type": "markdown",
      "source": [
        "Exercício 3"
      ],
      "metadata": {
        "id": "6QtST3VYxLkk"
      }
    },
    {
      "cell_type": "code",
      "source": [
        "num = int(input(\"digite um numero: \"))\n",
        "maior = num\n",
        "menor = num\n",
        "while num != 0:\n",
        "  num = int(input(\"digite um numero: \"))\n",
        "  if num != 0:\n",
        "   if num < menor:\n",
        "     menor = num\n",
        "   if num > maior:\n",
        "      maior = num\n",
        "\n",
        "print(\"o maior numero é\", maior)\n",
        "print(\"o menor numero é\", menor)"
      ],
      "metadata": {
        "colab": {
          "base_uri": "https://localhost:8080/"
        },
        "id": "00dVB8I3wUsq",
        "outputId": "a5278cdb-ade8-490e-c9a7-f5efabe6e0b0"
      },
      "execution_count": null,
      "outputs": [
        {
          "output_type": "stream",
          "name": "stdout",
          "text": [
            "digite um numero: 5\n",
            "digite um numero: 2\n",
            "digite um numero: 8\n",
            "digite um numero: 10\n",
            "digite um numero: 0\n",
            "o maior numero é 10\n",
            "o menor numero é 2\n"
          ]
        }
      ]
    },
    {
      "cell_type": "markdown",
      "source": [
        "Exercício 4"
      ],
      "metadata": {
        "id": "OBhmTOL71udR"
      }
    },
    {
      "cell_type": "code",
      "source": [
        "soma_par = 0\n",
        "soma_impar = 0\n",
        "num = 1\n",
        "for i in range (1,101):\n",
        " if soma_par % 2:\n",
        "  soma_par = soma_par + num\n",
        "else:\n",
        "    soma_impar = soma_impar + num\n",
        "\n",
        "print(\"soma dos numeros pares\", soma)\n",
        "print(\"soma dos numeros impares\", soma)"
      ],
      "metadata": {
        "colab": {
          "base_uri": "https://localhost:8080/"
        },
        "id": "X4UiubqxOkxa",
        "outputId": "695540e9-1b39-41d6-cdfb-7ffdf62d560a"
      },
      "execution_count": null,
      "outputs": [
        {
          "output_type": "stream",
          "name": "stdout",
          "text": [
            "soma dos numeros pares 8.799999999999999\n",
            "soma dos numeros impares 8.799999999999999\n"
          ]
        }
      ]
    },
    {
      "cell_type": "markdown",
      "source": [
        "Exercício 5"
      ],
      "metadata": {
        "id": "dWwrK2acZ7si"
      }
    },
    {
      "cell_type": "code",
      "source": [
        "x = 1\n",
        "soma = 0\n",
        "while x <= 5:\n",
        "  n = float(input(\" digite o numero:\"))\n",
        "  soma = soma + n\n",
        "  x = x + 1\n",
        "print(\"média: %5.2f\" % (soma/5))"
      ],
      "metadata": {
        "colab": {
          "base_uri": "https://localhost:8080/"
        },
        "id": "4ZTp0gBKNVH4",
        "outputId": "0355bb05-bdd1-42b1-d38c-750585c869b9"
      },
      "execution_count": null,
      "outputs": [
        {
          "output_type": "stream",
          "name": "stdout",
          "text": [
            " digite o numero:1.70\n",
            " digite o numero:1.65\n",
            " digite o numero:1.80\n",
            " digite o numero:1.75\n",
            " digite o numero:1.90\n",
            "média:  1.76\n"
          ]
        }
      ]
    },
    {
      "cell_type": "markdown",
      "source": [
        "Exercício 6"
      ],
      "metadata": {
        "id": "WMLFkKUlwtuE"
      }
    },
    {
      "cell_type": "code",
      "source": [
        "contador_positivo = 0\n",
        "contador = 0\n",
        "while contador <= 5:\n",
        "  num = int(input(\"Digite um valor: \"))\n",
        "  if num < 0:\n",
        "    print(f\"o {num} é negativo\")\n",
        "  else:\n",
        "    contador_positivo = contador_positivo + 1\n",
        "  contador = contador + 1"
      ],
      "metadata": {
        "colab": {
          "base_uri": "https://localhost:8080/"
        },
        "id": "9E_Pkloxza9B",
        "outputId": "b9d86859-ee3c-42e7-bfb4-6b9873da5a7c"
      },
      "execution_count": null,
      "outputs": [
        {
          "output_type": "stream",
          "name": "stdout",
          "text": [
            "Digite um valor: 0\n",
            "Digite um valor: 5\n",
            "Digite um valor: -2\n",
            "o -2 é negativo\n",
            "Digite um valor: -5\n",
            "o -5 é negativo\n",
            "Digite um valor: 8\n",
            "Digite um valor: -6\n",
            "o -6 é negativo\n"
          ]
        }
      ]
    },
    {
      "cell_type": "markdown",
      "source": [
        "Exercício 7"
      ],
      "metadata": {
        "id": "hjnHMQYC0FcK"
      }
    },
    {
      "cell_type": "code",
      "source": [
        "for i in range (5):\n",
        "  tinta = float(input(\"digite a quantidade de tinta da caneta: \"))\n",
        "  quantidade_tinta = tinta / 0.2\n",
        "  print(\"Enquanto tem tinta a caneta escreve...\", quantidade_tinta)\n",
        "  if tinta < 1:\n",
        "    print(\"a tinta acabou\")"
      ],
      "metadata": {
        "colab": {
          "base_uri": "https://localhost:8080/"
        },
        "id": "c6ZoLwIWdyOR",
        "outputId": "dfc49b91-9f4d-468e-fd48-7de5b67bff53"
      },
      "execution_count": null,
      "outputs": [
        {
          "output_type": "stream",
          "name": "stdout",
          "text": [
            "digite a quantidade de tinta da caneta: 4\n",
            "Enquanto tem tinta a caneta escreve... 20.0\n",
            "digite a quantidade de tinta da caneta: 2\n",
            "Enquanto tem tinta a caneta escreve... 10.0\n",
            "digite a quantidade de tinta da caneta: 1\n",
            "Enquanto tem tinta a caneta escreve... 5.0\n",
            "digite a quantidade de tinta da caneta: 0.5\n",
            "Enquanto tem tinta a caneta escreve... 2.5\n",
            "a tinta acabou\n",
            "digite a quantidade de tinta da caneta: 0\n",
            "Enquanto tem tinta a caneta escreve... 0.0\n",
            "a tinta acabou\n"
          ]
        }
      ]
    },
    {
      "cell_type": "markdown",
      "source": [
        "Exercicío 8"
      ],
      "metadata": {
        "id": "LARU7f_iDaU-"
      }
    },
    {
      "cell_type": "code",
      "source": [
        "for i in range (5):\n",
        " x = 1\n",
        " soma = 0\n",
        " n_inscriçao = int(input(\"digite o número da inscriçao: \"))\n",
        " n_altura = float(input(\"digite a altura: \"))\n",
        " if n_altura >= 1.90 and n_inscriçao:\n",
        "  print(f\"o número de inscrição e a altura do atleta mais alto\")\n",
        "else:\n",
        "  print(f\"o numero de inscricao e a altura do atleta mais baixo\")\n",
        "  soma = soma + n_altura\n",
        "  x = x + 1\n",
        "print(\"média: %5.2f\" % (soma % 5))"
      ],
      "metadata": {
        "colab": {
          "base_uri": "https://localhost:8080/"
        },
        "id": "xW-j2DD5dRgP",
        "outputId": "d9b9c85b-7579-48e5-c091-9d5a3ce308ed"
      },
      "execution_count": null,
      "outputs": [
        {
          "output_type": "stream",
          "name": "stdout",
          "text": [
            "digite o número da inscriçao: 2020\n",
            "digite a altura: 1.70\n",
            "digite o número da inscriçao: 2024\n",
            "digite a altura: 1.90\n",
            "o número de inscrição e a altura do atleta mais alto\n",
            "digite o número da inscriçao: 2023\n",
            "digite a altura: 1.80\n",
            "digite o número da inscriçao: 2025\n",
            "digite a altura: 1.75\n",
            "digite o número da inscriçao: 2026\n",
            "digite a altura: 1.60\n",
            "o numero de inscricao e a altura do atleta mais baixo\n",
            "média:  1.60\n"
          ]
        }
      ]
    },
    {
      "cell_type": "markdown",
      "source": [
        "Exercício 9"
      ],
      "metadata": {
        "id": "O6Ei5rsURPRM"
      }
    },
    {
      "cell_type": "code",
      "source": [
        "x = 1.0\n",
        "while x <= 5.0:\n",
        "  y = (3 + 2*x + 6*x **2) / (1 + 9*x + 16*x**2)\n",
        "  print(f\"{x:.3f} --- {y:.3f}\")\n",
        "  x = x + 0.1"
      ],
      "metadata": {
        "colab": {
          "base_uri": "https://localhost:8080/"
        },
        "id": "zcHPzFqyRWhE",
        "outputId": "89971977-0d05-43b4-9e08-6f0ef4989b14"
      },
      "execution_count": null,
      "outputs": [
        {
          "output_type": "stream",
          "name": "stdout",
          "text": [
            "1.000 --- 0.423\n",
            "1.100 --- 0.412\n",
            "1.200 --- 0.403\n",
            "1.300 --- 0.396\n",
            "1.400 --- 0.391\n",
            "1.500 --- 0.386\n",
            "1.600 --- 0.383\n",
            "1.700 --- 0.380\n",
            "1.800 --- 0.377\n",
            "1.900 --- 0.375\n",
            "2.000 --- 0.373\n",
            "2.100 --- 0.372\n",
            "2.200 --- 0.371\n",
            "2.300 --- 0.370\n",
            "2.400 --- 0.369\n",
            "2.500 --- 0.368\n",
            "2.600 --- 0.368\n",
            "2.700 --- 0.367\n",
            "2.800 --- 0.367\n",
            "2.900 --- 0.367\n",
            "3.000 --- 0.366\n",
            "3.100 --- 0.366\n",
            "3.200 --- 0.366\n",
            "3.300 --- 0.366\n",
            "3.400 --- 0.366\n",
            "3.500 --- 0.365\n",
            "3.600 --- 0.365\n",
            "3.700 --- 0.365\n",
            "3.800 --- 0.365\n",
            "3.900 --- 0.365\n",
            "4.000 --- 0.365\n",
            "4.100 --- 0.365\n",
            "4.200 --- 0.365\n",
            "4.300 --- 0.365\n",
            "4.400 --- 0.365\n",
            "4.500 --- 0.365\n",
            "4.600 --- 0.365\n",
            "4.700 --- 0.365\n",
            "4.800 --- 0.365\n",
            "4.900 --- 0.365\n",
            "5.000 --- 0.365\n"
          ]
        }
      ]
    },
    {
      "cell_type": "markdown",
      "source": [
        "Exercício 10"
      ],
      "metadata": {
        "id": "X9yLLMAkZ4Ts"
      }
    },
    {
      "cell_type": "code",
      "source": [
        "n = int(input(\"digite o valor de n: \"))\n",
        "fat = 1\n",
        "i = 1\n",
        "while i <= n:\n",
        "  fat = fat * i\n",
        "  i = i + 1\n",
        "\n",
        "print(f\"o fatorial de {n} = \", fat)"
      ],
      "metadata": {
        "colab": {
          "base_uri": "https://localhost:8080/"
        },
        "id": "zEfYDnlhZXdv",
        "outputId": "67abff2e-a85a-44ae-ae76-2334e757b45e"
      },
      "execution_count": null,
      "outputs": [
        {
          "output_type": "stream",
          "name": "stdout",
          "text": [
            "digite o valor de n: 4\n",
            "o fatorial de 4 =  24\n"
          ]
        }
      ]
    },
    {
      "cell_type": "markdown",
      "source": [
        "Exercício 11"
      ],
      "metadata": {
        "id": "hqveoJHRKkrB"
      }
    },
    {
      "cell_type": "code",
      "source": [
        "for i in range (0, 100):\n",
        "  soma = 1+i\n",
        "  print(soma)"
      ],
      "metadata": {
        "colab": {
          "base_uri": "https://localhost:8080/"
        },
        "id": "K9DLd4KPKm9p",
        "outputId": "cd844d6f-13c1-4595-c67a-413fab0809d7"
      },
      "execution_count": null,
      "outputs": [
        {
          "output_type": "stream",
          "name": "stdout",
          "text": [
            "1\n",
            "2\n",
            "3\n",
            "4\n",
            "5\n",
            "6\n",
            "7\n",
            "8\n",
            "9\n",
            "10\n",
            "11\n",
            "12\n",
            "13\n",
            "14\n",
            "15\n",
            "16\n",
            "17\n",
            "18\n",
            "19\n",
            "20\n",
            "21\n",
            "22\n",
            "23\n",
            "24\n",
            "25\n",
            "26\n",
            "27\n",
            "28\n",
            "29\n",
            "30\n",
            "31\n",
            "32\n",
            "33\n",
            "34\n",
            "35\n",
            "36\n",
            "37\n",
            "38\n",
            "39\n",
            "40\n",
            "41\n",
            "42\n",
            "43\n",
            "44\n",
            "45\n",
            "46\n",
            "47\n",
            "48\n",
            "49\n",
            "50\n",
            "51\n",
            "52\n",
            "53\n",
            "54\n",
            "55\n",
            "56\n",
            "57\n",
            "58\n",
            "59\n",
            "60\n",
            "61\n",
            "62\n",
            "63\n",
            "64\n",
            "65\n",
            "66\n",
            "67\n",
            "68\n",
            "69\n",
            "70\n",
            "71\n",
            "72\n",
            "73\n",
            "74\n",
            "75\n",
            "76\n",
            "77\n",
            "78\n",
            "79\n",
            "80\n",
            "81\n",
            "82\n",
            "83\n",
            "84\n",
            "85\n",
            "86\n",
            "87\n",
            "88\n",
            "89\n",
            "90\n",
            "91\n",
            "92\n",
            "93\n",
            "94\n",
            "95\n",
            "96\n",
            "97\n",
            "98\n",
            "99\n",
            "100\n"
          ]
        }
      ]
    },
    {
      "cell_type": "markdown",
      "source": [
        "Exercício 12"
      ],
      "metadata": {
        "id": "SYTy34e_K3xH"
      }
    },
    {
      "cell_type": "code",
      "source": [
        "for i in range (1, 101):\n",
        "  soma = 1/i\n",
        "  print(soma)"
      ],
      "metadata": {
        "colab": {
          "base_uri": "https://localhost:8080/"
        },
        "id": "gaoHSoWcK6Q9",
        "outputId": "ab09820b-0b74-4b31-8841-7b84805b5a60"
      },
      "execution_count": null,
      "outputs": [
        {
          "output_type": "stream",
          "name": "stdout",
          "text": [
            "1.0\n",
            "0.5\n",
            "0.3333333333333333\n",
            "0.25\n",
            "0.2\n",
            "0.16666666666666666\n",
            "0.14285714285714285\n",
            "0.125\n",
            "0.1111111111111111\n",
            "0.1\n",
            "0.09090909090909091\n",
            "0.08333333333333333\n",
            "0.07692307692307693\n",
            "0.07142857142857142\n",
            "0.06666666666666667\n",
            "0.0625\n",
            "0.058823529411764705\n",
            "0.05555555555555555\n",
            "0.05263157894736842\n",
            "0.05\n",
            "0.047619047619047616\n",
            "0.045454545454545456\n",
            "0.043478260869565216\n",
            "0.041666666666666664\n",
            "0.04\n",
            "0.038461538461538464\n",
            "0.037037037037037035\n",
            "0.03571428571428571\n",
            "0.034482758620689655\n",
            "0.03333333333333333\n",
            "0.03225806451612903\n",
            "0.03125\n",
            "0.030303030303030304\n",
            "0.029411764705882353\n",
            "0.02857142857142857\n",
            "0.027777777777777776\n",
            "0.02702702702702703\n",
            "0.02631578947368421\n",
            "0.02564102564102564\n",
            "0.025\n",
            "0.024390243902439025\n",
            "0.023809523809523808\n",
            "0.023255813953488372\n",
            "0.022727272727272728\n",
            "0.022222222222222223\n",
            "0.021739130434782608\n",
            "0.02127659574468085\n",
            "0.020833333333333332\n",
            "0.02040816326530612\n",
            "0.02\n",
            "0.0196078431372549\n",
            "0.019230769230769232\n",
            "0.018867924528301886\n",
            "0.018518518518518517\n",
            "0.01818181818181818\n",
            "0.017857142857142856\n",
            "0.017543859649122806\n",
            "0.017241379310344827\n",
            "0.01694915254237288\n",
            "0.016666666666666666\n",
            "0.01639344262295082\n",
            "0.016129032258064516\n",
            "0.015873015873015872\n",
            "0.015625\n",
            "0.015384615384615385\n",
            "0.015151515151515152\n",
            "0.014925373134328358\n",
            "0.014705882352941176\n",
            "0.014492753623188406\n",
            "0.014285714285714285\n",
            "0.014084507042253521\n",
            "0.013888888888888888\n",
            "0.0136986301369863\n",
            "0.013513513513513514\n",
            "0.013333333333333334\n",
            "0.013157894736842105\n",
            "0.012987012987012988\n",
            "0.01282051282051282\n",
            "0.012658227848101266\n",
            "0.0125\n",
            "0.012345679012345678\n",
            "0.012195121951219513\n",
            "0.012048192771084338\n",
            "0.011904761904761904\n",
            "0.011764705882352941\n",
            "0.011627906976744186\n",
            "0.011494252873563218\n",
            "0.011363636363636364\n",
            "0.011235955056179775\n",
            "0.011111111111111112\n",
            "0.01098901098901099\n",
            "0.010869565217391304\n",
            "0.010752688172043012\n",
            "0.010638297872340425\n",
            "0.010526315789473684\n",
            "0.010416666666666666\n",
            "0.010309278350515464\n",
            "0.01020408163265306\n",
            "0.010101010101010102\n",
            "0.01\n"
          ]
        }
      ]
    },
    {
      "cell_type": "markdown",
      "source": [
        "Exercício 13"
      ],
      "metadata": {
        "id": "LuLTMmWkp35w"
      }
    },
    {
      "cell_type": "code",
      "source": [
        "n = int(input(\"digite o numero: \"))\n",
        "s = 0\n",
        "den = n\n",
        "i = 1\n",
        "while i <= n:\n",
        "  s = s + i / den\n",
        "  den = den - 1\n",
        "  i = i + 1\n",
        "print(\"s\", s)"
      ],
      "metadata": {
        "colab": {
          "base_uri": "https://localhost:8080/"
        },
        "id": "vnDgJMk4fdGP",
        "outputId": "bb0e196c-f005-4831-d52d-6a5c13423264"
      },
      "execution_count": null,
      "outputs": [
        {
          "output_type": "stream",
          "name": "stdout",
          "text": [
            "digite o numero: 5\n",
            "s 8.7\n"
          ]
        }
      ]
    },
    {
      "cell_type": "markdown",
      "source": [
        "Exercício 14"
      ],
      "metadata": {
        "id": "hF9m46d3i8nt"
      }
    },
    {
      "cell_type": "code",
      "source": [
        "num_termos = 51\n",
        "pi = 0.0\n",
        "sinal = 1\n",
        "for n in range(num_termos):\n",
        "    termo = 4.0 / (2*n + 1)\n",
        "    pi += sinal * termo\n",
        "    sinal *= -1\n",
        "print(\"O valor aproximado de π é: %.15f\" % pi)"
      ],
      "metadata": {
        "colab": {
          "base_uri": "https://localhost:8080/"
        },
        "id": "Y3fmvRIie3ZG",
        "outputId": "9487de82-bdb1-4790-fcf1-747a55ad4c33"
      },
      "execution_count": null,
      "outputs": [
        {
          "output_type": "stream",
          "name": "stdout",
          "text": [
            "O valor aproximado de π é: 3.161198612987051\n"
          ]
        }
      ]
    },
    {
      "cell_type": "markdown",
      "source": [
        "Exercício 15"
      ],
      "metadata": {
        "id": "afH4Dza1VouC"
      }
    },
    {
      "cell_type": "code",
      "source": [
        "soma = 0\n",
        "fatorial = 1\n",
        "for i in range(1, 21):\n",
        "    numerador = 100 - i\n",
        "    denominador = fatorial * i\n",
        "    termo = numerador / denominador\n",
        "    soma += termo\n",
        "    fatorial *= i\n",
        "print(\"A soma dos 20 primeiros termos é:\", soma)"
      ],
      "metadata": {
        "colab": {
          "base_uri": "https://localhost:8080/"
        },
        "id": "euKsCknRYy9R",
        "outputId": "822d8c39-2e64-4c4c-fc54-ff2aedd1e09e"
      },
      "execution_count": null,
      "outputs": [
        {
          "output_type": "stream",
          "name": "stdout",
          "text": [
            "A soma dos 20 primeiros termos é: 169.10990101744542\n"
          ]
        }
      ]
    },
    {
      "cell_type": "markdown",
      "source": [
        "Exercício 16"
      ],
      "metadata": {
        "id": "j2XWVbKOtmdS"
      }
    },
    {
      "cell_type": "code",
      "source": [
        "x = float(input(\"Digite o valor de x: \"))\n",
        "num_termos = int(input(\"Digite o número de termos: \"))\n",
        "exponencial = 1.0\n",
        "termo = 1.0\n",
        "for n in range(1, num_termos + 1):\n",
        "    termo *= x / n\n",
        "    exponencial += termo\n",
        "print(\"O valor de e^%.2f é: %.6f\" % (x, exponencial))"
      ],
      "metadata": {
        "colab": {
          "base_uri": "https://localhost:8080/"
        },
        "id": "UW4UTujQeKoI",
        "outputId": "c3f7b295-8c79-46dd-82ad-92ceb5e97690"
      },
      "execution_count": null,
      "outputs": [
        {
          "output_type": "stream",
          "name": "stdout",
          "text": [
            "Digite o valor de x: 2\n",
            "Digite o número de termos: 30\n",
            "O valor de e^2.00 é: 7.389056\n"
          ]
        }
      ]
    },
    {
      "cell_type": "markdown",
      "source": [
        "Exercício 17"
      ],
      "metadata": {
        "id": "EBdzX42SmGYh"
      }
    },
    {
      "cell_type": "code",
      "source": [
        "audiencia = [0, 0, 0, 0]\n",
        "total_pessoas = 0\n",
        "n = int(input(\"Digite o número de casas visitadas: \"))\n",
        "for i in range(n):\n",
        "    canal = int(input(f\"Digite o número do canal da {i+1} casa (4, 5, 9 ou 12): \"))\n",
        "    pessoas = int(input(f\"Digite o número de pessoas assistindo à TV na {i+1} casa: \"))\n",
        "for i in range(4):\n",
        "    audiencia[canal-4] += pessoas\n",
        "    total_pessoas += pessoas\n",
        "    if total_pessoas > 0:\n",
        "        percentual = (audiencia[i] / total_pessoas) * 100\n",
        "    else:\n",
        "        percentual = 0\n",
        "    print(f\"Canal {i+4}: {percentual:.2f}% de audiência\")"
      ],
      "metadata": {
        "id": "ZufCKPCmmIoS"
      },
      "execution_count": null,
      "outputs": []
    },
    {
      "cell_type": "code",
      "source": [
        "n = int(input(\"Digite a quantidade de casas visitadas: \"))\n",
        "total_pessoas = 0\n",
        "canal_4_pessoas = 0\n",
        "canal_5_pessoas = 0\n",
        "canal_9_pessoas = 0\n",
        "canal_12_pessoas = 0\n",
        "for i in range(n):\n",
        "    canal = int(input(\"Digite o número do canal (4, 5, 9, 12): \"))\n",
        "    pessoas = int(input(\"Digite o número de pessoas assistindo: \"))\n",
        "    total_pessoas += pessoas\n",
        "    if canal == 4:\n",
        "        canal_4_pessoas += pessoas\n",
        "    elif canal == 5:\n",
        "        canal_5_pessoas += pessoas\n",
        "    elif canal == 9:\n",
        "        canal_9_pessoas += pessoas\n",
        "    elif canal == 12:\n",
        "        canal_12_pessoas += pessoas\n",
        "percentual_4 = (canal_4_pessoas / total_pessoas) * 100\n",
        "percentual_5 = (canal_5_pessoas / total_pessoas) * 100\n",
        "percentual_9 = (canal_9_pessoas / total_pessoas) * 100\n",
        "percentual_12 = (canal_12_pessoas / total_pessoas) * 100\n",
        "print(\"Percentual de audiência do canal 4: %.2f%%\" % percentual_4)\n",
        "print(\"Percentual de audiência do canal 5: %.2f%%\" % percentual_5)\n",
        "print(\"Percentual de audiência do canal 9: %.2f%%\" % percentual_9)\n",
        "print(\"Percentual de audiência do canal 12: %.2f%%\" % percentual_12)"
      ],
      "metadata": {
        "colab": {
          "base_uri": "https://localhost:8080/"
        },
        "id": "vbO7myYekmW5",
        "outputId": "c8052b25-84df-49f7-f9bb-934ac9a15b28"
      },
      "execution_count": null,
      "outputs": [
        {
          "output_type": "stream",
          "name": "stdout",
          "text": [
            "Digite a quantidade de casas visitadas: 4\n",
            "Digite o número do canal (4, 5, 9, 12): 4\n",
            "Digite o número de pessoas assistindo: 2\n",
            "Digite o número do canal (4, 5, 9, 12): 0\n",
            "Digite o número de pessoas assistindo: 0\n",
            "Digite o número do canal (4, 5, 9, 12): 5\n",
            "Digite o número de pessoas assistindo: 4\n",
            "Digite o número do canal (4, 5, 9, 12): 4\n",
            "Digite o número de pessoas assistindo: 1\n",
            "Percentual de audiência do canal 4: 42.86%\n",
            "Percentual de audiência do canal 5: 57.14%\n",
            "Percentual de audiência do canal 9: 0.00%\n",
            "Percentual de audiência do canal 12: 0.00%\n"
          ]
        }
      ]
    },
    {
      "cell_type": "markdown",
      "source": [
        "Exercício 18"
      ],
      "metadata": {
        "id": "ommu7R3Pe_Mm"
      }
    },
    {
      "cell_type": "code",
      "source": [
        "preco_min = 1.00\n",
        "preco_max = 5.00\n",
        "incremento = 0.50\n",
        "max_lucro = 0\n",
        "preco_max_lucro = 0\n",
        "preco = preco_min\n",
        "while preco <= preco_max:\n",
        "    ingressos_vendidos = 120 + (preco - 5) / 0.5 * 26\n",
        "    lucro = (preco * ingressos_vendidos) - 200\n",
        "    print(\"Preço do Ingresso: R$\", preco)\n",
        "    print(\"Número de Ingressos: \", int(ingressos_vendidos))\n",
        "    print(\"Lucro Esperado: R$\", lucro)\n",
        "    print(\"-----------------------------\")\n",
        "    if lucro > max_lucro:\n",
        "        max_lucro = lucro\n",
        "        preco_max_lucro = preco\n",
        "    preco += incremento\n",
        "print(\"Lucro Máximo: R$\", max_lucro)\n",
        "print(\"Preço correspondente: R$\", preco_max_lucro)"
      ],
      "metadata": {
        "colab": {
          "base_uri": "https://localhost:8080/"
        },
        "id": "-pA3VGANcxuZ",
        "outputId": "aa60f8bf-6ed7-464b-c181-c078baab84b5"
      },
      "execution_count": null,
      "outputs": [
        {
          "output_type": "stream",
          "name": "stdout",
          "text": [
            "Preço do Ingresso: R$ 1.0\n",
            "Número de Ingressos:  -88\n",
            "Lucro Esperado: R$ -288.0\n",
            "-----------------------------\n",
            "Preço do Ingresso: R$ 1.5\n",
            "Número de Ingressos:  -62\n",
            "Lucro Esperado: R$ -293.0\n",
            "-----------------------------\n",
            "Preço do Ingresso: R$ 2.0\n",
            "Número de Ingressos:  -36\n",
            "Lucro Esperado: R$ -272.0\n",
            "-----------------------------\n",
            "Preço do Ingresso: R$ 2.5\n",
            "Número de Ingressos:  -10\n",
            "Lucro Esperado: R$ -225.0\n",
            "-----------------------------\n",
            "Preço do Ingresso: R$ 3.0\n",
            "Número de Ingressos:  16\n",
            "Lucro Esperado: R$ -152.0\n",
            "-----------------------------\n",
            "Preço do Ingresso: R$ 3.5\n",
            "Número de Ingressos:  42\n",
            "Lucro Esperado: R$ -53.0\n",
            "-----------------------------\n",
            "Preço do Ingresso: R$ 4.0\n",
            "Número de Ingressos:  68\n",
            "Lucro Esperado: R$ 72.0\n",
            "-----------------------------\n",
            "Preço do Ingresso: R$ 4.5\n",
            "Número de Ingressos:  94\n",
            "Lucro Esperado: R$ 223.0\n",
            "-----------------------------\n",
            "Preço do Ingresso: R$ 5.0\n",
            "Número de Ingressos:  120\n",
            "Lucro Esperado: R$ 400.0\n",
            "-----------------------------\n",
            "Lucro Máximo: R$ 400.0\n",
            "Preço correspondente: R$ 5.0\n"
          ]
        }
      ]
    },
    {
      "cell_type": "markdown",
      "source": [
        "Exercício 19"
      ],
      "metadata": {
        "id": "OYlsTxDFww3V"
      }
    },
    {
      "cell_type": "code",
      "source": [
        "n = int(input(\"Digite a quantidade de números: \"))\n",
        "for i in range(n):\n",
        "    numero = int(input(\"Digite um número inteiro: \"))\n",
        "    quantidade_divisores = 0\n",
        "    print(\"Divisores:\")\n",
        "    for i in range(1, numero + 1):\n",
        "        if numero % i == 0:\n",
        "            print(i)\n",
        "            quantidade_divisores += 1\n",
        "    print(\"O número\", numero, \"tem\", quantidade_divisores, \"divisores.\\n\")"
      ],
      "metadata": {
        "colab": {
          "base_uri": "https://localhost:8080/"
        },
        "id": "oDMtJzaph8mH",
        "outputId": "1ebc3149-6857-4b2d-940c-c3c9d77bc01d"
      },
      "execution_count": null,
      "outputs": [
        {
          "output_type": "stream",
          "name": "stdout",
          "text": [
            "Digite a quantidade de números: 2\n",
            "Digite um número inteiro: 10\n",
            "Divisores:\n",
            "1\n",
            "2\n",
            "5\n",
            "10\n",
            "O número 10 tem 4 divisores.\n",
            "\n",
            "Digite um número inteiro: 5\n",
            "Divisores:\n",
            "1\n",
            "5\n",
            "O número 5 tem 2 divisores.\n",
            "\n"
          ]
        }
      ]
    },
    {
      "cell_type": "markdown",
      "source": [
        "Exercício 20"
      ],
      "metadata": {
        "id": "DquYJD0GoR67"
      }
    },
    {
      "cell_type": "code",
      "source": [
        "hora = 1\n",
        "total_biscoitos_quebrados = 0\n",
        "for hora in range(1, 17):\n",
        "    biscoitos_quebrados_hora = 3 ** (hora - 1)\n",
        "    total_biscoitos_quebrados += biscoitos_quebrados_hora\n",
        "    print(f\"Na hora {hora}, quebraram {biscoitos_quebrados_hora} biscoitos.\")\n",
        "print(f\"No final do dia, quebraram {total_biscoitos_quebrados} biscoitos.\")"
      ],
      "metadata": {
        "colab": {
          "base_uri": "https://localhost:8080/"
        },
        "id": "XUrXTvwIqXlW",
        "outputId": "f9f48c3d-4240-46d1-a937-ff719aa095ec"
      },
      "execution_count": null,
      "outputs": [
        {
          "output_type": "stream",
          "name": "stdout",
          "text": [
            "Na hora 1, quebraram 1 biscoitos.\n",
            "Na hora 2, quebraram 3 biscoitos.\n",
            "Na hora 3, quebraram 9 biscoitos.\n",
            "Na hora 4, quebraram 27 biscoitos.\n",
            "Na hora 5, quebraram 81 biscoitos.\n",
            "Na hora 6, quebraram 243 biscoitos.\n",
            "Na hora 7, quebraram 729 biscoitos.\n",
            "Na hora 8, quebraram 2187 biscoitos.\n",
            "Na hora 9, quebraram 6561 biscoitos.\n",
            "Na hora 10, quebraram 19683 biscoitos.\n",
            "Na hora 11, quebraram 59049 biscoitos.\n",
            "Na hora 12, quebraram 177147 biscoitos.\n",
            "Na hora 13, quebraram 531441 biscoitos.\n",
            "Na hora 14, quebraram 1594323 biscoitos.\n",
            "Na hora 15, quebraram 4782969 biscoitos.\n",
            "Na hora 16, quebraram 14348907 biscoitos.\n",
            "No final do dia, quebraram 21523360 biscoitos.\n"
          ]
        }
      ]
    },
    {
      "cell_type": "markdown",
      "source": [
        "Exercício 21"
      ],
      "metadata": {
        "id": "CVyu1XL74-rl"
      }
    },
    {
      "cell_type": "code",
      "source": [
        "total_alunos = 5\n",
        "quantidade_18_anos = 0\n",
        "quantidade_acima_20_anos = 0\n",
        "for i in range(total_alunos):\n",
        "    nome = input(\"Digite o nome do aluno: \")\n",
        "    idade = int(input(\"Digite a idade do aluno: \"))\n",
        "    if idade == 18:\n",
        "        print(\"Aluno com 18 anos:\", nome)\n",
        "        quantidade_18_anos += 1\n",
        "    if idade > 20:\n",
        "        quantidade_acima_20_anos += 1\n",
        "print(\"Quantidade de alunos com 18 anos:\", quantidade_18_anos)\n",
        "print(\"Quantidade de alunos com idade acima de 20 anos:\", quantidade_acima_20_anos)"
      ],
      "metadata": {
        "colab": {
          "base_uri": "https://localhost:8080/"
        },
        "id": "jrDnzbTtin3d",
        "outputId": "2aa7fdd2-ec04-4fca-8e1d-ad3695f037d0"
      },
      "execution_count": null,
      "outputs": [
        {
          "output_type": "stream",
          "name": "stdout",
          "text": [
            "Digite o nome do aluno: Gabriel\n",
            "Digite a idade do aluno: 20\n",
            "Digite o nome do aluno: Julia\n",
            "Digite a idade do aluno: 19\n",
            "Digite o nome do aluno: Ana\n",
            "Digite a idade do aluno: 21\n",
            "Digite o nome do aluno: Gabriela\n",
            "Digite a idade do aluno: 18\n",
            "Aluno com 18 anos: Gabriela\n",
            "Digite o nome do aluno: Manuel\n",
            "Digite a idade do aluno: 18\n",
            "Aluno com 18 anos: Manuel\n",
            "Quantidade de alunos com 18 anos: 2\n",
            "Quantidade de alunos com idade acima de 20 anos: 1\n"
          ]
        }
      ]
    },
    {
      "cell_type": "markdown",
      "source": [
        "Exercício 22"
      ],
      "metadata": {
        "id": "pSAUCZhnz8V-"
      }
    },
    {
      "cell_type": "code",
      "source": [
        "n = int(input(\"Digite o número de pessoas: \"))\n",
        "soma_altura_mulheres = 0\n",
        "soma_altura_turma = 0\n",
        "qtd_mulheres = 0\n",
        "\n",
        "for i in range(n):\n",
        "    altura = float(input(\"Digite a altura da pessoa {}: \".format(i+1)))\n",
        "    sexo = input(\"Digite o sexo da pessoa {} (M/F): \".format(i+1))\n",
        "    soma_altura_turma += altura\n",
        "    if sexo == 'F' or sexo == 'f':\n",
        "        soma_altura_mulheres += altura\n",
        "        qtd_mulheres += 1\n",
        "media_altura_mulheres = soma_altura_mulheres / qtd_mulheres\n",
        "media_altura_turma = soma_altura_turma / n\n",
        "print(\"Média da altura das mulheres: {:.2f} m\".format(media_altura_mulheres))\n",
        "print(\"Média da altura da turma: {:.2f} m\".format(media_altura_turma))"
      ],
      "metadata": {
        "colab": {
          "base_uri": "https://localhost:8080/"
        },
        "id": "hbs_P5OJz-XI",
        "outputId": "45e336e0-ed10-402e-ebdc-15b84a680da3"
      },
      "execution_count": null,
      "outputs": [
        {
          "output_type": "stream",
          "name": "stdout",
          "text": [
            "Digite o número de pessoas: 5\n",
            "Digite a altura da pessoa 1: 1.70\n",
            "Digite o sexo da pessoa 1 (M/F): F\n",
            "Digite a altura da pessoa 2: 1.60\n",
            "Digite o sexo da pessoa 2 (M/F): F\n",
            "Digite a altura da pessoa 3: 1.85\n",
            "Digite o sexo da pessoa 3 (M/F): M\n",
            "Digite a altura da pessoa 4: 1.90\n",
            "Digite o sexo da pessoa 4 (M/F): M\n",
            "Digite a altura da pessoa 5: 1.55\n",
            "Digite o sexo da pessoa 5 (M/F): F\n",
            "Média da altura das mulheres: 1.62 m\n",
            "Média da altura da turma: 1.72 m\n"
          ]
        }
      ]
    },
    {
      "cell_type": "markdown",
      "source": [
        "Exercício 23"
      ],
      "metadata": {
        "id": "_AVR3-3KmS9m"
      }
    },
    {
      "cell_type": "code",
      "source": [
        "while True:\n",
        " cliente = input(\"digite o nome do cliente (ou ultimo para sair): \")\n",
        " if cliente == \"ultimo\":\n",
        "   break\n",
        "endereco = input(\"digite seu endereco: \")\n",
        "valor_compra = float(input(\"digite o valor da compra: \"))\n",
        "if (valor_compra > 500):\n",
        "  desconto = (valor_compra * 20) / 100\n",
        "  if (valor_compra <= 500):\n",
        "    desconto = (valor_compra * 15) / 100\n",
        "    if cliente == \"ultimo\":\n",
        "       print(\"fim\")\n",
        "\n",
        "total = valor_compra - desconto\n",
        "print(\"nome do cliente\", cliente)\n",
        "print(\"endereco\", endereco)\n",
        "print(\"valor da compra\", valor_compra)\n",
        "print(\"total a pagar\", total)"
      ],
      "metadata": {
        "colab": {
          "base_uri": "https://localhost:8080/"
        },
        "id": "MbuLu5dDmVDv",
        "outputId": "f854d479-345f-402e-e285-c18b96bc19b2"
      },
      "execution_count": null,
      "outputs": [
        {
          "output_type": "stream",
          "name": "stdout",
          "text": [
            "digite o nome do cliente (ou ultimo para sair): Manoela\n",
            "digite o nome do cliente (ou ultimo para sair): ultimo\n",
            "digite seu endereco: Rua Coronel Almeida\n",
            "digite o valor da compra: 600\n",
            "nome do cliente ultimo\n",
            "endereco Rua Coronel Almeida\n",
            "valor da compra 600.0\n",
            "total a pagar 480.0\n"
          ]
        }
      ]
    },
    {
      "cell_type": "markdown",
      "source": [
        "Exercício 24"
      ],
      "metadata": {
        "id": "xM106-bFgUU1"
      }
    },
    {
      "cell_type": "code",
      "source": [
        "soma_idades = 0\n",
        "qtd_idades = 0\n",
        "for i in range(100):\n",
        "    idade = int(input('Digite a idade: '))\n",
        "    if idade > 0:\n",
        "        soma_idades += idade\n",
        "        qtd_idades += 1\n",
        "    mais_idades = input('Deseja digitar mais um valor? (s/n): ').lower()\n",
        "    if mais_idades == 'n':\n",
        "        break\n",
        "if qtd_idades > 0:\n",
        "    media_idades = soma_idades / qtd_idades\n",
        "    print(f'A média das idades informadas é: {media_idades:.2f}')\n",
        "else:\n",
        "    print('Nenhuma idade válida foi informada.')"
      ],
      "metadata": {
        "colab": {
          "base_uri": "https://localhost:8080/"
        },
        "id": "JjPAYdNlgWht",
        "outputId": "24206475-deaa-4f26-b1fa-6d068e6f85cd"
      },
      "execution_count": null,
      "outputs": [
        {
          "output_type": "stream",
          "name": "stdout",
          "text": [
            "Digite a idade: 18\n",
            "Deseja digitar mais um valor? (s/n): s\n",
            "Digite a idade: 20\n",
            "Deseja digitar mais um valor? (s/n): s\n",
            "Digite a idade: 50\n",
            "Deseja digitar mais um valor? (s/n): n\n",
            "A média das idades informadas é: 29.33\n"
          ]
        }
      ]
    },
    {
      "cell_type": "markdown",
      "source": [
        "Exercício 25"
      ],
      "metadata": {
        "id": "DTOE9Rl_hv3a"
      }
    },
    {
      "cell_type": "code",
      "source": [
        "num_contas_encerradas = 0\n",
        "while True:\n",
        "    print('\\nSelecione uma opção:')\n",
        "    print('1 - Encerrar a conta de um hóspede')\n",
        "    print('2 - Verificar número de contas encerradas')\n",
        "    print('3 - Finalizar a execução')\n",
        "    opcao = int(input(\"digite a opcao: \"))\n",
        "    if opcao == 1:\n",
        "        nome = input('Digite o nome do hóspede: ')\n",
        "        diarias = int(input('Digite o número de diárias: '))\n",
        "        if diarias < 15:\n",
        "            taxa_servicos = 7.5\n",
        "        elif diarias == 15:\n",
        "          taxa_servicos = 6.5\n",
        "        else:\n",
        "            taxa_servicos = 5.0\n",
        "        total = (50.0 * diarias) + (taxa_servicos * diarias)\n",
        "        print(f'O hóspede {nome} deve pagar um total de R${total:.2f}')\n",
        "        num_contas_encerradas += 1\n",
        "    elif opcao == 2:\n",
        "        print(f'Número de contas encerradas: {num_contas_encerradas}')\n",
        "    elif opcao == 3:\n",
        "        break\n",
        "    else:\n",
        "        print('Opção inválida, tente novamente.')"
      ],
      "metadata": {
        "colab": {
          "base_uri": "https://localhost:8080/"
        },
        "id": "o3olHHV_hyhZ",
        "outputId": "8beb41e5-c66d-47b0-c1e4-db290307dc46"
      },
      "execution_count": null,
      "outputs": [
        {
          "name": "stdout",
          "output_type": "stream",
          "text": [
            "\n",
            "Selecione uma opção:\n",
            "1 - Encerrar a conta de um hóspede\n",
            "2 - Verificar número de contas encerradas\n",
            "3 - Finalizar a execução\n",
            "digite a opcao: 1\n",
            "Digite o nome do hóspede: Laura\n",
            "Digite o número de diárias: 2\n",
            "O hóspede Laura deve pagar um total de R$115.00\n",
            "\n",
            "Selecione uma opção:\n",
            "1 - Encerrar a conta de um hóspede\n",
            "2 - Verificar número de contas encerradas\n",
            "3 - Finalizar a execução\n",
            "digite a opcao: 3\n"
          ]
        }
      ]
    },
    {
      "cell_type": "markdown",
      "source": [
        "Exercício 26"
      ],
      "metadata": {
        "id": "tKfStiDw5BmO"
      }
    },
    {
      "cell_type": "code",
      "source": [
        "massa_inicial = float(input(\"Digite a massa inicial em Kg: \"))\n",
        "massa_final = 0.5 / 1000\n",
        "tempo = 0\n",
        "while massa_inicial > massa_final:\n",
        "    massa_inicial /= 2\n",
        "    tempo += 50\n",
        "print(\"Massa inicial: {:.3f} Kg\".format(massa_inicial))\n",
        "print(\"Massa final: {:.6f} Kg\".format(massa_final))\n",
        "print(\"Tempo necessário: {} segundos\".format(tempo))"
      ],
      "metadata": {
        "colab": {
          "base_uri": "https://localhost:8080/"
        },
        "id": "Nj13KXjn5EWh",
        "outputId": "938e28e5-cef3-479a-a9d3-b36af41c5b7d"
      },
      "execution_count": null,
      "outputs": [
        {
          "output_type": "stream",
          "name": "stdout",
          "text": [
            "Digite a massa inicial em Kg: 10.5\n",
            "Massa inicial: 0.000 Kg\n",
            "Massa final: 0.000500 Kg\n",
            "Tempo necessário: 750 segundos\n"
          ]
        }
      ]
    },
    {
      "cell_type": "markdown",
      "source": [
        "Exercício 27"
      ],
      "metadata": {
        "id": "XJuNfnFbZebc"
      }
    },
    {
      "cell_type": "code",
      "source": [
        "num_reabastecimentos = int(input(\"Digite o número total de reabastecimentos feitos: \"))\n",
        "quilometragem_total = 0\n",
        "combustivel_total = 0\n",
        "odometro_anterior = float(input(\"Digite a medida do odômetro antes de sair: \"))\n",
        "for i in range(num_reabastecimentos):\n",
        "    odometro_atual = float(input(\"Digite a medida do odômetro na parada {}: \".format(i+1)))\n",
        "    combustivel_comprado = float(input(\"Digite a quantidade de combustível comprado na parada {} (em litros): \".format(i+1)))\n",
        "    quilometros_percorridos = odometro_atual - odometro_anterior\n",
        "    quilometragem_por_litro = quilometros_percorridos / combustivel_comprado\n",
        "    print(\"Quilometragem obtida por litro de combustível na parada {}: {:.2f} km/L\".format(i+1, quilometragem_por_litro))\n",
        "    quilometragem_total += quilometros_percorridos\n",
        "    combustivel_total += combustivel_comprado\n",
        "    odometro_anterior = odometro_atual\n",
        "quilometragem_media = quilometragem_total / combustivel_total\n",
        "print(\"Quilometragem média obtida por litro de combustível em toda a viagem: {:.2f} km/L\".format(quilometragem_media))"
      ],
      "metadata": {
        "colab": {
          "base_uri": "https://localhost:8080/"
        },
        "id": "9huk1JCyZgtR",
        "outputId": "087d3923-c46c-4add-8017-943392d5e3c7"
      },
      "execution_count": null,
      "outputs": [
        {
          "output_type": "stream",
          "name": "stdout",
          "text": [
            "Digite o número total de reabastecimentos feitos: 4\n",
            "Digite a medida do odômetro antes de sair: 20.000\n",
            "Digite a medida do odômetro na parada 1: 22.500\n",
            "Digite a quantidade de combustível comprado na parada 1 (em litros): 15\n",
            "Quilometragem obtida por litro de combustível na parada 1: 0.17 km/L\n",
            "Digite a medida do odômetro na parada 2: 30.100\n",
            "Digite a quantidade de combustível comprado na parada 2 (em litros): 20\n",
            "Quilometragem obtida por litro de combustível na parada 2: 0.38 km/L\n",
            "Digite a medida do odômetro na parada 3: 42.200\n",
            "Digite a quantidade de combustível comprado na parada 3 (em litros): 20\n",
            "Quilometragem obtida por litro de combustível na parada 3: 0.61 km/L\n",
            "Digite a medida do odômetro na parada 4: 55.500\n",
            "Digite a quantidade de combustível comprado na parada 4 (em litros): 25\n",
            "Quilometragem obtida por litro de combustível na parada 4: 0.53 km/L\n",
            "Quilometragem média obtida por litro de combustível em toda a viagem: 0.44 km/L\n"
          ]
        }
      ]
    },
    {
      "cell_type": "markdown",
      "source": [
        "Exercício 28"
      ],
      "metadata": {
        "id": "XGEMX076jhf8"
      }
    },
    {
      "cell_type": "code",
      "source": [
        "pontos_direita = 0\n",
        "pontos_esquerda = 0\n",
        "vencedor = \" \"\n",
        "while True:\n",
        "  ponto = input(\"digite o codigo do ponto do lado (D/E): \")\n",
        "  if ponto == \"D\":\n",
        "    pontos_direita += 1\n",
        "  elif ponto == \"E\":\n",
        "    pontos_esquerda += 1\n",
        "  if pontos_direita >= 21 and (pontos_direita - pontos_esquerda) >= 2:\n",
        "        vencedor = \"Direita\"\n",
        "        break\n",
        "  elif pontos_esquerda >= 21 and (pontos_esquerda - pontos_direita) >= 2:\n",
        "        vencedor = \"Esquerda\"\n",
        "        break\n",
        "print(f'O vencedor é {vencedor}!')"
      ],
      "metadata": {
        "colab": {
          "base_uri": "https://localhost:8080/"
        },
        "id": "R38XCMHijj-M",
        "outputId": "168e6d3e-0fa9-4e10-93db-cbb9d852ac62"
      },
      "execution_count": null,
      "outputs": [
        {
          "output_type": "stream",
          "name": "stdout",
          "text": [
            "digite o codigo do ponto do lado (D/E): D\n",
            "digite o codigo do ponto do lado (D/E): D\n",
            "digite o codigo do ponto do lado (D/E): E\n",
            "digite o codigo do ponto do lado (D/E): D\n",
            "digite o codigo do ponto do lado (D/E): E\n",
            "digite o codigo do ponto do lado (D/E): D\n",
            "digite o codigo do ponto do lado (D/E): D\n",
            "digite o codigo do ponto do lado (D/E): E\n",
            "digite o codigo do ponto do lado (D/E): D\n",
            "digite o codigo do ponto do lado (D/E): E\n",
            "digite o codigo do ponto do lado (D/E): D\n",
            "digite o codigo do ponto do lado (D/E): D\n",
            "digite o codigo do ponto do lado (D/E): E\n",
            "digite o codigo do ponto do lado (D/E): D\n",
            "digite o codigo do ponto do lado (D/E): D\n",
            "digite o codigo do ponto do lado (D/E): D\n",
            "digite o codigo do ponto do lado (D/E): E\n",
            "digite o codigo do ponto do lado (D/E): D\n",
            "digite o codigo do ponto do lado (D/E): E\n",
            "digite o codigo do ponto do lado (D/E): D\n",
            "digite o codigo do ponto do lado (D/E): D\n",
            "digite o codigo do ponto do lado (D/E): D\n",
            "digite o codigo do ponto do lado (D/E): E\n",
            "digite o codigo do ponto do lado (D/E): D\n",
            "digite o codigo do ponto do lado (D/E): E\n",
            "digite o codigo do ponto do lado (D/E): D\n",
            "digite o codigo do ponto do lado (D/E): D\n",
            "digite o codigo do ponto do lado (D/E): E\n",
            "digite o codigo do ponto do lado (D/E): D\n",
            "digite o codigo do ponto do lado (D/E): D\n",
            "digite o codigo do ponto do lado (D/E): D\n",
            "O vencedor é Direita!\n"
          ]
        }
      ]
    },
    {
      "cell_type": "markdown",
      "source": [
        "Exercício 29"
      ],
      "metadata": {
        "id": "zN7qEtiaVDvl"
      }
    },
    {
      "cell_type": "code",
      "source": [
        "limite_diario = float(input(\"Digite o limite diário em quilogramas: \"))\n",
        "peso_total = 0\n",
        "while True:\n",
        "    peso_peixe = int(input(\"Digite o peso do peixe em gramas: \"))\n",
        "    peso_total += peso_peixe / 1000\n",
        "    if peso_total > limite_diario:\n",
        "        print(\"Limite diário excedido!\")\n",
        "        break\n",
        "    continuar = input(\"Deseja adicionar mais um peixe? (s/n) \")\n",
        "    if continuar.lower() == 'n':\n",
        "        break\n",
        "print(\"Peso total da pesca: %.2f kg\" % peso_total)"
      ],
      "metadata": {
        "colab": {
          "base_uri": "https://localhost:8080/"
        },
        "id": "_Uf8afzZMhiE",
        "outputId": "d7863332-dd36-49cc-d76c-c28c94c9cd47"
      },
      "execution_count": null,
      "outputs": [
        {
          "output_type": "stream",
          "name": "stdout",
          "text": [
            "Digite o limite diário em quilogramas: 0.5\n",
            "Digite o peso do peixe em gramas: 500\n",
            "Deseja adicionar mais um peixe? (s/n) s\n",
            "Digite o peso do peixe em gramas: 400\n",
            "Limite diário excedido!\n",
            "Peso total da pesca: 0.90 kg\n"
          ]
        }
      ]
    },
    {
      "cell_type": "markdown",
      "source": [
        "Exercício 30"
      ],
      "metadata": {
        "id": "cuSAqDkhOZUI"
      }
    },
    {
      "cell_type": "code",
      "source": [
        "preco_r = float(input(\"Digite o preço do kWh para consumidores residenciais: \"))\n",
        "preco_c = float(input(\"Digite o preço do kWh para consumidores comerciais: \"))\n",
        "preco_i = float(input(\"Digite o preço do kWh para consumidores industriais: \"))\n",
        "total_r = total_c = total_i = 0\n",
        "consumo_r = consumo_c = consumo_i = 0\n",
        "media_geral = 0\n",
        "n = int(input(\"Digite o número de consumidores: \"))\n",
        "for i in range(n):\n",
        "    identificacao = int(input(\"Digite o número de identificação do consumidor: \"))\n",
        "    consumo = float(input(\"Digite a quantidade de kWh consumidos pelo consumidor: \"))\n",
        "    tipo = input(\"Digite o código do tipo de consumidor (R - residencial, C - comercial, I - industrial): \")\n",
        "    if tipo == 'R' or tipo == 'r':\n",
        "      valor = consumo * preco_r\n",
        "      total_r += valor\n",
        "      consumo_r += consumo\n",
        "    elif tipo == 'C' or tipo == 'c':\n",
        "        valor = consumo * preco_c\n",
        "        total_c += valor\n",
        "        consumo_c += consumo\n",
        "    elif tipo == 'I' or tipo == 'i':\n",
        "        valor = consumo * preco_i\n",
        "        total_i += valor\n",
        "        consumo_i += consumo\n",
        "print(f\"Consumidor {identificacao}: Total a pagar = R$ {valor:.2f}\")\n",
        "media_geral += consumo\n",
        "print(f\"Quantidade total de KWh consumida por consumidores residenciais: {consumo_r:.2f}\")\n",
        "print(f\"Quantidade total de KWh consumida por consumidores comerciais: {consumo_c:.2f}\")\n",
        "print(f\"Quantidade total de KWh consumida por consumidores industriais: {consumo_i:.2f}\")\n",
        "media_geral /= n\n",
        "print(f\"Quantidade média geral de consumo: {media_geral:.2f}\")"
      ],
      "metadata": {
        "id": "zTKKyRRYOb8n",
        "colab": {
          "base_uri": "https://localhost:8080/"
        },
        "outputId": "57c3b5d4-13cd-4b7d-b24f-c9231a9027d7"
      },
      "execution_count": null,
      "outputs": [
        {
          "output_type": "stream",
          "name": "stdout",
          "text": [
            "Digite o preço do kWh para consumidores residenciais: 152\n",
            "Digite o preço do kWh para consumidores comerciais: 250\n",
            "Digite o preço do kWh para consumidores industriais: 300\n",
            "Digite o número de consumidores: 3\n",
            "Digite o número de identificação do consumidor: 1\n",
            "Digite a quantidade de kWh consumidos pelo consumidor: 200\n",
            "Digite o código do tipo de consumidor (R - residencial, C - comercial, I - industrial): R\n",
            "Digite o número de identificação do consumidor: 2\n",
            "Digite a quantidade de kWh consumidos pelo consumidor: 300\n",
            "Digite o código do tipo de consumidor (R - residencial, C - comercial, I - industrial): C\n",
            "Digite o número de identificação do consumidor: 3\n",
            "Digite a quantidade de kWh consumidos pelo consumidor: 400\n",
            "Digite o código do tipo de consumidor (R - residencial, C - comercial, I - industrial): I\n",
            "Consumidor 3: Total a pagar = R$ 120000.00\n",
            "Quantidade total de KWh consumida por consumidores residenciais: 200.00\n",
            "Quantidade total de KWh consumida por consumidores comerciais: 300.00\n",
            "Quantidade total de KWh consumida por consumidores industriais: 400.00\n",
            "Quantidade média geral de consumo: 133.33\n"
          ]
        }
      ]
    }
  ]
}