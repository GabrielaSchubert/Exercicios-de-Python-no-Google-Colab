{
  "nbformat": 4,
  "nbformat_minor": 0,
  "metadata": {
    "colab": {
      "provenance": [],
      "authorship_tag": "ABX9TyO1P4TvHxp5zNEMlzQMWvU6",
      "include_colab_link": true
    },
    "kernelspec": {
      "name": "python3",
      "display_name": "Python 3"
    },
    "language_info": {
      "name": "python"
    }
  },
  "cells": [
    {
      "cell_type": "markdown",
      "metadata": {
        "id": "view-in-github",
        "colab_type": "text"
      },
      "source": [
        "<a href=\"https://colab.research.google.com/github/GabrielaSchubert/Python_no_Google_Colaboratory/blob/main/Exerc%C3%ADcios_Lista_01_Classes_e_M%C3%A9todos.ipynb\" target=\"_parent\"><img src=\"https://colab.research.google.com/assets/colab-badge.svg\" alt=\"Open In Colab\"/></a>"
      ]
    },
    {
      "cell_type": "markdown",
      "source": [
        "Classe Bola: Crie uma classe que modele uma bola:\n",
        "a. Atributos: Cor, circunferência, material\n",
        "b. Métodos: trocaCor e mostraCor"
      ],
      "metadata": {
        "id": "pjy_K-2-tXbt"
      }
    },
    {
      "cell_type": "code",
      "execution_count": null,
      "metadata": {
        "colab": {
          "base_uri": "https://localhost:8080/"
        },
        "id": "J0bvqr1FtIsN",
        "outputId": "ea984144-7226-4436-8abe-4a1ce125c0d3"
      },
      "outputs": [
        {
          "output_type": "stream",
          "name": "stdout",
          "text": [
            "A bola é: Verde\n",
            "A nova cor da bola é: Azul\n"
          ]
        }
      ],
      "source": [
        "class Bola:\n",
        "\n",
        "  def __init__(self,cor=\"\",circunferencia=\"\",material=\"\"):\n",
        "    self.cor = cor\n",
        "    self.circuferencia = circunferencia\n",
        "    self.material = material\n",
        "\n",
        "  def trocaCor(self,novaCor):\n",
        "    self.cor = novaCor\n",
        "\n",
        "  def mostraCor(self):\n",
        "    return self.cor\n",
        "\n",
        "bola = Bola(\"A bola é: Verde\")\n",
        "print(bola.mostraCor())\n",
        "bola.trocaCor(\"A nova cor da bola é: Azul\")\n",
        "print(bola.mostraCor())"
      ]
    },
    {
      "cell_type": "markdown",
      "source": [
        "Classe Quadrado: Crie uma classe que modele um quadrado:\n",
        "a. Atributos: Tamanho do lado\n",
        "b. Métodos: Mudar valor do Lado, Retornar valor do Lado e calcular Área;"
      ],
      "metadata": {
        "id": "8cHaWGtKui5C"
      }
    },
    {
      "cell_type": "code",
      "source": [
        "class Quadrado:\n",
        "\n",
        "  def __init__(self,lado):\n",
        "    self.lado = lado\n",
        "    self.area = lado ** 2\n",
        "\n",
        "  def setLado(self,lado):\n",
        "    self.lado = lado\n",
        "    self.area = lado ** 2\n",
        "\n",
        "  def getLado(self):\n",
        "    return self.lado\n",
        "\n",
        "  def calcularArea(self):\n",
        "    return self.area\n",
        "\n",
        "quadrado = Quadrado(4)\n",
        "print(\"Lado do quadrado: \" , quadrado.getLado())\n",
        "print(\"Área do quadrado: \" , quadrado.calcularArea())\n",
        "quadrado.setLado(6)\n",
        "print(\"Novo lado do quadrado: \" , quadrado.getLado())\n",
        "print(\"Nova área do quadrado: \" , quadrado.calcularArea())"
      ],
      "metadata": {
        "colab": {
          "base_uri": "https://localhost:8080/"
        },
        "id": "0X3rCFRIXjKz",
        "outputId": "9d76e74f-ab6f-4c78-acc8-a3b2c8403280"
      },
      "execution_count": null,
      "outputs": [
        {
          "output_type": "stream",
          "name": "stdout",
          "text": [
            "Lado do quadrado:  4\n",
            "Área do quadrado:  16\n",
            "Novo lado do quadrado:  6\n",
            "Nova área do quadrado:  36\n"
          ]
        }
      ]
    },
    {
      "cell_type": "markdown",
      "source": [
        "Classe Retangulo: Crie uma classe que modele um retangulo:\n",
        "a. Atributos: LadoA, LadoB (ou Comprimento e Largura, ou Base e Altura, a escolher)\n",
        "b. Métodos: Mudar valor dos lados, Retornar valor dos lados, calcular Área e calcular Perímetro;\n",
        "c. Crie um programa que utilize esta classe. Ele deve pedir ao usuário que informe as medidades\n",
        "de um local. Depois, deve criar um objeto com as medidas e calcular a quantidade de pisos e\n",
        "de rodapés necessárias para o local."
      ],
      "metadata": {
        "id": "P_c4wcPc2bH7"
      }
    },
    {
      "cell_type": "code",
      "source": [
        "class Retangulo:\n",
        "\n",
        "  def __init__(self,Comprimento=\"\",Largura=\"\"):\n",
        "    self.Comprimento = Comprimento\n",
        "    self.Largura = Largura\n",
        "\n",
        "  def mudarValor(self,novoComprimento,novaLargura):\n",
        "    self.Comprimento = novoComprimento\n",
        "    self.Largura = novaLargura\n",
        "\n",
        "  def retornaLados(self):\n",
        "    return self.Comprimento, self.Largura\n",
        "\n",
        "  def calcularArea(self):\n",
        "    return self.Comprimento * self.Comprimento\n",
        "\n",
        "  def calcularPerimetro(self):\n",
        "    return 2 * (self.Comprimento * self.Largura)\n",
        "\n",
        "Comprimento = float(input(\"Digite a medida do comprimento: \"))\n",
        "Largura = float(input(\"Digite a medida da largura: \"))\n",
        "retangulo = Retangulo(Comprimento,Largura)\n",
        "area = retangulo.calcularArea()\n",
        "perimetro = retangulo.calcularPerimetro()\n",
        "print(\"Área \", area, \" Perimetro \", perimetro)"
      ],
      "metadata": {
        "colab": {
          "base_uri": "https://localhost:8080/"
        },
        "id": "rqTiRHSS2hRx",
        "outputId": "99a1f88a-55df-46a3-a9c9-6bbd1fab4028"
      },
      "execution_count": null,
      "outputs": [
        {
          "output_type": "stream",
          "name": "stdout",
          "text": [
            "Digite a medida do comprimento: 7\n",
            "Digite a medida da largura: 4\n",
            "Área  49.0  Perimetro  56.0\n"
          ]
        }
      ]
    },
    {
      "cell_type": "markdown",
      "source": [
        "Classe Pessoa: Crie uma classe que modele uma pessoa:\n",
        "a. Atributos: nome, idade, peso e altura\n",
        "b. Métodos: envelhecer, engordar, emagrecer, crescer.\n",
        "Obs: Por padrão, a cada ano que nossa pessoa envelhece, sendo a idade dela menor que 21 anos,\n",
        "ela deve crescer 0,5 cm."
      ],
      "metadata": {
        "id": "V96NJ4xu2waC"
      }
    },
    {
      "cell_type": "code",
      "source": [
        "class Pessoa:\n",
        "\n",
        "  def __init__(self,nome=\"\",idade=\"\",peso=\"\",altura=\"\"):\n",
        "    self.nome = nome\n",
        "    self.idade = idade\n",
        "    self.peso = peso\n",
        "    self.altura = altura\n",
        "\n",
        "  def envelhecer(self,anos):\n",
        "    self.idade += anos\n",
        "    if self.idade < 21:\n",
        "      self.crescer (0.5 * anos)\n",
        "\n",
        "  def engordar(self,peso):\n",
        "    self.peso += peso\n",
        "\n",
        "  def emagrecer(self,peso):\n",
        "    self.peso -= peso\n",
        "\n",
        "  def crescer(self,altura):\n",
        "    self.altura += altura\n",
        "\n",
        "pessoa = Pessoa(\"Beatriz\", 20, 60, 160)\n",
        "pessoa.envelhecer(2)\n",
        "pessoa.engordar(4)\n",
        "pessoa.emagrecer(3)\n",
        "print(\"Depois da pessoa envelhecer, engordar e emagrecer:\")\n",
        "print(\"Idade:\", pessoa.idade)\n",
        "print(\"Peso:\", pessoa.peso)\n",
        "print(\"Altura:\", pessoa.altura)"
      ],
      "metadata": {
        "id": "WTlK2Z2m9ESG",
        "colab": {
          "base_uri": "https://localhost:8080/"
        },
        "outputId": "7f3840de-c352-49d0-bf1f-7fcf761d1bdd"
      },
      "execution_count": null,
      "outputs": [
        {
          "output_type": "stream",
          "name": "stdout",
          "text": [
            "Depois da pessoa envelhecer, engordar e emagrecer:\n",
            "Idade: 22\n",
            "Peso: 61\n",
            "Altura: 160\n"
          ]
        }
      ]
    },
    {
      "cell_type": "markdown",
      "source": [
        "Classe Conta Corrente: Crie uma classe para implementar uma conta corrente. A classe deve possuir os seguintes atributos: número da conta, nome do correntista e saldo. Os métodos são os seguintes: alterarNome, depósito e saque. No construtor, saldo é opcional, com valor default zero e os demais atributos são obrigatórios."
      ],
      "metadata": {
        "id": "G0So69NidWaZ"
      }
    },
    {
      "cell_type": "code",
      "source": [
        "class contaCorrente:\n",
        "\n",
        "  def __init__(self,numeroConta=\"\",nomeCorrentista=\"\",saldo=0):\n",
        "    self.numeroConta = numeroConta\n",
        "    self.nomeCorrentista = nomeCorrentista\n",
        "    self.saldo = saldo\n",
        "\n",
        "  def alterarNome(self,novoNome):\n",
        "    self.nomeCorrentista = novoNome\n",
        "\n",
        "  def deposito(self,valor):\n",
        "    self.saldo += valor\n",
        "\n",
        "  def saque(self,valor):\n",
        "    if valor <= self.saldo:\n",
        "          self.saldo -= valor\n",
        "          print(\"Saque de:\", valor, \"realizado com sucesso.\")\n",
        "    else:\n",
        "          print(\"Saldo insuficiente\")\n",
        "\n",
        "conta = contaCorrente(\"2468\", \"Maria\")\n",
        "print(\"Número da Conta Corrente:\", conta.numeroConta)\n",
        "print(\"Nome do Correntista:\", conta.nomeCorrentista)\n",
        "print(\"Saldo:\", conta.saldo)\n",
        "conta.deposito(1800)\n",
        "print(\"O saldo após o depósito é de R$\", conta.saldo)\n",
        "conta.saque(800)\n",
        "print(\"O saldo após o saque é de R$\", conta.saldo)\n",
        "conta.alterarNome(\"Mariana\")\n",
        "print(\"O nome do correntista foi alterado para:\", conta.nomeCorrentista)"
      ],
      "metadata": {
        "colab": {
          "base_uri": "https://localhost:8080/"
        },
        "id": "LtvXMJDJdaHc",
        "outputId": "c181f3f9-a058-412a-f42e-d16df4d1b8a2"
      },
      "execution_count": null,
      "outputs": [
        {
          "output_type": "stream",
          "name": "stdout",
          "text": [
            "Número da Conta Corrente: 2468\n",
            "Nome do Correntista: Maria\n",
            "Saldo: 0\n",
            "O saldo após o depósito é de R$ 1800\n",
            "Saque de: 800 realizado com sucesso.\n",
            "O saldo após o saque é de R$ 1000\n",
            "O nome do correntista foi alterado para: Mariana\n"
          ]
        }
      ]
    },
    {
      "cell_type": "markdown",
      "source": [
        "Classe TV: Faça um programa que simule um televisor criando-o como um objeto. O usuário deve ser capaz de informar o número do canal e aumentar ou diminuir o volume. Certifique-se de que o número do canal e o nível do volume permanecem dentro de faixas válidas."
      ],
      "metadata": {
        "id": "-vjiaSwQh4mc"
      }
    },
    {
      "cell_type": "code",
      "source": [
        "class Tv:\n",
        "\n",
        "  def __init__(self,canalMaximo=52,volumeMaximo=80):\n",
        "    self.canalMaximo = canalMaximo\n",
        "    self.volumeMaximo = volumeMaximo\n",
        "    self.canalAtual = 2\n",
        "    self.volumeAtual = 10\n",
        "\n",
        "  def alterarCanal(self, canalNovo):\n",
        "      if 1 <= canalNovo <= self.canalMaximo:\n",
        "            self.canalAtual = canalNovo\n",
        "            print(f\"Canal alterado para {canalNovo}\")\n",
        "      else:\n",
        "            print(f\"Canal inválido. O canal deve estar entre 1 e {self.canalMaximo}\")\n",
        "\n",
        "  def aumentarVolume(self):\n",
        "      if self.volumeAtual < self.volumeMaximo:\n",
        "            self.volumeAtual += 1\n",
        "            print(f\"Volume aumentado para {self.volumeAtual}\")\n",
        "      else:\n",
        "            print(\"Volume máximo\")\n",
        "\n",
        "  def diminuirVolume(self):\n",
        "    if self.volumeAtual > 0:\n",
        "      self.volumeAtual -= 1\n",
        "      print(f\"Volume abaixado para {self.volumeAtual}\")\n",
        "    else:\n",
        "      print(\"Volume mínimo\")\n",
        "\n",
        "tv = Tv()\n",
        "tv.alterarCanal(8)\n",
        "tv.aumentarVolume()\n",
        "tv.diminuirVolume()"
      ],
      "metadata": {
        "id": "OMZ4O8M3iadi",
        "colab": {
          "base_uri": "https://localhost:8080/"
        },
        "outputId": "d1005f56-6ffa-4d14-9fce-686b919cf707"
      },
      "execution_count": null,
      "outputs": [
        {
          "output_type": "stream",
          "name": "stdout",
          "text": [
            "Canal alterado para 8\n",
            "Volume aumentado para 11\n",
            "Volume abaixado para 10\n"
          ]
        }
      ]
    },
    {
      "cell_type": "markdown",
      "source": [
        "Classe Bichinho Virtual: Crie uma classe que modele um Tamagushi (Bichinho Eletrônico): a. Atributos: Nome, Fome, Saúde e Idade b. Métodos: Alterar Nome, Fome, Saúde e Idade; Retornar Nome, Fome, Saúde e Idade\n",
        "Obs: Existe mais uma informação que devemos levar em consideração, o Humor do nosso tamagushi, este humor é uma combinação entre os atributos Fome e Saúde, ou seja, um campo calculado, então não devemos criar um atributo para armazenar esta informação por que ela pode ser calculada a qualquer momento."
      ],
      "metadata": {
        "id": "BLl78R9Ch8FE"
      }
    },
    {
      "cell_type": "code",
      "source": [
        "class bichinhoVirtual:\n",
        "\n",
        "  def __init__(self,nome=\"\",fome=\"\",saude=\"\",idade=\"\"):\n",
        "    self.nome = nome\n",
        "    self.fome = fome\n",
        "    self.saude = saude\n",
        "    self.idade = idade\n",
        "\n",
        "  def alterarNome(self,novoNome):\n",
        "    self.nome = novoNome\n",
        "\n",
        "  def alterarFome(self,novaFome):\n",
        "    self.fome = novaFome\n",
        "\n",
        "  def alterarSaude(self,novaSaude):\n",
        "    self.saude = novaSaude\n",
        "\n",
        "  def alterarIdade(self,novaIdade):\n",
        "    self.idade = novaIdade\n",
        "\n",
        "  def getNome(self):\n",
        "    return self.nome\n",
        "\n",
        "  def getFome(self):\n",
        "    return self.fome\n",
        "\n",
        "  def getSaude(self):\n",
        "    return self.saude\n",
        "\n",
        "  def getIdade(self):\n",
        "    return self.idade\n",
        "\n",
        "  def calcularHumor(self):\n",
        "    return (self.saude + (100 - self.fome)) / 2\n",
        "\n",
        "Tamagushi = bichinhoVirtual(\"Floquinho\",fome=40,saude=80,idade=2)\n",
        "\n",
        "print(\"Nome:\", Tamagushi.getNome())\n",
        "print(\"Fome:\", Tamagushi.getFome())\n",
        "print(\"Saúde:\", Tamagushi.getSaude())\n",
        "print(\"Idade:\", Tamagushi.getIdade())\n",
        "print(\"Humor:\", Tamagushi.calcularHumor())\n",
        "\n",
        "Tamagushi.alterarNome(\"Ursinho\")\n",
        "Tamagushi.alterarFome(60)\n",
        "Tamagushi.alterarSaude(90)\n",
        "Tamagushi.alterarIdade(4)\n",
        "\n",
        "print(\"\\nMétodos Alterados:\")\n",
        "print(\"Nome:\", Tamagushi.getNome())\n",
        "print(\"Fome:\", Tamagushi.getFome())\n",
        "print(\"Saúde:\", Tamagushi.getSaude())\n",
        "print(\"Idade:\", Tamagushi.getIdade())\n",
        "print(\"Humor:\", Tamagushi.calcularHumor())"
      ],
      "metadata": {
        "colab": {
          "base_uri": "https://localhost:8080/"
        },
        "id": "ETvkA11rqM38",
        "outputId": "9256acf6-5696-4971-c472-0cedb500d3b5"
      },
      "execution_count": null,
      "outputs": [
        {
          "output_type": "stream",
          "name": "stdout",
          "text": [
            "Nome: Floquinho\n",
            "Fome: 40\n",
            "Saúde: 80\n",
            "Idade: 2\n",
            "Humor: 70.0\n",
            "\n",
            "Métodos Alterados:\n",
            "Nome: Ursinho\n",
            "Fome: 60\n",
            "Saúde: 90\n",
            "Idade: 4\n",
            "Humor: 65.0\n"
          ]
        }
      ]
    },
    {
      "cell_type": "markdown",
      "source": [
        "Classe Macaco: Desenvolva uma classe Macaco, que possua os atributos nome e bucho (estomago) e pelo menos os métodos comer(), verBucho() e digerir(). Faça um programa ou teste interativamente, criando pelo menos dois macacos, alimentando-os com pelo menos 3 alimentos diferentes e verificando o conteúdo do estomago a cada refeição. Experimente fazer com que um macaco coma o outro. É possível criar um macaco canibal?"
      ],
      "metadata": {
        "id": "MnL9J712iFtM"
      }
    },
    {
      "cell_type": "code",
      "source": [
        "class Macaco:\n",
        "\n",
        "  def __init__(self,nome,bucho=[]):\n",
        "    self.nome = nome\n",
        "    self.bucho = bucho\n",
        "\n",
        "  def comer(self,alimentacao):\n",
        "    self.bucho.append(alimentacao)\n",
        "\n",
        "  def verBucho(self):\n",
        "      if self.bucho:\n",
        "            print(f\"{self.nome} está se alimentando de {self.bucho}\")\n",
        "      else:\n",
        "            print(f\"{self.nome} está com o estômago vazio\")\n",
        "\n",
        "  def digerir(self):\n",
        "      if self.bucho:\n",
        "            print(f\"{self.nome} ainda está digerindo...\")\n",
        "            self.bucho.clear()\n",
        "            print(f\"{self.nome} já digeriu\")\n",
        "      else:\n",
        "            print(f\"{self.nome} não tem nada para digerir\")\n",
        "\n",
        "macaco1 = Macaco(\"macaco1\")\n",
        "macaco2 = Macaco(\"macaco2\")\n",
        "\n",
        "macaco1.comer(\"maça\")\n",
        "macaco1.verBucho()\n",
        "\n",
        "macaco1.digerir()\n",
        "macaco1.verBucho()\n",
        "\n",
        "macaco2.comer(\"banana\")\n",
        "macaco2.verBucho()\n",
        "\n",
        "macaco2.digerir()\n",
        "macaco2.verBucho()\n",
        "\n",
        "macaco2.comer(\"laranja\")\n",
        "macaco2.verBucho()\n",
        "\n",
        "macaco2.digerir()\n",
        "macaco2.verBucho()\n",
        "\n",
        "macaco1.comer(\"mamão\")\n",
        "macaco1.verBucho()\n",
        "\n",
        "macaco1.digerir()\n",
        "macaco1.verBucho()\n",
        "\n",
        "macaco2.comer(macaco1)\n",
        "macaco2.verBucho()"
      ],
      "metadata": {
        "colab": {
          "base_uri": "https://localhost:8080/"
        },
        "id": "lVNNnTxew_Xf",
        "outputId": "a50d27cf-be8d-4f05-ad21-5c79f33f2532"
      },
      "execution_count": null,
      "outputs": [
        {
          "output_type": "stream",
          "name": "stdout",
          "text": [
            "macaco1 está se alimentando de ['maça']\n",
            "macaco1 ainda está digerindo...\n",
            "macaco1 já digeriu\n",
            "macaco1 está com o estômago vazio\n",
            "macaco2 está se alimentando de ['banana']\n",
            "macaco2 ainda está digerindo...\n",
            "macaco2 já digeriu\n",
            "macaco2 está com o estômago vazio\n",
            "macaco2 está se alimentando de ['laranja']\n",
            "macaco2 ainda está digerindo...\n",
            "macaco2 já digeriu\n",
            "macaco2 está com o estômago vazio\n",
            "macaco1 está se alimentando de ['mamão']\n",
            "macaco1 ainda está digerindo...\n",
            "macaco1 já digeriu\n",
            "macaco1 está com o estômago vazio\n",
            "macaco2 está se alimentando de [<__main__.Macaco object at 0x7bbc482a0a00>]\n"
          ]
        }
      ]
    },
    {
      "cell_type": "markdown",
      "source": [
        "Classe Ponto e Retangulo: Faça um programa completo utilizando funções e classes que:\n",
        "a. Possua uma classe chamada Ponto, com os atributos x e y.\n",
        "b. Possua uma classe chamada Retangulo, com os atributos largura e altura.\n",
        "c. Possua uma função para imprimir os valores da classe Ponto\n",
        "d. Possua uma função para encontrar o centro de um Retângulo.\n",
        "e. Você deve criar alguns objetos da classe Retangulo.\n",
        "f. Cada objeto deve ter um vértice de partida, por exemplo, o vértice inferior esquerdo do\n",
        "retângulo, que deve ser um objeto da classe Ponto.\n",
        "g. A função para encontrar o centro do retângulo deve retornar o valor para um objeto do tipo\n",
        "ponto que indique os valores de x e y para o centro do objeto.\n",
        "h. O valor do centro do objeto deve ser mostrado na tela\n",
        "i. Crie um menu para alterar os valores do retângulo e imprimir o centro deste retângulo."
      ],
      "metadata": {
        "id": "DTUG_is1sQtc"
      }
    },
    {
      "cell_type": "code",
      "source": [
        "class Ponto:\n",
        "\n",
        "  def __init__(self,x=\"\",y=\"\"):\n",
        "    self.x = x\n",
        "    self.y = y\n",
        "\n",
        "class Retangulo:\n",
        "\n",
        "  def __init__(self,inicio=\"\",largura=\"\",altura=\"\"):\n",
        "    self.inicio = inicio\n",
        "    self.largura = largura\n",
        "    self.altura = altura\n",
        "\n",
        "  def encontrarCentro(self):\n",
        "    centroX = self.inicio.x + self.largura / 2\n",
        "    centroY = self.inicio.y + self.largura / 2\n",
        "    return Ponto(centroX,centroY)\n",
        "\n",
        "def criandoRetangulo():\n",
        "    x = float(input(\"Digite o valor do ponto inicial de x: \"))\n",
        "    y = float(input(\"Digite o valor do ponto inicial de y: \"))\n",
        "    largura = float(input(\"Digite a largura do retângulo: \"))\n",
        "    altura = float(input(\"Digite a altura do retângulo: \"))\n",
        "    inicio = Ponto(x,y)\n",
        "    return Retangulo(inicio, largura, altura)\n",
        "\n",
        "def main():\n",
        "    retangulo = criandoRetangulo()\n",
        "    centro = retangulo.encontrarCentro()\n",
        "    print(f\"Centro do retângulo: {centro.x}, {centro.y}\")\n",
        "main()"
      ],
      "metadata": {
        "colab": {
          "base_uri": "https://localhost:8080/"
        },
        "id": "-WsIzpVVzDfU",
        "outputId": "c044f953-41a7-482b-e685-694bb11f5e5d"
      },
      "execution_count": null,
      "outputs": [
        {
          "output_type": "stream",
          "name": "stdout",
          "text": [
            "Digite o valor do ponto inicial de x: 2.2\n",
            "Digite o valor do ponto inicial de y: 2.2\n",
            "Digite a largura do retângulo: 4\n",
            "Digite a altura do retângulo: 8\n",
            "Centro do retângulo: 4.2, 4.2\n"
          ]
        }
      ]
    },
    {
      "cell_type": "markdown",
      "source": [
        "Classe Bomba de Combustível: Faça um programa completo utilizando classes e métodos que:\n",
        "a. Possua uma classe chamada bombaCombustível, com no mínimo esses atributos:\n",
        "i. tipoCombustivel.\n",
        "ii. valorLitro\n",
        "iii. quantidadeCombustivel\n",
        "b. Possua no mínimo esses métodos:\n",
        "i. abastecerPorValor( ) – método onde é informado o valor a ser abastecido e mostra a\n",
        "quantidade de litros que foi colocada no veículo\n",
        "ii. abastecerPorLitro( ) – método onde é informado a quantidade em litros de\n",
        "combustível e mostra o valor a ser pago pelo cliente.\n",
        "iii. alterarValor( ) – altera o valor do litro do combustível.\n",
        "iv. alterarCombustivel( ) – altera o tipo do combustível.\n",
        "v. alterarQuantidadeCombustivel( ) – altera a quantidade de combustível restante na\n",
        "bomba.\n",
        "OBS: Sempre que acontecer um abastecimento é necessário atualizar a quantidade de\n",
        "combustível total na bomba."
      ],
      "metadata": {
        "id": "o55kGw_o1T3d"
      }
    },
    {
      "cell_type": "code",
      "source": [
        "class bombaCombustivel:\n",
        "\n",
        "  def __init__(self,tipoCombustivel=\"\",valorLitro=\"\",quantidadeCombustivel=\"\"):\n",
        "    self.tipoCombustivel = tipoCombustivel\n",
        "    self.valorLitro = valorLitro\n",
        "    self.quantidadeCombustivel = quantidadeCombustivel\n",
        "\n",
        "  def abastecerPorValor(self,valor):\n",
        "    totalLitros = valor / self.valorLitro\n",
        "    if totalLitros <= self.quantidadeCombustivel:\n",
        "      self.quantidadeCombustivel -= totalLitros\n",
        "      return totalLitros\n",
        "\n",
        "  def abastecerPorLitro(self,litros):\n",
        "    pagarValor = litros * self.valorLitro\n",
        "    if litros <= self.quantidadeCombustivel:\n",
        "      self.quantidadeCombustivel -= litros\n",
        "      return pagarValor\n",
        "\n",
        "  def alterarValor(self, novoValor):\n",
        "    self.valorLitro = novoValor\n",
        "\n",
        "  def alterarCombustivel(self, novoCombustivel):\n",
        "    self.tipoCombustivel = novoCombustivel\n",
        "\n",
        "  def alterarQCombustivel(self, novaQuantidade):\n",
        "    self.quantidadeCombustivel = novaQuantidade\n",
        "\n",
        "bomba = bombaCombustivel(\"Gasolina\", 4.00, 100)\n",
        "print(\"Tipo de combustível: \", bomba.tipoCombustivel)\n",
        "print(\"Valor do combustível: \", bomba.valorLitro)\n",
        "print(\"Quantidade de combustível: \", bomba.quantidadeCombustivel)\n",
        "totalLitros = bomba.abastecerPorValor(50)\n",
        "print(\"Litros abastecidos: \", totalLitros)\n",
        "print(\"Quantidade de combustível na bomba: \", bomba.quantidadeCombustivel)\n",
        "pagarValor = bomba.abastecerPorLitro(20)\n",
        "print(\"Valor a pagar: \", pagarValor)\n",
        "print(\"Quantidade de combustível na bomba: \", bomba.quantidadeCombustivel)\n",
        "bomba.alterarValor(5.20)\n",
        "print(\"O novo valor da gasolina é: \", bomba.valorLitro)\n",
        "bomba.alterarCombustivel(\"Etanol\")\n",
        "print(\"O novo combustível é: \", bomba.tipoCombustivel)\n",
        "bomba.alterarQCombustivel(\"500\")\n",
        "print(\"A nova quantidade de combustível é: \", bomba.quantidadeCombustivel)"
      ],
      "metadata": {
        "id": "XwIQbesy1Xzi",
        "colab": {
          "base_uri": "https://localhost:8080/"
        },
        "outputId": "89120919-ddd0-4e43-fd74-77d677cd1b83"
      },
      "execution_count": null,
      "outputs": [
        {
          "output_type": "stream",
          "name": "stdout",
          "text": [
            "Tipo de combustível:  Gasolina\n",
            "Valor do combustível:  4.0\n",
            "Quantidade de combustível:  100\n",
            "Litros abastecidos:  12.5\n",
            "Quantidade de combustível na bomba:  87.5\n",
            "Valor a pagar:  80.0\n",
            "Quantidade de combustível na bomba:  67.5\n",
            "O novo valor da gasolina é:  5.2\n",
            "O novo combustível é:  Etanol\n",
            "A nova quantidade de combustível é:  500\n"
          ]
        }
      ]
    },
    {
      "cell_type": "markdown",
      "source": [
        "Classe Carro: Implemente uma classe chamada Carro com as seguintes propriedades:\n",
        "a. Um veículo tem um certo consumo de combustível (medidos em km / litro) e uma certa\n",
        "quantidade de combustível no tanque.\n",
        "b. O consumo é especificado no construtor e o nível de combustível inicial é 0.\n",
        "c. Forneça um método andar( ) que simule o ato de dirigir o veículo por uma certa distância,\n",
        "reduzindo o nível de combustível no tanque de gasolina.\n",
        "d. Forneça um método obterGasolina( ), que retorna o nível atual de combustível.\n",
        "e. Forneça um método adicionarGasolina( ), para abastecer o tanque. Exemplo de uso:\n",
        "meuFusca = Carro(15) # 15 quilômetros por litro de combustível.\n",
        "meuFusca.adicionarGasolina(20) # abastece com 20 litros de combustível.\n",
        "meuFusca.andar(100) # anda 100 quilômetros.\n",
        "meuFusca.obterGasolina() # Imprime o combustível que resta no tanque."
      ],
      "metadata": {
        "id": "5F1llFReAC-x"
      }
    },
    {
      "cell_type": "code",
      "source": [
        "class Carro:\n",
        "\n",
        "  def __init__(self, consumoCombustivel=\"\"):\n",
        "    self.consumoCombustivel = consumoCombustivel\n",
        "    self.quantidadeCombustivel = 0\n",
        "\n",
        "  def andar(self, distancia):\n",
        "    combustivel = distancia / self.consumoCombustivel\n",
        "    if combustivel <= self.quantidadeCombustivel:\n",
        "      self.quantidadeCombustivel -= combustivel\n",
        "      print(f\"O carro percorreu {distancia} quilômetros.\")\n",
        "\n",
        "  def obterGasolina(self):\n",
        "    return self.quantidadeCombustivel\n",
        "\n",
        "  def adicionarGasolina(self, quantidade):\n",
        "    self.quantidadeCombustivel += quantidade\n",
        "    print(f\"Foi adicionado no carro {quantidade} litros de combustivel\")\n",
        "\n",
        "meuFusca = Carro(15)\n",
        "meuFusca.adicionarGasolina(20)\n",
        "meuFusca.andar(100)\n",
        "print(\"A quantidade de combustível restante é: \", meuFusca.obterGasolina())"
      ],
      "metadata": {
        "colab": {
          "base_uri": "https://localhost:8080/"
        },
        "id": "-lxPoTA3AJRF",
        "outputId": "e11af0e0-9137-40f1-b699-45686e144ae6"
      },
      "execution_count": null,
      "outputs": [
        {
          "output_type": "stream",
          "name": "stdout",
          "text": [
            "Foi adicionado no carro 20 litros de combustivel\n",
            "O carro percorreu 100 quilômetros.\n",
            "A quantidade de combustível restante é:  13.333333333333332\n"
          ]
        }
      ]
    },
    {
      "cell_type": "markdown",
      "source": [
        "Classe Conta de Investimento: Faça uma classe chamada contaInvestimento que seja semelhante à\n",
        "classe contaBancaria, com a diferença de que se adicione um atributo taxaJuros. Forneça um\n",
        "construtor que configure tanto o saldo inicial como a taxa de juros. Forneça um método adicioneJuros\n",
        "(sem parâmetro explícito) que adicione juros à conta. Escreva um programa que construa uma\n",
        "poupança com um saldo inicial de R$1000,00 e uma taxa de juros de 10%. Depois aplique o método\n",
        "adicioneJuros() cinco vezes e imprime o saldo resultante."
      ],
      "metadata": {
        "id": "Hc1zP83LeZ-t"
      }
    },
    {
      "cell_type": "code",
      "source": [
        "class contaInvestimento:\n",
        "\n",
        "  def __init__(self,saldoInicial=\"\",taxaJuros=\"\"):\n",
        "    self.saldo = saldoInicial\n",
        "    self.taxaJuros = taxaJuros / 100\n",
        "\n",
        "  def adicioneJuros(self):\n",
        "    juros = self.saldo * self.taxaJuros\n",
        "    self.saldo += juros\n",
        "\n",
        "  def getSaldo(self):\n",
        "    return self.saldo\n",
        "\n",
        "conta = contaInvestimento(1000,10)\n",
        "\n",
        "for i in range(5):\n",
        "  conta.adicioneJuros()\n",
        "print(f\"O saldo é de {conta.getSaldo()} após o juros ser aplicado 5 vezes\")"
      ],
      "metadata": {
        "colab": {
          "base_uri": "https://localhost:8080/"
        },
        "id": "fY0TnlacgZ2y",
        "outputId": "4fcfec1e-5350-4244-f0bc-c9be06925046"
      },
      "execution_count": null,
      "outputs": [
        {
          "output_type": "stream",
          "name": "stdout",
          "text": [
            "O saldo é de 1610.51 após o juros ser aplicado 5 vezes\n"
          ]
        }
      ]
    },
    {
      "cell_type": "markdown",
      "source": [
        "Classe Funcionário: Implemente a classe Funcionário. Um empregado tem um nome (um string) e\n",
        "um salário(um double). Escreva um construtor com dois parâmetros (nome e salário) e métodos para\n",
        "devolver nome e salário. Escreva um pequeno programa que teste sua classe.\n",
        "• Aprimore a classe do exercício anterior para adicionar o método aumentarSalario\n",
        "(porcentualDeAumento) que aumente o salário do funcionário em uma certa porcentagem.\n",
        "• Exemplo de uso:\n",
        "harry = funcionário(\"Harry\",25000)\n",
        "harry.aumentarSalario(10)"
      ],
      "metadata": {
        "id": "VYEJHLX5jgvz"
      }
    },
    {
      "cell_type": "code",
      "source": [
        "class Funcionario:\n",
        "\n",
        "  def __init__(self,nome=\"\",salario=\"\"):\n",
        "    self.nome = nome\n",
        "    self.salario = salario\n",
        "\n",
        "  def getDevolver(self):\n",
        "    return self.nome, self.salario\n",
        "\n",
        "funcionario = Funcionario(\"Harry\", 2500)\n",
        "nome, salario = funcionario.getDevolver()\n",
        "print(\"Nome do funcionário:\", nome)\n",
        "print(\"Salário do funcionário:\", salario)"
      ],
      "metadata": {
        "colab": {
          "base_uri": "https://localhost:8080/"
        },
        "id": "ZGecDppQn_MT",
        "outputId": "0bb60fe7-21bf-4e9d-cc02-406f32d172a3"
      },
      "execution_count": null,
      "outputs": [
        {
          "output_type": "stream",
          "name": "stdout",
          "text": [
            "Nome do funcionário: Harry\n",
            "Salário do funcionário: 2500\n"
          ]
        }
      ]
    },
    {
      "cell_type": "code",
      "source": [
        "class Funcionario:\n",
        "\n",
        "  def __init__(self,nome=\"\",salario=\"\"):\n",
        "    self.nome = nome\n",
        "    self.salario = salario\n",
        "\n",
        "  def getDevolver(self):\n",
        "    return self.nome, self.salario\n",
        "\n",
        "  def aumentarSalario(self, porcentualDaumento):\n",
        "    aumento = self.salario * (porcentualDaumento / 100)\n",
        "    self.salario += aumento\n",
        "\n",
        "funcionario = Funcionario(\"Harry\", 2500)\n",
        "print(\"O salário do funcionário é:\", funcionario.salario)\n",
        "funcionario.aumentarSalario(10)\n",
        "print(\"O novo salário é:\", funcionario.salario)"
      ],
      "metadata": {
        "colab": {
          "base_uri": "https://localhost:8080/"
        },
        "id": "R5XFcclhjh_0",
        "outputId": "c254625f-52a5-42f3-d6ad-590099df5023"
      },
      "execution_count": null,
      "outputs": [
        {
          "output_type": "stream",
          "name": "stdout",
          "text": [
            "O salário do funcionário é: 2500\n",
            "O novo salário é: 2750.0\n"
          ]
        }
      ]
    },
    {
      "cell_type": "markdown",
      "source": [
        "Classe Bichinho Virtual++: Melhore o programa do bichinho virtual, permitindo que o usuário\n",
        "especifique quanto de comida ele fornece ao bichinho e por quanto tempo ele brinca com o bichinho.\n",
        "Faça com que estes valores afetem quão rapidamente os níveis de fome e tédio caem."
      ],
      "metadata": {
        "id": "MmyEbefWoV0A"
      }
    },
    {
      "cell_type": "code",
      "source": [
        "class bichinhoVirtual:\n",
        "\n",
        "  def __init__(self,nome=\"\",fome=\"\",saude=\"\",idade=\"\"):\n",
        "    self.nome = nome\n",
        "    self.fome = fome\n",
        "    self.saude = saude\n",
        "    self.idade = idade\n",
        "\n",
        "  def alterarNome(self,novoNome):\n",
        "    self.nome = novoNome\n",
        "\n",
        "  def alterarFome(self,novaFome):\n",
        "    self.fome = novaFome\n",
        "\n",
        "  def alterarSaude(self,novaSaude):\n",
        "    self.saude = novaSaude\n",
        "\n",
        "  def alterarIdade(self,novaIdade):\n",
        "    self.idade = novaIdade\n",
        "\n",
        "  def getNome(self):\n",
        "    return self.nome\n",
        "\n",
        "  def getFome(self):\n",
        "    return self.fome\n",
        "\n",
        "  def getSaude(self):\n",
        "    return self.saude\n",
        "\n",
        "  def getIdade(self):\n",
        "    return self.idade\n",
        "\n",
        "  def calcularHumor(self):\n",
        "    return (self.saude + (100 - self.fome)) / 2\n",
        "\n",
        "  def alimentar(self,quantComida):\n",
        "    self.fome -= quantComida\n",
        "    if self.fome < 0:\n",
        "      self.fome = 0\n",
        "\n",
        "  def brincar(self,tempoBrincando):\n",
        "    self.saude += tempoBrincando\n",
        "    if self.saude > 100:\n",
        "       self.saude = 100\n",
        "    self.fome += tempoBrincando\n",
        "    if self.fome > 100:\n",
        "       self.fome = 100\n",
        "\n",
        "Tamagushi = bichinhoVirtual(\"Floquinho\",fome=40,saude=80,idade=2)\n",
        "\n",
        "print(\"Nome:\", Tamagushi.getNome())\n",
        "print(\"Fome:\", Tamagushi.getFome())\n",
        "print(\"Saúde:\", Tamagushi.getSaude())\n",
        "print(\"Idade:\", Tamagushi.getIdade())\n",
        "print(\"Humor:\", Tamagushi.calcularHumor())\n",
        "\n",
        "Tamagushi.alimentar(10)\n",
        "Tamagushi.brincar(2)\n",
        "\n",
        "print(\"\\nApós se alimentar e brincar:\")\n",
        "print(\"Nome:\", Tamagushi.getNome())\n",
        "print(\"Fome:\", Tamagushi.getFome())\n",
        "print(\"Saúde:\", Tamagushi.getSaude())\n",
        "print(\"Idade:\", Tamagushi.getIdade())\n",
        "print(\"Humor:\", Tamagushi.calcularHumor())"
      ],
      "metadata": {
        "colab": {
          "base_uri": "https://localhost:8080/"
        },
        "id": "fso9e-D8oYyC",
        "outputId": "2e6f95d6-a43d-4077-e511-ee196faaafdf"
      },
      "execution_count": null,
      "outputs": [
        {
          "output_type": "stream",
          "name": "stdout",
          "text": [
            "Nome: Floquinho\n",
            "Fome: 40\n",
            "Saúde: 80\n",
            "Idade: 2\n",
            "Humor: 70.0\n",
            "\n",
            "Após se alimentar e brincar:\n",
            "Nome: Floquinho\n",
            "Fome: 32\n",
            "Saúde: 82\n",
            "Idade: 2\n",
            "Humor: 75.0\n"
          ]
        }
      ]
    },
    {
      "cell_type": "markdown",
      "source": [
        "Crie uma \"porta escondida\" no programa do bichinho virtual que mostre os valores exatos dos\n",
        "atributos do objeto. Consiga isto mostrando o objeto quando uma opção secreta, não listada no menu,\n",
        "for informada na escolha do usuário. Dica: acrescente um método especial str() à classe Bichinho."
      ],
      "metadata": {
        "id": "18F9_JGIrHSl"
      }
    },
    {
      "cell_type": "code",
      "source": [
        "class bichinhoVirtual:\n",
        "\n",
        "  def __init__(self,nome=\"\",fome=\"\",saude=\"\",idade=\"\"):\n",
        "    self.nome = nome\n",
        "    self.fome = fome\n",
        "    self.saude = saude\n",
        "    self.idade = idade\n",
        "\n",
        "  def alterarNome(self,novoNome):\n",
        "    self.nome = novoNome\n",
        "\n",
        "  def alterarFome(self,novaFome):\n",
        "    self.fome = novaFome\n",
        "\n",
        "  def alterarSaude(self,novaSaude):\n",
        "    self.saude = novaSaude\n",
        "\n",
        "  def alterarIdade(self,novaIdade):\n",
        "    self.idade = novaIdade\n",
        "\n",
        "  def getNome(self):\n",
        "    return self.nome\n",
        "\n",
        "  def getFome(self):\n",
        "    return self.fome\n",
        "\n",
        "  def getSaude(self):\n",
        "    return self.saude\n",
        "\n",
        "  def getIdade(self):\n",
        "    return self.idade\n",
        "\n",
        "  def calcularHumor(self):\n",
        "    return (self.saude + (100 - self.fome)) / 2\n",
        "\n",
        "  def alimentar(self,quantComida):\n",
        "    self.fome -= quantComida\n",
        "    if self.fome < 0:\n",
        "      self.fome = 0\n",
        "\n",
        "  def brincar(self,tempoBrincando):\n",
        "    self.saude += tempoBrincando\n",
        "    if self.saude > 100:\n",
        "       self.saude = 100\n",
        "    self.fome += tempoBrincando\n",
        "    if self.fome > 100:\n",
        "       self.fome = 100\n",
        "\n",
        "  def __str__(self):\n",
        "    return f\"Nome: {self.nome} \\nFome: {self.fome} \\nSaúde: {self.saude} \\nIdade: {self.idade} \\nHumor: {self.calcularHumor()}\"\n",
        "\n",
        "Tamagushi = bichinhoVirtual(\"Floquinho\",fome=40,saude=80,idade=2)\n",
        "\n",
        "print(\"Nome:\", Tamagushi.getNome())\n",
        "print(\"Fome:\", Tamagushi.getFome())\n",
        "print(\"Saúde:\", Tamagushi.getSaude())\n",
        "print(\"Idade:\", Tamagushi.getIdade())\n",
        "print(\"Humor:\", Tamagushi.calcularHumor())\n",
        "\n",
        "Tamagushi.alimentar(10)\n",
        "Tamagushi.brincar(2)\n",
        "\n",
        "print(\"\\nApós se alimentar e brincar:\")\n",
        "print(Tamagushi)"
      ],
      "metadata": {
        "colab": {
          "base_uri": "https://localhost:8080/"
        },
        "outputId": "125b5e84-4a56-4f9d-bfa9-afcfccc7af74",
        "id": "SKuvc134rcfB"
      },
      "execution_count": null,
      "outputs": [
        {
          "output_type": "stream",
          "name": "stdout",
          "text": [
            "Nome: Floquinho\n",
            "Fome: 40\n",
            "Saúde: 80\n",
            "Idade: 2\n",
            "Humor: 70.0\n",
            "\n",
            "Após se alimentar e brincar:\n",
            "Nome: Floquinho \n",
            "Fome: 32 \n",
            "Saúde: 82 \n",
            "Idade: 2 \n",
            "Humor: 75.0\n"
          ]
        }
      ]
    },
    {
      "cell_type": "markdown",
      "source": [
        "Crie uma Fazenda de Bichinhos instanciando vários objetos bichinho e mantendo o controle deles\n",
        "através de uma lista. Imite o funcionamento do programa básico, mas ao invés de exigir que o usuário\n",
        "tome conta de um único bichinho, exija que ele tome conta da fazenda inteira. Cada opção do menu\n",
        "deveria permitir que o usuário executasse uma ação para todos os bichinhos (alimentar todos os\n",
        "bichinhos, brincar com todos os bichinhos, ou ouvir a todos os bichinhos). Para tornar o programa\n",
        "mais interessante, dê para cada bichinho um nível inicial aleatório de fome e tédio."
      ],
      "metadata": {
        "id": "nq9aImwktnq6"
      }
    },
    {
      "cell_type": "code",
      "source": [
        "import random\n",
        "\n",
        "class bichinhoVirtual:\n",
        "\n",
        "  def __init__(self,nome):\n",
        "    self.nome = nome\n",
        "    self.fome = random.randint(0,100)\n",
        "    self.saude = random.randint(0,100)\n",
        "    self.idade = random.randint(0,100)\n",
        "\n",
        "  def alimentar(self):\n",
        "    self.fome -= 10\n",
        "    if self.fome < 0:\n",
        "      self.fome = 0\n",
        "\n",
        "  def brincar(self):\n",
        "    self.saude += 10\n",
        "    if self.saude > 100:\n",
        "       self.saude = 100\n",
        "    self.fome += 10\n",
        "    if self.fome > 100:\n",
        "       self.fome = 100\n",
        "\n",
        "  def ouvir(self):\n",
        "      print(f\"{self.nome} diz: Estou bem! Fome: {self.fome}, Saúde: {self.saude}, Idade: {self.idade}\")\n",
        "\n",
        "class fazendaBichinhos:\n",
        "\n",
        "  def __init__(self):\n",
        "    self.bichinhos = []\n",
        "\n",
        "  def adicionarBichinho(self, bichinho):\n",
        "        self.bichinhos.append(bichinho)\n",
        "\n",
        "  def alimentarTodos(self):\n",
        "        for bichinho in self.bichinhos:\n",
        "            bichinho.alimentar()\n",
        "\n",
        "  def brincarTodos(self):\n",
        "        for bichinho in self.bichinhos:\n",
        "            bichinho.brincar()\n",
        "\n",
        "  def ouvirTodos(self):\n",
        "        for bichinho in self.bichinhos:\n",
        "            bichinho.ouvir()\n",
        "\n",
        "fazenda = fazendaBichinhos()\n",
        "\n",
        "for i in range(5):\n",
        "  nome_bichinho = f\"Bichinho {i+1}\"\n",
        "  fazenda.adicionarBichinho(bichinhoVirtual(nome_bichinho))\n",
        "\n",
        "print(\"Estado inicial dos bichinhos:\")\n",
        "fazenda.ouvirTodos()\n",
        "print(\"\\nAlimentando os bichinhos...\")\n",
        "fazenda.alimentarTodos()\n",
        "print(\"\\nBrincando com os bichinhos...\")\n",
        "fazenda.brincarTodos()\n",
        "print(\"\\nEstado dos bichinhos após se alimentarem e brincarem:\")\n",
        "fazenda.ouvirTodos()"
      ],
      "metadata": {
        "colab": {
          "base_uri": "https://localhost:8080/"
        },
        "id": "bIGI4L29tqAs",
        "outputId": "43446328-1a57-4925-de02-59f9f1cfa4d7"
      },
      "execution_count": null,
      "outputs": [
        {
          "output_type": "stream",
          "name": "stdout",
          "text": [
            "Estado inicial dos bichinhos:\n",
            "Bichinho 1 diz: Estou bem! Fome: 27, Saúde: 51, Idade: 18\n",
            "Bichinho 2 diz: Estou bem! Fome: 98, Saúde: 85, Idade: 35\n",
            "Bichinho 3 diz: Estou bem! Fome: 67, Saúde: 74, Idade: 89\n",
            "Bichinho 4 diz: Estou bem! Fome: 97, Saúde: 90, Idade: 76\n",
            "Bichinho 5 diz: Estou bem! Fome: 82, Saúde: 93, Idade: 34\n",
            "\n",
            "Alimentando os bichinhos...\n",
            "\n",
            "Brincando com os bichinhos...\n",
            "\n",
            "Estado dos bichinhos após se alimentarem e brincarem:\n",
            "Bichinho 1 diz: Estou bem! Fome: 27, Saúde: 61, Idade: 18\n",
            "Bichinho 2 diz: Estou bem! Fome: 98, Saúde: 95, Idade: 35\n",
            "Bichinho 3 diz: Estou bem! Fome: 67, Saúde: 84, Idade: 89\n",
            "Bichinho 4 diz: Estou bem! Fome: 97, Saúde: 100, Idade: 76\n",
            "Bichinho 5 diz: Estou bem! Fome: 82, Saúde: 100, Idade: 34\n"
          ]
        }
      ]
    }
  ]
}