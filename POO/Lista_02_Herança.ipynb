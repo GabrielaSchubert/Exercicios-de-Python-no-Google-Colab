{
  "nbformat": 4,
  "nbformat_minor": 0,
  "metadata": {
    "colab": {
      "provenance": [],
      "authorship_tag": "ABX9TyMw52HLE6LfEZ91rBjN0sG1",
      "include_colab_link": true
    },
    "kernelspec": {
      "name": "python3",
      "display_name": "Python 3"
    },
    "language_info": {
      "name": "python"
    }
  },
  "cells": [
    {
      "cell_type": "markdown",
      "metadata": {
        "id": "view-in-github",
        "colab_type": "text"
      },
      "source": [
        "<a href=\"https://colab.research.google.com/github/GabrielaSchubert/Python_no_Google_Colaboratory/blob/main/Lista_02_Heran%C3%A7a.ipynb\" target=\"_parent\"><img src=\"https://colab.research.google.com/assets/colab-badge.svg\" alt=\"Open In Colab\"/></a>"
      ]
    },
    {
      "cell_type": "markdown",
      "source": [
        "1. Crie uma classe Pessoa com os atributos nome e idade. Crie uma classe Aluno que herda de\n",
        "Pessoa e adicione o atributo nota. Crie um método para imprimir as informações da Pessoa e um\n",
        "método para imprimir as informações do Aluno."
      ],
      "metadata": {
        "id": "l1WQyygT7i2b"
      }
    },
    {
      "cell_type": "code",
      "execution_count": null,
      "metadata": {
        "colab": {
          "base_uri": "https://localhost:8080/"
        },
        "id": "E1krkXL27fEh",
        "outputId": "5a219922-cb71-4b17-a575-9135d32c046b"
      },
      "outputs": [
        {
          "output_type": "stream",
          "name": "stdout",
          "text": [
            "Nome: Maria, Idade: 15\n",
            "Nome: José, Idade: 20\n",
            "Nota: 10\n"
          ]
        }
      ],
      "source": [
        "class Pessoa():\n",
        "\n",
        "  def __init__(self,nome=\"\",idade=\"\"):\n",
        "    self.nome = nome\n",
        "    self.idade = idade\n",
        "\n",
        "  def imprimirInfo(self):\n",
        "    print(f\"Nome: {self.nome}, Idade: {self.idade}\")\n",
        "\n",
        "class Aluno(Pessoa):\n",
        "\n",
        "  def __init__(self,nome=\"\",idade=\"\",nota=\"\"):\n",
        "    super().__init__(nome,idade)\n",
        "    self.nota = nota\n",
        "\n",
        "  def imprimirInfo(self):\n",
        "    super().imprimirInfo()\n",
        "    print(f\"Nota: {self.nota}\")\n",
        "\n",
        "pessoa = Pessoa(\"Maria\",15)\n",
        "pessoa.imprimirInfo()\n",
        "aluno = Aluno(\"José\",20,10)\n",
        "aluno.imprimirInfo()"
      ]
    },
    {
      "cell_type": "markdown",
      "source": [
        "2. Crie uma classe Veiculo com os atributos marca, modelo e ano. Crie classes filhas Carro e\n",
        "Moto que adicionam o atributo quantidade_de_portas e cilindradas, respectivamente. Crie\n",
        "um método para imprimir as informações do Veiculo e um método para imprimir as informações\n",
        "do Carro e da Moto."
      ],
      "metadata": {
        "id": "5dorFv4T_Ce2"
      }
    },
    {
      "cell_type": "code",
      "source": [
        "class Veiculo():\n",
        "\n",
        "  def __init__(self,marca=\"\",modelo=\"\",ano=\"\"):\n",
        "    self.marca = marca\n",
        "    self.modelo = modelo\n",
        "    self.ano = ano\n",
        "\n",
        "  def imprimirInfo(self):\n",
        "    print(f\"Marca: {self.marca}, Modelo: {self.modelo}, Ano: {self.ano}\")\n",
        "\n",
        "class Carro(Veiculo):\n",
        "\n",
        "  def __init__(self,marca=\"\",modelo=\"\",ano=\"\",quantidade_de_portas=\"\",cilindradas=\"\"):\n",
        "    super().__init__(marca,modelo,ano)\n",
        "    self.quantidade_de_portas = quantidade_de_portas\n",
        "    self.cilindradas = cilindradas\n",
        "\n",
        "  def imprimirInfo(self):\n",
        "    super().imprimirInfo()\n",
        "    print(f\"Quantidade de portas: {self.quantidade_de_portas}\")\n",
        "    print(f\"Cilindradas: {self.cilindradas}\")\n",
        "\n",
        "class Moto(Veiculo):\n",
        "\n",
        "  def __init__(self,marca=\"\",modelo=\"\",ano=\"\",cilindradas=\"\"):\n",
        "    super().__init__(marca,modelo,ano)\n",
        "    self.cilindradas = cilindradas\n",
        "\n",
        "  def imprimirInfo(self):\n",
        "    super().imprimirInfo()\n",
        "    print(f\"Cilindradas: {self.cilindradas}\")\n",
        "\n",
        "carro = Carro(\"Chevrolet\", \"Tracker\",2023,4,250)\n",
        "carro.imprimirInfo()\n",
        "moto = Moto(\"Honda\", \"Conversível\",2024,500)\n",
        "moto.imprimirInfo()"
      ],
      "metadata": {
        "colab": {
          "base_uri": "https://localhost:8080/"
        },
        "id": "7MIrLYbq_DmL",
        "outputId": "b511d7ec-32f0-4dac-b191-27b15aa45c13"
      },
      "execution_count": null,
      "outputs": [
        {
          "output_type": "stream",
          "name": "stdout",
          "text": [
            "Marca: Chevrolet, Modelo: Tracker, Ano: 2023\n",
            "Quantidade de portas: 4\n",
            "Cilindradas: 250\n",
            "Marca: Honda, Modelo: Conversível, Ano: 2024\n",
            "Cilindradas: 500\n"
          ]
        }
      ]
    },
    {
      "cell_type": "markdown",
      "source": [
        "3. Crie uma classe Animal com os atributos nome e peso, e um método comer(). Em seguida, crie\n",
        "duas subclasses, Cachorro e Gato, que herdam da classe Animal. Adicione um método\n",
        "latir() na classe Cachorro e um método miar() na classe Gato."
      ],
      "metadata": {
        "id": "L2nHsWZQIdnl"
      }
    },
    {
      "cell_type": "code",
      "source": [
        "class Animal():\n",
        "\n",
        "  def __init__(self,nome,peso):\n",
        "    self.nome = nome\n",
        "    self.peso = peso\n",
        "\n",
        "  def comer(self):\n",
        "    print(f\"Nome: {self.nome} está comendo\")\n",
        "\n",
        "class Cachorro(Animal):\n",
        "\n",
        "  def latir(self):\n",
        "    print(f\"Nome: {self.nome} está latindo\")\n",
        "\n",
        "class Gato(Animal):\n",
        "\n",
        "  def miar(self):\n",
        "    print(f\"Nome: {self.nome} está miando\")\n",
        "\n",
        "cachorro = Cachorro(\"Lili\",8)\n",
        "cachorro.latir()\n",
        "gato = Gato(\"Bartolomeu\",10)\n",
        "gato.miar()"
      ],
      "metadata": {
        "colab": {
          "base_uri": "https://localhost:8080/"
        },
        "id": "GknyjcKfIeyV",
        "outputId": "bc5310fb-4394-4d78-dea6-c8708ecfbba1"
      },
      "execution_count": null,
      "outputs": [
        {
          "output_type": "stream",
          "name": "stdout",
          "text": [
            "Nome: Lili está latindo\n",
            "Nome: Bartolomeu está miando\n"
          ]
        }
      ]
    },
    {
      "cell_type": "markdown",
      "source": [
        "4. Crie uma classe Pessoa com os atributos nome e idade. Em seguida, crie uma classe\n",
        "Funcionario que herda da classe Pessoa e adicione o atributo salario. Crie um método\n",
        "aumento() na classe Funcionario que aumenta o salário em uma porcentagem específica."
      ],
      "metadata": {
        "id": "3dmeiPS-KidE"
      }
    },
    {
      "cell_type": "code",
      "source": [
        "class Pessoa():\n",
        "\n",
        "  def __init__(self,nome=\"\",idade=\"\"):\n",
        "    self.nome = nome\n",
        "    self.idade = idade\n",
        "\n",
        "class Funcionario(Pessoa):\n",
        "\n",
        "  def __init__(self,nome=\"\",idade=\"\",salario=\"\"):\n",
        "    super().__init__(nome,idade)\n",
        "    self.salario = salario\n",
        "\n",
        "  def aumento(self,porcentagem):\n",
        "    self.salario += self.salario * (porcentagem / 100)\n",
        "    print(f\"O salário após aumento é: {self.salario}\")\n",
        "\n",
        "funcionario = Funcionario(\"João\", 40,1400)\n",
        "print(f\"O salário antes do aumento é: {funcionario.salario}\")\n",
        "funcionario.aumento(20)"
      ],
      "metadata": {
        "colab": {
          "base_uri": "https://localhost:8080/"
        },
        "id": "cWERdEgMKm0d",
        "outputId": "fd28ac37-25ac-4318-ecdd-4a7957569418"
      },
      "execution_count": null,
      "outputs": [
        {
          "output_type": "stream",
          "name": "stdout",
          "text": [
            "O salário antes do aumento é: 1400\n",
            "O salário após aumento é: 1680.0\n"
          ]
        }
      ]
    },
    {
      "cell_type": "markdown",
      "source": [
        "5. Crie uma classe Forma com o método area(). Em seguida, crie duas subclasses: Retangulo e\n",
        "Circulo, que herdam da classe Forma. Adicione os atributos comprimento e largura na\n",
        "classe Retangulo e o atributo raio na classe Circulo. Agora calcula a área de cada polígono."
      ],
      "metadata": {
        "id": "8C8ygno3NJVC"
      }
    },
    {
      "cell_type": "code",
      "source": [
        "class Forma():\n",
        "\n",
        "  def __init__(self,area=\"\"):\n",
        "    self.area = area\n",
        "\n",
        "class Retangulo(Forma):\n",
        "\n",
        "  def __init__(self,comprimento,largura):\n",
        "    self.comprimento = comprimento\n",
        "    self.largura = largura\n",
        "\n",
        "  def area(self):\n",
        "    return self.comprimento * self.largura\n",
        "\n",
        "import math\n",
        "\n",
        "class Circulo(Forma):\n",
        "\n",
        "  def __init__(self,raio):\n",
        "    self.raio = raio\n",
        "\n",
        "  def area(self):\n",
        "    return math.pi * self.raio ** 2\n",
        "\n",
        "retangulo = Retangulo(8,4)\n",
        "circulo = Circulo(6)\n",
        "print(f\"A área do retângulo é: {retangulo.area()}\")\n",
        "print(f\"A área do circulo é: {circulo.area()}\")"
      ],
      "metadata": {
        "colab": {
          "base_uri": "https://localhost:8080/"
        },
        "id": "gcrL9djyNcND",
        "outputId": "954e8e3a-e00a-4565-c1a3-e4c28b6b20c3"
      },
      "execution_count": null,
      "outputs": [
        {
          "output_type": "stream",
          "name": "stdout",
          "text": [
            "A área do retângulo é: 32\n",
            "A área do circulo é: 113.09733552923255\n"
          ]
        }
      ]
    },
    {
      "cell_type": "markdown",
      "source": [
        "6. Implemente o Diagrama de Classes de Contas Bancárias ilustrado abaixo."
      ],
      "metadata": {
        "id": "DX3gPCTaNlO0"
      }
    },
    {
      "cell_type": "code",
      "source": [
        "class CCorrente():\n",
        "\n",
        "  def __init__(self,numero,saldo,cliente):\n",
        "    self.__numero = numero\n",
        "    self.__saldo = saldo\n",
        "    self.__cliente = cliente\n",
        "\n",
        "  def creditar(self, valor):\n",
        "        self.saldo += valor\n",
        "\n",
        "  def debitar(self, valor):\n",
        "      if valor <= self.saldo:\n",
        "            self.saldo -= valor\n",
        "      else:\n",
        "          print(\"Saldo insuficiente\")\n",
        "\n",
        "  def getSaldo(self):\n",
        "    return self.saldo\n",
        "\n",
        "class CEspecial(CCorrente):\n",
        "\n",
        "  def __init__(self,numero,saldo,cliente,limite):\n",
        "    self.__limite = limite\n",
        "    super().__init__(numero,saldo,cliente)\n",
        "\n",
        "class CPoupanca(CCorrente):\n",
        "\n",
        "  def __init__(self,numero,saldo,cliente,saldoMinimo):\n",
        "    self.__saldoMinimo = saldoMinimo\n",
        "    super().__init__(numero,saldo,cliente)\n",
        "\n",
        "  def getSaldo(self):\n",
        "    return self.saldoMinimo\n",
        "\n",
        "class CInvestimento(CCorrente):\n",
        "\n",
        "  def __init__(self,numero,saldo,cliente,diaInvestimento,periodo):\n",
        "    self.__diaInvestimento = diaInvestimento\n",
        "    self.__periodo = periodo\n",
        "    super().__init__(numero,saldo,cliente)\n",
        "\n",
        "  def atualizarSaldo(self):\n",
        "    print(\"Saldo atualizado!\")"
      ],
      "metadata": {
        "id": "NI-xREv4K0Io"
      },
      "execution_count": null,
      "outputs": []
    },
    {
      "cell_type": "markdown",
      "source": [
        "7. Implemente o Diagrama de Classes de Empregados ilustrado abaixo."
      ],
      "metadata": {
        "id": "S9mA1pb3Uzyb"
      }
    },
    {
      "cell_type": "code",
      "source": [
        "class Empregado:\n",
        "    def __init__(self, codigo, nome, email, salario):\n",
        "        self.__codigo = codigo\n",
        "        self.__nome = nome\n",
        "        self.__email = email\n",
        "        self.__salario = salario\n",
        "\n",
        "    def getSalario(self):\n",
        "        return self.__salario\n",
        "\n",
        "    def __aumentoSalario(self, percentual):\n",
        "        self.__salario += self.__salario * percentual / 100\n",
        "\n",
        "class Chefe(Empregado):\n",
        "    def __init__(self, nome, email, salario, beneficio):\n",
        "        super().__init__(None, nome, email, salario)\n",
        "        self.__beneficio = beneficio\n",
        "\n",
        "    def aumentoSalario(self, percentual):\n",
        "        super()._Empregado__aumentoSalario(percentual)\n",
        "\n",
        "\n",
        "class Estagiario(Empregado):\n",
        "    def __init__(self, codigo, nome, email, salario, desconto):\n",
        "        super().__init__(codigo, nome, email, salario)\n",
        "        self.__desconto = desconto\n",
        "\n",
        "    def aumentoSalario(self, percentual):\n",
        "        super()._Empregado__aumentoSalario(percentual)\n",
        "\n",
        "empregado1 = Chefe(\"João\", \"joao@empresa.com\", 5000, 500)\n",
        "empregado1.aumentoSalario(10)\n",
        "print(empregado1.getSalario())\n",
        "\n",
        "empregado2 = Estagiario(101, \"Maria\", \"maria@empresa.com\", 1500, 100)\n",
        "empregado2.aumentoSalario(8)\n",
        "print(empregado2.getSalario())"
      ],
      "metadata": {
        "id": "nSAdXt1RUzA_",
        "colab": {
          "base_uri": "https://localhost:8080/"
        },
        "outputId": "14bb4dd5-e1ce-41cb-9150-fb8326a2c4bf"
      },
      "execution_count": null,
      "outputs": [
        {
          "output_type": "stream",
          "name": "stdout",
          "text": [
            "5500.0\n",
            "1620.0\n"
          ]
        }
      ]
    },
    {
      "cell_type": "markdown",
      "source": [
        "8. Implemente o código para as classes abaixo:\n",
        "a) crie uma classe chamada Ingresso que possui um valor em reais e um método\n",
        "imprimeValor()\n",
        "b) crie uma classe VIP que herda de Ingresso e possui um valor adicional. Crie também um método\n",
        "que retorne o valor do ingresso VIP (como o adicional incluído).\n",
        "c) crie uma classe Normal, que herda Ingresso e possui um método que imprime: \"Ingresso Normal\".\n",
        "d) crie uma classe CamaroteInferior (que possui a localização do ingresso e métodos para acessar e\n",
        "imprimir esta localização) e uma classe CamaroteSuperior, que é mais cara (possui valor\n",
        "adicional). Esta última possui um método para retornar o valor do ingresso. Ambas as classes herdam\n",
        "a classe VIP."
      ],
      "metadata": {
        "id": "JI1PDPR5VH9O"
      }
    },
    {
      "cell_type": "code",
      "source": [
        "class Ingresso:\n",
        "\n",
        "    def __init__(self, valor):\n",
        "        self.valor = valor\n",
        "\n",
        "    def imprimeValor(self):\n",
        "        print(\"Valor do ingresso:\", self.valor)\n",
        "\n",
        "class VIP(Ingresso):\n",
        "    def __init__(self, valor, adicional):\n",
        "        super().__init__(valor)\n",
        "        self.adicional = adicional\n",
        "\n",
        "    def valorIngressoVIP(self):\n",
        "        return self.valor + self.adicional\n",
        "\n",
        "class Normal(Ingresso):\n",
        "    def imprimeTipo(self):\n",
        "        print(\"Ingresso Normal: \", self.valor)\n",
        "\n",
        "class CamaroteInferior(Ingresso):\n",
        "    def __init__(self, valor, localizacao):\n",
        "        super().__init__(valor)\n",
        "        self.localizacao = localizacao\n",
        "\n",
        "    def imprimeLocalizacao(self):\n",
        "        print(\"Localização do ingresso:\", self.localizacao)\n",
        "\n",
        "class CamaroteSuperior(Ingresso):\n",
        "    def __init__(self, valor, adicional):\n",
        "        super().__init__(valor)\n",
        "        self.adicional = adicional\n",
        "\n",
        "    def valorIngresso(self):\n",
        "        return self.valorIngressoVIP()\n",
        "\n",
        "ingresso = Ingresso(50)\n",
        "ingresso.imprimeValor()\n",
        "\n",
        "vip = VIP(50, 20)\n",
        "print(\"Valor do ingresso VIP:\", vip.valorIngressoVIP())\n",
        "\n",
        "normal = Normal(30)\n",
        "normal.imprimeTipo()\n",
        "camaroteinferior = CamaroteInferior(60, \"Setor A\")\n",
        "camaroteinferior.imprimeLocalizacao()\n",
        "camaroteinferior.imprimeValor()\n",
        "camarotesuperior = CamaroteSuperior(100, 40)\n",
        "camarotesuperior.imprimeValor()"
      ],
      "metadata": {
        "id": "g4M33-l0eHPG",
        "colab": {
          "base_uri": "https://localhost:8080/"
        },
        "outputId": "9d87445b-58b7-4490-ab71-7fbe5c9b5040"
      },
      "execution_count": null,
      "outputs": [
        {
          "output_type": "stream",
          "name": "stdout",
          "text": [
            "Valor do ingresso: 50\n",
            "Valor do ingresso VIP: 70\n",
            "Ingresso Normal:  30\n",
            "Localização do ingresso: Setor A\n",
            "Valor do ingresso: 60\n",
            "Valor do ingresso: 100\n"
          ]
        }
      ]
    },
    {
      "cell_type": "markdown",
      "source": [
        "9. Implemente o código para as classes abaixo:\n",
        "a) uma classe Funcionario com os atributos (nome, endereço, telefone, email) e com os\n",
        "métodos (construtor, exibeDados())\n",
        "b) crie a classe Assistente, que também é Funcionário, e que possui um número de\n",
        "matrícula (use o método get).\n",
        "c) sabendo que os Assistentes Técnicos possuem um bônus salarial e que os Assistentes Administrativos\n",
        "possuem um turno (dia ou noite) e um adicional noturno, crie as classes Tecnico e\n",
        "Administrativo. Para cada um destas classes, imprima o número de matrícula e o nome de cada\n",
        "um deles."
      ],
      "metadata": {
        "id": "kC46ZriwVQD-"
      }
    },
    {
      "cell_type": "code",
      "source": [
        "class Funcionario():\n",
        "\n",
        "  def __init__(self,nome,endereco,telefone,email):\n",
        "    self.nome = nome\n",
        "    self.endereco = endereco\n",
        "    self.telefone = telefone\n",
        "    self.email = email\n",
        "\n",
        "  def exibeDados(self):\n",
        "        print(f\"Nome: {self.nome}\")\n",
        "        print(f\"Endereço: {self.endereco}\")\n",
        "        print(f\"Telefone: {self.telefone}\")\n",
        "        print(f\"Email: {self.email}\")\n",
        "\n",
        "class Assistente(Funcionario):\n",
        "\n",
        "    def __init__(self, nome, endereco, telefone, email, numeromatricula):\n",
        "        super().__init__(nome, endereco, telefone, email)\n",
        "        self.__numeromatricula = numeromatricula\n",
        "\n",
        "    def getnumeroMatricula(self):\n",
        "        return self.__numeromatricula\n",
        "\n",
        "class Tecnico(Assistente):\n",
        "\n",
        "    def __init__(self, nome, endereco, telefone, email, numeromatricula, bonussalarial):\n",
        "        super().__init__(nome, endereco, telefone, email, numeromatricula)\n",
        "        self.bonussalarial = bonussalarial\n",
        "\n",
        "    def exibeDados(self):\n",
        "        super().exibeDados()\n",
        "        print(f\"Número de Matrícula: {self.getnumeroMatricula()}\")\n",
        "        print(f\"Bônus Salarial: {self.bonussalarial}\")\n",
        "\n",
        "class Administrativo(Assistente):\n",
        "\n",
        "    def __init__(self, nome, endereco, telefone, email, numeromatricula, turno, adicionalnoturno):\n",
        "        super().__init__(nome, endereco, telefone, email, numeromatricula)\n",
        "        self.turno = turno\n",
        "        self.adicionalnoturno = adicionalnoturno if turno == \"noite\" else 0\n",
        "\n",
        "    def exibeDados(self):\n",
        "        super().exibeDados()\n",
        "        print(f\"Número de Matrícula: {self.getnumeroMatricula()}\")\n",
        "        print(f\"Turno: {self.turno}\")\n",
        "        print(f\"Adicional Noturno: {self.adicionalnoturno}\")\n",
        "\n",
        "funcionario = Funcionario(\"Alisson\", \"Rua Sol, 123\", \"123456789\", \"alisson@servidor.com\")\n",
        "assistente = Assistente(\"Maria\", \"Avenida Lua, 321\", \"234567891\", \"maria@servidor.com\", \"12345\")\n",
        "tecnico = Tecnico(\"Luan\", \"Rua Galáxia, 456\", \"345678912\", \"luan@servidor.com\", \"54321\", 400)\n",
        "administrativo = Administrativo(\"Beatriz\", \"Avenida Terra, 654\", \"456789123\", \"beatriz@servidor.com\", \"56789\", \"noite\", 200)\n",
        "\n",
        "print(\"Dados do Funcionário:\")\n",
        "funcionario.exibeDados()\n",
        "print(\"\\nDados do Assistente:\")\n",
        "assistente.exibeDados()\n",
        "print(\"\\nDados do Técnico:\")\n",
        "tecnico.exibeDados()\n",
        "print(\"\\nDados do Administrativo:\")\n",
        "administrativo.exibeDados()"
      ],
      "metadata": {
        "id": "7WMgxJLoie5U",
        "colab": {
          "base_uri": "https://localhost:8080/"
        },
        "outputId": "f47f09f5-2e73-43f1-9056-5b96960cd2cd"
      },
      "execution_count": null,
      "outputs": [
        {
          "output_type": "stream",
          "name": "stdout",
          "text": [
            "Dados do Funcionário:\n",
            "Nome: Alisson\n",
            "Endereço: Rua Sol, 123\n",
            "Telefone: 123456789\n",
            "Email: alisson@servidor.com\n",
            "\n",
            "Dados do Assistente:\n",
            "Nome: Maria\n",
            "Endereço: Avenida Lua, 321\n",
            "Telefone: 234567891\n",
            "Email: maria@servidor.com\n",
            "\n",
            "Dados do Técnico:\n",
            "Nome: Luan\n",
            "Endereço: Rua Galáxia, 456\n",
            "Telefone: 345678912\n",
            "Email: luan@servidor.com\n",
            "Número de Matrícula: 54321\n",
            "Bônus Salarial: 400\n",
            "\n",
            "Dados do Administrativo:\n",
            "Nome: Beatriz\n",
            "Endereço: Avenida Terra, 654\n",
            "Telefone: 456789123\n",
            "Email: beatriz@servidor.com\n",
            "Número de Matrícula: 56789\n",
            "Turno: noite\n",
            "Adicional Noturno: 200\n"
          ]
        }
      ]
    },
    {
      "cell_type": "markdown",
      "source": [
        "10. Observe o Diagrama de Classes na figura abaixo:  \n",
        "Faça o seguinte:\n",
        "a) Crie as classes e métodos conforme o diagrama  \n",
        "b) Instancie uma pessoa pobre e faça trabalhar  \n",
        "c) Instancie uma pessoa rica e que faça compras"
      ],
      "metadata": {
        "id": "rud3cBXIpwCy"
      }
    },
    {
      "cell_type": "code",
      "source": [
        "class Pessoa():\n",
        "\n",
        "  def __init__(self,nome,idade):\n",
        "    self.__nome = nome\n",
        "    self.__idade = idade\n",
        "\n",
        "  def getpessoa(self):\n",
        "    return self.__nome\n",
        "\n",
        "class Rica(Pessoa):\n",
        "\n",
        "  def __init__(self,nome,idade,dinheiro):\n",
        "    self.__dinheiro = dinheiro\n",
        "    super().__init__(nome,idade)\n",
        "\n",
        "  def getdinheiro(self):\n",
        "    return self.__dinheiro\n",
        "\n",
        "  def fazCompras(self):\n",
        "    print(f\"{self.getpessoa()} está fazendo compras com R$: {self.getdinheiro()}\")\n",
        "\n",
        "class Pobre(Pessoa):\n",
        "\n",
        "  def __init__(self,nome,idade):\n",
        "    super().__init__(nome,idade)\n",
        "\n",
        "  def trabalha(self):\n",
        "    print(f\"{self.getpessoa()} está no trabalho\")\n",
        "\n",
        "class Miseravel(Pessoa):\n",
        "\n",
        "  def mendiga(self):\n",
        "    print(f\"{self.getpessoa()} está mendigando\")\n",
        "\n",
        "pessoaRica = Rica(\"Ana\", 20, 2000)\n",
        "pessoaRica.fazCompras()\n",
        "pessoaPobre = Pobre(\"Luís\", 35)\n",
        "pessoaPobre.trabalha()"
      ],
      "metadata": {
        "colab": {
          "base_uri": "https://localhost:8080/"
        },
        "id": "IY9nQluauob4",
        "outputId": "843c35a6-ad07-47c7-a150-e1ab0fde7acc"
      },
      "execution_count": null,
      "outputs": [
        {
          "output_type": "stream",
          "name": "stdout",
          "text": [
            "Ana está fazendo compras com R$: 2000\n",
            "Luís está no trabalho\n"
          ]
        }
      ]
    }
  ]
}