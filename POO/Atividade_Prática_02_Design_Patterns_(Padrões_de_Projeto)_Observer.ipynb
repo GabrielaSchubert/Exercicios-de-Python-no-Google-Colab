{
  "nbformat": 4,
  "nbformat_minor": 0,
  "metadata": {
    "colab": {
      "provenance": [],
      "authorship_tag": "ABX9TyOuScC6qRDm+1GVcuXvAB6b",
      "include_colab_link": true
    },
    "kernelspec": {
      "name": "python3",
      "display_name": "Python 3"
    },
    "language_info": {
      "name": "python"
    }
  },
  "cells": [
    {
      "cell_type": "markdown",
      "metadata": {
        "id": "view-in-github",
        "colab_type": "text"
      },
      "source": [
        "<a href=\"https://colab.research.google.com/github/GabrielaSchubert/Python_no_Google_Colaboratory/blob/main/Atividade_Pr%C3%A1tica_02_Design_Patterns_(Padr%C3%B5es_de_Projeto)_Observer.ipynb\" target=\"_parent\"><img src=\"https://colab.research.google.com/assets/colab-badge.svg\" alt=\"Open In Colab\"/></a>"
      ]
    },
    {
      "cell_type": "markdown",
      "source": [
        "1. Observe o diagrama de classes abaixo, e implemente o que se pede.\n",
        "• O padrão Observer é utilizado para realizar as operações de divisões inteiras e resto de divisão\n",
        "• Cada vez que os valores no sujeito são atualizados, as operações devem ser realizadas e seus\n",
        "resultados atualizados apresentados\n",
        "• É necessário colocar mais uma variável para receber valores no Sujeito Concreto (valor1, valor2)\n",
        "• A assinatura do método update() deve ser desenvolvida de acordo com a necessidade da aplicação\n",
        "• Acrescente mais um observador que efetue a multiplicação dos valores"
      ],
      "metadata": {
        "id": "Cj8F609sQy13"
      }
    },
    {
      "cell_type": "code",
      "execution_count": null,
      "metadata": {
        "colab": {
          "base_uri": "https://localhost:8080/"
        },
        "id": "QD3ZVFfAQwdm",
        "outputId": "a735cb1c-5cce-429f-a48c-6a4baa59c2bd"
      },
      "outputs": [
        {
          "output_type": "stream",
          "name": "stdout",
          "text": [
            "Divisão de 20 por 5 = 4.0\n",
            "Resto da divisão 20 por 5 = 0\n",
            "\n",
            "\n",
            "Não é possível dividir por zero\n",
            "Não é possível ter o resto da divisão por zero\n"
          ]
        }
      ],
      "source": [
        "from abc import ABC, abstractmethod\n",
        "\n",
        "class Subject(ABC):\n",
        "    @abstractmethod\n",
        "    def register_observer(self, observer):\n",
        "        pass\n",
        "\n",
        "    @abstractmethod\n",
        "    def remove_observer(self, observer):\n",
        "        pass\n",
        "\n",
        "    @abstractmethod\n",
        "    def notify_observers(self):\n",
        "        pass\n",
        "\n",
        "class Observer(ABC):\n",
        "    @abstractmethod\n",
        "    def update(self, subject):\n",
        "        pass\n",
        "\n",
        "class ConcreteSubject(Subject):\n",
        "    def __init__(self, value1, value2):\n",
        "        self.__value1 = value1\n",
        "        self.__value2 = value2\n",
        "        self.observers = []\n",
        "\n",
        "    def register_observer(self, observer):\n",
        "        self.observers.append(observer)\n",
        "\n",
        "    def remove_observer(self, observer):\n",
        "        self.observers.remove(observer)\n",
        "\n",
        "    def notify_observers(self):\n",
        "        for observer in self.observers:\n",
        "            observer.update(self)\n",
        "\n",
        "    def update_values(self, value1, value2):\n",
        "        self.__value1 = value1\n",
        "        self.__value2 = value2\n",
        "        self.notify_observers()\n",
        "\n",
        "    def get_values(self):\n",
        "        return self.__value1, self.__value2\n",
        "\n",
        "    def ValorChanged(self):\n",
        "        self.notify_observers()\n",
        "\n",
        "class DivObserver(Observer):\n",
        "    def update(self, subject):\n",
        "        value1, value2 = subject.get_values()\n",
        "        if value2 != 0:\n",
        "            result = value1 / value2\n",
        "            print(f\"Divisão de {value1} por {value2} = {result}\")\n",
        "        else:\n",
        "            print(\"Não é possível dividir por zero\")\n",
        "\n",
        "class ModObserver(Observer):\n",
        "    def update(self, subject):\n",
        "        value1, value2 = subject.get_values()\n",
        "        if value2 != 0:\n",
        "          result = value1 % value2\n",
        "          print(f\"Resto da divisão {value1} por {value2} = {result}\")\n",
        "        else:\n",
        "            print(\"Não é possível ter o resto da divisão por zero\")\n",
        "\n",
        "subject = ConcreteSubject(0, 0)\n",
        "\n",
        "divObserver = DivObserver()\n",
        "modObserver = ModObserver()\n",
        "\n",
        "subject.register_observer(divObserver)\n",
        "subject.register_observer(modObserver)\n",
        "\n",
        "subject.update_values(20, 5)\n",
        "print(\"\\n\")\n",
        "subject.update_values(20, 0)"
      ]
    },
    {
      "cell_type": "markdown",
      "source": [
        "2. Suponha que temos um objeto de fonte de notícias, vamos chamá-lo de Reuters. Além disso, temos\n",
        "diferentes objetos de canal de notícias de TV que recebem notícias da Reuters e as retransmitem para\n",
        "sua audiência. Esses canais de notícias precisam saber se a Reuters tem notícias de última hora ou não.\n",
        "Se houver, eles devem obter essas notícias da Reuters e apresentá-las ao público. Uma maneira de\n",
        "fazer isso é consultar periodicamente o estado do objeto. Por exemplo, um diretor de nosso canal de\n",
        "notícias de TV pode ligar para a Reuters em um determinado período (por exemplo, a cada 10 minutos)\n",
        "e perguntar se há alguma notícia. No entanto, obviamente, esse método não pode ser um método bom\n",
        "e eficaz. Desta forma, perturbaremos constantemente a fonte, seremos informados de qualquer\n",
        "novidade (mudança de estado) não imediatamente, mas posteriormente. O Padrão de Projeto Observer\n",
        "nos fornece uma solução eficaz. Nele, objetos observadores (assinantes) (pode ser mais de um) se\n",
        "inscrevem no objeto sujeito (observável) que desejam estar cientes das atualizações em seu estado.\n",
        "Quando o objeto sujeito sofre uma atualização, ele notifica os objetos que o subscreveram. Em outras\n",
        "palavras, canais de TV (observadores) como Fox News ou CNN tornam-se assinantes da agência de\n",
        "notícias Reuters (observáveis). A Reuters informa automaticamente seus assinantes sobre todas as notícias de última hora. Desenvolva o código deste cenário baseado no diagrama de classes UML\n",
        "genérico da figura abaixo"
      ],
      "metadata": {
        "id": "jTc8N2_5UvCg"
      }
    },
    {
      "cell_type": "code",
      "source": [
        "from abc import ABC, abstractmethod\n",
        "\n",
        "class Subject(ABC):\n",
        "    @abstractmethod\n",
        "    def subscribe(self, observer):\n",
        "        pass\n",
        "\n",
        "    @abstractmethod\n",
        "    def unsubscribe(self, observer):\n",
        "        pass\n",
        "\n",
        "    @abstractmethod\n",
        "    def update(self):\n",
        "        pass\n",
        "\n",
        "class Observer(ABC):\n",
        "    @abstractmethod\n",
        "    def update(self, subject):\n",
        "        pass\n",
        "\n",
        "class Reuters(Subject):\n",
        "\n",
        "    def __init__(self):\n",
        "        self.observers = []\n",
        "        self.news = None\n",
        "\n",
        "    def subscribe(self, observer):\n",
        "        self.observers.append(observer)\n",
        "\n",
        "    def unsubscribe(self, observer):\n",
        "        self.observers.remove(observer)\n",
        "\n",
        "    def update(self):\n",
        "\n",
        "        for observer in self.observers:\n",
        "            observer.update(self.news)\n",
        "\n",
        "    def set_news(self, news):\n",
        "        self.news = news\n",
        "        self.update()\n",
        "\n",
        "class NewsChannel(Observer):\n",
        "    def __init__(self, name):\n",
        "        self.name = name\n",
        "\n",
        "    def update(self, news):\n",
        "        print(f\"{self.name} recebeu uma nova notícia: {news} \\n\")\n",
        "\n",
        "reuters = Reuters()\n",
        "foxNews = NewsChannel(\"Fox News\")\n",
        "cnn = NewsChannel(\"CNN\")\n",
        "\n",
        "reuters.subscribe(foxNews)\n",
        "reuters.subscribe(cnn)\n",
        "\n",
        "reuters.set_news(\"Aumento da energia renovável no Brasil\")"
      ],
      "metadata": {
        "colab": {
          "base_uri": "https://localhost:8080/"
        },
        "id": "94XZ9V_GU2Y0",
        "outputId": "4f7f2f4a-492c-4a77-880c-3fe46b58a050"
      },
      "execution_count": null,
      "outputs": [
        {
          "output_type": "stream",
          "name": "stdout",
          "text": [
            "Fox News recebeu uma nova notícia: Aumento da energia renovável no Brasil \n",
            "\n",
            "CNN recebeu uma nova notícia: Aumento da energia renovável no Brasil \n",
            "\n"
          ]
        }
      ]
    }
  ]
}