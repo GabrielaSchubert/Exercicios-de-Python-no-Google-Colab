{
  "nbformat": 4,
  "nbformat_minor": 0,
  "metadata": {
    "colab": {
      "provenance": [],
      "authorship_tag": "ABX9TyMACXfHZtqnv3ElvyjzO3YB",
      "include_colab_link": true
    },
    "kernelspec": {
      "name": "python3",
      "display_name": "Python 3"
    },
    "language_info": {
      "name": "python"
    }
  },
  "cells": [
    {
      "cell_type": "markdown",
      "metadata": {
        "id": "view-in-github",
        "colab_type": "text"
      },
      "source": [
        "<a href=\"https://colab.research.google.com/github/GabrielaSchubert/Python_no_Google_Colaboratory/blob/main/Atividade_Pr%C3%A1tica_04_Design_Patterns_(Padr%C3%B5es_de_Projeto)_%E2%80%93_Factory_Method.ipynb\" target=\"_parent\"><img src=\"https://colab.research.google.com/assets/colab-badge.svg\" alt=\"Open In Colab\"/></a>"
      ]
    },
    {
      "cell_type": "markdown",
      "source": [
        "1. Desenvolva o código para o diagrama de classes na figura abaixo, usando o padrão de design “Factory\n",
        "Method”."
      ],
      "metadata": {
        "id": "iCTYhmFP8XFM"
      }
    },
    {
      "cell_type": "code",
      "execution_count": null,
      "metadata": {
        "colab": {
          "base_uri": "https://localhost:8080/"
        },
        "id": "-Skn3r-28Srq",
        "outputId": "0b83b804-75dc-4489-dca9-e98842def1e3"
      },
      "outputs": [
        {
          "output_type": "stream",
          "name": "stdout",
          "text": [
            "Ligando a moto\n",
            "Desligando a moto\n",
            "Ligando o carro\n",
            "Desligando o carro\n"
          ]
        }
      ],
      "source": [
        "from abc import ABC, abstractmethod\n",
        "\n",
        "class MotorVehicle(ABC):\n",
        "    @abstractmethod\n",
        "    def ligar(self):\n",
        "        pass\n",
        "\n",
        "    @abstractmethod\n",
        "    def desligar(self):\n",
        "        pass\n",
        "\n",
        "class Motorcycle(MotorVehicle):\n",
        "    def ligar(self):\n",
        "        print(\"Ligando a moto\")\n",
        "\n",
        "    def desligar(self):\n",
        "        print(\"Desligando a moto\")\n",
        "\n",
        "class Car(MotorVehicle):\n",
        "    def ligar(self):\n",
        "        print(\"Ligando o carro\")\n",
        "\n",
        "    def desligar(self):\n",
        "        print(\"Desligando o carro\")\n",
        "\n",
        "class MotorVehicleFactory(ABC):\n",
        "    @abstractmethod\n",
        "    def criar_motor(self) -> MotorVehicle:\n",
        "        pass\n",
        "\n",
        "class MotorcycleFactory(MotorVehicleFactory):\n",
        "    def criar_motor(self) -> MotorVehicle:\n",
        "        return Motorcycle()\n",
        "\n",
        "class CarFactory(MotorVehicleFactory):\n",
        "    def criar_motor(self) -> MotorVehicle:\n",
        "        return Car()\n",
        "\n",
        "def client_code(factory: MotorVehicleFactory) -> None:\n",
        "    motor = factory.criar_motor()\n",
        "    motor.ligar()\n",
        "    motor.desligar()\n",
        "    return motor\n",
        "\n",
        "if __name__ == \"__main__\":\n",
        "\n",
        "    client_code(MotorcycleFactory())\n",
        "    client_code(CarFactory())"
      ]
    },
    {
      "cell_type": "markdown",
      "source": [
        "2. Desenvolva o código para o diagrama de classes na figura abaixo, usando o padrão de design “Factory\n",
        "Method”."
      ],
      "metadata": {
        "id": "ZobwDsNk_I8a"
      }
    },
    {
      "cell_type": "code",
      "source": [
        "from abc import ABC, abstractmethod\n",
        "\n",
        "class FurnitureProduct(ABC):\n",
        "    @abstractmethod\n",
        "    def color(self, color: str):\n",
        "        pass\n",
        "\n",
        "    @abstractmethod\n",
        "    def get_color(self) -> str:\n",
        "        pass\n",
        "\n",
        "    @abstractmethod\n",
        "    def width(self, width: float):\n",
        "        pass\n",
        "\n",
        "    @abstractmethod\n",
        "    def height(self, height: float):\n",
        "        pass\n",
        "\n",
        "    @abstractmethod\n",
        "    def depth(self, depth: float):\n",
        "        pass\n",
        "\n",
        "class ModernSofa(FurnitureProduct):\n",
        "    def __init__(self):\n",
        "        self._color = \"\"\n",
        "        self._width = 0.0\n",
        "        self._height = 0.0\n",
        "        self._depth = 0.0\n",
        "\n",
        "    def color(self, color: str):\n",
        "        self._color = color\n",
        "\n",
        "    def get_color(self) -> str:\n",
        "        return f\"A cor do sofá moderno é {self._color}\"\n",
        "\n",
        "    def width(self, width: float):\n",
        "        self._width = width\n",
        "\n",
        "    def height(self, height: float):\n",
        "        self._height = height\n",
        "\n",
        "    def depth(self, depth: float):\n",
        "        self._depth = depth\n",
        "\n",
        "    def get_dimensions(self) -> str:\n",
        "        return f\"Dimensões do sofá moderno: {self._width} x {self._height} x {self._depth}\"\n",
        "\n",
        "class ModernArmchair(FurnitureProduct):\n",
        "    def __init__(self):\n",
        "        self._color = \"\"\n",
        "        self._width = 0.0\n",
        "        self._height = 0.0\n",
        "        self._depth = 0.0\n",
        "\n",
        "    def color(self, color: str):\n",
        "        self._color = color\n",
        "\n",
        "    def get_color(self) -> str:\n",
        "        return f\"A cor da cadeira moderna é {self._color}\"\n",
        "\n",
        "    def width(self, width: float):\n",
        "        self._width = width\n",
        "\n",
        "    def height(self, height: float):\n",
        "        self._height = height\n",
        "\n",
        "    def depth(self, depth: float):\n",
        "        self._depth = depth\n",
        "\n",
        "    def get_dimensions(self) -> str:\n",
        "        return f\"Dimensões da cadeira moderna: {self._width} x {self._height} x {self._depth}\"\n",
        "\n",
        "class ModernCoffeeTable(FurnitureProduct):\n",
        "    def __init__(self):\n",
        "        self._color = \"\"\n",
        "        self._width = 0.0\n",
        "        self._height = 0.0\n",
        "        self._depth = 0.0\n",
        "\n",
        "    def color(self, color: str):\n",
        "        self._color = color\n",
        "\n",
        "    def get_color(self) -> str:\n",
        "        return f\"A cor da mesa de café moderna é {self._color}\"\n",
        "\n",
        "    def width(self, width: float):\n",
        "        self._width = width\n",
        "\n",
        "    def height(self, height: float):\n",
        "        self._height = height\n",
        "\n",
        "    def depth(self, depth: float):\n",
        "        self._depth = depth\n",
        "\n",
        "    def get_dimensions(self) -> str:\n",
        "        return f\"Dimensões da mesa de café moderna: {self._width} x {self._height} x {self._depth}\"\n",
        "\n",
        "class FurnitureFactory(ABC):\n",
        "    @abstractmethod\n",
        "    def create_sofa(self) -> FurnitureProduct:\n",
        "        pass\n",
        "\n",
        "    @abstractmethod\n",
        "    def create_armchair(self) -> FurnitureProduct:\n",
        "        pass\n",
        "\n",
        "    @abstractmethod\n",
        "    def create_coffee_table(self) -> FurnitureProduct:\n",
        "        pass\n",
        "\n",
        "class ModernFurnitureFactory(FurnitureFactory):\n",
        "    def create_sofa(self) -> FurnitureProduct:\n",
        "        return ModernSofa()\n",
        "\n",
        "    def create_armchair(self) -> FurnitureProduct:\n",
        "        return ModernArmchair()\n",
        "\n",
        "    def create_coffee_table(self) -> FurnitureProduct:\n",
        "        return ModernCoffeeTable()\n",
        "\n",
        "def client_code(factory: FurnitureFactory) -> None:\n",
        "\n",
        "    sofa = factory.create_sofa()\n",
        "    sofa.color(\"bege\")\n",
        "    sofa.width(300.0)\n",
        "    sofa.height(90.0)\n",
        "    sofa.depth(70.0)\n",
        "    print(sofa.get_color())\n",
        "    print(sofa.get_dimensions())\n",
        "\n",
        "if __name__ == \"__main__\":\n",
        "\n",
        "    factory = ModernFurnitureFactory()\n",
        "    client_code(factory)"
      ],
      "metadata": {
        "colab": {
          "base_uri": "https://localhost:8080/"
        },
        "id": "ZTOlY_aPvwnv",
        "outputId": "33dcf041-445b-4591-d960-4afccb049d6b"
      },
      "execution_count": null,
      "outputs": [
        {
          "output_type": "stream",
          "name": "stdout",
          "text": [
            "A cor do sofá moderno é bege\n",
            "Dimensões do sofá moderno: 300.0 x 90.0 x 70.0\n"
          ]
        }
      ]
    }
  ]
}