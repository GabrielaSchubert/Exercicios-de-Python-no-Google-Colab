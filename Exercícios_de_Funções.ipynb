{
  "nbformat": 4,
  "nbformat_minor": 0,
  "metadata": {
    "colab": {
      "provenance": [],
      "authorship_tag": "ABX9TyMssGhg7dRHSsa4f2pAY+by",
      "include_colab_link": true
    },
    "kernelspec": {
      "name": "python3",
      "display_name": "Python 3"
    },
    "language_info": {
      "name": "python"
    }
  },
  "cells": [
    {
      "cell_type": "markdown",
      "metadata": {
        "id": "view-in-github",
        "colab_type": "text"
      },
      "source": [
        "<a href=\"https://colab.research.google.com/github/GabrielaSchubert/Python_no_Google_Colaboratory/blob/main/Exerc%C3%ADcios_de_Fun%C3%A7%C3%B5es.ipynb\" target=\"_parent\"><img src=\"https://colab.research.google.com/assets/colab-badge.svg\" alt=\"Open In Colab\"/></a>"
      ]
    },
    {
      "cell_type": "markdown",
      "source": [
        "1) Faça uma função para converter uma temperatura em graus Fahrenheit para\n",
        "Celsius. A temperatura em Fahrenheit é o dado de entrada e a temperatura em\n",
        "Celsius é o dado de saída. Utilize a fórmula C = (F - 32) * 5/9, onde F é a\n",
        "temperatura em Fahrenheit e C é a temperatura em Celsius."
      ],
      "metadata": {
        "id": "35QckYPWL1Zu"
      }
    },
    {
      "cell_type": "code",
      "execution_count": null,
      "metadata": {
        "id": "DzADOkFQLwft",
        "colab": {
          "base_uri": "https://localhost:8080/"
        },
        "outputId": "6ded33b0-c359-44ba-c229-1672c7ab4bfc"
      },
      "outputs": [
        {
          "output_type": "stream",
          "name": "stdout",
          "text": [
            "digite o graus em fahrenheit: 40\n",
            "a temperatura convertida em celsius é:  4.444444444444445\n"
          ]
        }
      ],
      "source": [
        "def fahrenheit_para_celsius(temperatura_fahrenheit):\n",
        "  temperatura_celsius = (temperatura_fahrenheit - 32) * 5/9\n",
        "  return temperatura_celsius\n",
        "\n",
        "temperatura_fahrenheit = int(input(\"digite o graus em fahrenheit: \"))\n",
        "temperatura_celsius = fahrenheit_para_celsius(temperatura_fahrenheit)\n",
        "print(\"a temperatura convertida em celsius é: \", temperatura_celsius)"
      ]
    },
    {
      "cell_type": "markdown",
      "source": [
        "2) Faça uma função que calcule a hipotenusa. Os catetos são os dados de entrada e a hipotenusa é o dado de saída."
      ],
      "metadata": {
        "id": "39curhgL4VlG"
      }
    },
    {
      "cell_type": "code",
      "source": [
        "import math\n",
        "def calcular_hipotenusa(cateto_a, cateto_b):\n",
        "    soma = cateto_a**2 + cateto_b**2\n",
        "    hipotenusa = math.sqrt(soma)\n",
        "    return hipotenusa\n",
        "\n",
        "cateto_a = 5\n",
        "cateto_b = 5\n",
        "hipotenusa = calcular_hipotenusa(cateto_a, cateto_b)\n",
        "print(\"Hipotenusa:\", hipotenusa)"
      ],
      "metadata": {
        "colab": {
          "base_uri": "https://localhost:8080/"
        },
        "id": "0tXFPWTH4diO",
        "outputId": "f03bb013-e293-4c42-b79a-442418c61217"
      },
      "execution_count": null,
      "outputs": [
        {
          "output_type": "stream",
          "name": "stdout",
          "text": [
            "Hipotenusa: 7.0710678118654755\n"
          ]
        }
      ]
    },
    {
      "cell_type": "markdown",
      "source": [
        "3) Escreva um programa para ler as notas das duas avaliações de um aluno no\n",
        "semestre. Faça uma função que receba as duas notas por parâmetro e calcule e\n",
        "escreva a média semestral e a mensagem “PARABÉNS! Você foi aprovado!”\n",
        "somente se o aluno foi aprovado (considere 6.0 a média mínima para aprovação)."
      ],
      "metadata": {
        "id": "zQi8Eun96Ph-"
      }
    },
    {
      "cell_type": "code",
      "source": [
        "def calcular_media(nota_1, nota_2):\n",
        "  soma_media = (nota_1 + nota_2) / 2\n",
        "  return soma_media\n",
        "\n",
        "def aprovacao(soma_media):\n",
        "  if soma_media >= 6:\n",
        "    print(\"PARABÉNS!Você foi aprovado\")\n",
        "  else:\n",
        "    print(\"Você foi reprovado\")\n",
        "\n",
        "nota_1 = float(input(\"digite a primeira nota da avaliação: \"))\n",
        "nota_2 = float(input(\"digite a segunda nota da avaliação: \"))\n",
        "media_semestral = calcular_media(nota_1, nota_2)\n",
        "aprovacao(media_semestral)\n",
        "print(\"média semestral\", media_semestral)"
      ],
      "metadata": {
        "colab": {
          "base_uri": "https://localhost:8080/"
        },
        "id": "tw3maT0A6X1u",
        "outputId": "327a6945-15b9-4cae-f476-d4349dc13b01"
      },
      "execution_count": null,
      "outputs": [
        {
          "output_type": "stream",
          "name": "stdout",
          "text": [
            "digite a primeira nota da avaliação: 8.5\n",
            "digite a segunda nota da avaliação: 9.5\n",
            "PARABÉNS!Você foi aprovado\n",
            "média semestral 9.0\n"
          ]
        }
      ]
    },
    {
      "cell_type": "markdown",
      "source": [
        "4) Faça um programa que leia a altura e o sexo (codificado da seguinte forma:\n",
        "1-feminino 2-masculino) de uma pessoa. Depois faça uma função chamada\n",
        "pesoideal que receba a altura e o sexo via parâmetro e que calcule e retorne seu peso ideal, utilizando as seguintes fórmulas."
      ],
      "metadata": {
        "id": "5X4BV22M9MkH"
      }
    },
    {
      "cell_type": "code",
      "source": [
        "def peso_ideal(altura, sexo):\n",
        "  if sexo == 1:\n",
        "     peso_ideal = (62.1 * altura) - 44.7\n",
        "  elif sexo == 2:\n",
        "    peso_ideal = (72.7 * altura) - 58\n",
        "  return peso_ideal\n",
        "\n",
        "altura = float(input(\"digite a altura: \"))\n",
        "sexo = int(input(\"digite o sexo (1 = feminino, 2 = masculino): \"))\n",
        "peso = peso_ideal(altura,sexo)\n",
        "print(\"o peso ideal é\", peso)"
      ],
      "metadata": {
        "colab": {
          "base_uri": "https://localhost:8080/"
        },
        "id": "rbgz2Ksn9S1L",
        "outputId": "afbb23a3-3d60-4a65-c4d5-65e78fc783fa"
      },
      "execution_count": null,
      "outputs": [
        {
          "output_type": "stream",
          "name": "stdout",
          "text": [
            "digite a altura: 1.70\n",
            "digite o sexo (1 = feminino, 2 = masculino): 1\n",
            "o peso ideal é 60.86999999999999\n"
          ]
        }
      ]
    },
    {
      "cell_type": "markdown",
      "source": [
        "5) Escreva um programa para ler o número de lados de um polígono regular e a\n",
        "medida do lado (em cm). Faça uma função que receba como parâmetro o número\n",
        "de lados e a medida do lado deste polígono e calcule e imprima o seguinte."
      ],
      "metadata": {
        "id": "suX1tBAhIpLf"
      }
    },
    {
      "cell_type": "code",
      "source": [
        "def calcular_poligono(n_lados, med_lado_cm):\n",
        "  if n_lados == 3:\n",
        "    perimetro = n_lados * med_lado_cm\n",
        "    print(\"TRIANGULO\")\n",
        "    print(\"Perímetro:\", perimetro)\n",
        "  elif n_lados == 4:\n",
        "    area = med_lado_cm ** 2\n",
        "    print(\"QUADRADO\")\n",
        "    print(\"Área:\", area)\n",
        "  elif n_lados == 5:\n",
        "    print(\"PENTÁGONO\")\n",
        "\n",
        "n_lados = int(input(\"digite o número de lados: \"))\n",
        "med_lado_cm = float(input(\"digite a medida do lado: \"))\n",
        "calcular_poligono(n_lados, med_lado_cm)"
      ],
      "metadata": {
        "id": "vZTp-dNnJF1-",
        "colab": {
          "base_uri": "https://localhost:8080/"
        },
        "outputId": "a7a73582-5c95-4f50-9fb6-c8ea0590319f"
      },
      "execution_count": null,
      "outputs": [
        {
          "output_type": "stream",
          "name": "stdout",
          "text": [
            "digite o número de lados: 3\n",
            "digite a medida do lado: 5.5\n",
            "TRIANGULO\n",
            "Perímetro: 16.5\n"
          ]
        }
      ]
    },
    {
      "cell_type": "markdown",
      "source": [
        "6) Escreva uma função que recebe 2 números inteiros n1 e n2 como entrada e\n",
        "retorna a soma de todos os números inteiros contidos no intervalo [n1,n2]. Use esta função em um programa que lê n1 e n2 do usuário e imprime a soma."
      ],
      "metadata": {
        "id": "6iopnIGVRCO4"
      }
    },
    {
      "cell_type": "code",
      "source": [
        "def soma_intervalo(n1, n2):\n",
        "  soma = 0\n",
        "  for i in range(n1, n2+1):\n",
        "    soma += i\n",
        "  return soma\n",
        "\n",
        "n1 = int(input(\"digite o numero: \"))\n",
        "n2 = int(input(\"digite outro numero: \"))\n",
        "resultado = soma_intervalo(n1, n2)\n",
        "print(\"A soma de todos os números inteiros no intervalo [\", n1, \",\", n2, \"] é:\", resultado)"
      ],
      "metadata": {
        "colab": {
          "base_uri": "https://localhost:8080/"
        },
        "id": "Uj3LortoRIIv",
        "outputId": "327b1156-bc06-456e-ce5c-eb603b57eb80"
      },
      "execution_count": null,
      "outputs": [
        {
          "output_type": "stream",
          "name": "stdout",
          "text": [
            "digite o numero: 5\n",
            "digite outro numero: 5\n",
            "A soma de todos os números inteiros no intervalo [ 5 , 5 ] é: 5\n"
          ]
        }
      ]
    },
    {
      "cell_type": "markdown",
      "source": [
        "7) Escreva uma função que receba um número inteiro e imprima o mês\n",
        "correspondente ao número. Por exemplo, 2 corresponde a “fevereiro”. O\n",
        "procedimento deve mostrar uma mensagem de erro caso o número recebido não\n",
        "faça sentido. Gere também um programa que leia um valor e chame a função\n",
        "criada."
      ],
      "metadata": {
        "id": "-P7WYhZVTRq6"
      }
    },
    {
      "cell_type": "code",
      "source": [
        "def print_mes(numero):\n",
        "  meses = {\n",
        "      1: \"Janeiro\",\n",
        "      2: \"Fevereiro\",\n",
        "      3: \"Março\",\n",
        "      4: \"Abril\",\n",
        "      5: \"Maio\",\n",
        "      6: \"Junho\",\n",
        "      7: \"Julho\",\n",
        "      8: \"Agosto\",\n",
        "      9: \"Setembro\",\n",
        "     10: \"Outubro\",\n",
        "     11: \"Novembro\",\n",
        "     12: \"Dezembro\",\n",
        "   }\n",
        "  if numero in meses:\n",
        "        mes = meses[numero]\n",
        "        print(mes)\n",
        "  else:\n",
        "        print(\"Número inválido. Não corresponde a um mês.\")\n",
        "numero = int(input(\"digite o numero correspondente ao mês: \"))\n",
        "print_mes(numero)"
      ],
      "metadata": {
        "colab": {
          "base_uri": "https://localhost:8080/"
        },
        "id": "OJyf5lRRTW7H",
        "outputId": "19a1dd7e-c947-4e67-e00d-80518f9a4333"
      },
      "execution_count": null,
      "outputs": [
        {
          "output_type": "stream",
          "name": "stdout",
          "text": [
            "digite o numero correspondente ao mês: 2\n",
            "Fevereiro\n"
          ]
        }
      ]
    },
    {
      "cell_type": "markdown",
      "source": [
        "8) Escreva uma função que receba um número natural e imprima os três primeiros caracteres do dia da semana correspondente ao número. Por exemplo, 7 corresponde a “SAB”. O procedimento deve mostrar uma mensagem de erro caso\n",
        "o número recebido não corresponda a um dia da semana. Gere também um\n",
        "programa que utilize essa função, chamando-a, mas antes lendo um valor para\n",
        "passagem de parâmetro."
      ],
      "metadata": {
        "id": "se6tUoaHvyLx"
      }
    },
    {
      "cell_type": "code",
      "source": [
        "def dias_semana(numero):\n",
        "    dia = {\n",
        "      1: \"DOM\",\n",
        "      2: \"SEG\",\n",
        "      3: \"TER\",\n",
        "      4: \"QUA\",\n",
        "      5: \"QUI\",\n",
        "      6: \"SEX\",\n",
        "      7: \"SAB\",\n",
        "    }\n",
        "    if numero in dia:\n",
        "        dia_semana = dia[numero]\n",
        "        tres_primeiros_caracteres = dia_semana[:3]\n",
        "        print(tres_primeiros_caracteres)\n",
        "    else:\n",
        "       print(\"número inválido\")\n",
        "\n",
        "numero = int(input(\"digite o número correspondente ao dia da semana: \"))\n",
        "dias_semana(numero)"
      ],
      "metadata": {
        "colab": {
          "base_uri": "https://localhost:8080/"
        },
        "id": "xbbMLUUHv7Rj",
        "outputId": "af72524d-dfe4-4a55-a898-6aaae78a1870"
      },
      "execution_count": null,
      "outputs": [
        {
          "output_type": "stream",
          "name": "stdout",
          "text": [
            "digite o número correspondente ao dia da semana: 3\n",
            "TER\n"
          ]
        }
      ]
    },
    {
      "cell_type": "markdown",
      "source": [
        "9) Escreva uma função que receba dois números inteiros x e y. Essa função deve\n",
        "verificar se x é divisível por y. No caso positivo, a função deve retornar 1, caso contrário zero. Escreva também um programa para testar tal função."
      ],
      "metadata": {
        "id": "RpPEsnFJrlM1"
      }
    },
    {
      "cell_type": "code",
      "source": [
        "def divisiveis(x, y):\n",
        "  if x % y == 0:\n",
        "    return 1\n",
        "  else:\n",
        "     return 0\n",
        "\n",
        "x = int(input(\"digite o valor de x: \"))\n",
        "y = int(input(\"digite o valor de y: \"))\n",
        "resultado = divisiveis(x, y)\n",
        "if resultado == 1:\n",
        "  print(x, \"é divisível por\", y)\n",
        "else:\n",
        "  print(x, \"não é divisível por\", y)"
      ],
      "metadata": {
        "colab": {
          "base_uri": "https://localhost:8080/"
        },
        "id": "AMPfaVB8rwlb",
        "outputId": "8a95162d-c79d-4a64-85e4-cbfc662e0c7c"
      },
      "execution_count": null,
      "outputs": [
        {
          "output_type": "stream",
          "name": "stdout",
          "text": [
            "digite o valor de x: 5\n",
            "digite o valor de y: 5\n",
            "5 é divisível por 5\n"
          ]
        }
      ]
    },
    {
      "cell_type": "markdown",
      "source": [
        "10) Criar uma função que calcule e retorne o MAIOR entre dois valores recebidos como parâmetros. Um programa para testar tal função deve ser criado."
      ],
      "metadata": {
        "id": "DPO5hwGaxelr"
      }
    },
    {
      "cell_type": "code",
      "source": [
        "def maior_valor(num_1, num_2):\n",
        "  if num_1 > num_2:\n",
        "    return num_1\n",
        "  else:\n",
        "    return num_2\n",
        "\n",
        "num_1 = float(input(\"digite o valor de num_1: \"))\n",
        "num_2 = float(input(\"digite o valor de num_2: \"))\n",
        "maior = maior_valor(num_1, num_2)\n",
        "print(\"o maior valor entre\", num_1, \"e\", num_2, \"é\", maior)"
      ],
      "metadata": {
        "colab": {
          "base_uri": "https://localhost:8080/"
        },
        "id": "4hv_EWyxxnAg",
        "outputId": "28fd456c-ce9e-414b-fa6b-ae7915c2d57d"
      },
      "execution_count": null,
      "outputs": [
        {
          "output_type": "stream",
          "name": "stdout",
          "text": [
            "digite o valor de num_1: 10\n",
            "digite o valor de num_2: 5\n",
            "o maior valor entre 10.0 e 5.0 é 10.0\n"
          ]
        }
      ]
    },
    {
      "cell_type": "markdown",
      "source": [
        "11) Crie uma função que realize a conversão de Polegadas (pol) para Centímetros (cm), onde pol é passado como parâmetro e cm é retornado. Sabe-se que 1\n",
        "polegada tem 2.54 centímetros. Crie também um programa para testar tal função."
      ],
      "metadata": {
        "id": "Z2l5n5Br2Qq0"
      }
    },
    {
      "cell_type": "code",
      "source": [
        "def pol_para_cm(polegadas):\n",
        "  cm = polegadas * 2.54\n",
        "  return cm\n",
        "\n",
        "polegadas = float(input(\"digite o valor em polegadas: \"))\n",
        "cm = pol_para_cm(polegadas)\n",
        "print(polegadas, \"polegadas equivalem a \", cm, \"centímetros\")"
      ],
      "metadata": {
        "colab": {
          "base_uri": "https://localhost:8080/"
        },
        "id": "hwwtdMlD2VR4",
        "outputId": "22d77994-d49b-44fc-ec59-d2294b43256b"
      },
      "execution_count": null,
      "outputs": [
        {
          "output_type": "stream",
          "name": "stdout",
          "text": [
            "digite o valor em polegadas: 4.5\n",
            "4.5 polegadas equivalem a  11.43 centímetros\n"
          ]
        }
      ]
    }
  ]
}