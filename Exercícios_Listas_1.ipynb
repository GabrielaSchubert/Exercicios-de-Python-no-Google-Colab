{
  "nbformat": 4,
  "nbformat_minor": 0,
  "metadata": {
    "colab": {
      "provenance": [],
      "authorship_tag": "ABX9TyO2Q5U49GpWyx/oc1fPLFF8",
      "include_colab_link": true
    },
    "kernelspec": {
      "name": "python3",
      "display_name": "Python 3"
    },
    "language_info": {
      "name": "python"
    }
  },
  "cells": [
    {
      "cell_type": "markdown",
      "metadata": {
        "id": "view-in-github",
        "colab_type": "text"
      },
      "source": [
        "<a href=\"https://colab.research.google.com/github/GabrielaSchubert/Python-no-Google-Colaboratory/blob/main/Exerc%C3%ADcios_Listas_1.ipynb\" target=\"_parent\"><img src=\"https://colab.research.google.com/assets/colab-badge.svg\" alt=\"Open In Colab\"/></a>"
      ]
    },
    {
      "cell_type": "markdown",
      "source": [
        "Exercício 1"
      ],
      "metadata": {
        "id": "bJEWU5VHoE7x"
      }
    },
    {
      "cell_type": "code",
      "execution_count": null,
      "metadata": {
        "colab": {
          "base_uri": "https://localhost:8080/"
        },
        "id": "rXwN_hycXfhf",
        "outputId": "b734b162-53e0-4a12-f883-8a20cb3c1faf"
      },
      "outputs": [
        {
          "output_type": "stream",
          "name": "stdout",
          "text": [
            "[0, 1, 2, 3, 4, 5, 6, 7, 8, 9, 10, 11, 12, 13, 14, 15, 16, 17, 18, 19, 20, 21, 22, 23, 24, 25, 26, 27, 28, 29, 30, 31, 32, 33, 34, 35, 36, 37, 38, 39, 40, 41, 42, 43, 44, 45, 46, 47, 48, 49, 50, 51, 52, 53, 54, 55, 56, 57, 58, 59, 60, 61, 62, 63, 64, 65, 66, 67, 68, 69, 70, 71, 72, 73, 74, 75, 76, 77, 78, 79, 80, 81, 82, 83, 84, 85, 86, 87, 88, 89, 90, 91, 92, 93, 94, 95, 96, 97, 98, 99]\n"
          ]
        }
      ],
      "source": [
        "lista = [numeros for numeros in range(100)]\n",
        "print(lista)"
      ]
    },
    {
      "cell_type": "markdown",
      "source": [
        "Exercício 2"
      ],
      "metadata": {
        "id": "brfWznRSpM_k"
      }
    },
    {
      "cell_type": "code",
      "source": [
        "notas = []\n",
        "soma = 0.0\n",
        "for i in range(11):\n",
        "  notas.append(float(input(f\"digite a nota [{i}]: \")))\n",
        "  soma = soma + notas [i]\n",
        "media = soma / 10.0\n",
        "for i in range(len(notas)):\n",
        "  print(f\"nota[{i}] = {notas[i]:.2f} - media = {media:.2f}\")"
      ],
      "metadata": {
        "id": "G8kuV1T8p8G1",
        "colab": {
          "base_uri": "https://localhost:8080/"
        },
        "outputId": "bf7d7dc4-ae48-4bed-c9fa-225dd661806b"
      },
      "execution_count": null,
      "outputs": [
        {
          "output_type": "stream",
          "name": "stdout",
          "text": [
            "digite a nota [0]: 5.6\n",
            "digite a nota [1]: 6.9\n",
            "digite a nota [2]: 7.2\n",
            "digite a nota [3]: 7.5\n",
            "digite a nota [4]: 8.3\n",
            "digite a nota [5]: 8.5\n",
            "digite a nota [6]: 8.8\n",
            "digite a nota [7]: 9.0\n",
            "digite a nota [8]: 9.5\n",
            "digite a nota [9]: 9.8\n",
            "digite a nota [10]: 10\n",
            "nota[0] = 5.60 - media = 9.11\n",
            "nota[1] = 6.90 - media = 9.11\n",
            "nota[2] = 7.20 - media = 9.11\n",
            "nota[3] = 7.50 - media = 9.11\n",
            "nota[4] = 8.30 - media = 9.11\n",
            "nota[5] = 8.50 - media = 9.11\n",
            "nota[6] = 8.80 - media = 9.11\n",
            "nota[7] = 9.00 - media = 9.11\n",
            "nota[8] = 9.50 - media = 9.11\n",
            "nota[9] = 9.80 - media = 9.11\n",
            "nota[10] = 10.00 - media = 9.11\n"
          ]
        }
      ]
    },
    {
      "cell_type": "markdown",
      "source": [
        "Exercício 3"
      ],
      "metadata": {
        "id": "ShSz6meb2ZVB"
      }
    },
    {
      "cell_type": "code",
      "source": [
        "notas = []\n",
        "soma = 0.0\n",
        "for i in range(11):\n",
        "  notas.append(float(input(f\"digite a nota [{i}]: \")))\n",
        "  soma = soma + notas [i]\n",
        "media = soma / 10.0\n",
        "for i in range(len(notas)):\n",
        " soma = sum(notas)\n",
        "media = soma / len(notas)\n",
        "contador = 0\n",
        "for numero in notas:\n",
        "    if numero > media:\n",
        "        contador += 1\n",
        "        print(numero)\n",
        "print(\"Quantidade de valores acima da média:\", contador)\n",
        "print(f\"media = {media:.2f}\")"
      ],
      "metadata": {
        "colab": {
          "base_uri": "https://localhost:8080/"
        },
        "id": "FebUO_vl2bZC",
        "outputId": "b93c47af-1b9c-448e-e096-3baf9283edd3"
      },
      "execution_count": null,
      "outputs": [
        {
          "output_type": "stream",
          "name": "stdout",
          "text": [
            "digite a nota [0]: 5.6\n",
            "digite a nota [1]: 6.9\n",
            "digite a nota [2]: 7.2\n",
            "digite a nota [3]: 7.5\n",
            "digite a nota [4]: 8.3\n",
            "digite a nota [5]: 8.5\n",
            "digite a nota [6]: 8.8\n",
            "digite a nota [7]: 9\n",
            "digite a nota [8]: 9.5\n",
            "digite a nota [9]: 9.8\n",
            "digite a nota [10]: 10\n",
            "8.3\n",
            "8.5\n",
            "8.8\n",
            "9.0\n",
            "9.5\n",
            "9.8\n",
            "10.0\n",
            "Quantidade de valores acima da média: 7\n",
            "media = 8.28\n"
          ]
        }
      ]
    },
    {
      "cell_type": "markdown",
      "source": [
        "Exercício 4"
      ],
      "metadata": {
        "id": "KboPl35C451d"
      }
    },
    {
      "cell_type": "code",
      "source": [
        "notas = []\n",
        "soma = 0\n",
        "for i in range(5):\n",
        "  notas.append(float(input(f\"digite a nota [{i}]: \")))\n",
        "maior_nota = notas [0]\n",
        "menor_nota = notas [0]\n",
        "for nota in notas:\n",
        "    if nota > maior_nota:\n",
        "        maior = nota\n",
        "    if nota < menor_nota:\n",
        "        menor = nota\n",
        "media = sum(notas) / len(notas)\n",
        "notas_abaixo_media = 0\n",
        "for nota in notas:\n",
        "  if nota < media:\n",
        "    notas_abaixo_media += 1\n",
        "print(\"Maior valor:\", maior)\n",
        "print(\"Menor valor:\", menor)\n",
        "print(\"Média da turma:\", media)\n",
        "print(\"Quantidade de notas abaixo da média:\", notas_abaixo_media)"
      ],
      "metadata": {
        "id": "F0KkD7534784",
        "colab": {
          "base_uri": "https://localhost:8080/"
        },
        "outputId": "7dd890b6-9894-48b9-a948-ca1ed2efb54e"
      },
      "execution_count": null,
      "outputs": [
        {
          "output_type": "stream",
          "name": "stdout",
          "text": [
            "digite a nota [0]: 6.5\n",
            "digite a nota [1]: 8.5\n",
            "digite a nota [2]: 7.5\n",
            "digite a nota [3]: 5.5\n",
            "digite a nota [4]: 9.5\n",
            "Maior valor: 9.5\n",
            "Menor valor: 5.5\n",
            "Média da turma: 7.5\n",
            "Quantidade de notas abaixo da média: 2\n"
          ]
        }
      ]
    },
    {
      "cell_type": "markdown",
      "source": [
        "Exercício 5"
      ],
      "metadata": {
        "id": "pCkpvyTUv18k"
      }
    },
    {
      "cell_type": "code",
      "source": [
        "vetor = []\n",
        "for i in range(10):\n",
        "  numero = int(input(f\"digite o numero [{i}]: \"))\n",
        "  vetor.append(numero)\n",
        "posicoes = []\n",
        "for i in range(len(vetor)):\n",
        "    if vetor[i] == 30:\n",
        "        posicoes.append(i)\n",
        "if posicoes:\n",
        "    print(\"Elemento 30 encontrado nas posições:\", posicoes)\n",
        "else:\n",
        "    print(\"Nenhum elemento 30 encontrado no vetor.\")"
      ],
      "metadata": {
        "colab": {
          "base_uri": "https://localhost:8080/"
        },
        "id": "y73R8WIlv4CI",
        "outputId": "2c47a10f-a3f4-4377-b375-3460ab42a1f8"
      },
      "execution_count": null,
      "outputs": [
        {
          "output_type": "stream",
          "name": "stdout",
          "text": [
            "digite o numero [0]: 5\n",
            "digite o numero [1]: 20\n",
            "digite o numero [2]: 8\n",
            "digite o numero [3]: 30\n",
            "digite o numero [4]: 10\n",
            "digite o numero [5]: 4\n",
            "digite o numero [6]: 50\n",
            "digite o numero [7]: 18\n",
            "digite o numero [8]: 3\n",
            "digite o numero [9]: 2\n",
            "Elemento 30 encontrado nas posições: [3]\n"
          ]
        }
      ]
    },
    {
      "cell_type": "markdown",
      "source": [
        "Exercício 6"
      ],
      "metadata": {
        "id": "LbKRtiv34CKD"
      }
    },
    {
      "cell_type": "code",
      "source": [
        "a = []\n",
        "for i in range(11):\n",
        "  numero = int(input(f\"digite o numero [{i}]: \"))\n",
        "  a.append(numero)\n",
        "total = sum(a)\n",
        "print(total)"
      ],
      "metadata": {
        "colab": {
          "base_uri": "https://localhost:8080/"
        },
        "id": "kOAp_aoB4EH5",
        "outputId": "e7a99c09-45fe-470d-bc20-4e8cbcc7f05f"
      },
      "execution_count": null,
      "outputs": [
        {
          "output_type": "stream",
          "name": "stdout",
          "text": [
            "digite o numero [0]: 2\n",
            "digite o numero [1]: 4\n",
            "digite o numero [2]: 6\n",
            "digite o numero [3]: 8\n",
            "digite o numero [4]: 10\n",
            "digite o numero [5]: 12\n",
            "digite o numero [6]: 14\n",
            "digite o numero [7]: 16\n",
            "digite o numero [8]: 18\n",
            "digite o numero [9]: 20\n",
            "digite o numero [10]: 22\n",
            "132\n"
          ]
        }
      ]
    },
    {
      "cell_type": "markdown",
      "source": [
        "Exercício 7"
      ],
      "metadata": {
        "id": "COjxXaCj2Xwg"
      }
    },
    {
      "cell_type": "code",
      "source": [
        "lista = list(range(201))\n",
        "print(lista)\n",
        "lista.reverse()\n",
        "print(lista)"
      ],
      "metadata": {
        "colab": {
          "base_uri": "https://localhost:8080/"
        },
        "id": "PnVBIWUw2U7B",
        "outputId": "0ff3cf98-f554-43b2-c58e-d0c38cc71420"
      },
      "execution_count": null,
      "outputs": [
        {
          "output_type": "stream",
          "name": "stdout",
          "text": [
            "[0, 1, 2, 3, 4, 5, 6, 7, 8, 9, 10, 11, 12, 13, 14, 15, 16, 17, 18, 19, 20, 21, 22, 23, 24, 25, 26, 27, 28, 29, 30, 31, 32, 33, 34, 35, 36, 37, 38, 39, 40, 41, 42, 43, 44, 45, 46, 47, 48, 49, 50, 51, 52, 53, 54, 55, 56, 57, 58, 59, 60, 61, 62, 63, 64, 65, 66, 67, 68, 69, 70, 71, 72, 73, 74, 75, 76, 77, 78, 79, 80, 81, 82, 83, 84, 85, 86, 87, 88, 89, 90, 91, 92, 93, 94, 95, 96, 97, 98, 99, 100, 101, 102, 103, 104, 105, 106, 107, 108, 109, 110, 111, 112, 113, 114, 115, 116, 117, 118, 119, 120, 121, 122, 123, 124, 125, 126, 127, 128, 129, 130, 131, 132, 133, 134, 135, 136, 137, 138, 139, 140, 141, 142, 143, 144, 145, 146, 147, 148, 149, 150, 151, 152, 153, 154, 155, 156, 157, 158, 159, 160, 161, 162, 163, 164, 165, 166, 167, 168, 169, 170, 171, 172, 173, 174, 175, 176, 177, 178, 179, 180, 181, 182, 183, 184, 185, 186, 187, 188, 189, 190, 191, 192, 193, 194, 195, 196, 197, 198, 199, 200]\n",
            "[200, 199, 198, 197, 196, 195, 194, 193, 192, 191, 190, 189, 188, 187, 186, 185, 184, 183, 182, 181, 180, 179, 178, 177, 176, 175, 174, 173, 172, 171, 170, 169, 168, 167, 166, 165, 164, 163, 162, 161, 160, 159, 158, 157, 156, 155, 154, 153, 152, 151, 150, 149, 148, 147, 146, 145, 144, 143, 142, 141, 140, 139, 138, 137, 136, 135, 134, 133, 132, 131, 130, 129, 128, 127, 126, 125, 124, 123, 122, 121, 120, 119, 118, 117, 116, 115, 114, 113, 112, 111, 110, 109, 108, 107, 106, 105, 104, 103, 102, 101, 100, 99, 98, 97, 96, 95, 94, 93, 92, 91, 90, 89, 88, 87, 86, 85, 84, 83, 82, 81, 80, 79, 78, 77, 76, 75, 74, 73, 72, 71, 70, 69, 68, 67, 66, 65, 64, 63, 62, 61, 60, 59, 58, 57, 56, 55, 54, 53, 52, 51, 50, 49, 48, 47, 46, 45, 44, 43, 42, 41, 40, 39, 38, 37, 36, 35, 34, 33, 32, 31, 30, 29, 28, 27, 26, 25, 24, 23, 22, 21, 20, 19, 18, 17, 16, 15, 14, 13, 12, 11, 10, 9, 8, 7, 6, 5, 4, 3, 2, 1, 0]\n"
          ]
        }
      ]
    },
    {
      "cell_type": "markdown",
      "source": [
        "Exercício 8"
      ],
      "metadata": {
        "id": "9r3xW00v9YgZ"
      }
    },
    {
      "cell_type": "code",
      "source": [
        "vetor_1 = []\n",
        "vetor_2 = []\n",
        "vetor_3 = []\n",
        "for i in range(5):\n",
        "  num_1 = int(input(f\"digite o numero [{i}]: \"))\n",
        "  vetor_1.append(num_1)\n",
        "for i in range(5):\n",
        "  num_2 = int(input(f\"digite o numero [{i}]: \"))\n",
        "  vetor_2.append(num_2)\n",
        "for i in range(5):\n",
        "  soma = vetor_1 [i] + vetor_2 [i]\n",
        "  vetor_3.append(soma)\n",
        "\n",
        "print(\"vetor_1\", end = \" \")\n",
        "for i in range(5):\n",
        "  print(vetor_1 [i],\" \", end = \"\")\n",
        "\n",
        "print(\"vetor_2\", end = \" \")\n",
        "for i in range(5):\n",
        "  print(vetor_2 [i], \" \", end = \" \")\n",
        "\n",
        "print(\"vetor_3\", end = \" \")\n",
        "for i in range(5):\n",
        "  print(vetor_3 [i], \" \", end = \" \")"
      ],
      "metadata": {
        "colab": {
          "base_uri": "https://localhost:8080/"
        },
        "id": "DAuBw-hu9aZJ",
        "outputId": "15168950-7442-4c60-ebc9-7b0924ec7ab7"
      },
      "execution_count": null,
      "outputs": [
        {
          "output_type": "stream",
          "name": "stdout",
          "text": [
            "digite o numero [0]: 5\n",
            "digite o numero [1]: 10\n",
            "digite o numero [2]: 5\n",
            "digite o numero [3]: 10\n",
            "digite o numero [4]: 5\n",
            "digite o numero [0]: 10\n",
            "digite o numero [1]: 5\n",
            "digite o numero [2]: 10\n",
            "digite o numero [3]: 5\n",
            "digite o numero [4]: 10\n",
            "vetor_1 5  10  5  10  5  vetor_2 10   5   10   5   10   vetor_3 15   15   15   15   15   "
          ]
        }
      ]
    },
    {
      "cell_type": "markdown",
      "source": [
        "Exercício 9"
      ],
      "metadata": {
        "id": "Ku7Pxz3WSRhZ"
      }
    },
    {
      "cell_type": "code",
      "source": [
        "lista_1 = []\n",
        "lista_2 = []\n",
        "for i in range(25):\n",
        "    elemento = float(input(\"Digite os elementos da primeira lista:\"))\n",
        "    lista_1.append(elemento)\n",
        "for i in range(25):\n",
        "    elemento = float(input(\"Digite os elementos da segunda lista:\"))\n",
        "    lista_2.append(elemento)\n",
        "resultado = []\n",
        "for i in range(25):\n",
        "    resultado.append(lista_1[i])\n",
        "    resultado.append(lista_2[i])\n",
        "print(\"resultado da intercalação das listas 1 e 2:\")\n",
        "print(resultado)"
      ],
      "metadata": {
        "colab": {
          "base_uri": "https://localhost:8080/"
        },
        "id": "Jre0PURnSTlr",
        "outputId": "4aea7197-b484-4039-ba85-f6f5f4e0674f"
      },
      "execution_count": null,
      "outputs": [
        {
          "output_type": "stream",
          "name": "stdout",
          "text": [
            "Digite os elementos da primeira lista:1\n",
            "Digite os elementos da primeira lista:2\n",
            "Digite os elementos da primeira lista:3\n",
            "Digite os elementos da primeira lista:4\n",
            "Digite os elementos da primeira lista:5\n",
            "Digite os elementos da primeira lista:6\n",
            "Digite os elementos da primeira lista:7\n",
            "Digite os elementos da primeira lista:8\n",
            "Digite os elementos da primeira lista:9\n",
            "Digite os elementos da primeira lista:10\n",
            "Digite os elementos da primeira lista:12\n",
            "Digite os elementos da primeira lista:14\n",
            "Digite os elementos da primeira lista:16\n",
            "Digite os elementos da primeira lista:18\n",
            "Digite os elementos da primeira lista:20\n",
            "Digite os elementos da primeira lista:22\n",
            "Digite os elementos da primeira lista:24\n",
            "Digite os elementos da primeira lista:26\n",
            "Digite os elementos da primeira lista:28\n",
            "Digite os elementos da primeira lista:30\n",
            "Digite os elementos da primeira lista:32\n",
            "Digite os elementos da primeira lista:34\n",
            "Digite os elementos da primeira lista:36\n",
            "Digite os elementos da primeira lista:38\n",
            "Digite os elementos da primeira lista:40\n",
            "Digite os elementos da segunda lista:42\n",
            "Digite os elementos da segunda lista:44\n",
            "Digite os elementos da segunda lista:46\n",
            "Digite os elementos da segunda lista:48\n",
            "Digite os elementos da segunda lista:50\n",
            "Digite os elementos da segunda lista:52\n",
            "Digite os elementos da segunda lista:54\n",
            "Digite os elementos da segunda lista:56\n",
            "Digite os elementos da segunda lista:58\n",
            "Digite os elementos da segunda lista:60\n",
            "Digite os elementos da segunda lista:62\n",
            "Digite os elementos da segunda lista:64\n",
            "Digite os elementos da segunda lista:66\n",
            "Digite os elementos da segunda lista:68\n",
            "Digite os elementos da segunda lista:70\n",
            "Digite os elementos da segunda lista:72\n",
            "Digite os elementos da segunda lista:74\n",
            "Digite os elementos da segunda lista:76\n",
            "Digite os elementos da segunda lista:78\n",
            "Digite os elementos da segunda lista:80\n",
            "Digite os elementos da segunda lista:82\n",
            "Digite os elementos da segunda lista:84\n",
            "Digite os elementos da segunda lista:86\n",
            "Digite os elementos da segunda lista:88\n",
            "Digite os elementos da segunda lista:90\n",
            "resultado da intercalação das listas 1 e 2:\n",
            "[1.0, 42.0, 2.0, 44.0, 3.0, 46.0, 4.0, 48.0, 5.0, 50.0, 6.0, 52.0, 7.0, 54.0, 8.0, 56.0, 9.0, 58.0, 10.0, 60.0, 12.0, 62.0, 14.0, 64.0, 16.0, 66.0, 18.0, 68.0, 20.0, 70.0, 22.0, 72.0, 24.0, 74.0, 26.0, 76.0, 28.0, 78.0, 30.0, 80.0, 32.0, 82.0, 34.0, 84.0, 36.0, 86.0, 38.0, 88.0, 40.0, 90.0]\n"
          ]
        }
      ]
    },
    {
      "cell_type": "markdown",
      "source": [
        "Exercício 10"
      ],
      "metadata": {
        "id": "P70xly0ca3d6"
      }
    },
    {
      "cell_type": "code",
      "source": [
        "a = []\n",
        "s = 0\n",
        "contador = 0\n",
        "for i in range(5):\n",
        "  numero = int(input(f\"digite o numero [{i}]: \"))\n",
        "  a.append(numero)\n",
        "for i in range(5):\n",
        "  s = s + (i/a[i])\n",
        "for i in range(5):\n",
        "  if i < a [i]:\n",
        "    contador = contador + 1\n",
        "    print(i)\n",
        "print(\" s \", s)"
      ],
      "metadata": {
        "colab": {
          "base_uri": "https://localhost:8080/"
        },
        "id": "ZiLej0iia6kz",
        "outputId": "8562b73a-91f9-42a0-d64c-f0ef8aec1452"
      },
      "execution_count": null,
      "outputs": [
        {
          "output_type": "stream",
          "name": "stdout",
          "text": [
            "digite o numero [0]: 4\n",
            "digite o numero [1]: 6\n",
            "digite o numero [2]: 8\n",
            "digite o numero [3]: 10\n",
            "digite o numero [4]: 12\n",
            "0\n",
            "1\n",
            "2\n",
            "3\n",
            "4\n",
            " s  1.0499999999999998\n"
          ]
        }
      ]
    },
    {
      "cell_type": "markdown",
      "source": [
        "Exercício 11"
      ],
      "metadata": {
        "id": "oc5AuknLXbfL"
      }
    },
    {
      "cell_type": "code",
      "source": [
        "vetor_1 = []\n",
        "for i in range(10):\n",
        "    elemento = float(input(\"Digite os 10 elementos reais:\"))\n",
        "    vetor_1.append(elemento)\n",
        "vetor_2 = []\n",
        "for i in range(10):\n",
        "    if i % 2 == 0:\n",
        "        vetor_2.append(vetor_1[i] * 3)\n",
        "    else:\n",
        "        vetor_2.append(vetor_1[i] / 2)\n",
        "print(\"1º vetor:\")\n",
        "print(vetor_1)\n",
        "print(\"2º vetor:\")\n",
        "print(vetor_2)"
      ],
      "metadata": {
        "colab": {
          "base_uri": "https://localhost:8080/"
        },
        "id": "TqJATcvmXdpM",
        "outputId": "4d38c1ac-ccb7-4bc2-c650-b0231b89868c"
      },
      "execution_count": null,
      "outputs": [
        {
          "output_type": "stream",
          "name": "stdout",
          "text": [
            "Digite os 10 elementos reais:1\n",
            "Digite os 10 elementos reais:3\n",
            "Digite os 10 elementos reais:6\n",
            "Digite os 10 elementos reais:9\n",
            "Digite os 10 elementos reais:10\n",
            "Digite os 10 elementos reais:12\n",
            "Digite os 10 elementos reais:14\n",
            "Digite os 10 elementos reais:16\n",
            "Digite os 10 elementos reais:18\n",
            "Digite os 10 elementos reais:20\n",
            "1º vetor:\n",
            "[1.0, 3.0, 6.0, 9.0, 10.0, 12.0, 14.0, 16.0, 18.0, 20.0]\n",
            "2º vetor:\n",
            "[3.0, 1.5, 18.0, 4.5, 30.0, 6.0, 42.0, 8.0, 54.0, 10.0]\n"
          ]
        }
      ]
    },
    {
      "cell_type": "markdown",
      "source": [
        "Exercício 12"
      ],
      "metadata": {
        "id": "EhxDtNEBc1oQ"
      }
    },
    {
      "cell_type": "code",
      "source": [
        "vetor_a = []\n",
        "s = 0\n",
        "for i in range(20):\n",
        "  numero = float(input(f\"digite o valor de a [{i}]: \"))\n",
        "  vetor_a.append(numero)\n",
        "for i in range(10):\n",
        "  s = s + ((vetor_a [i] - vetor_a [19 - 1])**2)\n",
        "print(\"s\", s)"
      ],
      "metadata": {
        "colab": {
          "base_uri": "https://localhost:8080/"
        },
        "id": "AmqJT0Nuc4WM",
        "outputId": "d47aa487-ec4b-4430-cc49-06ad3a8a0b47"
      },
      "execution_count": null,
      "outputs": [
        {
          "output_type": "stream",
          "name": "stdout",
          "text": [
            "digite o valor de a [0]: 1\n",
            "digite o valor de a [1]: 2\n",
            "digite o valor de a [2]: 3\n",
            "digite o valor de a [3]: 4\n",
            "digite o valor de a [4]: 5\n",
            "digite o valor de a [5]: 6\n",
            "digite o valor de a [6]: 7\n",
            "digite o valor de a [7]: 8\n",
            "digite o valor de a [8]: 9\n",
            "digite o valor de a [9]: 10\n",
            "digite o valor de a [10]: 11\n",
            "digite o valor de a [11]: 12\n",
            "digite o valor de a [12]: 13\n",
            "digite o valor de a [13]: 14\n",
            "digite o valor de a [14]: 15\n",
            "digite o valor de a [15]: 16\n",
            "digite o valor de a [16]: 17\n",
            "digite o valor de a [17]: 18\n",
            "digite o valor de a [18]: 19\n",
            "digite o valor de a [19]: 20\n",
            "s 1905.0\n"
          ]
        }
      ]
    },
    {
      "cell_type": "markdown",
      "source": [
        "Exercício 13"
      ],
      "metadata": {
        "id": "U42PxJaiabbP"
      }
    },
    {
      "cell_type": "code",
      "source": [
        "frase = input(\"digite o texto: \")\n",
        "contagem_brancos = 0\n",
        "contagem_letra_a = 0\n",
        "for caractere in frase:\n",
        "    if caractere == \" \":\n",
        "        contagem_brancos += 1\n",
        "    elif caractere == \"A\" or caractere == \"a\":\n",
        "        contagem_letra_a += 1\n",
        "print(\"Número de espaços em branco na frase:\", contagem_brancos)\n",
        "print(\"Número de vezes que a letra 'A' aparece na frase:\", contagem_letra_a)"
      ],
      "metadata": {
        "colab": {
          "base_uri": "https://localhost:8080/"
        },
        "id": "LIopUSZGad-A",
        "outputId": "fdd01070-ba01-47e8-aebb-b7e71ff3afa4"
      },
      "execution_count": null,
      "outputs": [
        {
          "output_type": "stream",
          "name": "stdout",
          "text": [
            "Digite uma frase de 50 caracteres: Olá, como você está? Espero que esteja bem, pois desejo vê-lá feliz.\n",
            "Número de espaços em branco na frase: 11\n",
            "Número de vezes que a letra 'A' aparece na frase: 1\n"
          ]
        }
      ]
    },
    {
      "cell_type": "markdown",
      "source": [
        "Exercício 14"
      ],
      "metadata": {
        "id": "EL58ebL0SJk7"
      }
    },
    {
      "cell_type": "code",
      "source": [
        "faturamento = 0\n",
        "precos = [10, 15, 20, 5, 12]\n",
        "quantidades = [5, 2, 15, 10, 20]\n",
        "for i in range(len(precos)):\n",
        "    faturamento += quantidades[i] * precos[i]\n",
        "print(\"Faturamento mensal: R$\", faturamento)"
      ],
      "metadata": {
        "colab": {
          "base_uri": "https://localhost:8080/"
        },
        "id": "NtLux6azWoFO",
        "outputId": "f670fec3-2313-47de-e92b-53a4a1b86aed"
      },
      "execution_count": null,
      "outputs": [
        {
          "output_type": "stream",
          "name": "stdout",
          "text": [
            "Faturamento mensal: R$ 670\n"
          ]
        }
      ]
    },
    {
      "cell_type": "markdown",
      "source": [
        "Exercício 15"
      ],
      "metadata": {
        "id": "vJMFipOhVY_O"
      }
    },
    {
      "cell_type": "code",
      "source": [
        "vet = [2,5,4,10,6,3,7,1,8,9]\n",
        "vet.sort()\n",
        "print(vet)"
      ],
      "metadata": {
        "colab": {
          "base_uri": "https://localhost:8080/"
        },
        "id": "k4rS9yiAVb1z",
        "outputId": "aee9c0b0-0e5e-4088-f9c2-157676d79f6e"
      },
      "execution_count": null,
      "outputs": [
        {
          "output_type": "stream",
          "name": "stdout",
          "text": [
            "[1, 2, 3, 4, 5, 6, 7, 8, 9, 10]\n"
          ]
        }
      ]
    },
    {
      "cell_type": "markdown",
      "source": [
        "Exercício 16"
      ],
      "metadata": {
        "id": "2cgrz5ouX4vt"
      }
    },
    {
      "cell_type": "code",
      "source": [
        "vetor = []\n",
        "for i in range(5):\n",
        "    elemento = int(input(\"Digite o elemento na posição \" + str(i) + \": \"))\n",
        "    vetor.append(elemento)\n",
        "chave = int(input(\"Digite a chave K: \"))\n",
        "posicao = -1\n",
        "for i in range(5):\n",
        "    if vetor[i] == chave:\n",
        "        posicao = i\n",
        "        break\n",
        "if posicao != -1:\n",
        "    print(\"Chave K encontrada na posição\", posicao)\n",
        "else:\n",
        "    print(\"CHAVE K NÃO ENCONTRADA\")"
      ],
      "metadata": {
        "colab": {
          "base_uri": "https://localhost:8080/"
        },
        "id": "Xf0yB0Oid_8D",
        "outputId": "39b91c86-4c1d-4573-bc46-f1823bcf5e25"
      },
      "execution_count": null,
      "outputs": [
        {
          "output_type": "stream",
          "name": "stdout",
          "text": [
            "Digite o elemento na posição 0: 2\n",
            "Digite o elemento na posição 1: 4\n",
            "Digite o elemento na posição 2: 6\n",
            "Digite o elemento na posição 3: 8\n",
            "Digite o elemento na posição 4: 10\n",
            "Digite a chave K: 5\n",
            "CHAVE K NÃO ENCONTRADA\n"
          ]
        }
      ]
    },
    {
      "cell_type": "markdown",
      "source": [
        "Exercício 17"
      ],
      "metadata": {
        "id": "s4ynsqGSbU3I"
      }
    },
    {
      "cell_type": "code",
      "source": [
        "def pesquisa_binaria(vetor, chave):\n",
        "    esquerda = 0\n",
        "    direita = len(vetor) - 1\n",
        "    while esquerda <= direita:\n",
        "        meio = (esquerda + direita) // 2\n",
        "        if vetor[meio] == chave:\n",
        "            return meio\n",
        "        elif vetor[meio] < chave:\n",
        "            esquerda = meio + 1\n",
        "        else:\n",
        "            direita = meio - 1\n",
        "    return -1\n",
        "vetor = [int(input(f\"Digite o elemento na posição {i}: \")) for i in range(5)]\n",
        "vetor.sort()\n",
        "chave = int(input(\"Digite a chave K: \"))\n",
        "posicao = pesquisa_binaria(vetor, chave)\n",
        "if posicao != -1:\n",
        "    print(\"Chave K encontrada na posição\", posicao)\n",
        "else:\n",
        "    print(\"CHAVE K NÃO ENCONTRADA\")"
      ],
      "metadata": {
        "id": "dpIp1y0LbWyg",
        "colab": {
          "base_uri": "https://localhost:8080/"
        },
        "outputId": "e9d258fd-857c-4325-ca2f-12ada3d70cb0"
      },
      "execution_count": null,
      "outputs": [
        {
          "output_type": "stream",
          "name": "stdout",
          "text": [
            "Digite o elemento na posição 0: 2\n",
            "Digite o elemento na posição 1: 4\n",
            "Digite o elemento na posição 2: 6\n",
            "Digite o elemento na posição 3: 8\n",
            "Digite o elemento na posição 4: 10\n",
            "Digite a chave K: 3\n",
            "CHAVE K NÃO ENCONTRADA\n"
          ]
        }
      ]
    }
  ]
}