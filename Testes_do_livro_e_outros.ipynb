{
  "nbformat": 4,
  "nbformat_minor": 0,
  "metadata": {
    "colab": {
      "provenance": [],
      "authorship_tag": "ABX9TyMdjLr56EGxUSzdyMKzXs/9",
      "include_colab_link": true
    },
    "kernelspec": {
      "name": "python3",
      "display_name": "Python 3"
    },
    "language_info": {
      "name": "python"
    }
  },
  "cells": [
    {
      "cell_type": "markdown",
      "metadata": {
        "id": "view-in-github",
        "colab_type": "text"
      },
      "source": [
        "<a href=\"https://colab.research.google.com/github/GabrielaSchubert/Python_no_Google_Colaboratory/blob/main/Testes_do_livro_e_outros.ipynb\" target=\"_parent\"><img src=\"https://colab.research.google.com/assets/colab-badge.svg\" alt=\"Open In Colab\"/></a>"
      ]
    },
    {
      "cell_type": "markdown",
      "source": [
        "Condições"
      ],
      "metadata": {
        "id": "L80m0mWBvYtg"
      }
    },
    {
      "cell_type": "code",
      "execution_count": null,
      "metadata": {
        "colab": {
          "base_uri": "https://localhost:8080/"
        },
        "id": "mgaVEHMSAYKG",
        "outputId": "2cfbf247-c15b-41ef-e7b1-93e1dbd4b382"
      },
      "outputs": [
        {
          "output_type": "stream",
          "name": "stdout",
          "text": [
            "digite o primeiro valor: 4\n",
            "digite o segundo valor: 6\n",
            "digite o terceiro valor: 8\n",
            "O menor número digitado foi 4\n",
            "O maior número digitado foi 8\n"
          ]
        }
      ],
      "source": [
        "a = int(input(\"digite o primeiro valor: \"))\n",
        "b = int(input(\"digite o segundo valor: \"))\n",
        "c = int(input(\"digite o terceiro valor: \"))\n",
        "maior = a\n",
        "if b > a and b > c:\n",
        "    maior = b\n",
        "if c > a and c > b:\n",
        "    maior = c\n",
        "menor = a\n",
        "if b < c and b < a:\n",
        "    menor = b\n",
        "if c < b and c < a:\n",
        "    menor = c\n",
        "print(f\"O menor número digitado foi {menor}\")\n",
        "print(f\"O maior número digitado foi {maior}\")"
      ]
    },
    {
      "cell_type": "code",
      "source": [
        "salario = float(input(\"digite o valor do salario para calcular imposto : \"))\n",
        "base = salario\n",
        "imposto = 0\n",
        "if base > 3000:\n",
        " imposto = imposto + ((base - 3000) * 0.35)\n",
        " base = 3000\n",
        "if base > 1000:\n",
        " imposto = imposto + ((base - 1000 ) * 0.20)\n",
        "print(\"salario: r$%6.2f imposto a pagar: r$%6.2f\" % (salario, imposto))"
      ],
      "metadata": {
        "colab": {
          "base_uri": "https://localhost:8080/"
        },
        "id": "gbZuV0_QCYWY",
        "outputId": "1ad6efd6-5771-46a6-ff52-ba7c7ddc55c9"
      },
      "execution_count": null,
      "outputs": [
        {
          "output_type": "stream",
          "name": "stdout",
          "text": [
            "digite o valor do salario para calcular imposto : 1500\n",
            "salario: r$1500.00 imposto a pagar: r$100.00\n"
          ]
        }
      ]
    },
    {
      "cell_type": "code",
      "source": [
        "idade = int(input(\"digite a idade do carro: \"))\n",
        "if idade <= 3:\n",
        " print(\"seu carro e novo\")\n",
        "else:\n",
        "  print(\"seu carro e velho\")"
      ],
      "metadata": {
        "colab": {
          "base_uri": "https://localhost:8080/"
        },
        "id": "mYZEBt4aEpms",
        "outputId": "061f5d1f-c4ec-4eb6-96ee-1093e73280c3"
      },
      "execution_count": null,
      "outputs": [
        {
          "output_type": "stream",
          "name": "stdout",
          "text": [
            "digite a idade do carro: 3\n",
            "seu carro e novo\n"
          ]
        }
      ]
    },
    {
      "cell_type": "code",
      "source": [
        "idade = int(input(\"digite a sua idade: \"))\n",
        "if idade <= 10:\n",
        " print(\"voce e uma crianca\")\n",
        "else:\n",
        "  print(\"voce e um jovem\")"
      ],
      "metadata": {
        "colab": {
          "base_uri": "https://localhost:8080/"
        },
        "id": "qFJ7Z28bF-Q9",
        "outputId": "5235f1b5-41b3-4cec-b893-360abf8d4104"
      },
      "execution_count": null,
      "outputs": [
        {
          "output_type": "stream",
          "name": "stdout",
          "text": [
            "digite a sua idade: 18\n",
            "voce e um jovem\n"
          ]
        }
      ]
    },
    {
      "cell_type": "code",
      "source": [
        "categoria = int(input(\"digite a categoria do produto: \"))\n",
        "if categoria == 1:\n",
        " preco = 10\n",
        "else:\n",
        "  if categoria == 2:\n",
        "    preco = 18\n",
        "  else:\n",
        "    if categoria == 3:\n",
        "      preco = 23\n",
        "    else:\n",
        "      if categoria == 4:\n",
        "       preco = 26\n",
        "      else:\n",
        "        if categoria == 5:\n",
        "         preco = 31\n",
        "        else:\n",
        "          print(\"categoria inválida, digite um valor entre 1 e 5\")\n",
        "          preco = 0\n",
        "print(\"o preco do produto é: r$:\", preco)"
      ],
      "metadata": {
        "colab": {
          "base_uri": "https://localhost:8080/"
        },
        "id": "WvUfW5EAQQEC",
        "outputId": "5726d47b-4b3f-42c4-8b98-c649e8998555"
      },
      "execution_count": null,
      "outputs": [
        {
          "output_type": "stream",
          "name": "stdout",
          "text": [
            "digite a categoria do produto: 3\n",
            "o preco do produto é: r$: 23\n"
          ]
        }
      ]
    },
    {
      "cell_type": "code",
      "source": [
        "categoria = int(input(\"digite a categoria do produto: \"))\n",
        "if categoria == 1:\n",
        " preco = 10\n",
        "elif categoria == 2:\n",
        " preco = 18\n",
        "elif categoria == 3:\n",
        "  preco = 23\n",
        "elif categoria == 4:\n",
        "  preco = 26\n",
        "elif categoria == 5:\n",
        "  preco = 31\n",
        "else:\n",
        "  print(\"categoria invalida, digite um valor entre 1 e 5!\")\n",
        "  preco = 0\n",
        "print(\"o preço do produto é: R$%6.2f\" % preco)"
      ],
      "metadata": {
        "colab": {
          "base_uri": "https://localhost:8080/"
        },
        "id": "aKEFxC4nR78b",
        "outputId": "ab07cf74-b87f-4df0-b119-ad1bb2676f63"
      },
      "execution_count": null,
      "outputs": [
        {
          "output_type": "stream",
          "name": "stdout",
          "text": [
            "digite a categoria do produto: 4\n",
            "o preço do produto é: R$ 26.00\n"
          ]
        }
      ]
    },
    {
      "cell_type": "code",
      "source": [
        "n1 = float(input(\"digite um numero: \"))\n",
        "n2 = float(input(\"digite outro numero: \"))\n",
        "operacao = input(\"digite a operacao (+,-,*,/): \")\n",
        "if operacao == \"+\":\n",
        "    resultado = a + b\n",
        "elif operacao == \"-\":\n",
        "     resultado = a - b\n",
        "elif operacao == \"*\":\n",
        "     resultado = a * b\n",
        "elif operacao == \"/\":\n",
        "     resultado = a / b\n",
        "else:\n",
        "  print(\"operacao inválida!\")\n",
        "  resultado = 0\n",
        "print(\"resultado:\", resultado)"
      ],
      "metadata": {
        "colab": {
          "base_uri": "https://localhost:8080/"
        },
        "id": "FPhsMaZXTamf",
        "outputId": "da0607a4-5dd7-4691-945e-976224711ac9"
      },
      "execution_count": null,
      "outputs": [
        {
          "output_type": "stream",
          "name": "stdout",
          "text": [
            "digite um numero: 5\n",
            "digite outro numero: 2\n",
            "digite a operacao (+,-,*,/): *\n",
            "resultado: 10.0\n"
          ]
        }
      ]
    },
    {
      "cell_type": "code",
      "source": [
        "a = float(input(\"Primeiro número:\"))\n",
        "b = float(input(\"Segundo número:\"))\n",
        "operação = input(\"Digite a operação a realizar (+,-,* ou /):\")\n",
        "if operação == \"+\":\n",
        "    resultado = a + b\n",
        "elif operação == \"-\":\n",
        "    resultado = a - b\n",
        "elif operação == \"*\":\n",
        "    resultado = a * b\n",
        "elif operação == \"/\":\n",
        "    resultado = a / b\n",
        "else:\n",
        "    print(\"Operação inválida!\")\n",
        "    resultado = 0\n",
        "print(\"Resultado: \", resultado)"
      ],
      "metadata": {
        "colab": {
          "base_uri": "https://localhost:8080/"
        },
        "id": "4-7_9VB_Vs0H",
        "outputId": "44fa5104-e53a-4851-f4b1-13fef9cbb520"
      },
      "execution_count": null,
      "outputs": [
        {
          "output_type": "stream",
          "name": "stdout",
          "text": [
            "Primeiro número:5\n",
            "Segundo número:2\n",
            "Digite a operação a realizar (+,-,* ou /):+\n",
            "Resultado:  7.0\n"
          ]
        }
      ]
    },
    {
      "cell_type": "markdown",
      "source": [
        "Repetições"
      ],
      "metadata": {
        "id": "-iwcEJXuvf8Z"
      }
    },
    {
      "cell_type": "code",
      "source": [
        "x = 1\n",
        "print(x)\n",
        "x = 2\n",
        "print(x)\n",
        "x = 3\n",
        "print(x)"
      ],
      "metadata": {
        "colab": {
          "base_uri": "https://localhost:8080/"
        },
        "id": "KV5Avb3wvWVf",
        "outputId": "0f3d648b-6244-4abf-8d72-85aab74af7ba"
      },
      "execution_count": null,
      "outputs": [
        {
          "output_type": "stream",
          "name": "stdout",
          "text": [
            "1\n",
            "2\n",
            "3\n"
          ]
        }
      ]
    },
    {
      "cell_type": "code",
      "source": [
        "x = 1\n",
        "while x <= 3:\n",
        "  print(x)\n",
        "  x = x + 1"
      ],
      "metadata": {
        "colab": {
          "base_uri": "https://localhost:8080/"
        },
        "id": "VSNqbj_9wVoQ",
        "outputId": "3839490b-f8fd-478b-fcd0-cd407e653dfd"
      },
      "execution_count": null,
      "outputs": [
        {
          "output_type": "stream",
          "name": "stdout",
          "text": [
            "1\n",
            "2\n",
            "3\n"
          ]
        }
      ]
    },
    {
      "cell_type": "code",
      "source": [
        "x = 2\n",
        "while x <= 3:\n",
        "  print(x)\n",
        "  x = x + 1"
      ],
      "metadata": {
        "colab": {
          "base_uri": "https://localhost:8080/"
        },
        "id": "pe11xG-0x0FK",
        "outputId": "e6c874e0-25df-4fcc-8a9a-6063e3a53223"
      },
      "execution_count": null,
      "outputs": [
        {
          "output_type": "stream",
          "name": "stdout",
          "text": [
            "2\n",
            "3\n"
          ]
        }
      ]
    },
    {
      "cell_type": "code",
      "source": [
        "x = 50\n",
        "while x <= 100:\n",
        "  print(x)\n",
        "  x = x + 1"
      ],
      "metadata": {
        "colab": {
          "base_uri": "https://localhost:8080/"
        },
        "id": "oz7b5oRVxXsl",
        "outputId": "e8c73aaf-0473-41e5-f5e8-844ae91d284b"
      },
      "execution_count": null,
      "outputs": [
        {
          "output_type": "stream",
          "name": "stdout",
          "text": [
            "50\n",
            "51\n",
            "52\n",
            "53\n",
            "54\n",
            "55\n",
            "56\n",
            "57\n",
            "58\n",
            "59\n",
            "60\n",
            "61\n",
            "62\n",
            "63\n",
            "64\n",
            "65\n",
            "66\n",
            "67\n",
            "68\n",
            "69\n",
            "70\n",
            "71\n",
            "72\n",
            "73\n",
            "74\n",
            "75\n",
            "76\n",
            "77\n",
            "78\n",
            "79\n",
            "80\n",
            "81\n",
            "82\n",
            "83\n",
            "84\n",
            "85\n",
            "86\n",
            "87\n",
            "88\n",
            "89\n",
            "90\n",
            "91\n",
            "92\n",
            "93\n",
            "94\n",
            "95\n",
            "96\n",
            "97\n",
            "98\n",
            "99\n",
            "100\n"
          ]
        }
      ]
    },
    {
      "cell_type": "code",
      "source": [
        "x = 10\n",
        "while x >= 0:\n",
        "    print(x)\n",
        "    x = x - 1\n",
        "print(\"Fogo!\")"
      ],
      "metadata": {
        "colab": {
          "base_uri": "https://localhost:8080/"
        },
        "id": "mYFscEyizaWH",
        "outputId": "4edfe59c-6add-46bf-a155-6f9ef6c1ae90"
      },
      "execution_count": null,
      "outputs": [
        {
          "output_type": "stream",
          "name": "stdout",
          "text": [
            "10\n",
            "9\n",
            "8\n",
            "7\n",
            "6\n",
            "5\n",
            "4\n",
            "3\n",
            "2\n",
            "1\n",
            "0\n",
            "Fogo!\n"
          ]
        }
      ]
    },
    {
      "cell_type": "markdown",
      "source": [
        "Contadores"
      ],
      "metadata": {
        "id": "brL0i5DG0Fqq"
      }
    },
    {
      "cell_type": "code",
      "source": [
        "fim = int(input(\"digite o último número a ser imprimido: \"))\n",
        "x = 1\n",
        "while x <= fim:\n",
        "  print(x)\n",
        "  x = x + 1"
      ],
      "metadata": {
        "colab": {
          "base_uri": "https://localhost:8080/"
        },
        "id": "npRg9jwd0JLo",
        "outputId": "6643cbde-8626-4b10-c80a-151936c9f847"
      },
      "execution_count": null,
      "outputs": [
        {
          "output_type": "stream",
          "name": "stdout",
          "text": [
            "digite o último número a ser imprimido: 5\n",
            "1\n",
            "2\n",
            "3\n",
            "4\n",
            "5\n"
          ]
        }
      ]
    },
    {
      "cell_type": "code",
      "source": [
        "fim = int(input(\" digite o último número a imprimir: \"))\n",
        "x = 0\n",
        "while x <= fim:\n",
        "  if x % 2 == 0:\n",
        "    print(x)\n",
        "  x = x + 1"
      ],
      "metadata": {
        "colab": {
          "base_uri": "https://localhost:8080/"
        },
        "id": "FfJWKnU81V26",
        "outputId": "c1dfbed5-3476-47d8-a448-e1e9a74e5ed1"
      },
      "execution_count": null,
      "outputs": [
        {
          "output_type": "stream",
          "name": "stdout",
          "text": [
            " digite o último número a imprimir: 3\n",
            "0\n",
            "2\n"
          ]
        }
      ]
    },
    {
      "cell_type": "code",
      "source": [
        "fim = int(input(\" digite o último número a imprimir: \"))\n",
        "x = 0\n",
        "while x <= fim:\n",
        "    print(x)\n",
        "    x = x + 2"
      ],
      "metadata": {
        "colab": {
          "base_uri": "https://localhost:8080/"
        },
        "id": "IYXmPynQ26dc",
        "outputId": "a9ce0c9a-fa80-4593-a5e3-ccbb0968f8bf"
      },
      "execution_count": null,
      "outputs": [
        {
          "output_type": "stream",
          "name": "stdout",
          "text": [
            " digite o último número a imprimir: 8\n",
            "0\n",
            "2\n",
            "4\n",
            "6\n",
            "8\n"
          ]
        }
      ]
    },
    {
      "cell_type": "code",
      "source": [
        "n = int(input(\"tabuada de: \"))\n",
        "x = 1\n",
        "while x <=10:\n",
        "  print(n+x)\n",
        "  x = x+1"
      ],
      "metadata": {
        "colab": {
          "base_uri": "https://localhost:8080/"
        },
        "id": "uHXNeVo2JPtR",
        "outputId": "4705e87e-9bff-4b23-b2a7-bd27e51e5ad9"
      },
      "execution_count": null,
      "outputs": [
        {
          "output_type": "stream",
          "name": "stdout",
          "text": [
            "tabuada de: 5\n",
            "6\n",
            "7\n",
            "8\n",
            "9\n",
            "10\n",
            "11\n",
            "12\n",
            "13\n",
            "14\n",
            "15\n"
          ]
        }
      ]
    },
    {
      "cell_type": "code",
      "source": [
        "n = int(input(\"Tabuada de:\"))\n",
        "x = 1\n",
        "while x <= 10:\n",
        "    print(f\"{n} x {x} = {n * x}\")\n",
        "    x = x + 1"
      ],
      "metadata": {
        "colab": {
          "base_uri": "https://localhost:8080/"
        },
        "id": "rVkWNM0ENddz",
        "outputId": "8b19e90a-ebf7-47aa-f6ed-15336face65c"
      },
      "execution_count": null,
      "outputs": [
        {
          "output_type": "stream",
          "name": "stdout",
          "text": [
            "Tabuada de:2\n",
            "2 x 1 = 2\n",
            "2 x 2 = 4\n",
            "2 x 3 = 6\n",
            "2 x 4 = 8\n",
            "2 x 5 = 10\n",
            "2 x 6 = 12\n",
            "2 x 7 = 14\n",
            "2 x 8 = 16\n",
            "2 x 9 = 18\n",
            "2 x 10 = 20\n"
          ]
        }
      ]
    },
    {
      "cell_type": "code",
      "source": [
        "n = int(input(\"Tabuada de: \"))\n",
        "inicio = int(input(\"De: \"))\n",
        "fim = int(input(\"Até: \"))\n",
        "x = inicio\n",
        "while x <= fim:\n",
        "    print(f\"{n} x {x} = {n * x}\")\n",
        "    x = x + 1"
      ],
      "metadata": {
        "colab": {
          "base_uri": "https://localhost:8080/"
        },
        "id": "FatiDKBMN7sA",
        "outputId": "fa63fcdf-8371-405c-8ac7-7f381b4cbac2"
      },
      "execution_count": null,
      "outputs": [
        {
          "output_type": "stream",
          "name": "stdout",
          "text": [
            "Tabuada de: 5\n",
            "De: 0\n",
            "Até: 10\n",
            "5 x 0 = 0\n",
            "5 x 1 = 5\n",
            "5 x 2 = 10\n",
            "5 x 3 = 15\n",
            "5 x 4 = 20\n",
            "5 x 5 = 25\n",
            "5 x 6 = 30\n",
            "5 x 7 = 35\n",
            "5 x 8 = 40\n",
            "5 x 9 = 45\n",
            "5 x 10 = 50\n"
          ]
        }
      ]
    },
    {
      "cell_type": "markdown",
      "source": [
        "Usando format"
      ],
      "metadata": {
        "id": "AAr2lnB2RBT9"
      }
    },
    {
      "cell_type": "code",
      "source": [
        "pi = 3.14159265\n",
        "mensagem = \"O valor de pi é: {:.2f}\".format(x)\n",
        "print(mensagem)"
      ],
      "metadata": {
        "colab": {
          "base_uri": "https://localhost:8080/"
        },
        "id": "PtOzRLebQeKG",
        "outputId": "be58b102-4c9d-4010-81e4-43fd5b6448c3"
      },
      "execution_count": null,
      "outputs": [
        {
          "output_type": "stream",
          "name": "stdout",
          "text": [
            "O valor de pi é: 3.14\n"
          ]
        }
      ]
    },
    {
      "cell_type": "markdown",
      "source": [
        "Usando break"
      ],
      "metadata": {
        "id": "jtcpacjCRqwt"
      }
    },
    {
      "cell_type": "code",
      "source": [
        "i = 0\n",
        "while i < 10:\n",
        "    if i == 5:\n",
        "        break\n",
        "    print(i)\n",
        "    i += 1"
      ],
      "metadata": {
        "colab": {
          "base_uri": "https://localhost:8080/"
        },
        "id": "up3uPJ05Rs9_",
        "outputId": "f240fcac-6889-4d06-fa83-1c993335c738"
      },
      "execution_count": null,
      "outputs": [
        {
          "output_type": "stream",
          "name": "stdout",
          "text": [
            "0\n",
            "1\n",
            "2\n",
            "3\n",
            "4\n"
          ]
        }
      ]
    },
    {
      "cell_type": "markdown",
      "source": [
        "Usando listas"
      ],
      "metadata": {
        "id": "eizVg3xARcYb"
      }
    },
    {
      "cell_type": "code",
      "source": [
        "Z = [15,8,9]\n",
        "Z [0]"
      ],
      "metadata": {
        "colab": {
          "base_uri": "https://localhost:8080/"
        },
        "id": "o060-AZtReZV",
        "outputId": "6a0334ed-4854-4052-afec-d9aa19eed2f5"
      },
      "execution_count": null,
      "outputs": [
        {
          "output_type": "execute_result",
          "data": {
            "text/plain": [
              "15"
            ]
          },
          "metadata": {},
          "execution_count": 9
        }
      ]
    },
    {
      "cell_type": "code",
      "source": [
        "z = [15,8,9]\n",
        "z [0]\n",
        "z [0]= 7\n",
        "z [0]\n",
        "z"
      ],
      "metadata": {
        "colab": {
          "base_uri": "https://localhost:8080/"
        },
        "id": "G2qieuzeShuO",
        "outputId": "ee966c7d-0ad2-458c-9732-03ff1a1671a9"
      },
      "execution_count": null,
      "outputs": [
        {
          "output_type": "execute_result",
          "data": {
            "text/plain": [
              "[7, 8, 9]"
            ]
          },
          "metadata": {},
          "execution_count": 10
        }
      ]
    },
    {
      "cell_type": "code",
      "source": [
        "# calculo da media\n",
        "notas = [5,6,7,8,9]\n",
        "soma = 0\n",
        "x = 0\n",
        "while x < 5:\n",
        "  soma += notas [x]\n",
        "  x += 1\n",
        "print(\"media: %5.2f\" % (soma/x))"
      ],
      "metadata": {
        "colab": {
          "base_uri": "https://localhost:8080/"
        },
        "id": "OvU6iWV6TFu6",
        "outputId": "116cfd75-94a6-4409-e360-6693b3deaa9d"
      },
      "execution_count": null,
      "outputs": [
        {
          "output_type": "stream",
          "name": "stdout",
          "text": [
            "media:  7.00\n"
          ]
        }
      ]
    },
    {
      "cell_type": "code",
      "source": [
        "# cálculo da média com 5 notas digitadas\n",
        "notas = [0,0,0,0,0]\n",
        "soma = 0\n",
        "x = 0\n",
        "while x < 5:\n",
        "  notas [x] = float(input(\"digite a nota: \"))\n",
        "  soma += notas [x]\n",
        "  x += 1\n",
        "x = 0\n",
        "while x < 5:\n",
        "  print(\"nota %d: %6.2f\" % (x, notas [x]))\n",
        "  x += 1\n",
        "print(\"média: %5.2f\" % (soma/x))"
      ],
      "metadata": {
        "colab": {
          "base_uri": "https://localhost:8080/"
        },
        "id": "Oj51yXRRyRoz",
        "outputId": "98b140ce-7a2a-4da6-9439-d2efc8c3b63a"
      },
      "execution_count": null,
      "outputs": [
        {
          "output_type": "stream",
          "name": "stdout",
          "text": [
            "digite a nota: 6\n",
            "digite a nota: 7\n",
            "digite a nota: 8\n",
            "digite a nota: 9\n",
            "digite a nota: 10\n",
            "nota 0:   6.00\n",
            "nota 1:   7.00\n",
            "nota 2:   8.00\n",
            "nota 3:   9.00\n",
            "nota 4:  10.00\n",
            "média:  8.00\n"
          ]
        }
      ]
    },
    {
      "cell_type": "code",
      "source": [
        "# cálculo da média com 7 notas digitadas\n",
        "notas = [0,0,0,0,0,0,0]\n",
        "soma = 0\n",
        "x = 0\n",
        "while x < 7:\n",
        "  notas [x] = float(input(\"digite a nota: \"))\n",
        "  soma += notas [x]\n",
        "  x += 1\n",
        "x = 0\n",
        "while x < 7:\n",
        "  print(\"nota %d: %6.2f\" % (x, notas [x]))\n",
        "  x += 1\n",
        "print(\"média: %5.2f\" % (soma/x))"
      ],
      "metadata": {
        "colab": {
          "base_uri": "https://localhost:8080/"
        },
        "id": "L-nNUg8Pzmew",
        "outputId": "88bf30f8-9626-48ec-9338-0f6c9b7dbe70"
      },
      "execution_count": null,
      "outputs": [
        {
          "output_type": "stream",
          "name": "stdout",
          "text": [
            "digite a nota: 6\n",
            "digite a nota: 7\n",
            "digite a nota: 6\n",
            "digite a nota: 8\n",
            "digite a nota: 7\n",
            "digite a nota: 9\n",
            "digite a nota: 10\n",
            "nota 0:   6.00\n",
            "nota 1:   7.00\n",
            "nota 2:   6.00\n",
            "nota 3:   8.00\n",
            "nota 4:   7.00\n",
            "nota 5:   9.00\n",
            "nota 6:  10.00\n",
            "média:  7.57\n"
          ]
        }
      ]
    },
    {
      "cell_type": "code",
      "source": [
        "# apresentação de números\n",
        "números = [0,0,0,0,0]\n",
        "x = 0\n",
        "while x < 5:\n",
        "  números [x] = int(input(\"número %d\" % (x+1)))\n",
        "  x += 1\n",
        "while True:\n",
        "  escolhido = int(input(\"que posicao voce quer imprimir (0 para sair): \"))\n",
        "  if escolhido == 0:\n",
        "    break\n",
        "  print(\"voce escolheu o numero: %d\" % (números[escolhido -1]))"
      ],
      "metadata": {
        "colab": {
          "base_uri": "https://localhost:8080/"
        },
        "id": "PdPJwLicz9m5",
        "outputId": "4af8b5f5-7545-41c0-e9a0-77d46db7f62c"
      },
      "execution_count": null,
      "outputs": [
        {
          "name": "stdout",
          "output_type": "stream",
          "text": [
            "número 115\n",
            "número 212\n",
            "número 35\n",
            "número 47\n",
            "número 59\n",
            "que posicao voce quer imprimir (0 para sair): 3\n",
            "voce escolheu o numero: 5\n",
            "que posicao voce quer imprimir (0 para sair): 2\n",
            "voce escolheu o numero: 12\n",
            "que posicao voce quer imprimir (0 para sair): 0\n"
          ]
        }
      ]
    },
    {
      "cell_type": "code",
      "source": [
        "L = [1,2,3,4,5]\n",
        "V = L [:]\n",
        "V [0] = 6\n",
        "V"
      ],
      "metadata": {
        "colab": {
          "base_uri": "https://localhost:8080/"
        },
        "id": "xFgOuTN_DZTF",
        "outputId": "9c520ed0-68db-47df-b799-9583c1f4f88a"
      },
      "execution_count": null,
      "outputs": [
        {
          "output_type": "execute_result",
          "data": {
            "text/plain": [
              "[6, 2, 3, 4, 5]"
            ]
          },
          "metadata": {},
          "execution_count": 4
        }
      ]
    },
    {
      "cell_type": "code",
      "source": [
        "# fatiamento de listas, utilizar os dois pontos [:] para fatiar as listas\n",
        "L = [1,2,3,4,5]\n",
        "L [0:5]\n",
        "L [:5]"
      ],
      "metadata": {
        "colab": {
          "base_uri": "https://localhost:8080/"
        },
        "id": "3eBSkCFfEFNy",
        "outputId": "236b817b-652e-4067-89b7-9f2a8f0373c6"
      },
      "execution_count": null,
      "outputs": [
        {
          "output_type": "execute_result",
          "data": {
            "text/plain": [
              "[1, 2, 3, 4, 5]"
            ]
          },
          "metadata": {},
          "execution_count": 7
        }
      ]
    },
    {
      "cell_type": "code",
      "source": [
        "L = [1,2,3,4,5]\n",
        "L [:-1]"
      ],
      "metadata": {
        "colab": {
          "base_uri": "https://localhost:8080/"
        },
        "id": "nCOI4w31EmIF",
        "outputId": "4f7f0a1d-d65b-4838-f78a-4a19ef622881"
      },
      "execution_count": null,
      "outputs": [
        {
          "output_type": "execute_result",
          "data": {
            "text/plain": [
              "[1, 2, 3, 4]"
            ]
          },
          "metadata": {},
          "execution_count": 8
        }
      ]
    },
    {
      "cell_type": "code",
      "source": [
        "L = [1,2,3,4,5]\n",
        "L [1:3]"
      ],
      "metadata": {
        "colab": {
          "base_uri": "https://localhost:8080/"
        },
        "id": "0En0akfDErto",
        "outputId": "eef34ec0-cdd2-435b-c5dc-99de87a9a31f"
      },
      "execution_count": null,
      "outputs": [
        {
          "output_type": "execute_result",
          "data": {
            "text/plain": [
              "[2, 3]"
            ]
          },
          "metadata": {},
          "execution_count": 9
        }
      ]
    },
    {
      "cell_type": "code",
      "source": [
        "L = [1,2,3,4,5]\n",
        "L [3:]"
      ],
      "metadata": {
        "colab": {
          "base_uri": "https://localhost:8080/"
        },
        "id": "ruGtQ0JWEwZn",
        "outputId": "ae3267bf-d000-44a3-b5f4-70b80bbcc9b1"
      },
      "execution_count": null,
      "outputs": [
        {
          "output_type": "execute_result",
          "data": {
            "text/plain": [
              "[4, 5]"
            ]
          },
          "metadata": {},
          "execution_count": 10
        }
      ]
    },
    {
      "cell_type": "code",
      "source": [
        "L = [1,2,3,4,5]\n",
        "L [-1]"
      ],
      "metadata": {
        "colab": {
          "base_uri": "https://localhost:8080/"
        },
        "id": "fVibQnZoE2sm",
        "outputId": "a4498507-847f-4440-b0af-ec7b2d249a38"
      },
      "execution_count": null,
      "outputs": [
        {
          "output_type": "execute_result",
          "data": {
            "text/plain": [
              "5"
            ]
          },
          "metadata": {},
          "execution_count": 13
        }
      ]
    },
    {
      "cell_type": "code",
      "source": [
        "# tamanho de listas\n",
        "L = [12,9,5]\n",
        "len (L)\n",
        "V = []\n",
        "len (V)"
      ],
      "metadata": {
        "colab": {
          "base_uri": "https://localhost:8080/"
        },
        "id": "9-V_Bd3wHLJ1",
        "outputId": "fb5b6243-f3ae-4382-8253-1cbbbbf2f9a1"
      },
      "execution_count": null,
      "outputs": [
        {
          "output_type": "execute_result",
          "data": {
            "text/plain": [
              "0"
            ]
          },
          "metadata": {},
          "execution_count": 20
        }
      ]
    },
    {
      "cell_type": "code",
      "source": [
        "L = []\n",
        "while True:\n",
        "  n = int(input(\"digite o valor de n (0 sai):\"))\n",
        "  if n == 0:\n",
        "    break\n",
        "    L.append(n)\n",
        "x = 0\n",
        "while x < len(L):\n",
        "  print(L[x])\n",
        "  x = x + 1"
      ],
      "metadata": {
        "colab": {
          "base_uri": "https://localhost:8080/"
        },
        "id": "xWOGBd4MBSWN",
        "outputId": "5d7eb172-bd32-4984-93a1-f06595bafc3a"
      },
      "execution_count": null,
      "outputs": [
        {
          "name": "stdout",
          "output_type": "stream",
          "text": [
            "digite o valor de n (0 sai):5\n",
            "digite o valor de n (0 sai):8\n",
            "digite o valor de n (0 sai):2\n",
            "digite o valor de n (0 sai):10\n",
            "digite o valor de n (0 sai):6\n",
            "digite o valor de n (0 sai):0\n"
          ]
        }
      ]
    },
    {
      "cell_type": "code",
      "source": [
        "L= [1]\n",
        "L += [2,3,4]\n",
        "L"
      ],
      "metadata": {
        "colab": {
          "base_uri": "https://localhost:8080/"
        },
        "id": "r15sJtjVCJBw",
        "outputId": "9323cb42-e114-4b82-b201-8c277a83d2f1"
      },
      "execution_count": null,
      "outputs": [
        {
          "output_type": "execute_result",
          "data": {
            "text/plain": [
              "[1, 2, 3, 4]"
            ]
          },
          "metadata": {},
          "execution_count": 16
        }
      ]
    },
    {
      "cell_type": "code",
      "source": [
        "# adicionando elementos na lista\n",
        "L = [\"a\"]\n",
        "L.append(\"b\")\n",
        "L.extend([\"c\"])\n",
        "print(L)"
      ],
      "metadata": {
        "colab": {
          "base_uri": "https://localhost:8080/"
        },
        "id": "tFqHICm2Cu5E",
        "outputId": "4b2dbd45-f216-4662-8a48-aebdb393a4b9"
      },
      "execution_count": null,
      "outputs": [
        {
          "output_type": "stream",
          "name": "stdout",
          "text": [
            "['a', 'b', 'c']\n"
          ]
        }
      ]
    },
    {
      "cell_type": "code",
      "source": [
        "len(L[2])"
      ],
      "metadata": {
        "colab": {
          "base_uri": "https://localhost:8080/"
        },
        "id": "yL_RPMGMDEI8",
        "outputId": "c31bdcf9-c74a-4b80-9b45-60ea67103894"
      },
      "execution_count": null,
      "outputs": [
        {
          "output_type": "execute_result",
          "data": {
            "text/plain": [
              "1"
            ]
          },
          "metadata": {},
          "execution_count": 25
        }
      ]
    },
    {
      "cell_type": "code",
      "source": [
        "M = [2,3]\n",
        "N = [4,5]\n",
        "O = M + N\n",
        "print(M)\n",
        "print(N)\n",
        "print(O)"
      ],
      "metadata": {
        "colab": {
          "base_uri": "https://localhost:8080/"
        },
        "id": "CbEC6860DwmS",
        "outputId": "d27ea05d-d808-4f36-96b9-c2a111c5c29a"
      },
      "execution_count": null,
      "outputs": [
        {
          "output_type": "stream",
          "name": "stdout",
          "text": [
            "[2, 3]\n",
            "[4, 5]\n",
            "[2, 3, 4, 5]\n"
          ]
        }
      ]
    },
    {
      "cell_type": "code",
      "source": [
        "# remoção de elementos da lista (prestar atenção nos números das listas, pois sempre começa com zero (0)\n",
        "L = [1,2,3]\n",
        "del L[2]\n",
        "L"
      ],
      "metadata": {
        "colab": {
          "base_uri": "https://localhost:8080/"
        },
        "id": "t0Mrshe3FdI9",
        "outputId": "8aef9cde-68ff-4050-9fbe-e3dc4212b80e"
      },
      "execution_count": null,
      "outputs": [
        {
          "output_type": "execute_result",
          "data": {
            "text/plain": [
              "[1, 2]"
            ]
          },
          "metadata": {},
          "execution_count": 40
        }
      ]
    },
    {
      "cell_type": "code",
      "source": [
        "L = list(range(101))\n",
        "del L [1:99]\n",
        "print(L)"
      ],
      "metadata": {
        "colab": {
          "base_uri": "https://localhost:8080/"
        },
        "id": "fgveTqLZGdPX",
        "outputId": "1082ab14-e71d-4e23-caf6-196303648330"
      },
      "execution_count": null,
      "outputs": [
        {
          "output_type": "stream",
          "name": "stdout",
          "text": [
            "[0, 99, 100]\n"
          ]
        }
      ]
    },
    {
      "cell_type": "code",
      "source": [
        "# usando listas como filas\n",
        "último = 10\n",
        "fila = list(range(1,último+1))\n",
        "while True:\n",
        "     print(\"\\nExistem %d clientes na fila\" % len(fila))\n",
        "     print(\"Fila atual:\", fila)\n",
        "     print(\"Digite F para adicionar um cliente ao fim da fila,\")\n",
        "     print(\"ou A para realizar o atendimento. S para sair.\")\n",
        "     operação = input(\"Operação (F, A ou S):\")\n",
        "     if operação == \"A\":\n",
        "         if(len(fila))>0:\n",
        "               atendido = fila.pop(0)\n",
        "               print(\"Cliente %d atendido\" % atendido)\n",
        "         else:\n",
        "               print(\"Fila vazia! Ninguém para atender.\")\n",
        "     elif operação == \"F\":\n",
        "         último += 1 # Increnta o ticket do novo cliente\n",
        "         fila.append(último)\n",
        "     elif operação == \"S\":\n",
        "         break\n",
        "     else:\n",
        "         print(\"Operação inválida! Digite apenas F, A ou S!\")"
      ],
      "metadata": {
        "colab": {
          "base_uri": "https://localhost:8080/"
        },
        "id": "-x4JmVMLDU7k",
        "outputId": "33cf95be-07be-4cb1-be44-91fb65c3e1c0"
      },
      "execution_count": null,
      "outputs": [
        {
          "name": "stdout",
          "output_type": "stream",
          "text": [
            "\n",
            "Existem 10 clientes na fila\n",
            "Fila atual: [1, 2, 3, 4, 5, 6, 7, 8, 9, 10]\n",
            "Digite F para adicionar um cliente ao fim da fila,\n",
            "ou A para realizar o atendimento. S para sair.\n",
            "Operação (F, A ou S):A\n",
            "Cliente 1 atendido\n",
            "\n",
            "Existem 9 clientes na fila\n",
            "Fila atual: [2, 3, 4, 5, 6, 7, 8, 9, 10]\n",
            "Digite F para adicionar um cliente ao fim da fila,\n",
            "ou A para realizar o atendimento. S para sair.\n",
            "Operação (F, A ou S):A\n",
            "Cliente 2 atendido\n",
            "\n",
            "Existem 8 clientes na fila\n",
            "Fila atual: [3, 4, 5, 6, 7, 8, 9, 10]\n",
            "Digite F para adicionar um cliente ao fim da fila,\n",
            "ou A para realizar o atendimento. S para sair.\n",
            "Operação (F, A ou S):A\n",
            "Cliente 3 atendido\n",
            "\n",
            "Existem 7 clientes na fila\n",
            "Fila atual: [4, 5, 6, 7, 8, 9, 10]\n",
            "Digite F para adicionar um cliente ao fim da fila,\n",
            "ou A para realizar o atendimento. S para sair.\n",
            "Operação (F, A ou S):A\n",
            "Cliente 4 atendido\n",
            "\n",
            "Existem 6 clientes na fila\n",
            "Fila atual: [5, 6, 7, 8, 9, 10]\n",
            "Digite F para adicionar um cliente ao fim da fila,\n",
            "ou A para realizar o atendimento. S para sair.\n",
            "Operação (F, A ou S):F\n",
            "\n",
            "Existem 7 clientes na fila\n",
            "Fila atual: [5, 6, 7, 8, 9, 10, 11]\n",
            "Digite F para adicionar um cliente ao fim da fila,\n",
            "ou A para realizar o atendimento. S para sair.\n",
            "Operação (F, A ou S):A\n",
            "Cliente 5 atendido\n",
            "\n",
            "Existem 6 clientes na fila\n",
            "Fila atual: [6, 7, 8, 9, 10, 11]\n",
            "Digite F para adicionar um cliente ao fim da fila,\n",
            "ou A para realizar o atendimento. S para sair.\n",
            "Operação (F, A ou S):A\n",
            "Cliente 6 atendido\n",
            "\n",
            "Existem 5 clientes na fila\n",
            "Fila atual: [7, 8, 9, 10, 11]\n",
            "Digite F para adicionar um cliente ao fim da fila,\n",
            "ou A para realizar o atendimento. S para sair.\n",
            "Operação (F, A ou S):S\n"
          ]
        }
      ]
    },
    {
      "cell_type": "code",
      "source": [
        "# matriz através de vídeos\n",
        "matriz = [[0 , 0 , 0],[0 , 0 , 0],[0 , 0 , 0]]\n",
        "for l in range(0,3):\n",
        "  for c in range(0,3):\n",
        "    matriz [l] [c] = int(input(f\"digite o valor para [{l}] [{c}]: \"))\n",
        "print(\"-=\" * 30)\n",
        "for l in range(0,3):\n",
        "  for c in range(0,3):\n",
        "      print(f\"[{matriz [l] [c]:^5}]\", end =\" \")\n",
        "  print()"
      ],
      "metadata": {
        "colab": {
          "base_uri": "https://localhost:8080/"
        },
        "id": "xX6e-gXi6Y4A",
        "outputId": "e28b157c-c941-4718-c90e-77a217af28e7"
      },
      "execution_count": null,
      "outputs": [
        {
          "output_type": "stream",
          "name": "stdout",
          "text": [
            "digite o valor para [0] [0]: 2\n",
            "digite o valor para [0] [1]: 4\n",
            "digite o valor para [0] [2]: 6\n",
            "digite o valor para [1] [0]: 8\n",
            "digite o valor para [1] [1]: 10\n",
            "digite o valor para [1] [2]: 12\n",
            "digite o valor para [2] [0]: 14\n",
            "digite o valor para [2] [1]: 16\n",
            "digite o valor para [2] [2]: 18\n",
            "-=-=-=-=-=-=-=-=-=-=-=-=-=-=-=-=-=-=-=-=-=-=-=-=-=-=-=-=-=-=\n",
            "[  2  ] [  4  ] [  6  ] \n",
            "[  8  ] [ 10  ] [ 12  ] \n",
            "[ 14  ] [ 16  ] [ 18  ] \n"
          ]
        }
      ]
    },
    {
      "cell_type": "code",
      "source": [
        "A = []\n",
        "for i in range(5):\n",
        "    linha = []\n",
        "for i in range(5):\n",
        "    valor = int(input(\"Digite um valor para a matriz A: \"))\n",
        "    linha.append(valor)\n",
        "    A.append(linha)\n",
        "for linha in A:\n",
        "    for valor in linha:\n",
        "        print(linha, end=\" \")\n",
        "    print()"
      ],
      "metadata": {
        "colab": {
          "base_uri": "https://localhost:8080/"
        },
        "id": "bsg9j_g9r30i",
        "outputId": "77ce235f-8d52-48b4-d5c4-39e43680dc4b"
      },
      "execution_count": null,
      "outputs": [
        {
          "output_type": "stream",
          "name": "stdout",
          "text": [
            "Digite um valor para a matriz A: 2\n",
            "Digite um valor para a matriz A: 4\n",
            "Digite um valor para a matriz A: 6\n",
            "Digite um valor para a matriz A: 8\n",
            "Digite um valor para a matriz A: 10\n",
            "[2, 4, 6, 8, 10] [2, 4, 6, 8, 10] [2, 4, 6, 8, 10] [2, 4, 6, 8, 10] [2, 4, 6, 8, 10] \n",
            "[2, 4, 6, 8, 10] [2, 4, 6, 8, 10] [2, 4, 6, 8, 10] [2, 4, 6, 8, 10] [2, 4, 6, 8, 10] \n",
            "[2, 4, 6, 8, 10] [2, 4, 6, 8, 10] [2, 4, 6, 8, 10] [2, 4, 6, 8, 10] [2, 4, 6, 8, 10] \n",
            "[2, 4, 6, 8, 10] [2, 4, 6, 8, 10] [2, 4, 6, 8, 10] [2, 4, 6, 8, 10] [2, 4, 6, 8, 10] \n",
            "[2, 4, 6, 8, 10] [2, 4, 6, 8, 10] [2, 4, 6, 8, 10] [2, 4, 6, 8, 10] [2, 4, 6, 8, 10] \n"
          ]
        }
      ]
    },
    {
      "cell_type": "code",
      "source": [
        "linhas = 3\n",
        "colunas = 5\n",
        "B = [\n",
        "    [3,5,9,7,8],\n",
        "    [8,6,4,8,7],\n",
        "    [6,3,4,1,0],\n",
        "    ]\n",
        "segunda_linha = B[1]\n",
        "somatorio = sum(segunda_linha)\n",
        "print(\"Matriz B:\")\n",
        "for linha in B:\n",
        "    print(linha)\n",
        "print(\"Somatório da segunda linha:\", somatorio)"
      ],
      "metadata": {
        "id": "HDOzkDOiIHuf",
        "colab": {
          "base_uri": "https://localhost:8080/"
        },
        "outputId": "d98d0fd7-25a3-44e3-82f7-f6d14cf17c74"
      },
      "execution_count": null,
      "outputs": [
        {
          "output_type": "stream",
          "name": "stdout",
          "text": [
            "Matriz B:\n",
            "[3, 5, 9, 7, 8]\n",
            "[8, 6, 4, 8, 7]\n",
            "[6, 3, 4, 1, 0]\n",
            "Somatório da segunda linha: 33\n"
          ]
        }
      ]
    },
    {
      "cell_type": "code",
      "source": [
        "linhas = 4\n",
        "colunas = 5\n",
        "tabela = []\n",
        "for i in range(linhas):\n",
        "    linha = []\n",
        "    for j in range(colunas):\n",
        "        numero = int(input(f\"Digite o número para a posição [{i+1}][{j+1}]: \"))\n",
        "        linha.append(numero)\n",
        "    tabela.append(linha)\n",
        "soma_linhas = []\n",
        "for linha in tabela:\n",
        "    soma_linha = sum(linha)\n",
        "    soma_linhas.append(soma_linha)\n",
        "soma_total = sum(sum(linha) for linha in tabela)\n",
        "print(\"Soma de cada linha:\")\n",
        "for i in range(len(soma_linhas)):\n",
        "    print(\"Linha\", i + 1, \":\", soma_linhas[i])\n",
        "print(\"Soma de todos os elementos:\", soma_total)"
      ],
      "metadata": {
        "colab": {
          "base_uri": "https://localhost:8080/"
        },
        "id": "zNwXTuhEK6T4",
        "outputId": "c39a53d5-9cc7-4181-f5e0-7cc13dcdddac"
      },
      "execution_count": null,
      "outputs": [
        {
          "output_type": "stream",
          "name": "stdout",
          "text": [
            "Digite o número para a posição [1][1]: 5\n",
            "Digite o número para a posição [1][2]: 10\n",
            "Digite o número para a posição [1][3]: 13\n",
            "Digite o número para a posição [1][4]: 22\n",
            "Digite o número para a posição [1][5]: 8\n",
            "Digite o número para a posição [2][1]: 21\n",
            "Digite o número para a posição [2][2]: 18\n",
            "Digite o número para a posição [2][3]: 20\n",
            "Digite o número para a posição [2][4]: 25\n",
            "Digite o número para a posição [2][5]: 30\n",
            "Digite o número para a posição [3][1]: 7\n",
            "Digite o número para a posição [3][2]: 3\n",
            "Digite o número para a posição [3][3]: 9\n",
            "Digite o número para a posição [3][4]: 14\n",
            "Digite o número para a posição [3][5]: 16\n",
            "Digite o número para a posição [4][1]: 4\n",
            "Digite o número para a posição [4][2]: 2\n",
            "Digite o número para a posição [4][3]: 1\n",
            "Digite o número para a posição [4][4]: 17\n",
            "Digite o número para a posição [4][5]: 32\n",
            "Soma de cada linha:\n",
            "Linha 1 : 58\n",
            "Linha 2 : 114\n",
            "Linha 3 : 49\n",
            "Linha 4 : 56\n",
            "Soma de todos os elementos: 277\n"
          ]
        }
      ]
    },
    {
      "cell_type": "code",
      "source": [
        "def validar_numero(numero, base):\n",
        "    digitos = \"0123456789ABCDEF\"\n",
        "    for digito in numero:\n",
        "        if digito not in digitos[:base]:\n",
        "            return False\n",
        "    return True\n",
        "def converter_base(numero, base_entrada, base_saida):\n",
        "    decimal = int(numero, base_entrada)\n",
        "    resultado = \"\"\n",
        "    digitos = \"0123456789ABCDEF\"\n",
        "    while decimal > 0:\n",
        "        resto = decimal % base_saida\n",
        "        resultado = digitos[resto] + resultado\n",
        "        decimal = decimal // base_saida\n",
        "    return resultado if resultado else \"0\"\n",
        "base_entrada = int(input(\"Digite a base de entrada: \"))\n",
        "base_saida = int(input(\"Digite a base de saída: \"))\n",
        "numero = input(\"Digite o número a ser convertido: \")\n",
        "if validar_numero(numero, base_entrada):\n",
        "    resultado = converter_base(numero, base_entrada, base_saida)\n",
        "    print(f\"O número {numero} na base {base_entrada} é igual a {resultado} na base {base_saida}.\")\n",
        "else:\n",
        "    print(\"Número inválido para a base de entrada escolhida.\")"
      ],
      "metadata": {
        "colab": {
          "base_uri": "https://localhost:8080/"
        },
        "id": "6388BxZvU6JG",
        "outputId": "3fcb4af7-0ee2-4f84-9f29-fa55e1fb6227"
      },
      "execution_count": null,
      "outputs": [
        {
          "output_type": "stream",
          "name": "stdout",
          "text": [
            "Digite a base de entrada: 2\n",
            "Digite a base de saída: 16\n",
            "Digite o número a ser convertido: 101\n",
            "O número 101 na base 2 é igual a 5 na base 16.\n"
          ]
        }
      ]
    },
    {
      "cell_type": "markdown",
      "source": [
        "Funções"
      ],
      "metadata": {
        "id": "_V_5yM46If2h"
      }
    },
    {
      "cell_type": "code",
      "source": [
        "def latir(nome,peso):\n",
        "  if peso > 20:\n",
        "    print(nome,\"diz WOOF WOOF\")\n",
        "  else:\n",
        "      print(nome,\"diz woof woof\")\n",
        "\n",
        "#início programa principal\n",
        "latir(\"rover\", 23)\n",
        "latir(\"spot\", 13)\n",
        "latir(\"spike\", 53)\n",
        "latir(\"lady\", 17)"
      ],
      "metadata": {
        "colab": {
          "base_uri": "https://localhost:8080/"
        },
        "id": "0snbiQsQGbBT",
        "outputId": "338b1b8b-92f2-4820-d4e8-e0b8242da24f"
      },
      "execution_count": null,
      "outputs": [
        {
          "output_type": "stream",
          "name": "stdout",
          "text": [
            "rover diz WOOF WOOF\n",
            "spot diz woof woof\n",
            "spike diz WOOF WOOF\n",
            "lady diz woof woof\n"
          ]
        }
      ]
    },
    {
      "cell_type": "code",
      "source": [
        "def é_par(x):\n",
        "  return(x%2==0)\n",
        "print(é_par(2))\n",
        "print(é_par(3))"
      ],
      "metadata": {
        "colab": {
          "base_uri": "https://localhost:8080/"
        },
        "id": "UUiTThJiM6pK",
        "outputId": "a7afc597-2bb8-47a6-99a5-673f47c2a18b"
      },
      "execution_count": null,
      "outputs": [
        {
          "output_type": "stream",
          "name": "stdout",
          "text": [
            "True\n",
            "False\n"
          ]
        }
      ]
    },
    {
      "cell_type": "code",
      "source": [
        "def e_par(x):\n",
        "  return(x%2==0)\n",
        "def par_ou_impar(x):\n",
        "  if e_par(x):\n",
        "    return \"par\"\n",
        "  else:\n",
        "    return \"impar\"\n",
        "print(par_ou_impar(4))\n",
        "print(par_ou_impar(5))"
      ],
      "metadata": {
        "colab": {
          "base_uri": "https://localhost:8080/"
        },
        "id": "1tpquTKxPM2r",
        "outputId": "a1c1941a-ba32-4ec9-b9a7-52b4b036d11e"
      },
      "execution_count": null,
      "outputs": [
        {
          "output_type": "stream",
          "name": "stdout",
          "text": [
            "par\n",
            "impar\n"
          ]
        }
      ]
    },
    {
      "cell_type": "code",
      "source": [
        "def soma(L):\n",
        "  total=0\n",
        "  for e in L:\n",
        "    s+=e\n",
        "  return total\n",
        "def media(L):\n",
        "  return(soma(L))/(len(L))"
      ],
      "metadata": {
        "id": "MXqRrtJPRL0t"
      },
      "execution_count": null,
      "outputs": []
    },
    {
      "cell_type": "code",
      "source": [
        "#Cálculo do fatorial\n",
        "def fatorial(n):\n",
        "  fat = 1\n",
        "  while n>1:\n",
        "    fat*=n\n",
        "    n-=1\n",
        "  return fat"
      ],
      "metadata": {
        "id": "vyW9Uj2ZSmt_"
      },
      "execution_count": null,
      "outputs": []
    },
    {
      "cell_type": "code",
      "source": [
        "#Jogo de acertar a palavra embaralhada\n",
        "import random\n",
        "tema = input(\"Digite o tema escolhido: (frutas, cores ou objetos) \")\n",
        "dificuldade = input(\"Digite a dificuldade escolhida: (iniciante, intermediário ou avançado) \")\n",
        "palavras_e_tema = {\n",
        "    'frutas': {\n",
        "        'iniciante': ['laranja', 'pera', 'manga', 'kiwi', 'banana'],\n",
        "        'intermediário': ['morango', 'melancia', 'goiaba', 'tangerina', 'abacaxi'],\n",
        "        'avançado': ['graviola', 'acerola', 'mirtilo', 'groselha', 'pitanga'],\n",
        "    },\n",
        "    'cores': {\n",
        "        'iniciante': ['roxo', 'rosa', 'laranja', 'vermelho', 'cinza'],\n",
        "        'intermediário': ['azul', 'amarelo', 'areia', 'verde', 'violeta'],\n",
        "        'avançado': ['turquesa', 'marrom', 'vinho', 'lavanda', 'dourado'],\n",
        "    },\n",
        "    'objetos': {\n",
        "        'iniciante': ['lápis', 'borracha', 'caderno', 'caneta', 'papel'],\n",
        "        'intermediário': ['livro', 'agenda', 'apagador', 'pincel', 'tinta'],\n",
        "        'avançado': ['apontador', 'tesoura', 'calculadora', 'grampeador', 'corretivo'],\n",
        "    },\n",
        "}\n",
        "palavras = palavras_e_tema[tema][dificuldade]\n",
        "palavra_correta = random.choice(palavras)\n",
        "palavra_embaralhada = \"\".join(random.sample(palavra_correta, len(palavra_correta)))\n",
        "print(palavra_embaralhada)\n",
        "tentativas = 5\n",
        "contador_de_tentativas = 0\n",
        "for i in range(tentativas):\n",
        "   digite = input(\"Digite a palavra: \")\n",
        "   contador_de_tentativas += 1\n",
        "   if digite == palavra_correta:\n",
        "        print(\"Parabéns, você acertou a palavra em\", contador_de_tentativas, \"tentativas!!\")\n",
        "        break\n",
        "   else:\n",
        "        tentativas -= 1\n",
        "        if tentativas > 0:\n",
        "            print(\"Você errou, continue e tente novamente. Tentativas restantes: \", tentativas)\n",
        "        else:\n",
        "            print(\"Suas tentativas acabaram. A palavra correta era:\", palavra_correta)"
      ],
      "metadata": {
        "colab": {
          "base_uri": "https://localhost:8080/"
        },
        "id": "83yI7R-2jq6T",
        "outputId": "fe5fd5b8-537f-4962-f0fb-3393deb57dff"
      },
      "execution_count": null,
      "outputs": [
        {
          "output_type": "stream",
          "name": "stdout",
          "text": [
            "Digite o tema escolhido: (frutas, cores ou objetos) frutas\n",
            "Digite a dificuldade escolhida: (iniciante, intermediário ou avançado) iniciante\n",
            "amnag\n",
            "Digite a palavra: manga\n",
            "Parabéns, você acertou a palavra em 1 tentativas!!\n"
          ]
        }
      ]
    },
    {
      "cell_type": "markdown",
      "source": [
        "Arquivos"
      ],
      "metadata": {
        "id": "9y992g_oOEeW"
      }
    },
    {
      "cell_type": "code",
      "source": [
        "def quebrar_em_linhas(texto):\n",
        "    linhas = []\n",
        "    linha_atual = ''\n",
        "\n",
        "    for palavra in texto.split():\n",
        "        linha_atual = (linha_atual + ' ' + palavra).strip()\n",
        "        if len(linha_atual) > 76:\n",
        "            linhas.append(linha_atual)\n",
        "            linha_atual = ''\n",
        "\n",
        "    if linha_atual:\n",
        "        linhas.append(linha_atual)\n",
        "\n",
        "    return linhas\n",
        "def gerar_arquivo_paginado(texto, nome_arquivo_saida):\n",
        "    linhas = quebrar_em_linhas(texto)\n",
        "    numero_pagina = 1\n",
        "    with open(nome_arquivo_saida, 'w') as arquivo_saida:\n",
        "        for i, linha in enumerate(linhas):\n",
        "            arquivo_saida.write(linha + '\\n')\n",
        "            if (i + 1) % 60 == 0 or i == len(linhas) - 1:\n",
        "                arquivo_saida.write(f'[Página {numero_pagina} - Nome do Arquivo Original]\\n\\n')\n",
        "                numero_pagina += 1\n",
        "\n",
        "# Obtenha o texto do usuário\n",
        "texto = input(\"Digite o texto que deseja paginar:\\n\")\n",
        "\n",
        "# Nome do arquivo de saída\n",
        "nome_arquivo_saida = 'texto_paginado.txt'\n",
        "\n",
        "# Chamando a função para gerar o arquivo paginado\n",
        "gerar_arquivo_paginado(texto, nome_arquivo_saida)"
      ],
      "metadata": {
        "colab": {
          "base_uri": "https://localhost:8080/"
        },
        "id": "0c1zRe31hltM",
        "outputId": "17c5dc68-414b-4441-ec1e-84e49dba4a7c"
      },
      "execution_count": null,
      "outputs": [
        {
          "name": "stdout",
          "output_type": "stream",
          "text": [
            "Digite o texto que deseja paginar:\n",
            "Bem vindo á programação\n"
          ]
        }
      ]
    },
    {
      "cell_type": "code",
      "source": [
        "def quebrar_em_linhas(texto):\n",
        "    linhas = []\n",
        "    linha_atual = ''\n",
        "    for palavra in texto.split():\n",
        "        linha_atual = (linha_atual + ' ' + palavra).strip()\n",
        "        if len(linha_atual) > 76:\n",
        "            linhas.append(linha_atual)\n",
        "            linha_atual = ''\n",
        "\n",
        "    if linha_atual:\n",
        "        linhas.append(linha_atual)\n",
        "    return linhas\n",
        "def gerar_arquivo_paginado(texto, nome_arquivo_saida):\n",
        "    linhas = quebrar_em_linhas(texto)\n",
        "    numero_pagina = 1\n",
        "    nome_arquivo_original = nome_arquivo_saida\n",
        "\n",
        "    with open(nome_arquivo_saida, 'w') as arquivo_saida:\n",
        "        for i, linha in enumerate(linhas):\n",
        "            arquivo_saida.write(linha + '\\n')\n",
        "            if (i + 1) % 60 == 0 or i == len(linhas) - 1:\n",
        "                arquivo_saida.write(f'[Página {numero_pagina} - {nome_arquivo_original}]\\n\\n')\n",
        "                numero_pagina += 1\n",
        "\n",
        "# Obtenha o texto do usuário\n",
        "texto = input(\"Digite o texto que deseja paginar:\\n\")\n",
        "\n",
        "# Nome do arquivo de saída\n",
        "nome_arquivo_saida = 'texto_paginado.txt'\n",
        "\n",
        "# Chamando a função para gerar o arquivo paginado\n",
        "gerar_arquivo_paginado(texto, nome_arquivo_saida)"
      ],
      "metadata": {
        "colab": {
          "base_uri": "https://localhost:8080/"
        },
        "id": "epVk7p1JiXqE",
        "outputId": "3b57dde7-52dc-4ba8-f85e-3033a007c847"
      },
      "execution_count": null,
      "outputs": [
        {
          "name": "stdout",
          "output_type": "stream",
          "text": [
            "Digite o texto que deseja paginar:\n",
            "Bem vindo \n"
          ]
        }
      ]
    },
    {
      "cell_type": "code",
      "source": [
        "def processar_texto(texto):\n",
        "    linhas = texto.split('\\n')\n",
        "    linhas_limpas = []\n",
        "    for linha in linhas:\n",
        "        linha = ' '.join(linha.split())\n",
        "        if linha:\n",
        "            linhas_limpas.append(linha)\n",
        "    resultado = '\\n'.join(linhas_limpas)\n",
        "    return resultado\n",
        "texto_entrada = \"\"\"\n",
        "Este é um texto com          muitos     espaços.\n",
        "\n",
        "Aqui se repete uma linha        com espaços excessivos.\n",
        "\n",
        "Este é um parágrafo        com várias linhas em branco\n",
        "\n",
        "\n",
        "\"\"\"\n",
        "texto_processado = processar_texto(texto_entrada)\n",
        "nome_arquivo_saida = 'texto_saida.txt'\n",
        "with open(nome_arquivo_saida, 'w') as arquivo_saida:\n",
        "    arquivo_saida.write(texto_processado)"
      ],
      "metadata": {
        "id": "2UhBbXMslwjv"
      },
      "execution_count": null,
      "outputs": []
    },
    {
      "cell_type": "code",
      "source": [
        "impares = open(\"ímpares.txt\",\"w\")\n",
        "pares = open(\"pares.txt\",\"w\")\n",
        "for n in range(0,100):\n",
        "     if n % 2 == 0:\n",
        "         pares.write(\"%d\\n\" % n)\n",
        "     else:\n",
        "         impares.write(\"%d\\n\" % n)\n",
        "impares.close()\n",
        "pares.close()"
      ],
      "metadata": {
        "id": "qW9JegdLOm3x"
      },
      "execution_count": null,
      "outputs": []
    },
    {
      "cell_type": "markdown",
      "source": [
        "Geração de HTML"
      ],
      "metadata": {
        "id": "0PXOrUoNP_hN"
      }
    },
    {
      "cell_type": "code",
      "source": [
        "pagina = open(\"pagina.html\",\"w\", encoding = \"utf-8\")\n",
        "pagina.write(\"<!DOCTYPE html>\\n\")\n",
        "pagina.write(\"<html lang=\\\"pt-BR\\\">\\n\")\n",
        "pagina.write(\"<head>\\n\")\n",
        "pagina.write(\"<meta charset=\\\"utf-8\\\">\\n\")\n",
        "pagina.write(\"<title>Título da Página</title>\\n\")\n",
        "pagina.write(\"</head>\\n\")\n",
        "pagina.write(\"<body>\\n\")\n",
        "pagina.write(\"Olá! Bem vindo á sua página!\")\n",
        "for l in range(10):\n",
        "     pagina.write(\"<p>%d</p>\\n\" % l)\n",
        "pagina.write(\"</body>\\n\")\n",
        "pagina.write(\"</html>\\n\")\n",
        "pagina.close()"
      ],
      "metadata": {
        "id": "M2hwCdFlRIrs"
      },
      "execution_count": null,
      "outputs": []
    },
    {
      "cell_type": "code",
      "source": [
        "pagina = open(\"pagina.html\",\"w\", encoding = \"utf-8\")\n",
        "pagina.write(\"<!DOCTYPE html>\\n\")\n",
        "pagina.write(\"<html lang=\\\"pt-BR\\\">\\n\")\n",
        "pagina.write(\"<head>\\n\")\n",
        "pagina.write(\"<meta charset=\\\"utf-8\\\">\\n\")\n",
        "pagina.write(\"<title>Título da Página</title>\\n\")\n",
        "pagina.write(\"</head>\\n\")\n",
        "pagina.write(\"<body>\\n\")\n",
        "pagina.write(\"Olá! Bem vindo á sua página!\")\n",
        "pagina.write(\"</body>\\n\")\n",
        "pagina.write(\"</html>\\n\")\n",
        "pagina.close()"
      ],
      "metadata": {
        "id": "Y9NUc8_gVJKr"
      },
      "execution_count": null,
      "outputs": []
    },
    {
      "cell_type": "markdown",
      "source": [
        "Pacotes e Módulos"
      ],
      "metadata": {
        "id": "d1c-1bY0ZIfE"
      }
    },
    {
      "cell_type": "code",
      "source": [
        "#Tratamento de Erros\n",
        "\n",
        "def validar_senha(senha):\n",
        "    try:\n",
        "        if len(senha) < 8:\n",
        "            raise ValueError(\"A senha deve ter pelo menos 8 caracteres.\")\n",
        "        else:\n",
        "            print(\"Senha válida!\")\n",
        "    except ValueError as e:\n",
        "        print(f\"Erro: {e}\")\n",
        "\n",
        "if __name__ == \"__main__\":\n",
        "    senha_usuario = input(\"Digite uma senha com pelo menos 8 caracteres: \")\n",
        "    validar_senha(senha_usuario)"
      ],
      "metadata": {
        "id": "OCy6oRx6UpUt",
        "colab": {
          "base_uri": "https://localhost:8080/"
        },
        "outputId": "59f20573-5060-4013-9435-2989845068bb"
      },
      "execution_count": 10,
      "outputs": [
        {
          "output_type": "stream",
          "name": "stdout",
          "text": [
            "Digite uma senha com pelo menos 8 caracteres: gabriela\n",
            "Senha válida!\n"
          ]
        }
      ]
    },
    {
      "cell_type": "code",
      "source": [
        "# A função dict() em Python cria um novo dicionário. Pode ser usado de várias maneiras, mas geralmente, é usado para criar um dicionário\n",
        "# a partir de iteráveis, como listas de tuplas ou pares chave-valor\n",
        "pares = [('a', 1), ('b', 2), ('c', 3)]\n",
        "dicionario = dict(pares)\n",
        "print(dicionario)"
      ],
      "metadata": {
        "colab": {
          "base_uri": "https://localhost:8080/"
        },
        "id": "G0DEq0BvLVdN",
        "outputId": "85b53297-624e-4d08-f8a3-ac9b43c1b90d"
      },
      "execution_count": null,
      "outputs": [
        {
          "output_type": "stream",
          "name": "stdout",
          "text": [
            "{'a': 1, 'b': 2, 'c': 3}\n"
          ]
        }
      ]
    },
    {
      "cell_type": "markdown",
      "source": [
        "### POO"
      ],
      "metadata": {
        "id": "6LcglEFqZat7"
      }
    },
    {
      "cell_type": "code",
      "source": [
        "class Usuario():\n",
        "\n",
        "  pontos = 0\n",
        "  numeros_artigos = 0\n",
        "\n",
        "  def setNumeroArtigos(self,nart):\n",
        "    self.numeros_artigos = nart\n",
        "\n",
        "  def getNumeroArtigos(self):\n",
        "    return self.numeros_artigos\n",
        "\n",
        "  def calcPontuacao(self):\n",
        "    pass\n",
        "  \"\"\" pass é utilizado para passar um parâmetro de várias formas e em diferentes class\n",
        "  Ela serve como um lembrete de que um bloco de código ainda precisa ser implementado\n",
        "  ou como uma forma de criar estruturas mínimas sem causar erros de sintaxe \"\"\"\n",
        "\n",
        "class Autor(Usuario):\n",
        "\n",
        "  def calcPontuacao(self):\n",
        "    return self.numeros_artigos * 10 + 20\n",
        "\n",
        "class Editor(Usuario):\n",
        "\n",
        "  def calcPontuacao(self):\n",
        "    return self.numeros_artigos * 6 + 15\n",
        "\n",
        "autor = Autor()\n",
        "autor.setNumeroArtigos(15)\n",
        "print(f\"Pontuação do Autor: {autor.calcPontuacao()}\")\n",
        "editor = Editor()\n",
        "editor.setNumeroArtigos(10)\n",
        "print(f\"Pontuação do Editor: {editor.calcPontuacao()}\")"
      ],
      "metadata": {
        "colab": {
          "base_uri": "https://localhost:8080/"
        },
        "id": "C_sZB921ZdJO",
        "outputId": "5e73f898-c3ec-4f67-cde7-56ef10b368d3"
      },
      "execution_count": 8,
      "outputs": [
        {
          "output_type": "stream",
          "name": "stdout",
          "text": [
            "Pontuação do Autor: 170\n",
            "Pontuação do Editor: 75\n"
          ]
        }
      ]
    }
  ]
}