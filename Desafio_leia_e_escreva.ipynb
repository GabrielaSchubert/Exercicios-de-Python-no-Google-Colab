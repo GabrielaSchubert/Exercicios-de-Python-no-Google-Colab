{
  "nbformat": 4,
  "nbformat_minor": 0,
  "metadata": {
    "colab": {
      "provenance": [],
      "authorship_tag": "ABX9TyNwFIhgpCsPnclXhPLdUD0w",
      "include_colab_link": true
    },
    "kernelspec": {
      "name": "python3",
      "display_name": "Python 3"
    },
    "language_info": {
      "name": "python"
    }
  },
  "cells": [
    {
      "cell_type": "markdown",
      "metadata": {
        "id": "view-in-github",
        "colab_type": "text"
      },
      "source": [
        "<a href=\"https://colab.research.google.com/github/GabrielaSchubert/GabrielaSchubert/blob/main/Desafio_leia_e_escreva.ipynb\" target=\"_parent\"><img src=\"https://colab.research.google.com/assets/colab-badge.svg\" alt=\"Open In Colab\"/></a>"
      ]
    },
    {
      "cell_type": "markdown",
      "source": [
        "Exercicio 1"
      ],
      "metadata": {
        "id": "2Gew7auCiyy6"
      }
    },
    {
      "cell_type": "code",
      "source": [
        "lado= float(input(\" digite o lado de um quadrado: \"))\n",
        "area= lado*lado\n",
        "perimetro= lado*4\n",
        "print( \"area\" , area)\n",
        "print( \"perimetro\" , perimetro)"
      ],
      "metadata": {
        "colab": {
          "base_uri": "https://localhost:8080/"
        },
        "id": "aCz3xJ-Ii27_",
        "outputId": "73acc365-feed-43e2-fc9d-286ce150f518"
      },
      "execution_count": null,
      "outputs": [
        {
          "output_type": "stream",
          "name": "stdout",
          "text": [
            " digite o lado de um quadrado: 5.5\n",
            "area 30.25\n",
            "perimetro 22.0\n"
          ]
        }
      ]
    },
    {
      "cell_type": "markdown",
      "source": [
        "Exercicio 2"
      ],
      "metadata": {
        "id": "V_WW2qqYlaPb"
      }
    },
    {
      "cell_type": "code",
      "source": [
        "nome= input( \" digite seu nome: \")\n",
        "filhos= input( \" digite quantos filhos fulano tem: \")\n",
        "#print( \" seu nome \", nome )\n",
        "#print( \" tenho \",filhos)\n",
        "print(nome,\"tem\",filhos,\"filhos\")"
      ],
      "metadata": {
        "colab": {
          "base_uri": "https://localhost:8080/"
        },
        "id": "lFKMu-0jldVS",
        "outputId": "dd45559d-54d9-4af9-c198-58203908f926"
      },
      "execution_count": null,
      "outputs": [
        {
          "output_type": "stream",
          "name": "stdout",
          "text": [
            " digite seu nome: Lucas\n",
            " digite quantos filhos fulano tem: 5\n",
            "Lucas tem 5 filhos\n"
          ]
        }
      ]
    },
    {
      "cell_type": "markdown",
      "source": [
        "Exercicio 3"
      ],
      "metadata": {
        "id": "e1tQrRLwrd7E"
      }
    },
    {
      "cell_type": "code",
      "source": [
        "base= int(input( \" digite a base do retangulo: \"))\n",
        "altura= int(input( \" digite a altura do retangulo: \"))\n",
        "perimetro= 2* (base+altura)\n",
        "area= (base*altura)\n",
        "print(\"perimetro\", perimetro)\n",
        "print(\"area\", area)"
      ],
      "metadata": {
        "colab": {
          "base_uri": "https://localhost:8080/"
        },
        "id": "IL7e5bOprh_a",
        "outputId": "3f4b535a-3705-46e4-9691-51f8eef4ff43"
      },
      "execution_count": null,
      "outputs": [
        {
          "output_type": "stream",
          "name": "stdout",
          "text": [
            " digite a base do retangulo: 6\n",
            " digite a altura do retangulo: 8\n",
            "perimetro 28\n",
            "area 48\n"
          ]
        }
      ]
    },
    {
      "cell_type": "markdown",
      "source": [
        "Exercicio 4"
      ],
      "metadata": {
        "id": "KVCf0R_Ps47C"
      }
    },
    {
      "cell_type": "code",
      "source": [
        "lado= int(input( \" digite o lado de um cubo: \"))\n",
        "area= (6*lado*lado)\n",
        "volume= (lado*lado)\n",
        "print(\"area\", area)\n",
        "print(\"volume\", volume)"
      ],
      "metadata": {
        "colab": {
          "base_uri": "https://localhost:8080/"
        },
        "id": "85KdG8WZs7bs",
        "outputId": "8d054091-3845-4b65-b5b4-40ec45d7bb11"
      },
      "execution_count": null,
      "outputs": [
        {
          "output_type": "stream",
          "name": "stdout",
          "text": [
            " digite o lado de um cubo: 4\n",
            "area 96\n",
            "volume 16\n"
          ]
        }
      ]
    },
    {
      "cell_type": "markdown",
      "source": [
        "Exercicio 5"
      ],
      "metadata": {
        "id": "jQGGMpkruE34"
      }
    },
    {
      "cell_type": "code",
      "source": [
        "num1= int(input(\" digite o numero: \"))\n",
        "num2= int(input(\" digite outro numero: \"))\n",
        "print( \"quociente\", num1/num2)\n",
        "print( \"resto da divisao\", num1/num2)\n"
      ],
      "metadata": {
        "id": "xwDcN13euHK5",
        "colab": {
          "base_uri": "https://localhost:8080/"
        },
        "outputId": "4b52c22b-c239-4e6b-c828-d1a4b6e4569f"
      },
      "execution_count": null,
      "outputs": [
        {
          "output_type": "stream",
          "name": "stdout",
          "text": [
            " digite o numero: 20\n",
            " digite outro numero: 2\n",
            "quociente 10.0\n",
            "resto da divisao 10.0\n"
          ]
        }
      ]
    },
    {
      "cell_type": "markdown",
      "source": [
        "Exercicio 6"
      ],
      "metadata": {
        "id": "kl5pZxz5Fj2H"
      }
    },
    {
      "cell_type": "code",
      "source": [
        "base= int(input( \" digite a base do triangulo: \"))\n",
        "altura= int(input( \" digite a altura do triangulo: \"))\n",
        "area= (( base*altura)/2)\n",
        "print( \"area\", area)"
      ],
      "metadata": {
        "colab": {
          "base_uri": "https://localhost:8080/"
        },
        "id": "NxoUO7gnFrvO",
        "outputId": "dbe3ea0a-9443-4d2c-93d4-561e15dab16c"
      },
      "execution_count": null,
      "outputs": [
        {
          "output_type": "stream",
          "name": "stdout",
          "text": [
            " digite a base do triangulo: 3\n",
            " digite a altura do triangulo: 6\n",
            "area 9.0\n"
          ]
        }
      ]
    },
    {
      "cell_type": "markdown",
      "source": [
        "Exercicio 7"
      ],
      "metadata": {
        "id": "_5j15PH8G-7c"
      }
    },
    {
      "cell_type": "code",
      "source": [
        "raio= int(input(\" digite o raio da circunferencia: \"))\n",
        "perimetro= (2*3.14*raio)\n",
        "area= (3.14*raio**2)\n",
        "print(\"perimetro\", perimetro)\n",
        "print(\"area\", area)"
      ],
      "metadata": {
        "colab": {
          "base_uri": "https://localhost:8080/"
        },
        "id": "t6lWtCQTHC2f",
        "outputId": "187de553-177e-4ec9-b13b-cf787a7aea49"
      },
      "execution_count": null,
      "outputs": [
        {
          "output_type": "stream",
          "name": "stdout",
          "text": [
            " digite o raio da circunferencia: 6\n",
            "perimetro 37.68\n",
            "area 113.04\n"
          ]
        }
      ]
    }
  ]
}