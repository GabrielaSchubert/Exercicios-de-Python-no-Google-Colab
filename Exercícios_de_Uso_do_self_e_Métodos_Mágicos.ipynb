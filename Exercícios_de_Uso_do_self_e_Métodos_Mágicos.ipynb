{
  "nbformat": 4,
  "nbformat_minor": 0,
  "metadata": {
    "colab": {
      "provenance": [],
      "authorship_tag": "ABX9TyOfAWs2rbpHPtqxGwI05dwG",
      "include_colab_link": true
    },
    "kernelspec": {
      "name": "python3",
      "display_name": "Python 3"
    },
    "language_info": {
      "name": "python"
    }
  },
  "cells": [
    {
      "cell_type": "markdown",
      "metadata": {
        "id": "view-in-github",
        "colab_type": "text"
      },
      "source": [
        "<a href=\"https://colab.research.google.com/github/GabrielaSchubert/Python_no_Google_Colaboratory/blob/main/Exerc%C3%ADcios_de_Uso_do_self_e_M%C3%A9todos_M%C3%A1gicos.ipynb\" target=\"_parent\"><img src=\"https://colab.research.google.com/assets/colab-badge.svg\" alt=\"Open In Colab\"/></a>"
      ]
    },
    {
      "cell_type": "markdown",
      "source": [
        "Atividade Prática 02\n",
        "Palavra-chave self"
      ],
      "metadata": {
        "id": "VwoUDxhonOYT"
      }
    },
    {
      "cell_type": "markdown",
      "source": [
        "1) Qual palavra-chave (keyword) você usaria para ter acesso às propriedades e métodos de uma classe estando dentro dela?"
      ],
      "metadata": {
        "id": "H3Ql4mCynXBJ"
      }
    },
    {
      "cell_type": "markdown",
      "source": [
        "c) A palavra-chave self"
      ],
      "metadata": {
        "id": "sGBNaiSrnfP6"
      }
    },
    {
      "cell_type": "markdown",
      "source": [
        "2) Acrescente ao método hello() a capacidade de acessar a propriedade primeiroNome, para que o método possa retornar a string \"Olá, primeiroNome\"."
      ],
      "metadata": {
        "id": "_8lWOco_ngYs"
      }
    },
    {
      "cell_type": "code",
      "execution_count": null,
      "metadata": {
        "colab": {
          "base_uri": "https://localhost:8080/"
        },
        "id": "PTTkqOvkmzPQ",
        "outputId": "26ff1b58-3973-49f1-f7dc-ffcbbb1a1117"
      },
      "outputs": [
        {
          "output_type": "stream",
          "name": "stdout",
          "text": [
            "Olá, Gabi\n"
          ]
        }
      ],
      "source": [
        "class Usuario:\n",
        "  primeiroNome = \"\"\n",
        "  ultimoNome = \"\"\n",
        "\n",
        "  def hello(self):\n",
        "    return \"Olá, \" + self.primeiroNome\n",
        "\n",
        "usuario1 = Usuario()\n",
        "usuario1.primeiroNome = \"Gabi\"\n",
        "print(usuario1.hello())"
      ]
    },
    {
      "cell_type": "markdown",
      "source": [
        "3) Crie um novo objeto com o primeiro nome de \"Jonnie\" e sobrenome de \"Bravo\"."
      ],
      "metadata": {
        "id": "c7K3JpejpGby"
      }
    },
    {
      "cell_type": "code",
      "source": [
        "class Usuario:\n",
        "  primeiroNome = \"\"\n",
        "  sobrenome = \"\"\n",
        "\n",
        "  def hello(self):\n",
        "    return \"Olá, \" + self.primeiroNome + \" \" + self.sobrenome\n",
        "\n",
        "usuario_novo = Usuario()\n",
        "usuario_novo.primeiroNome = \"Jonnie\"\n",
        "usuario_novo.sobrenome = \"Bravo\"\n",
        "print(usuario_novo.hello())"
      ],
      "metadata": {
        "colab": {
          "base_uri": "https://localhost:8080/"
        },
        "id": "eplTRC9DurvA",
        "outputId": "0d8e08c4-c167-4839-d114-2f6e24b25755"
      },
      "execution_count": null,
      "outputs": [
        {
          "output_type": "stream",
          "name": "stdout",
          "text": [
            "Olá, Jonnie Bravo\n"
          ]
        }
      ]
    },
    {
      "cell_type": "markdown",
      "source": [
        "4) Use o comando print no método hello() para o objeto usuario1 e observe o resultado."
      ],
      "metadata": {
        "id": "QmIkWgxasj6I"
      }
    },
    {
      "cell_type": "code",
      "source": [
        "class Usuario:\n",
        "  primeiroNome = \"\"\n",
        "\n",
        "  def hello(self):\n",
        "    print(\"Olá, \" + self.primeiroNome)\n",
        "\n",
        "usuario1 = Usuario()\n",
        "usuario1.primeiroNome = \"Gabriela\"\n",
        "usuario1.hello()"
      ],
      "metadata": {
        "colab": {
          "base_uri": "https://localhost:8080/"
        },
        "id": "hfI5nWfP9uF2",
        "outputId": "1149e3bc-d22a-4c6e-b6e7-062e6cf81b12"
      },
      "execution_count": null,
      "outputs": [
        {
          "output_type": "stream",
          "name": "stdout",
          "text": [
            "Olá, Gabriela\n"
          ]
        }
      ]
    },
    {
      "cell_type": "markdown",
      "source": [
        "Atividade Prática 05 Métodos e constantes mágicos"
      ],
      "metadata": {
        "id": "AS3J4-M83o0V"
      }
    },
    {
      "cell_type": "markdown",
      "source": [
        "1) Acrescente à classe Usuario um método construtor para definir um valor para a propriedade primeiroNome assim que o objeto for criado."
      ],
      "metadata": {
        "id": "NjNfg4Fw307X"
      }
    },
    {
      "cell_type": "code",
      "source": [
        "class Usuario:\n",
        "\n",
        "  def __init__(self,primeiroNome):\n",
        "    self.primeiroNome = primeiroNome\n",
        "    self.ultimoNome = \"\"\n",
        "\n",
        "  def getNome(self):\n",
        "    return \"O nome é \" + self.primeiroNome\n",
        "\n",
        "usuario1 = Usuario(\"Gabriela\")\n",
        "print(usuario1.getNome())"
      ],
      "metadata": {
        "colab": {
          "base_uri": "https://localhost:8080/"
        },
        "id": "SShU1n1S-1Lk",
        "outputId": "87864bca-2fc3-4dbc-8618-0df1e89302cc"
      },
      "execution_count": null,
      "outputs": [
        {
          "output_type": "stream",
          "name": "stdout",
          "text": [
            "O nome é Gabriela\n"
          ]
        }
      ]
    },
    {
      "cell_type": "markdown",
      "source": [
        "2) Acrescente ao construtor a capacidade de definir o valor da propriedade ultimoNome, bem como a propriedade primeiroNome."
      ],
      "metadata": {
        "id": "pfUivEfu5ZTe"
      }
    },
    {
      "cell_type": "code",
      "source": [
        "class Usuario:\n",
        "\n",
        "  def __init__(self,primeiroNome,ultimoNome):\n",
        "    self.primeiroNome = primeiroNome\n",
        "    self.ultimoNome = ultimoNome\n",
        "\n",
        "  def getNome(self):\n",
        "    return \"O nome é \" + self.primeiroNome + \" \" + self.ultimoNome\n",
        "\n",
        "usuario1 = Usuario(\"Gabriela\", \"Schubert\")\n",
        "print(usuario1.getNome())"
      ],
      "metadata": {
        "colab": {
          "base_uri": "https://localhost:8080/"
        },
        "id": "3XrB2OSl5tbb",
        "outputId": "dea40616-e661-4055-a924-4b2e6761e88c"
      },
      "execution_count": null,
      "outputs": [
        {
          "output_type": "stream",
          "name": "stdout",
          "text": [
            "O nome é Gabriela Schubert\n"
          ]
        }
      ]
    },
    {
      "cell_type": "markdown",
      "source": [
        "3) Adicione à classe Usuario um método chamado getNomeCompleto() que retorna o nome completo do usuário."
      ],
      "metadata": {
        "id": "39uL1f6S7UXC"
      }
    },
    {
      "cell_type": "code",
      "source": [
        "class Usuario:\n",
        "\n",
        "  def __init__(self,primeiroNome,ultimoNome):\n",
        "    self.primeiroNome = primeiroNome\n",
        "    self.ultimoNome = ultimoNome\n",
        "\n",
        "  def getNomeCompleto(self):\n",
        "    return \"O nome é \" + self.primeiroNome + \" \" + self.ultimoNome\n",
        "\n",
        "usuario1 = Usuario(\"Gabriela\", \"Schubert\")\n",
        "print(usuario1.getNomeCompleto())"
      ],
      "metadata": {
        "colab": {
          "base_uri": "https://localhost:8080/"
        },
        "id": "PI85_Zaf7cwX",
        "outputId": "6b97e2e4-da3b-4f42-ffa6-b78ad1982559"
      },
      "execution_count": null,
      "outputs": [
        {
          "output_type": "stream",
          "name": "stdout",
          "text": [
            "O nome é Gabriela Schubert\n"
          ]
        }
      ]
    },
    {
      "cell_type": "markdown",
      "source": [
        "4) Crie um novo objeto, usuario1, e passe para o construtor os valores do primeiro e último nome. O primeiro nome é \"Johnny\" e o sobrenome é \"Bravo\" (você pode escolher sua combinação preferida\n",
        "de primeiro e último nome). 5) Obtenha o nome completo e imprima-o na tela."
      ],
      "metadata": {
        "id": "4x1bu6TS7oMH"
      }
    },
    {
      "cell_type": "code",
      "source": [
        "class Usuario:\n",
        "\n",
        "  def __init__(self,primeiroNome,ultimoNome):\n",
        "    self.primeiroNome = primeiroNome\n",
        "    self.ultimoNome = ultimoNome\n",
        "\n",
        "  def getNomeCompleto(self):\n",
        "    return self.primeiroNome + \" \" + self.ultimoNome\n",
        "\n",
        "usuario1 = Usuario(\"Johnny\", \"Bravo\")\n",
        "print(usuario1.getNomeCompleto())"
      ],
      "metadata": {
        "colab": {
          "base_uri": "https://localhost:8080/"
        },
        "id": "7zorvBpO7y0g",
        "outputId": "87160637-bfaf-460c-d5a6-025050cab852"
      },
      "execution_count": null,
      "outputs": [
        {
          "output_type": "stream",
          "name": "stdout",
          "text": [
            "Johnny Bravo\n"
          ]
        }
      ]
    }
  ]
}