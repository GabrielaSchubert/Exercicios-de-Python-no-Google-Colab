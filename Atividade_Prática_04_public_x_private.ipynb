{
  "nbformat": 4,
  "nbformat_minor": 0,
  "metadata": {
    "colab": {
      "provenance": [],
      "authorship_tag": "ABX9TyOJ9dHbzaMpxH7nZNRJ7lDe",
      "include_colab_link": true
    },
    "kernelspec": {
      "name": "python3",
      "display_name": "Python 3"
    },
    "language_info": {
      "name": "python"
    }
  },
  "cells": [
    {
      "cell_type": "markdown",
      "metadata": {
        "id": "view-in-github",
        "colab_type": "text"
      },
      "source": [
        "<a href=\"https://colab.research.google.com/github/GabrielaSchubert/Python_no_Google_Colaboratory/blob/main/Atividade_Pr%C3%A1tica_04_public_x_private.ipynb\" target=\"_parent\"><img src=\"https://colab.research.google.com/assets/colab-badge.svg\" alt=\"Open In Colab\"/></a>"
      ]
    },
    {
      "cell_type": "markdown",
      "source": [
        "1) d"
      ],
      "metadata": {
        "id": "hF955Mb50RS4"
      }
    },
    {
      "cell_type": "markdown",
      "source": [
        "2) Vamos voltar para a classe Usuario que desenvolvemos nas atividades anteriores. Agora vamos definir o primeiroNome do usuário como uma propriedade privada (private)."
      ],
      "metadata": {
        "id": "eJdhpbtD0Wrs"
      }
    },
    {
      "cell_type": "code",
      "source": [
        "class Usuario:\n",
        "\n",
        "  def __init__(self,primeiroNome=\"\"):\n",
        "    self.__primeiroNome = primeiroNome\n",
        "\n",
        "  def setprimeiroNome(self,primeiroNome):\n",
        "    self.__primeiroNome = primeiroNome\n",
        "\n",
        "  def getprimeiroNome(self):\n",
        "    return \"O nome é \" + self.__primeiroNome\n",
        "\n",
        "usuario1 = Usuario()\n",
        "usuario1.setprimeiroNome(\"Gabriela\")\n",
        "print(usuario1.getprimeiroNome())"
      ],
      "metadata": {
        "colab": {
          "base_uri": "https://localhost:8080/"
        },
        "id": "bB7CXwq83kZy",
        "outputId": "44f1719f-2c82-4451-86f6-370ece171dd0"
      },
      "execution_count": null,
      "outputs": [
        {
          "output_type": "stream",
          "name": "stdout",
          "text": [
            "O nome é Gabriela\n"
          ]
        }
      ]
    },
    {
      "cell_type": "markdown",
      "source": [
        "3) Crie uma classe chamada Empregado(), com três propriedades: nome, salario (deve ser privada) e projeto. Ela também possui um método chamado “trabalho()”, que deverá imprimir o nome do funcionário e o projeto em que ele está trabalhando e um outro método chamado “mostrar()” para exibir os detalhes desse empregado (i.e. nome e salário). Atente para o modificador de acesso da propriedade “salario”. Use o método adequado para ter acesso a ela. Crie um objeto desta classe (i.e. instância) e use os métodos para visualizar os dados."
      ],
      "metadata": {
        "id": "PAPPMa_q33xB"
      }
    },
    {
      "cell_type": "code",
      "source": [
        "class Empregado:\n",
        "\n",
        "  def __init__(self,nome=\"\",salario=\"\",projeto=\"\"):\n",
        "    self.nome = nome\n",
        "    self.__salario = salario\n",
        "    self.projeto = projeto\n",
        "\n",
        "  def setsalario(self,salario):\n",
        "    self.__salario = salario\n",
        "\n",
        "  def gettrabalho(self):\n",
        "    return \"Nome: \" + self.nome + \" Projeto: \" + self.projeto\n",
        "\n",
        "  def getmostrar(self):\n",
        "    return \"Nome: \" + self.nome + \" Salário: \"  + str(self.__salario)\n",
        "\n",
        "empregado = Empregado(\"Bento\", projeto = \"casa\")\n",
        "empregado.setsalario(2000)\n",
        "print(empregado.gettrabalho())\n",
        "print(empregado.getmostrar())"
      ],
      "metadata": {
        "colab": {
          "base_uri": "https://localhost:8080/"
        },
        "id": "EieL6YLkKgm7",
        "outputId": "ce36f6c7-6d56-44eb-eb80-a859fd6d4176"
      },
      "execution_count": null,
      "outputs": [
        {
          "output_type": "stream",
          "name": "stdout",
          "text": [
            "Nome: Bento Projeto: casa\n",
            "Nome: Bento Salário: 2000\n"
          ]
        }
      ]
    },
    {
      "cell_type": "code",
      "source": [
        "class Empregado:\n",
        "    def __init__(self, nome=\"\", salario=\"\", projeto=\"\"):\n",
        "        self.nome = nome\n",
        "        self.__salario = salario\n",
        "        self.projeto = projeto\n",
        "\n",
        "    def setsalario(self, salario):\n",
        "        self.__salario = salario\n",
        "\n",
        "    def gettrabalho(self):\n",
        "        return \"Nome: \" + self.nome + \" Projeto: \" + self.projeto\n",
        "\n",
        "    def getmostrar(self):\n",
        "        return \"Nome: \" + self.nome + \" Salario: \" + str(self.__salario)\n",
        "\n",
        "# Criando um objeto da classe Empregado e definindo o salário\n",
        "empregado = Empregado(\"Bento\", projeto=\"casa\")\n",
        "empregado.setsalario(1000)\n",
        "\n",
        "# Imprimindo os detalhes do empregado\n",
        "print(empregado.gettrabalho())\n",
        "print(empregado.getmostrar())"
      ],
      "metadata": {
        "colab": {
          "base_uri": "https://localhost:8080/"
        },
        "id": "KepH89st1_JZ",
        "outputId": "07fbdd04-a885-4972-f746-6b2be7893855"
      },
      "execution_count": null,
      "outputs": [
        {
          "output_type": "stream",
          "name": "stdout",
          "text": [
            "Nome: Bento Projeto: casa\n",
            "Nome: Bento Salario: 1000\n"
          ]
        }
      ]
    },
    {
      "cell_type": "markdown",
      "source": [
        "4) Crie uma classe chamada Robo(). Ela deverá ter duas propriedades privadas: nome e ano_construcao. Também deverá ter um método de nome “diga_alo()”, para mostrar na tela o nome do robô e seu ano de construção. Crie os métodos “setters” e “getters” necessários. Instancie a classe e use os métodos criados para visualizar / atualizar os dados."
      ],
      "metadata": {
        "id": "Vai1iBQ59Wze"
      }
    },
    {
      "cell_type": "code",
      "source": [
        "class Robo:\n",
        "\n",
        "  def __init__(self,nome=\"\",ano_construcao=\"\"):\n",
        "    self.__nome = nome\n",
        "    self.__ano_construcao = ano_construcao\n",
        "\n",
        "  def setnome(self,nome):\n",
        "    self.__nome = nome\n",
        "\n",
        "  def setano_construcao(self,ano_construcao):\n",
        "    self.__ano_construcao = ano_construcao\n",
        "\n",
        "  def getdigaalo(self):\n",
        "    return \"Alô, sou um robô, meu nome é \" + self.__nome + \",\" \" meu ano de construção foi em: \" + str(self.__ano_construcao)\n",
        "\n",
        "o_robo = Robo()\n",
        "o_robo.setnome(\"Bia\")\n",
        "o_robo.setano_construcao(1950)\n",
        "print(o_robo.getdigaalo())"
      ],
      "metadata": {
        "colab": {
          "base_uri": "https://localhost:8080/"
        },
        "id": "hWyy8NXD9bnE",
        "outputId": "7cb090d1-c3c9-4625-97b7-831138e5de27"
      },
      "execution_count": null,
      "outputs": [
        {
          "output_type": "stream",
          "name": "stdout",
          "text": [
            "Alô, sou um robô, meu nome é Bia, meu ano de construção foi em: 1950\n"
          ]
        }
      ]
    },
    {
      "cell_type": "markdown",
      "source": [
        "5) Implemente uma classe chamada Laptop que possua um atributo privado chamado “preco” que armazena o preço do laptop (sem qualquer validação). Em seguida, implemente um método para ler esse atributo chamado “get_preco()” e um método para modificar esse atributo chamado “set_preco()” sem validação também. Em seguida, crie uma instância da classe Laptop siga estas etapas:\n",
        "• usando o método “get_preco()” imprima o valor do atributo “preco” na tela\n",
        "• usando o método “set_preco()”, defina o valor do atributo “preco” para 3999”"
      ],
      "metadata": {
        "id": "rLMbI28iPaAg"
      }
    },
    {
      "cell_type": "code",
      "source": [
        "class Laptop:\n",
        "\n",
        "  def __init__(self):\n",
        "    self.__preco = None\n",
        "\n",
        "  def getpreco(self):\n",
        "    return self.__preco\n",
        "\n",
        "  def setpreco(self,novo_preco):\n",
        "    self.__preco = novo_preco\n",
        "\n",
        "laptop = Laptop()\n",
        "laptop.setpreco(3999)\n",
        "print(\"Preço do Laptop:\", laptop.getpreco())"
      ],
      "metadata": {
        "colab": {
          "base_uri": "https://localhost:8080/"
        },
        "id": "EkIA0DC5pcz2",
        "outputId": "1a7b9ef2-b2d1-4563-8eb3-8386e7a8a079"
      },
      "execution_count": null,
      "outputs": [
        {
          "output_type": "stream",
          "name": "stdout",
          "text": [
            "Preço do Laptop: 3999\n"
          ]
        }
      ]
    },
    {
      "cell_type": "markdown",
      "source": [
        "6) Implemente uma classe chamada Pessoa que tenha dois atributos privados chamados “primeiroNome” e “ultimoNome”, respectivamente. Em seguida, implemente métodos chamados “getPrimeiroNome()” e “getUltimoNome()”, para ler os atributos, e os métodos “setPrimeiroNome()” e “setUltimoNome()” para atribuir valores a eles. Depois crie uma instância da classe Pessoa definindo os seguintes valores:\n",
        "primeiroNome = 'João'\n",
        "ultimoNome = 'Carvalho'\n",
        "Após, imprima os valores desses atributos no console."
      ],
      "metadata": {
        "id": "AwpASn2tSBMH"
      }
    },
    {
      "cell_type": "code",
      "source": [
        "class Pessoa:\n",
        "\n",
        "  def __init__(self,primeiroNome=\"\",ultimoNome=\"\"):\n",
        "    self.__primeiroNome = primeiroNome\n",
        "    self.__ultimoNome = ultimoNome\n",
        "\n",
        "  def setprimeiroNome(self, primeiroNome):\n",
        "    self.__primeiroNome = primeiroNome\n",
        "\n",
        "  def setultimoNome(self, ultimoNome):\n",
        "    self.__ultimoNome = ultimoNome\n",
        "\n",
        "  def getprimeiroNome(self):\n",
        "    return self.__primeiroNome\n",
        "\n",
        "  def getultimoNome(self):\n",
        "    return self.__ultimoNome\n",
        "\n",
        "pessoa = Pessoa()\n",
        "pessoa.setprimeiroNome(\"João\")\n",
        "pessoa.setultimoNome(\"Carvalho\")\n",
        "print(\"Primeiro nome: \", pessoa.getprimeiroNome())\n",
        "print(\"Último nome:\", pessoa.getultimoNome())"
      ],
      "metadata": {
        "colab": {
          "base_uri": "https://localhost:8080/"
        },
        "id": "u571F4zInbdZ",
        "outputId": "38becb46-c006-49ec-87e8-81b79fbf33c7"
      },
      "execution_count": null,
      "outputs": [
        {
          "output_type": "stream",
          "name": "stdout",
          "text": [
            "Primeiro nome:  João\n",
            "Último nome: Carvalho\n"
          ]
        }
      ]
    }
  ]
}