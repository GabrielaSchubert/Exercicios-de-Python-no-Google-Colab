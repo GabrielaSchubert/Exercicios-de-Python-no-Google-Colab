{
  "nbformat": 4,
  "nbformat_minor": 0,
  "metadata": {
    "colab": {
      "provenance": [],
      "authorship_tag": "ABX9TyPPDPyJJbcWinenQ5pwRdID",
      "include_colab_link": true
    },
    "kernelspec": {
      "name": "python3",
      "display_name": "Python 3"
    },
    "language_info": {
      "name": "python"
    }
  },
  "cells": [
    {
      "cell_type": "markdown",
      "metadata": {
        "id": "view-in-github",
        "colab_type": "text"
      },
      "source": [
        "<a href=\"https://colab.research.google.com/github/GabrielaSchubert/Python_no_Google_Colaboratory/blob/main/Exerc%C3%ADcios_estrutura_de_decis%C3%A3o.ipynb\" target=\"_parent\"><img src=\"https://colab.research.google.com/assets/colab-badge.svg\" alt=\"Open In Colab\"/></a>"
      ]
    },
    {
      "cell_type": "markdown",
      "source": [
        "Exercicio 2"
      ],
      "metadata": {
        "id": "pw34Zj8fZGm7"
      }
    },
    {
      "cell_type": "code",
      "source": [
        "valor = int(input(\"digite um valor: \"))\n",
        "if valor < 0:\n",
        "  print(\"valor negativo\")\n",
        "elif valor == 0:\n",
        "  print(\"valor igual a zero\")\n",
        "elif valor > 0:\n",
        "  print(\"valor positivo\")\n"
      ],
      "metadata": {
        "colab": {
          "base_uri": "https://localhost:8080/"
        },
        "id": "7d1_sxAJLKU7",
        "outputId": "fad2f245-b851-4c8d-921f-d617dde77837"
      },
      "execution_count": null,
      "outputs": [
        {
          "output_type": "stream",
          "name": "stdout",
          "text": [
            "digite um valor: 5\n",
            "valor positivo\n"
          ]
        }
      ]
    },
    {
      "cell_type": "markdown",
      "source": [
        "Exercicio 3"
      ],
      "metadata": {
        "id": "jO_JF11LN6U_"
      }
    },
    {
      "cell_type": "code",
      "source": [
        "valor = int(input(\"digite um valor: \"))\n",
        "if valor > 10:\n",
        "  print(\"é maior que 10!\")\n",
        "else:\n",
        "  print(\"é menor que 10!\")"
      ],
      "metadata": {
        "colab": {
          "base_uri": "https://localhost:8080/"
        },
        "id": "sS7N-CQMN8QL",
        "outputId": "80ef7c6d-99b5-4b0c-c515-c152c1c85e48"
      },
      "execution_count": null,
      "outputs": [
        {
          "output_type": "stream",
          "name": "stdout",
          "text": [
            "digite um valor: 18\n",
            "é maior que 10!\n"
          ]
        }
      ]
    },
    {
      "cell_type": "markdown",
      "source": [
        "Exercicio 4"
      ],
      "metadata": {
        "id": "tJGGvE5FPBZh"
      }
    },
    {
      "cell_type": "code",
      "source": [
        "num1 = int(input(\"digite um valor: \"))\n",
        "num2 = int(input(\"digite outro valor: \"))\n",
        "if num1+num2 > 10:\n",
        "   print(\"maior que 10\")\n",
        "else:\n",
        "  print(\"menor que 10\")"
      ],
      "metadata": {
        "colab": {
          "base_uri": "https://localhost:8080/"
        },
        "id": "ZiLB-ngrPDG2",
        "outputId": "c297660c-dade-44e8-d0bc-a99d3fa2d8c6"
      },
      "execution_count": null,
      "outputs": [
        {
          "output_type": "stream",
          "name": "stdout",
          "text": [
            "digite um valor: 6\n",
            "digite outro valor: 6\n",
            "maior que 10\n"
          ]
        }
      ]
    },
    {
      "cell_type": "markdown",
      "source": [
        "Exercicio 5"
      ],
      "metadata": {
        "id": "Fb976fCX4zl8"
      }
    },
    {
      "cell_type": "code",
      "source": [
        "num = int(input(\"digite um numero: \"))\n",
        "if num % 5 == 0:\n",
        "   print(\"é divisivel por 5\")\n",
        "else:\n",
        "  print(\"nao é divisivel por 5\")"
      ],
      "metadata": {
        "colab": {
          "base_uri": "https://localhost:8080/"
        },
        "id": "u4BZfFUZ7Eyf",
        "outputId": "93a0f1fd-6f7b-4947-b662-715d5de2952e"
      },
      "execution_count": null,
      "outputs": [
        {
          "output_type": "stream",
          "name": "stdout",
          "text": [
            "digite um numero: 5\n",
            "é divisivel por 5\n"
          ]
        }
      ]
    },
    {
      "cell_type": "markdown",
      "source": [
        "Exercicio 6"
      ],
      "metadata": {
        "id": "LM5ksOfs6_aw"
      }
    },
    {
      "cell_type": "code",
      "source": [
        "numer = int(input(\"digite um numero: \"))\n",
        "if numer <= 90:\n",
        "  print(\"o numero esta entre 20 e 90\")\n",
        "else:\n",
        "  print(\"o numero não esta entre 20 e 90\")"
      ],
      "metadata": {
        "id": "H9YcP_uD7BlB",
        "colab": {
          "base_uri": "https://localhost:8080/"
        },
        "outputId": "f92a724c-e3d8-4e11-b390-0f5b7e460165"
      },
      "execution_count": null,
      "outputs": [
        {
          "output_type": "stream",
          "name": "stdout",
          "text": [
            "digite um numero: 50\n",
            "o numero esta entre 20 e 90\n"
          ]
        }
      ]
    },
    {
      "cell_type": "markdown",
      "source": [
        "Exercicio 7"
      ],
      "metadata": {
        "id": "0vHwTjH6MWVV"
      }
    },
    {
      "cell_type": "code",
      "source": [
        "ano_atual = float(input(\"digite o ano atual: \"))\n",
        "ano_nascimento = float(input(\"digite o ano de nascimento: \"))\n",
        "idade = ano_atual - ano_nascimento\n",
        "if idade >= 18:\n",
        "  print(\"voce poderá votar esse ano\")\n",
        "else:\n",
        "   print(\"voce não podera votar esse ano\")\n",
        "print(\"voce tem idade\", idade)"
      ],
      "metadata": {
        "colab": {
          "base_uri": "https://localhost:8080/"
        },
        "id": "m7Dz-BIrMY7k",
        "outputId": "7102fbee-f332-4c39-d66a-8891c004474b"
      },
      "execution_count": null,
      "outputs": [
        {
          "output_type": "stream",
          "name": "stdout",
          "text": [
            "digite o ano atual: 2023\n",
            "digite o ano de nascimento: 2005\n",
            "voce poderá votar esse ano\n",
            "voce tem idade 18.0\n"
          ]
        }
      ]
    },
    {
      "cell_type": "markdown",
      "source": [
        "Exercicio 8"
      ],
      "metadata": {
        "id": "NxWjvQ7APVbc"
      }
    },
    {
      "cell_type": "code",
      "source": [
        "ano_atual = float(input(\"digite o ano atual: \"))\n",
        "ano_nascim = float(input(\"digite seu ano de nascimento: \"))\n",
        "idade = (ano_atual - ano_nascim)\n",
        "if idade <= 60:\n",
        "  print(\"o ano digitado é válido\")\n",
        "else:\n",
        "  print(\"o ano digitado é inválido\")\n",
        "print(\"sua idade é\", idade)"
      ],
      "metadata": {
        "colab": {
          "base_uri": "https://localhost:8080/"
        },
        "id": "DHlky6cLPXI7",
        "outputId": "5edd37fd-731e-4289-9377-f26dd40e699d"
      },
      "execution_count": null,
      "outputs": [
        {
          "output_type": "stream",
          "name": "stdout",
          "text": [
            "digite o ano atual: 2023\n",
            "digite seu ano de nascimento: 1990\n",
            "o ano digitado é válido\n",
            "sua idade é 33.0\n"
          ]
        }
      ]
    },
    {
      "cell_type": "markdown",
      "source": [
        "Exercicio 9"
      ],
      "metadata": {
        "id": "nkTdAGSbRnps"
      }
    },
    {
      "cell_type": "code",
      "source": [
        "idade = int(input(\"digite a sua idade: \"))\n",
        "if idade < 18:\n",
        "  print(\"menor de idade\")\n",
        "if idade > 18:\n",
        "  print(\"maior de idade\")\n",
        "if idade >= 65:\n",
        "  print(\"maior de 65 anos\")"
      ],
      "metadata": {
        "colab": {
          "base_uri": "https://localhost:8080/"
        },
        "id": "Og5B9Uq8RqHc",
        "outputId": "58678a93-5a21-48f6-ac40-6a8f1c9f5d5b"
      },
      "execution_count": null,
      "outputs": [
        {
          "output_type": "stream",
          "name": "stdout",
          "text": [
            "digite a sua idade: 20\n",
            "maior de idade\n"
          ]
        }
      ]
    },
    {
      "cell_type": "markdown",
      "source": [
        "Exercicio 10"
      ],
      "metadata": {
        "id": "BFHZcmYjXw0E"
      }
    },
    {
      "cell_type": "code",
      "source": [
        "nota1 = float(input(\"digite a primeira nota: \"))\n",
        "nota2 = float(input(\"digite a segunda nota: \"))\n",
        "media= (nota1 + nota2) / 2\n",
        "if media >= 6:\n",
        "  print(\"voce foi aprovado\")\n",
        "else:\n",
        "  print(\"voce nao foi aprovado\")\n",
        "print(\"sua media é\", media)"
      ],
      "metadata": {
        "colab": {
          "base_uri": "https://localhost:8080/"
        },
        "id": "2oJwhxDpXz3l",
        "outputId": "ea815680-a522-44c3-a9a7-c39cdc777708"
      },
      "execution_count": null,
      "outputs": [
        {
          "output_type": "stream",
          "name": "stdout",
          "text": [
            "digite a primeira nota: 8.5\n",
            "digite a segunda nota: 9.0\n",
            "voce foi aprovado\n",
            "sua media é 8.75\n"
          ]
        }
      ]
    },
    {
      "cell_type": "markdown",
      "source": [
        "Exercicio 11"
      ],
      "metadata": {
        "id": "BX3Groi4ZTLX"
      }
    },
    {
      "cell_type": "code",
      "source": [
        "nota_1 = float(input(\"digite a primeira nota: \"))\n",
        "nota_2 = float(input(\"digite a segunda nota: \"))\n",
        "media = (nota_1 + nota_2) / 2\n",
        "media_final = media\n",
        "if media_final >= 5:\n",
        "  print(\"Aprovado\")\n",
        "else:\n",
        "  print(\"Reprovado\")"
      ],
      "metadata": {
        "colab": {
          "base_uri": "https://localhost:8080/"
        },
        "id": "rSFU_WmuZVwY",
        "outputId": "93332f34-8700-4149-b579-10ffae10bd31"
      },
      "execution_count": null,
      "outputs": [
        {
          "output_type": "stream",
          "name": "stdout",
          "text": [
            "digite a primeira nota: 7.5\n",
            "digite a segunda nota: 8.5\n",
            "Aprovado\n"
          ]
        }
      ]
    },
    {
      "cell_type": "markdown",
      "source": [
        "Exercicio 12"
      ],
      "metadata": {
        "id": "7bcrgVghbpHB"
      }
    },
    {
      "cell_type": "code",
      "source": [
        "professor_1 = float(input(\"digite a quantidade de horas de tuas aulas: \"))\n",
        "professor_2 = float(input(\"digite a quantidade de horas de suas aulas: \"))\n",
        "valor_hora =  30\n",
        "salario1 = professor_1 * 30\n",
        "salario2 = professor_2 * 30\n",
        "if professor_1 > professor_2:\n",
        "  print(\"o salario do professor_1 é maior\")\n",
        "else:\n",
        "  print(\"o salario do professor_2 é maior\")"
      ],
      "metadata": {
        "colab": {
          "base_uri": "https://localhost:8080/"
        },
        "id": "6_wtmOGtbrnA",
        "outputId": "527fc249-8a39-4744-cdeb-aaedf4f978a8"
      },
      "execution_count": null,
      "outputs": [
        {
          "output_type": "stream",
          "name": "stdout",
          "text": [
            "digite a quantidade de horas de tuas aulas: 900\n",
            "digite a quantidade de horas de suas aulas: 1200\n",
            "o salario do professor_2 é maior\n"
          ]
        }
      ]
    },
    {
      "cell_type": "markdown",
      "source": [
        "Exercicio 13"
      ],
      "metadata": {
        "id": "2lXYnD-Ydjn2"
      }
    },
    {
      "cell_type": "code",
      "source": [
        "num_int = int(input(\"digite o numero: \"))\n",
        "impar = 1,3,5,7,9\n",
        "par = 2,4,6,8\n",
        "if impar:\n",
        "  print(\"o numero é ímpar\")\n",
        "else:\n",
        "  print(\"o numero é par\")"
      ],
      "metadata": {
        "colab": {
          "base_uri": "https://localhost:8080/"
        },
        "id": "uB2sMm-1dlne",
        "outputId": "f5a66e38-d1f4-47ad-e930-0f0fe405145a"
      },
      "execution_count": null,
      "outputs": [
        {
          "output_type": "stream",
          "name": "stdout",
          "text": [
            "digite o numero: 5\n",
            "o numero é ímpar\n"
          ]
        }
      ]
    },
    {
      "cell_type": "markdown",
      "source": [
        "Exercicio 14"
      ],
      "metadata": {
        "id": "LOiAonZeMqRg"
      }
    },
    {
      "cell_type": "code",
      "source": [
        "time1 = str(input(\"digite o nome do primeiro time: \"))\n",
        "time2 = str(input(\"digite o nome do segundo time: \"))\n",
        "gol_1 = int(input(\"digite a quantidade de gols do time 1: \"))\n",
        "gol_2 = int(input(\"digite a quantidade de gols do time 2: \"))\n",
        "if gol_1 > gol_2:\n",
        "  print(\"o time 1 é vencedor\")\n",
        "if gol_1 < gol_2:\n",
        "  print(\"o time 2 é vencedor\")\n",
        "else:\n",
        "  print(\"empate\")"
      ],
      "metadata": {
        "colab": {
          "base_uri": "https://localhost:8080/"
        },
        "id": "BC91nPdnMsRU",
        "outputId": "5b7d2490-48f9-43fe-98aa-0beb90e460df"
      },
      "execution_count": null,
      "outputs": [
        {
          "output_type": "stream",
          "name": "stdout",
          "text": [
            "digite o nome do primeiro time: joinville\n",
            "digite o nome do segundo time: curitiba\n",
            "digite a quantidade de gols do time 1: 1\n",
            "digite a quantidade de gols do time 2: 2\n",
            "o time 2 é vencedor\n"
          ]
        }
      ]
    },
    {
      "cell_type": "markdown",
      "source": [
        "Exercicio 15"
      ],
      "metadata": {
        "id": "4ZBcV1svQW7d"
      }
    },
    {
      "cell_type": "code",
      "source": [
        "sigla_estado = str(input(\"digite a sigla do seu estado: \"))\n",
        "if \"RJ\":\n",
        "  print(\"Carioca\")\n",
        "elif \"SP\":\n",
        "  print(\"Paulista\")\n",
        "elif \"MG\":\n",
        "  print(\"Mineiro\")\n",
        "else:\n",
        "  print(\"Outros\")"
      ],
      "metadata": {
        "colab": {
          "base_uri": "https://localhost:8080/"
        },
        "id": "g1csASYdQZIv",
        "outputId": "b35cd060-b4e1-4ced-e95d-6060b539cd5d"
      },
      "execution_count": null,
      "outputs": [
        {
          "output_type": "stream",
          "name": "stdout",
          "text": [
            "digite a sigla do seu estado: RJ\n",
            "Carioca\n"
          ]
        }
      ]
    },
    {
      "cell_type": "markdown",
      "source": [
        "Exercicio 16"
      ],
      "metadata": {
        "id": "MMQcwEOnRjxg"
      }
    },
    {
      "cell_type": "code",
      "source": [
        "valor = float(input(\"digite o valor do produto: \"))\n",
        "lucro_1 = valor * 30 / 100\n",
        "preco_1 = valor + lucro_1\n",
        "lucro_2 = valor * 45 / 100\n",
        "preco_2 = valor + lucro_2\n",
        "if valor < 20:\n",
        "  print(\"valor da venda\", preco_2)\n",
        "else:\n",
        "  print(\"valor da venda\", preco_1)\n",
        "print(\"o valor do produto\", valor)"
      ],
      "metadata": {
        "colab": {
          "base_uri": "https://localhost:8080/"
        },
        "id": "clNDlv2qVNfb",
        "outputId": "b1c6b791-b4fb-42ae-da70-1c53dea00e66"
      },
      "execution_count": null,
      "outputs": [
        {
          "output_type": "stream",
          "name": "stdout",
          "text": [
            "digite o valor do produto: 28.50\n",
            "valor da venda 37.05\n",
            "o valor do produto 28.5\n"
          ]
        }
      ]
    },
    {
      "cell_type": "markdown",
      "source": [
        "Exercicio 17"
      ],
      "metadata": {
        "id": "aOR1rvltYGRo"
      }
    },
    {
      "cell_type": "code",
      "source": [
        "mes = int(input(\"digite o numero do mes: \"))\n",
        "if mes == 1:\n",
        "  print(\"Janeiro\")\n",
        "elif mes == 2:\n",
        "  print(\"Fevereiro\")\n",
        "elif mes == 3:\n",
        "  print(\"Março\")\n",
        "elif mes == 4:\n",
        "  print(\"Abril\")\n",
        "elif mes == 5:\n",
        "  print(\"Maio\")\n",
        "elif mes == 6:\n",
        "  print(\"Junho\")\n",
        "elif mes == 7:\n",
        "  print(\"Julho\")\n",
        "elif mes == 8:\n",
        "  print(\"Agosto\")\n",
        "elif mes == 9:\n",
        "  print(\"Setembro\")\n",
        "elif mes == 10:\n",
        "  print(\"Outubro\")\n",
        "elif mes == 11:\n",
        "  print(\"Novembro\")\n",
        "elif mes == 12:\n",
        "  print(\"Dezembro\")"
      ],
      "metadata": {
        "colab": {
          "base_uri": "https://localhost:8080/"
        },
        "id": "ptZWRSxqYIXD",
        "outputId": "890f0a17-8350-4c21-a77f-34478666fa87"
      },
      "execution_count": null,
      "outputs": [
        {
          "output_type": "stream",
          "name": "stdout",
          "text": [
            "digite o numero do mes: 5\n",
            "Maio\n"
          ]
        }
      ]
    },
    {
      "cell_type": "markdown",
      "source": [
        "Exercicio 18"
      ],
      "metadata": {
        "id": "3xOyGm0gbgov"
      }
    },
    {
      "cell_type": "code",
      "source": [
        "letra = str(input(\"digite uma letra: \"))\n",
        "if letra == \"a\" or letra ==\"e\" or letra == \"i\" or letra == \"o\" or letra == \"u\":\n",
        "  print(\"vogal\")\n",
        "else:\n",
        "  print(\"consoante\")"
      ],
      "metadata": {
        "colab": {
          "base_uri": "https://localhost:8080/"
        },
        "id": "0g0_xZjFbjH2",
        "outputId": "e38cc832-4ba6-4be3-db1b-4997fa03c379"
      },
      "execution_count": null,
      "outputs": [
        {
          "output_type": "stream",
          "name": "stdout",
          "text": [
            "digite uma letra: a\n",
            "vogal\n"
          ]
        }
      ]
    },
    {
      "cell_type": "markdown",
      "source": [
        "Exercicio 19"
      ],
      "metadata": {
        "id": "hOviaVcaeTr1"
      }
    },
    {
      "cell_type": "code",
      "source": [
        "valor_1 = int(input(\"digite um valor: \"))\n",
        "valor_2 = int(input(\"digite outro valor: \"))\n",
        "if valor_1 > valor_2:\n",
        "  print(\"o valor 1 é o maior\")\n",
        "else:\n",
        "  print(\"o valor 2 é o maior\")"
      ],
      "metadata": {
        "colab": {
          "base_uri": "https://localhost:8080/"
        },
        "id": "J0zVc2fleVbJ",
        "outputId": "0a2faaef-03af-4d25-bf65-f7a177cd55ed"
      },
      "execution_count": null,
      "outputs": [
        {
          "output_type": "stream",
          "name": "stdout",
          "text": [
            "digite um valor: 8\n",
            "digite outro valor: 5\n",
            "o valor 1 é o maior\n"
          ]
        }
      ]
    },
    {
      "cell_type": "markdown",
      "source": [
        "Exercicio 20"
      ],
      "metadata": {
        "id": "Wum5ASk2f_lR"
      }
    },
    {
      "cell_type": "code",
      "source": [
        "valor1 = int(input(\"digite um valor: \"))\n",
        "valor2 = int(input(\"digite outro valor: \"))\n",
        "if valor1 < valor2:\n",
        "  print(\"o valor 1 é o primeiro em ordem crescente\")\n",
        "else:\n",
        "  print(\"o valor 2 é o primeiro em ordem crescente\")"
      ],
      "metadata": {
        "colab": {
          "base_uri": "https://localhost:8080/"
        },
        "id": "wAs9MxFugBsy",
        "outputId": "1b36ab82-d299-4f32-ad05-19d5c9f0c9da"
      },
      "execution_count": null,
      "outputs": [
        {
          "output_type": "stream",
          "name": "stdout",
          "text": [
            "digite um valor: 2\n",
            "digite outro valor: 5\n",
            "o valor 1 é o primeiro em ordem crescente\n"
          ]
        }
      ]
    },
    {
      "cell_type": "markdown",
      "source": [
        "Exercicio 21"
      ],
      "metadata": {
        "id": "fUHPIWFXiMVq"
      }
    },
    {
      "cell_type": "code",
      "source": [
        "valor_1 = int(input(\"digite o primeiro valor: \"))\n",
        "valor_2 = int(input(\"digite o segundo valor: \"))\n",
        "valor_3 = int(input(\"digite o terceiro valor: \"))\n",
        "if valor_1 > valor_2 or valor_1 > valor_3:\n",
        "   print(\"o valor 1 é o maior\")\n",
        "elif valor_2 > valor_1 or valor_2 > valor_3:\n",
        "  print(\"o valor 2 é o maior\")\n",
        "elif valor_3 > valor_2 or valor_3 > valor_1:\n",
        "  print(\"o valor 3 é o maior\")"
      ],
      "metadata": {
        "colab": {
          "base_uri": "https://localhost:8080/"
        },
        "id": "JIcJValXiOSZ",
        "outputId": "4b7c9807-e1a1-435c-8f86-52d336d34e4d"
      },
      "execution_count": null,
      "outputs": [
        {
          "output_type": "stream",
          "name": "stdout",
          "text": [
            "digite o primeiro valor: 6\n",
            "digite o segundo valor: 4\n",
            "digite o terceiro valor: 2\n",
            "o valor 1 é o maior\n"
          ]
        }
      ]
    },
    {
      "cell_type": "markdown",
      "source": [
        "Exercicio 22"
      ],
      "metadata": {
        "id": "ItqpX1Vdk53X"
      }
    },
    {
      "cell_type": "code",
      "source": [
        "valor1 = int(input(\"digite o primeiro valor: \"))\n",
        "valor2 = int(input(\"digite o segundo valor: \"))\n",
        "valor3 = int(input(\"digite o terceiro valor: \"))\n",
        "soma1 = valor1 + valor2\n",
        "soma2 = valor1 + valor3\n",
        "soma3 = valor2 + valor3\n",
        "if valor1 + valor2 > valor1 + valor3:\n",
        "  print(\"essa é a soma dos 2 maiores numeros\", soma1)\n",
        "elif valor1 + valor3 > valor1 + valor2:\n",
        "  print(\"essa é a soma dos 2 maiores numeros\", soma2)\n",
        "elif valor2 + valor3 > valor1 + valor2 or valor1 + valor3:\n",
        "  print(\"essa é a soma dos 2 maiores numeros\", soma3)"
      ],
      "metadata": {
        "colab": {
          "base_uri": "https://localhost:8080/"
        },
        "id": "RkLJzNgVk7-g",
        "outputId": "e8b635a0-2466-4533-dcc7-af838357eaba"
      },
      "execution_count": null,
      "outputs": [
        {
          "output_type": "stream",
          "name": "stdout",
          "text": [
            "digite o primeiro valor: 6\n",
            "digite o segundo valor: 4\n",
            "digite o terceiro valor: 2\n",
            "essa é a soma dos 2 maiores numeros 10\n"
          ]
        }
      ]
    },
    {
      "cell_type": "markdown",
      "source": [
        "Exercicio 23"
      ],
      "metadata": {
        "id": "pXp8KrkBnTBp"
      }
    },
    {
      "cell_type": "code",
      "source": [
        "num1 = int(input(\"digite o primeiro valor: \"))\n",
        "num2 = int(input(\"digite o segundo valor: \"))\n",
        "num3 = int(input(\"digite o terceiro valor: \"))\n",
        "if (num1 < num2) and (num1 < num3):\n",
        "    print(\"menor = num1\")\n",
        "elif num2 < num3:\n",
        "   print(\"meio = num2\")\n",
        "   print(\"maior = num3\")\n",
        "elif (num2 > num1) and (num2 > num3):\n",
        "    print(\"maior = num2\")\n",
        "elif num1 < num3:\n",
        "        print(\"meio = num3\")\n",
        "        print(\"menor = num1\")\n",
        "else:\n",
        "        print(\"meio = num1\")\n",
        "        print(\"menor = num3\")"
      ],
      "metadata": {
        "colab": {
          "base_uri": "https://localhost:8080/"
        },
        "id": "5jmUPMyMnVB0",
        "outputId": "d5037a8e-76bb-4693-9ddc-a28636dd48a7"
      },
      "execution_count": null,
      "outputs": [
        {
          "output_type": "stream",
          "name": "stdout",
          "text": [
            "digite o primeiro valor: 2\n",
            "digite o segundo valor: 4\n",
            "digite o terceiro valor: 6\n",
            "menor = num1\n"
          ]
        }
      ]
    },
    {
      "cell_type": "markdown",
      "source": [
        "Exercicio 24"
      ],
      "metadata": {
        "id": "OFgw5aDUqMsO"
      }
    },
    {
      "cell_type": "code",
      "source": [
        "nota_1 = float(input(\"digite a primeira nota: \"))\n",
        "nota_2 = float(input(\"digite a segunda nota: \"))\n",
        "media = (nota_1 + nota_2) / 2\n",
        "if media >=9:\n",
        "   conceito = \"A\"\n",
        "elif media >= 7.5:\n",
        "   conceito = \"B\"\n",
        "elif media >= 6:\n",
        "    conceito = \"C\"\n",
        "elif media >= 4:\n",
        "    conceito = \"D\"\n",
        "elif media >= 0:\n",
        "    conceito = \"E\"\n",
        "if conceito == \"A\" or conceito == \"B\" or conceito == \"C\":\n",
        "    resultado = \"Aprovado\"\n",
        "elif conceito == \"D\" or conceito == \"E\":\n",
        "    resultado = \"Reprovado\"\n",
        "print(\"primeira nota\", nota_1)\n",
        "print(\"segunda nota\", nota_2)\n",
        "print(\"sua media\", media)\n",
        "print(\"conceito\", conceito)\n",
        "print(\"resultado\", resultado)"
      ],
      "metadata": {
        "colab": {
          "base_uri": "https://localhost:8080/"
        },
        "id": "Xvr-rVIi32vi",
        "outputId": "665fbcea-4957-4d52-d2ef-547ad8f4962c"
      },
      "execution_count": null,
      "outputs": [
        {
          "output_type": "stream",
          "name": "stdout",
          "text": [
            "digite a primeira nota: 9.0\n",
            "digite a segunda nota: 10\n",
            "primeira nota 9.0\n",
            "segunda nota 10.0\n",
            "sua media 9.5\n",
            "conceito A\n",
            "resultado Aprovado\n"
          ]
        }
      ]
    },
    {
      "cell_type": "markdown",
      "source": [
        "Exercicio 25"
      ],
      "metadata": {
        "id": "49l5IlW71IbB"
      }
    },
    {
      "cell_type": "code",
      "source": [
        "n1 = float(input(\"digite um numero: \"))\n",
        "n2 = float(input(\"digite outro numero: \"))\n",
        "operacao = input(\"digite a operacao (+,-,*,/): \")\n",
        "if operacao == \"+\":\n",
        "    resultado = n1 + n2\n",
        "elif operacao == \"-\":\n",
        "     resultado = n1 - n2\n",
        "elif operacao == \"*\":\n",
        "     resultado = n1 * n2\n",
        "elif operacao == \"/\":\n",
        "     resultado = n1 / n2\n",
        "else:\n",
        "  print(\"operacao inválida!\")\n",
        "  resultado = 0\n",
        "print(\"resultado:\", resultado)"
      ],
      "metadata": {
        "colab": {
          "base_uri": "https://localhost:8080/"
        },
        "id": "bQe7gvVA24t7",
        "outputId": "d8b0e94e-320c-4c34-b19d-fe9d6ddb1bc6"
      },
      "execution_count": null,
      "outputs": [
        {
          "output_type": "stream",
          "name": "stdout",
          "text": [
            "digite um numero: 2\n",
            "digite outro numero: 4\n",
            "digite a operacao (+,-,*,/): *\n",
            "resultado: 8.0\n"
          ]
        }
      ]
    },
    {
      "cell_type": "markdown",
      "source": [
        "Exercicio 26"
      ],
      "metadata": {
        "id": "qgWaikga3iSf"
      }
    },
    {
      "cell_type": "code",
      "source": [
        "import math\n",
        "print('Equaçao do 2o grau da forma: ax² + bx + c')\n",
        "a = int( input('Coeficiente a: ') )\n",
        "if(a==0):\n",
        "        print(\"Se a=0, não é equação do segundo grau.\")\n",
        "else:\n",
        "        b = int( input('Coeficiente b: ') )\n",
        "        c = int( input('Coeficiente c: ') )\n",
        "        delta = b*b - (4*a*c)\n",
        "if delta<0:\n",
        "            print(\"Delta menor que 0. Raízes imaginárias.\")\n",
        "elif delta==0:\n",
        "            raiz = -b / (2*a)\n",
        "            print('Delta=0 , raiz = ',raiz)\n",
        "else:\n",
        "            raiz1 = (-b + math.sqrt(delta) ) / (2*a)\n",
        "            raiz2 = (-b - math.sqrt(delta) ) / (2*a)\n",
        "            print('Raizes: ',raiz1,' e ',raiz2)"
      ],
      "metadata": {
        "colab": {
          "base_uri": "https://localhost:8080/"
        },
        "id": "eBf725Zd3kQ7",
        "outputId": "5091f3b3-bda0-4d67-8cb3-7a7a18dd06da"
      },
      "execution_count": null,
      "outputs": [
        {
          "output_type": "stream",
          "name": "stdout",
          "text": [
            "Equaçao do 2o grau da forma: ax² + bx + c\n",
            "Coeficiente a: 2\n",
            "Coeficiente b: 5\n",
            "Coeficiente c: 4\n",
            "Delta menor que 0. Raízes imaginárias.\n"
          ]
        }
      ]
    },
    {
      "cell_type": "markdown",
      "source": [
        "Exercicio 27"
      ],
      "metadata": {
        "id": "z7w8UdR7ir4k"
      }
    },
    {
      "cell_type": "code",
      "source": [
        "a = int(input(\"digite o primeiro valor: \"))\n",
        "b = int(input(\"digite o segundo valor: \"))\n",
        "c = int(input(\"digite o terceiro valor: \"))\n",
        "if (a + b > c and a + c > b and b + c > a):\n",
        " print(\"os valores lidos não formam um triangulo\")\n",
        "elif (a == b and a == c):\n",
        "  print(\"triangulo equilátero\")\n",
        "elif (a == b or a == c or b == c):\n",
        "  print(\"triangulo isósceles\")\n",
        "elif a != b or a != c:\n",
        "  print(\"triangulo escaleno\")"
      ],
      "metadata": {
        "colab": {
          "base_uri": "https://localhost:8080/"
        },
        "id": "pLOKhHAWit7I",
        "outputId": "45f9ffbb-8f33-405d-e8b8-00800217948f"
      },
      "execution_count": null,
      "outputs": [
        {
          "output_type": "stream",
          "name": "stdout",
          "text": [
            "digite o primeiro valor: 2\n",
            "digite o segundo valor: 4\n",
            "digite o terceiro valor: 6\n",
            "triangulo escaleno\n"
          ]
        }
      ]
    },
    {
      "cell_type": "markdown",
      "source": [
        "Exercicio 28"
      ],
      "metadata": {
        "id": "GH5RxeA2WmhW"
      }
    },
    {
      "cell_type": "code",
      "source": [
        "opção = int(input(\"digite o valor de opção: \"))\n",
        "a = float(input(\"digite o valor de a: \"))\n",
        "b = float(input(\"digite o valor de b: \"))\n",
        "c = float(input(\"digite o valor de c: \"))\n",
        "if opção == 1 and a < b or a < c:\n",
        "  print(\"ordem crescente\")\n",
        "elif opção == 2 and a > b or a > c:\n",
        "  print(\"ordem decrescente\")\n",
        "elif opção == 3 and b > c:\n",
        "  print(\"maior valor entre dois\")"
      ],
      "metadata": {
        "colab": {
          "base_uri": "https://localhost:8080/"
        },
        "id": "XYGNtpCh4c9E",
        "outputId": "423ea4f9-0a9f-452d-ec61-6c85562ace1a"
      },
      "execution_count": null,
      "outputs": [
        {
          "output_type": "stream",
          "name": "stdout",
          "text": [
            "digite o valor de opção: 1\n",
            "digite o valor de a: 2\n",
            "digite o valor de b: 3\n",
            "digite o valor de c: 4\n",
            "ordem crescente\n"
          ]
        }
      ]
    },
    {
      "cell_type": "markdown",
      "source": [
        "Exercicio 29"
      ],
      "metadata": {
        "id": "t-OqREWcgyLq"
      }
    },
    {
      "cell_type": "code",
      "source": [
        "salario = float(input(\"digite o salario atual: \"))\n",
        "if salario <= 400:\n",
        "  aumento = 15\n",
        "elif salario > 400 < salario <= 700:\n",
        "  aumento = 12\n",
        "elif salario > 700 < salario <= 1000:\n",
        "  aumento = 10\n",
        "elif salario > 1000 < salario <= 1500:\n",
        "  aumento = 7\n",
        "elif salario > 1500 < salario <= 2000:\n",
        "  aumento = 4\n",
        "elif salario > 2000:\n",
        "  aumento = 0\n",
        "print('índice de aumento: ',aumento,'%')\n",
        "percentual = aumento/100\n",
        "aumento = percentual * salario\n",
        "novo_salario = salario + aumento\n",
        "print('Aumento: R$ ',aumento)\n",
        "print('Novo salário: R$ ', novo_salario)"
      ],
      "metadata": {
        "colab": {
          "base_uri": "https://localhost:8080/"
        },
        "id": "DWo_zFpryokS",
        "outputId": "40e499ae-e324-4835-e236-662bf18c9142"
      },
      "execution_count": null,
      "outputs": [
        {
          "output_type": "stream",
          "name": "stdout",
          "text": [
            "digite o salario atual: 1500\n",
            "índice de aumento:  7 %\n",
            "Aumento: R$  105.00000000000001\n",
            "Novo salário: R$  1605.0\n"
          ]
        }
      ]
    },
    {
      "cell_type": "markdown",
      "source": [
        "Exercicio 30"
      ],
      "metadata": {
        "id": "UBkU-lHK0IA9"
      }
    },
    {
      "cell_type": "code",
      "source": [
        "salario = float(input('Salário do colaborador: '))\n",
        "if (salario < 10.000):\n",
        "        percentual = 55\n",
        "elif salario == 10.000 >= 25.000:\n",
        "        percentual = 20\n",
        "elif (salario > 25.000):\n",
        "        percentual = 20\n",
        "print('Salario original: R$ ', salario)\n",
        "\n",
        "print('Percentual: ',percentual,'%')\n",
        "percentual = percentual/100.0\n",
        "aumento = percentual * salario\n",
        "novo_salario = salario + aumento\n",
        "print('Aumento: R$ ',aumento)\n",
        "print('Novo salário: R$ ', novo_salario)"
      ],
      "metadata": {
        "colab": {
          "base_uri": "https://localhost:8080/"
        },
        "id": "9whJA4tG6D5l",
        "outputId": "3778262b-2abc-411e-9ac6-1a624e2d2b1b"
      },
      "execution_count": null,
      "outputs": [
        {
          "output_type": "stream",
          "name": "stdout",
          "text": [
            "Salário do colaborador: 4.500\n",
            "Salario original: R$  4.5\n",
            "Percentual:  55 %\n",
            "Aumento: R$  2.475\n",
            "Novo salário: R$  6.975\n"
          ]
        }
      ]
    },
    {
      "cell_type": "markdown",
      "source": [
        "Exercicio 31"
      ],
      "metadata": {
        "id": "McwFzwihily6"
      }
    },
    {
      "cell_type": "code",
      "source": [
        "temperatura = int(input(\"digite a temperatura que o alumínio deverá ser trabalhado: \"))\n",
        "if temperatura <= 500:\n",
        "  print(\"temperatura inválida\")\n",
        "elif temperatura < 700:\n",
        "  print(\"aquecimento ligado em 100%\")\n",
        "elif temperatura < 735:\n",
        "  print(\"aquecimento ligado em 50%\")\n",
        "elif temperatura >= 735:\n",
        "  print(\"aquecimento desligado\")\n",
        "elif temperatura > 780:\n",
        "  print(\"superaquecimento\")"
      ],
      "metadata": {
        "colab": {
          "base_uri": "https://localhost:8080/"
        },
        "id": "ctrArTQKpl3V",
        "outputId": "f67104ab-c66f-429e-8dc1-a144e5b0d951"
      },
      "execution_count": null,
      "outputs": [
        {
          "output_type": "stream",
          "name": "stdout",
          "text": [
            "digite a temperatura que o alumínio deverá ser trabalhado: 400\n",
            "temperatura inválida\n"
          ]
        }
      ]
    },
    {
      "cell_type": "markdown",
      "source": [
        "Exercicio 32"
      ],
      "metadata": {
        "id": "X8f8j2petGaC"
      }
    },
    {
      "cell_type": "code",
      "source": [
        "valor_1 = int(input(\"digite um valor de 1 á 4: \"))\n",
        "valor_2= int(input(\"digite um valor de 1 á 4: \"))\n",
        "soma = valor_1 + valor_2\n",
        "subtracao = valor_1 - valor_2\n",
        "multiplicacao = valor_1 * valor_2\n",
        "divisao = valor_1/valor_2\n",
        "media = (valor_1 + valor_2) / 2\n",
        "if valor_1 + valor_2 == 0:\n",
        "  print(\"valor digitado for 0, calcular e exibir a soma dos números\")\n",
        "elif valor_1 + valor_2 == 1:\n",
        "  print(\" valor digitado for 1, calcular e exibir a subtração dos números\")\n",
        "elif valor_1 + valor_2 == 2:\n",
        "  print(\" valor digitado for 2, calcular e exibir a multiplicação dos números\")\n",
        "elif valor_1 + valor_2 == 3:\n",
        "  print(\" valor digitado for 3, calcular e exibir a divisao dos números\")\n",
        "elif valor_1 + valor_2 == 4:\n",
        "  print(\" valor digitado for 4, calcular e exibir a média dos números\")\n",
        "elif valor_1 + valor_2 != (1,2,3,4):\n",
        "  print(\"Diferente de 1,2,3 ou 4, exibir a mensagem. Valor errado programa encerrado sem cálculos\")\n",
        "elif soma:\n",
        "  print(\"soma\", soma)\n",
        "elif subtracao:\n",
        "  print(\"subtracao\", subtracao)\n",
        "elif multiplicacao:\n",
        "  print(\"multiplicacao\", multiplicacao)\n",
        "elif divisao:\n",
        "  print(\"divisao\", divisao)\n",
        "elif media:\n",
        "  print(\"media\", media)"
      ],
      "metadata": {
        "colab": {
          "base_uri": "https://localhost:8080/"
        },
        "id": "uZ46OpmxwpSI",
        "outputId": "b9186db7-35ef-406d-de1c-bce3207438f4"
      },
      "execution_count": null,
      "outputs": [
        {
          "output_type": "stream",
          "name": "stdout",
          "text": [
            "digite um valor de 1 á 4: 5\n",
            "digite um valor de 1 á 4: 5\n",
            "Diferente de 1,2,3 ou 4, exibir a mensagem. Valor errado programa encerrado sem cálculos\n"
          ]
        }
      ]
    },
    {
      "cell_type": "markdown",
      "source": [
        "Exercicio 34"
      ],
      "metadata": {
        "id": "ELeKfRaur5QJ"
      }
    },
    {
      "cell_type": "code",
      "source": [
        "homem_1 = int(input(\"digite a idade do homem_1: \"))\n",
        "homem_2 = int(input(\"digite a idade do homem_2: \"))\n",
        "mulher_1 = int(input(\"digite a idade de mulher_1: \"))\n",
        "mulher_2 = int(input(\"digite a idade de mulher_2: \"))\n",
        "if homem_1 > homem_2 == homem_1 and mulher_2:\n",
        "  print(\"a soma da idade do homem mais velho com a mulher mais nova\")\n",
        "elif homem_2 > homem_1 == homem_2 and mulher_1:\n",
        "  print(\"o produto da idade do homem mais novo com a mulher mais velha\")\n",
        "soma = homem_1 + mulher_2\n",
        "produto = homem_2 * mulher_1\n",
        "print(\"a soma da idade do homem mais velho com a mulher mais nova\", soma)\n",
        "print(\"o produto da idade do homem mais nova com a mulher mais velha\", produto)\n"
      ],
      "metadata": {
        "colab": {
          "base_uri": "https://localhost:8080/"
        },
        "id": "aoMd4vZYr7RA",
        "outputId": "c102f1ec-1f57-47a1-f476-8f9b6e4cbd33"
      },
      "execution_count": null,
      "outputs": [
        {
          "output_type": "stream",
          "name": "stdout",
          "text": [
            "digite a idade do homem_1: 50\n",
            "digite a idade do homem_2: 30\n",
            "digite a idade de mulher_1: 40\n",
            "digite a idade de mulher_2: 20\n",
            "a soma da idade do homem mais velho com a mulher mais nova 70\n",
            "o produto da idade do homem mais nova com a mulher mais velha 1200\n"
          ]
        }
      ]
    }
  ]
}