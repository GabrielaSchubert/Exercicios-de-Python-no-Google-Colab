{
  "nbformat": 4,
  "nbformat_minor": 0,
  "metadata": {
    "colab": {
      "provenance": [],
      "authorship_tag": "ABX9TyO3fJkA9a5nBIWFtL4D32iF",
      "include_colab_link": true
    },
    "kernelspec": {
      "name": "python3",
      "display_name": "Python 3"
    },
    "language_info": {
      "name": "python"
    }
  },
  "cells": [
    {
      "cell_type": "markdown",
      "metadata": {
        "id": "view-in-github",
        "colab_type": "text"
      },
      "source": [
        "<a href=\"https://colab.research.google.com/github/GabrielaSchubert/Python_no_Google_Colaboratory/blob/main/Introdu%C3%A7%C3%A3o_%C3%A0_POO_(Polimorfismo).ipynb\" target=\"_parent\"><img src=\"https://colab.research.google.com/assets/colab-badge.svg\" alt=\"Open In Colab\"/></a>"
      ]
    },
    {
      "cell_type": "markdown",
      "source": [
        "#### Atividade Prática 07 Polimorfismo em Python"
      ],
      "metadata": {
        "id": "z_f9eJ5c9a7U"
      }
    },
    {
      "cell_type": "markdown",
      "source": [
        "Nesta atividade prática, vamos retornar à classe Usuario que usamos nas atividades anteriores. Para\n",
        "implementar o princípio do polimorfismo, criaremos uma classe chamada Usuario. A partir dela\n",
        "criaremos algumas classes como: para calcular o número de pontuações que um usuário tem, e o número\n",
        "de artigos que ele criou ou editou. Baseado nesta classe (Usuario), vamos criar as classes Autor e\n",
        "Editor, e ambas calcularão o número de pontuações com o método calcPontuacao(), embora o\n",
        "valor calculado seja diferente entre estas duas classes."
      ],
      "metadata": {
        "id": "19-uVmTW9smg"
      }
    },
    {
      "cell_type": "code",
      "execution_count": null,
      "metadata": {
        "id": "iIvlkD4E9TnK",
        "colab": {
          "base_uri": "https://localhost:8080/"
        },
        "outputId": "19c17ee9-7fd2-4c62-d303-4f13fde3f811"
      },
      "outputs": [
        {
          "output_type": "stream",
          "name": "stdout",
          "text": [
            "Pontuação do autor: 100\n",
            "Pontuação do editor: 105\n"
          ]
        }
      ],
      "source": [
        "class Usuario():\n",
        "\n",
        "  pontos = 0\n",
        "  numeroDeArtigos = 0\n",
        "\n",
        "  def setNumeroDeArtigos(self, nart):\n",
        "    self.numeroDeArtigos = nart\n",
        "\n",
        "  def getNumeroDeArtigos(self):\n",
        "    return self.numeroDeArtigos\n",
        "\n",
        "  def calcPontuacao(self):\n",
        "    pass\n",
        "\n",
        "class Autor(Usuario):\n",
        "\n",
        "  def calcPontuacao(self):\n",
        "    return self.numeroDeArtigos * 10 + 20\n",
        "\n",
        "class Editor(Usuario):\n",
        "\n",
        "  def calcPontuacao(self):\n",
        "    return self.numeroDeArtigos * 6 + 15\n",
        "\n",
        "autor1 = Autor()\n",
        "autor1.setNumeroDeArtigos(8)\n",
        "print(f\"Pontuação do autor: {autor1.calcPontuacao()}\")\n",
        "editor1 = Editor()\n",
        "editor1.setNumeroDeArtigos(15)\n",
        "print(f\"Pontuação do editor: {editor1.calcPontuacao()}\")"
      ]
    },
    {
      "cell_type": "markdown",
      "source": [
        "#### Lista 03 Polimorfismo"
      ],
      "metadata": {
        "id": "e5v4hyFsBWFS"
      }
    },
    {
      "cell_type": "markdown",
      "source": [
        "1. Crie uma hierarquia de classes para animais, com uma classe mãe Animal e subclasses Cachorro,\n",
        "Gato e Peixe. Cada subclasse deve ter um método falar() que retorne uma string\n",
        "representando o som que o animal faz. Demonstre o polimorfismo chamando falar() nas\n",
        "instâncias de cada subclasse."
      ],
      "metadata": {
        "id": "Z25QbcSWBv5A"
      }
    },
    {
      "cell_type": "code",
      "source": [
        "class Animal():\n",
        "\n",
        "  def falar(self):\n",
        "    pass\n",
        "\n",
        "class Cachorro(Animal):\n",
        "\n",
        "  def falar(self):\n",
        "    return (\"AuAu\")\n",
        "\n",
        "class Gato(Animal):\n",
        "\n",
        "  def falar(self):\n",
        "    return (\"Miau\")\n",
        "\n",
        "class Peixe(Animal):\n",
        "\n",
        "  def falar(self):\n",
        "    return (\"Glub\")\n",
        "\n",
        "cachorro = Cachorro()\n",
        "gato = Gato()\n",
        "peixe = Peixe()\n",
        "print(cachorro.falar())\n",
        "print(gato.falar())\n",
        "print(peixe.falar())"
      ],
      "metadata": {
        "colab": {
          "base_uri": "https://localhost:8080/"
        },
        "id": "Dz3t1JhdBckp",
        "outputId": "2a407032-13ba-4bd5-bc32-a007974c6ca8"
      },
      "execution_count": null,
      "outputs": [
        {
          "output_type": "stream",
          "name": "stdout",
          "text": [
            "AuAu\n",
            "Miau\n",
            "Glub\n"
          ]
        }
      ]
    },
    {
      "cell_type": "markdown",
      "source": [
        "2. Crie uma classe Animal com um método falar(). Em seguida, crie duas classes filhas,\n",
        "Cachorro e Gato, que herdam da classe Animal. Cada uma destas classes filhas deve ter seu\n",
        "próprio método falar() que retorne um som diferente (e.g. latidos para o cachorro e miados para\n",
        "o gato). Em seguida, crie uma lista de animais que inclua um cachorro e um gato. Por fim, itere\n",
        "sobre a lista e chame o método falar() de cada animal."
      ],
      "metadata": {
        "id": "ewVJ_Zk1DEjB"
      }
    },
    {
      "cell_type": "code",
      "source": [
        "class Animal():\n",
        "\n",
        "  def falar(self):\n",
        "    pass\n",
        "\n",
        "class Cachorro(Animal):\n",
        "\n",
        "  def falar(self):\n",
        "    return (\"AuAu\")\n",
        "\n",
        "class Gato(Animal):\n",
        "\n",
        "  def falar(self):\n",
        "    return (\"Miau\")\n",
        "\n",
        "animais = [Cachorro(),Gato()]\n",
        "\n",
        "for Animal in animais:\n",
        "  print(Animal.falar())"
      ],
      "metadata": {
        "colab": {
          "base_uri": "https://localhost:8080/"
        },
        "id": "T231i5ALDFU8",
        "outputId": "d69672f7-6350-410f-99be-3e6c3ad9d20a"
      },
      "execution_count": null,
      "outputs": [
        {
          "output_type": "stream",
          "name": "stdout",
          "text": [
            "AuAu\n",
            "Miau\n"
          ]
        }
      ]
    },
    {
      "cell_type": "markdown",
      "source": [
        "3. Crie uma classe chamada Carro com um método dirigir(). Em seguida, crie duas subclasses,\n",
        "CarroGasolina e CarroEletrico, cada uma com sua própria implementação de dirigir().\n",
        "Demonstre o polimorfismo passando instâncias de ambas as subclasses para uma função que recebe\n",
        "um objeto Carro."
      ],
      "metadata": {
        "id": "J9eznCYwD-24"
      }
    },
    {
      "cell_type": "code",
      "source": [
        "class Carro():\n",
        "\n",
        "  def dirigir(self):\n",
        "    pass\n",
        "\n",
        "class CarroGasolina(Carro):\n",
        "\n",
        "  def dirigir(self):\n",
        "    return (\"O carro precisa de gasolina para dirigir\")\n",
        "\n",
        "class CarroEletrico(Carro):\n",
        "\n",
        "  def dirigir(self):\n",
        "    return (\"O carro precisa de energia para dirigir\")\n",
        "\n",
        "def dirigirCarro(carro):\n",
        "    return carro.dirigir()\n",
        "\n",
        "carroGasolina = CarroGasolina()\n",
        "carroEletrico = CarroEletrico()\n",
        "print(dirigirCarro(carroGasolina))\n",
        "print(dirigirCarro(carroEletrico))"
      ],
      "metadata": {
        "colab": {
          "base_uri": "https://localhost:8080/"
        },
        "id": "dpXSrkrhrYh_",
        "outputId": "9ce0945a-e828-4e61-baea-aef3b1bee97c"
      },
      "execution_count": null,
      "outputs": [
        {
          "output_type": "stream",
          "name": "stdout",
          "text": [
            "O carro precisa de gasolina para dirigir\n",
            "O carro precisa de energia para dirigir\n"
          ]
        }
      ]
    },
    {
      "cell_type": "markdown",
      "source": [
        "4. Crie uma classe Forma com um método area(). Em seguida, crie duas classes filhas, Circulo e\n",
        "Quadrado, que herdam da classe Forma. Cada uma destas classes filhas deve ter seu próprio\n",
        "método area() que calcula a área do círculo ou do quadrado, respectivamente. Em seguida, crie\n",
        "uma lista de formas que inclua um círculo e um quadrado. Por fim, itere sobre a lista e chame o\n",
        "método area() de cada forma."
      ],
      "metadata": {
        "id": "5Wc63yM4v4Sl"
      }
    },
    {
      "cell_type": "code",
      "source": [
        "import math\n",
        "\n",
        "class Forma():\n",
        "\n",
        "  def area(self):\n",
        "    pass\n",
        "\n",
        "class Circulo(Forma):\n",
        "\n",
        "  def __init__(self,raio):\n",
        "    self.raio = raio\n",
        "\n",
        "  def area(self):\n",
        "    return math.pi * self.raio ** 2\n",
        "\n",
        "class Quadrado(Forma):\n",
        "\n",
        "  def __init__(self,lado):\n",
        "    self.lado = lado\n",
        "\n",
        "  def area(self):\n",
        "    return self.lado ** 2\n",
        "\n",
        "listaFormas = [Circulo(4),Quadrado(6)]\n",
        "\n",
        "for Forma in listaFormas:\n",
        "  print(f\"Área da forma: {Forma.area()}\")"
      ],
      "metadata": {
        "colab": {
          "base_uri": "https://localhost:8080/"
        },
        "id": "Ve8fnX9wwAc8",
        "outputId": "32e746a9-fa34-459a-d51e-96e38329df24"
      },
      "execution_count": null,
      "outputs": [
        {
          "output_type": "stream",
          "name": "stdout",
          "text": [
            "Área da forma: 50.26548245743669\n",
            "Área da forma: 36\n"
          ]
        }
      ]
    },
    {
      "cell_type": "markdown",
      "source": [
        "5. Crie uma classe Empregado com um método pagar_salario(). Em seguida, crie duas classes\n",
        "filhas, EmpregadoHora e EmpregadoMes, que herdam da classe Empregado. Cada uma das\n",
        "classes filhas deve ter seu próprio método pagar_salario() que calcula o salário com base no\n",
        "número de horas trabalhadas ou no salário mensal, respectivamente. Em seguida, crie uma lista de\n",
        "funcionários que inclua um funcionário horista e um funcionário mensalista. Por fim, itere sobre a\n",
        "lista e chame o método pagar_salario() de cada funcionário."
      ],
      "metadata": {
        "id": "v83F7AzBzqyr"
      }
    },
    {
      "cell_type": "code",
      "source": [
        "class Empregado():\n",
        "\n",
        "  def pagarSalario(self):\n",
        "    pass\n",
        "\n",
        "class EmpregadoHora(Empregado):\n",
        "\n",
        "  def __init__(self, horasTrabalhadas,valorHora):\n",
        "    self.horasTrabalhadas = horasTrabalhadas\n",
        "    self.valorHora = valorHora\n",
        "\n",
        "  def pagarSalario(self):\n",
        "    return self.horasTrabalhadas * self.valorHora\n",
        "\n",
        "class EmpregadoMes(Empregado):\n",
        "\n",
        "  def __init__(self, salarioMensal):\n",
        "    self.salarioMensal = salarioMensal\n",
        "\n",
        "  def pagarSalario(self):\n",
        "    return self.salarioMensal\n",
        "\n",
        "listaFuncionarios = [EmpregadoHora(40,50),EmpregadoMes(4200)]\n",
        "\n",
        "for Empregado in listaFuncionarios:\n",
        "  print(f\"Salário á pagar ao Empregado: R$ {Empregado.pagarSalario():.2f}\")"
      ],
      "metadata": {
        "colab": {
          "base_uri": "https://localhost:8080/"
        },
        "id": "eC7dRho6ztlD",
        "outputId": "298e452c-96bf-4427-96b1-cc61e824c4d4"
      },
      "execution_count": null,
      "outputs": [
        {
          "output_type": "stream",
          "name": "stdout",
          "text": [
            "Salário á pagar ao Empregado: R$ 2000.00\n",
            "Salário á pagar ao Empregado: R$ 4200.00\n"
          ]
        }
      ]
    },
    {
      "cell_type": "markdown",
      "source": [
        "6. Crie uma classe chamada ContaBancaria com os métodos deposito() e retirada(). Crie\n",
        "duas subclasses: ContaPoupanca e ContaCorrente. Cada uma dessas subclasses deve ter sua\n",
        "própria taxa de juros (a taxa de juros da Conta Poupança é maior que a da Conta Corrente)."
      ],
      "metadata": {
        "id": "SX_Yr2dE3tXq"
      }
    },
    {
      "cell_type": "code",
      "source": [
        "class ContaBancaria():\n",
        "\n",
        "  def __init__(self,saldo=0):\n",
        "    self.saldo = saldo\n",
        "\n",
        "  def deposito(self,valor):\n",
        "    self.saldo += valor\n",
        "    return self.saldo\n",
        "\n",
        "  def retirada(self,valor):\n",
        "    self.saldo -= valor\n",
        "    return self.saldo\n",
        "\n",
        "class ContaPoupanca(ContaBancaria):\n",
        "\n",
        "  def __init__(self, saldo=0, taxaJuros=0.08):\n",
        "        super().__init__(saldo)\n",
        "        self.taxaJuros = taxaJuros\n",
        "\n",
        "  def calcularJuros(self):\n",
        "    juros = self.saldo * self.taxaJuros\n",
        "    self.deposito(juros)\n",
        "    return self.saldo\n",
        "\n",
        "class ContaCorrente(ContaBancaria):\n",
        "\n",
        "  def __init__(self, saldo=0, taxaJuros=0.05):\n",
        "        super().__init__(saldo)\n",
        "        self.taxaJuros = taxaJuros\n",
        "\n",
        "  def calcularJuros(self):\n",
        "    juros = self.saldo * self.taxaJuros\n",
        "    self.deposito(juros)\n",
        "    return self.saldo\n",
        "\n",
        "contaPoupanca = ContaPoupanca(3000)\n",
        "contaCorrente = ContaCorrente(1000)\n",
        "print(\"Saldo da conta poupança:\", contaPoupanca.saldo)\n",
        "print(\"Saldo da conta corrente:\", contaCorrente.saldo)\n",
        "\n",
        "contaPoupanca.deposito(500)\n",
        "contaCorrente.deposito(200)\n",
        "print(\"Saldo após depósito na conta poupança:\", contaPoupanca.saldo)\n",
        "print(\"Saldo após depósito na conta corrente:\", contaCorrente.saldo)\n",
        "\n",
        "contaPoupanca.retirada(0)\n",
        "contaCorrente.retirada(500)\n",
        "print(\"Saldo após retirada na conta poupança:\", contaPoupanca.saldo)\n",
        "print(\"Saldo após retirada na conta corrente:\", contaCorrente.saldo)\n",
        "\n",
        "contaPoupanca.calcularJuros()\n",
        "contaCorrente.calcularJuros()\n",
        "print(\"Saldo após juros na conta poupança:\", contaPoupanca.saldo)\n",
        "print(\"Saldo após juros na conta corrente:\", contaCorrente.saldo)"
      ],
      "metadata": {
        "colab": {
          "base_uri": "https://localhost:8080/"
        },
        "id": "xLIAjtpW3uug",
        "outputId": "48cdcc84-454e-453f-daf2-40494ad2d50a"
      },
      "execution_count": null,
      "outputs": [
        {
          "output_type": "stream",
          "name": "stdout",
          "text": [
            "Saldo da conta poupança: 3000\n",
            "Saldo da conta corrente: 1000\n",
            "Saldo após depósito na conta poupança: 3500\n",
            "Saldo após depósito na conta corrente: 1200\n",
            "Saldo após retirada na conta poupança: 3500\n",
            "Saldo após retirada na conta corrente: 700\n",
            "Saldo após juros na conta poupança: 3780.0\n",
            "Saldo após juros na conta corrente: 735.0\n"
          ]
        }
      ]
    }
  ]
}