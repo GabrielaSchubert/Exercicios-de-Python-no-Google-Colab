{
  "nbformat": 4,
  "nbformat_minor": 0,
  "metadata": {
    "colab": {
      "provenance": [],
      "authorship_tag": "ABX9TyOYRkNrS0QSNmMdSyNwY/o8",
      "include_colab_link": true
    },
    "kernelspec": {
      "name": "python3",
      "display_name": "Python 3"
    },
    "language_info": {
      "name": "python"
    }
  },
  "cells": [
    {
      "cell_type": "markdown",
      "metadata": {
        "id": "view-in-github",
        "colab_type": "text"
      },
      "source": [
        "<a href=\"https://colab.research.google.com/github/GabrielaSchubert/Exercicios-de-Python-no-Google-Colab/blob/main/Testes_do_livro.ipynb\" target=\"_parent\"><img src=\"https://colab.research.google.com/assets/colab-badge.svg\" alt=\"Open In Colab\"/></a>"
      ]
    },
    {
      "cell_type": "markdown",
      "source": [
        "Condições"
      ],
      "metadata": {
        "id": "L80m0mWBvYtg"
      }
    },
    {
      "cell_type": "code",
      "execution_count": null,
      "metadata": {
        "colab": {
          "base_uri": "https://localhost:8080/"
        },
        "id": "mgaVEHMSAYKG",
        "outputId": "2cfbf247-c15b-41ef-e7b1-93e1dbd4b382"
      },
      "outputs": [
        {
          "output_type": "stream",
          "name": "stdout",
          "text": [
            "digite o primeiro valor: 4\n",
            "digite o segundo valor: 6\n",
            "digite o terceiro valor: 8\n",
            "O menor número digitado foi 4\n",
            "O maior número digitado foi 8\n"
          ]
        }
      ],
      "source": [
        "a = int(input(\"digite o primeiro valor: \"))\n",
        "b = int(input(\"digite o segundo valor: \"))\n",
        "c = int(input(\"digite o terceiro valor: \"))\n",
        "maior = a\n",
        "if b > a and b > c:\n",
        "    maior = b\n",
        "if c > a and c > b:\n",
        "    maior = c\n",
        "menor = a\n",
        "if b < c and b < a:\n",
        "    menor = b\n",
        "if c < b and c < a:\n",
        "    menor = c\n",
        "print(f\"O menor número digitado foi {menor}\")\n",
        "print(f\"O maior número digitado foi {maior}\")"
      ]
    },
    {
      "cell_type": "code",
      "source": [
        "salario = float(input(\"digite o valor do salario para calcular imposto : \"))\n",
        "base = salario\n",
        "imposto = 0\n",
        "if base > 3000:\n",
        " imposto = imposto + ((base - 3000) * 0.35)\n",
        " base = 3000\n",
        "if base > 1000:\n",
        " imposto = imposto + ((base - 1000 ) * 0.20)\n",
        "print(\"salario: r$%6.2f imposto a pagar: r$%6.2f\" % (salario, imposto))"
      ],
      "metadata": {
        "colab": {
          "base_uri": "https://localhost:8080/"
        },
        "id": "gbZuV0_QCYWY",
        "outputId": "1ad6efd6-5771-46a6-ff52-ba7c7ddc55c9"
      },
      "execution_count": null,
      "outputs": [
        {
          "output_type": "stream",
          "name": "stdout",
          "text": [
            "digite o valor do salario para calcular imposto : 1500\n",
            "salario: r$1500.00 imposto a pagar: r$100.00\n"
          ]
        }
      ]
    },
    {
      "cell_type": "code",
      "source": [
        "idade = int(input(\"digite a idade do carro: \"))\n",
        "if idade <= 3:\n",
        " print(\"seu carro e novo\")\n",
        "else:\n",
        "  print(\"seu carro e velho\")"
      ],
      "metadata": {
        "colab": {
          "base_uri": "https://localhost:8080/"
        },
        "id": "mYZEBt4aEpms",
        "outputId": "061f5d1f-c4ec-4eb6-96ee-1093e73280c3"
      },
      "execution_count": null,
      "outputs": [
        {
          "output_type": "stream",
          "name": "stdout",
          "text": [
            "digite a idade do carro: 3\n",
            "seu carro e novo\n"
          ]
        }
      ]
    },
    {
      "cell_type": "code",
      "source": [
        "idade = int(input(\"digite a sua idade: \"))\n",
        "if idade <= 10:\n",
        " print(\"voce e uma crianca\")\n",
        "else:\n",
        "  print(\"voce e um jovem\")"
      ],
      "metadata": {
        "colab": {
          "base_uri": "https://localhost:8080/"
        },
        "id": "qFJ7Z28bF-Q9",
        "outputId": "5235f1b5-41b3-4cec-b893-360abf8d4104"
      },
      "execution_count": null,
      "outputs": [
        {
          "output_type": "stream",
          "name": "stdout",
          "text": [
            "digite a sua idade: 18\n",
            "voce e um jovem\n"
          ]
        }
      ]
    },
    {
      "cell_type": "code",
      "source": [
        "categoria = int(input(\"digite a categoria do produto: \"))\n",
        "if categoria == 1:\n",
        " preco = 10\n",
        "else:\n",
        "  if categoria == 2:\n",
        "    preco = 18\n",
        "  else:\n",
        "    if categoria == 3:\n",
        "      preco = 23\n",
        "    else:\n",
        "      if categoria == 4:\n",
        "       preco = 26\n",
        "      else:\n",
        "        if categoria == 5:\n",
        "         preco = 31\n",
        "        else:\n",
        "          print(\"categoria inválida, digite um valor entre 1 e 5\")\n",
        "          preco = 0\n",
        "print(\"o preco do produto é: r$:\", preco)"
      ],
      "metadata": {
        "colab": {
          "base_uri": "https://localhost:8080/"
        },
        "id": "WvUfW5EAQQEC",
        "outputId": "5726d47b-4b3f-42c4-8b98-c649e8998555"
      },
      "execution_count": null,
      "outputs": [
        {
          "output_type": "stream",
          "name": "stdout",
          "text": [
            "digite a categoria do produto: 3\n",
            "o preco do produto é: r$: 23\n"
          ]
        }
      ]
    },
    {
      "cell_type": "code",
      "source": [
        "categoria = int(input(\"digite a categoria do produto: \"))\n",
        "if categoria == 1:\n",
        " preco = 10\n",
        "elif categoria == 2:\n",
        " preco = 18\n",
        "elif categoria == 3:\n",
        "  preco = 23\n",
        "elif categoria == 4:\n",
        "  preco = 26\n",
        "elif categoria == 5:\n",
        "  preco = 31\n",
        "else:\n",
        "  print(\"categoria invalida, digite um valor entre 1 e 5!\")\n",
        "  preco = 0\n",
        "print(\"o preço do produto é: R$%6.2f\" % preco)"
      ],
      "metadata": {
        "colab": {
          "base_uri": "https://localhost:8080/"
        },
        "id": "aKEFxC4nR78b",
        "outputId": "ab07cf74-b87f-4df0-b119-ad1bb2676f63"
      },
      "execution_count": null,
      "outputs": [
        {
          "output_type": "stream",
          "name": "stdout",
          "text": [
            "digite a categoria do produto: 4\n",
            "o preço do produto é: R$ 26.00\n"
          ]
        }
      ]
    },
    {
      "cell_type": "code",
      "source": [
        "n1 = float(input(\"digite um numero: \"))\n",
        "n2 = float(input(\"digite outro numero: \"))\n",
        "operacao = input(\"digite a operacao (+,-,*,/): \")\n",
        "if operacao == \"+\":\n",
        "    resultado = a + b\n",
        "elif operacao == \"-\":\n",
        "     resultado = a - b\n",
        "elif operacao == \"*\":\n",
        "     resultado = a * b\n",
        "elif operacao == \"/\":\n",
        "     resultado = a / b\n",
        "else: \n",
        "  print(\"operacao inválida!\")\n",
        "  resultado = 0\n",
        "print(\"resultado:\", resultado) "
      ],
      "metadata": {
        "colab": {
          "base_uri": "https://localhost:8080/"
        },
        "id": "FPhsMaZXTamf",
        "outputId": "da0607a4-5dd7-4691-945e-976224711ac9"
      },
      "execution_count": null,
      "outputs": [
        {
          "output_type": "stream",
          "name": "stdout",
          "text": [
            "digite um numero: 5\n",
            "digite outro numero: 2\n",
            "digite a operacao (+,-,*,/): *\n",
            "resultado: 10.0\n"
          ]
        }
      ]
    },
    {
      "cell_type": "code",
      "source": [
        "a = float(input(\"Primeiro número:\"))\n",
        "b = float(input(\"Segundo número:\"))\n",
        "operação = input(\"Digite a operação a realizar (+,-,* ou /):\")\n",
        "if operação == \"+\":\n",
        "    resultado = a + b\n",
        "elif operação == \"-\":\n",
        "    resultado = a - b\n",
        "elif operação == \"*\":\n",
        "    resultado = a * b\n",
        "elif operação == \"/\":\n",
        "    resultado = a / b\n",
        "else:\n",
        "    print(\"Operação inválida!\")\n",
        "    resultado = 0\n",
        "print(\"Resultado: \", resultado)"
      ],
      "metadata": {
        "colab": {
          "base_uri": "https://localhost:8080/"
        },
        "id": "4-7_9VB_Vs0H",
        "outputId": "44fa5104-e53a-4851-f4b1-13fef9cbb520"
      },
      "execution_count": null,
      "outputs": [
        {
          "output_type": "stream",
          "name": "stdout",
          "text": [
            "Primeiro número:5\n",
            "Segundo número:2\n",
            "Digite a operação a realizar (+,-,* ou /):+\n",
            "Resultado:  7.0\n"
          ]
        }
      ]
    },
    {
      "cell_type": "markdown",
      "source": [
        "Repetições"
      ],
      "metadata": {
        "id": "-iwcEJXuvf8Z"
      }
    },
    {
      "cell_type": "code",
      "source": [
        "x = 1\n",
        "print(x)\n",
        "x = 2\n",
        "print(x)\n",
        "x = 3\n",
        "print(x)"
      ],
      "metadata": {
        "colab": {
          "base_uri": "https://localhost:8080/"
        },
        "id": "KV5Avb3wvWVf",
        "outputId": "0f3d648b-6244-4abf-8d72-85aab74af7ba"
      },
      "execution_count": null,
      "outputs": [
        {
          "output_type": "stream",
          "name": "stdout",
          "text": [
            "1\n",
            "2\n",
            "3\n"
          ]
        }
      ]
    },
    {
      "cell_type": "code",
      "source": [
        "x = 1\n",
        "while x <= 3:\n",
        "  print(x)\n",
        "  x = x + 1"
      ],
      "metadata": {
        "colab": {
          "base_uri": "https://localhost:8080/"
        },
        "id": "VSNqbj_9wVoQ",
        "outputId": "3839490b-f8fd-478b-fcd0-cd407e653dfd"
      },
      "execution_count": null,
      "outputs": [
        {
          "output_type": "stream",
          "name": "stdout",
          "text": [
            "1\n",
            "2\n",
            "3\n"
          ]
        }
      ]
    },
    {
      "cell_type": "code",
      "source": [
        "x = 2\n",
        "while x <= 3:\n",
        "  print(x)\n",
        "  x = x + 1"
      ],
      "metadata": {
        "colab": {
          "base_uri": "https://localhost:8080/"
        },
        "id": "pe11xG-0x0FK",
        "outputId": "e6c874e0-25df-4fcc-8a9a-6063e3a53223"
      },
      "execution_count": null,
      "outputs": [
        {
          "output_type": "stream",
          "name": "stdout",
          "text": [
            "2\n",
            "3\n"
          ]
        }
      ]
    },
    {
      "cell_type": "code",
      "source": [
        "x = 50\n",
        "while x <= 100:\n",
        "  print(x)\n",
        "  x = x + 1"
      ],
      "metadata": {
        "colab": {
          "base_uri": "https://localhost:8080/"
        },
        "id": "oz7b5oRVxXsl",
        "outputId": "e8c73aaf-0473-41e5-f5e8-844ae91d284b"
      },
      "execution_count": null,
      "outputs": [
        {
          "output_type": "stream",
          "name": "stdout",
          "text": [
            "50\n",
            "51\n",
            "52\n",
            "53\n",
            "54\n",
            "55\n",
            "56\n",
            "57\n",
            "58\n",
            "59\n",
            "60\n",
            "61\n",
            "62\n",
            "63\n",
            "64\n",
            "65\n",
            "66\n",
            "67\n",
            "68\n",
            "69\n",
            "70\n",
            "71\n",
            "72\n",
            "73\n",
            "74\n",
            "75\n",
            "76\n",
            "77\n",
            "78\n",
            "79\n",
            "80\n",
            "81\n",
            "82\n",
            "83\n",
            "84\n",
            "85\n",
            "86\n",
            "87\n",
            "88\n",
            "89\n",
            "90\n",
            "91\n",
            "92\n",
            "93\n",
            "94\n",
            "95\n",
            "96\n",
            "97\n",
            "98\n",
            "99\n",
            "100\n"
          ]
        }
      ]
    },
    {
      "cell_type": "code",
      "source": [
        "x = 10\n",
        "while x >= 0:\n",
        "    print(x)\n",
        "    x = x - 1\n",
        "print(\"Fogo!\")"
      ],
      "metadata": {
        "colab": {
          "base_uri": "https://localhost:8080/"
        },
        "id": "mYFscEyizaWH",
        "outputId": "4edfe59c-6add-46bf-a155-6f9ef6c1ae90"
      },
      "execution_count": null,
      "outputs": [
        {
          "output_type": "stream",
          "name": "stdout",
          "text": [
            "10\n",
            "9\n",
            "8\n",
            "7\n",
            "6\n",
            "5\n",
            "4\n",
            "3\n",
            "2\n",
            "1\n",
            "0\n",
            "Fogo!\n"
          ]
        }
      ]
    },
    {
      "cell_type": "markdown",
      "source": [
        "Contadores"
      ],
      "metadata": {
        "id": "brL0i5DG0Fqq"
      }
    },
    {
      "cell_type": "code",
      "source": [
        "fim = int(input(\"digite o último número a ser imprimido: \"))\n",
        "x = 1\n",
        "while x <= fim:\n",
        "  print(x)\n",
        "  x = x + 1"
      ],
      "metadata": {
        "colab": {
          "base_uri": "https://localhost:8080/"
        },
        "id": "npRg9jwd0JLo",
        "outputId": "6643cbde-8626-4b10-c80a-151936c9f847"
      },
      "execution_count": null,
      "outputs": [
        {
          "output_type": "stream",
          "name": "stdout",
          "text": [
            "digite o último número a ser imprimido: 5\n",
            "1\n",
            "2\n",
            "3\n",
            "4\n",
            "5\n"
          ]
        }
      ]
    },
    {
      "cell_type": "code",
      "source": [
        "fim = int(input(\" digite o último número a imprimir: \"))\n",
        "x = 0\n",
        "while x <= fim:\n",
        "  if x % 2 == 0:\n",
        "    print(x)\n",
        "  x = x + 1 "
      ],
      "metadata": {
        "colab": {
          "base_uri": "https://localhost:8080/"
        },
        "id": "FfJWKnU81V26",
        "outputId": "c1dfbed5-3476-47d8-a448-e1e9a74e5ed1"
      },
      "execution_count": null,
      "outputs": [
        {
          "output_type": "stream",
          "name": "stdout",
          "text": [
            " digite o último número a imprimir: 3\n",
            "0\n",
            "2\n"
          ]
        }
      ]
    },
    {
      "cell_type": "code",
      "source": [
        "fim = int(input(\" digite o último número a imprimir: \"))\n",
        "x = 0\n",
        "while x <= fim:\n",
        "    print(x)\n",
        "    x = x + 2"
      ],
      "metadata": {
        "colab": {
          "base_uri": "https://localhost:8080/"
        },
        "id": "IYXmPynQ26dc",
        "outputId": "a9ce0c9a-fa80-4593-a5e3-ccbb0968f8bf"
      },
      "execution_count": null,
      "outputs": [
        {
          "output_type": "stream",
          "name": "stdout",
          "text": [
            " digite o último número a imprimir: 8\n",
            "0\n",
            "2\n",
            "4\n",
            "6\n",
            "8\n"
          ]
        }
      ]
    },
    {
      "cell_type": "code",
      "source": [
        "n = int(input(\"tabuada de: \"))\n",
        "x = 1\n",
        "while x <=10:\n",
        "  print(n+x)\n",
        "  x = x+1"
      ],
      "metadata": {
        "colab": {
          "base_uri": "https://localhost:8080/"
        },
        "id": "uHXNeVo2JPtR",
        "outputId": "4705e87e-9bff-4b23-b2a7-bd27e51e5ad9"
      },
      "execution_count": null,
      "outputs": [
        {
          "output_type": "stream",
          "name": "stdout",
          "text": [
            "tabuada de: 5\n",
            "6\n",
            "7\n",
            "8\n",
            "9\n",
            "10\n",
            "11\n",
            "12\n",
            "13\n",
            "14\n",
            "15\n"
          ]
        }
      ]
    },
    {
      "cell_type": "code",
      "source": [
        "n = int(input(\"Tabuada de:\"))\n",
        "x = 1\n",
        "while x <= 10:\n",
        "    print(f\"{n} x {x} = {n * x}\")\n",
        "    x = x + 1"
      ],
      "metadata": {
        "colab": {
          "base_uri": "https://localhost:8080/"
        },
        "id": "rVkWNM0ENddz",
        "outputId": "8b19e90a-ebf7-47aa-f6ed-15336face65c"
      },
      "execution_count": null,
      "outputs": [
        {
          "output_type": "stream",
          "name": "stdout",
          "text": [
            "Tabuada de:2\n",
            "2 x 1 = 2\n",
            "2 x 2 = 4\n",
            "2 x 3 = 6\n",
            "2 x 4 = 8\n",
            "2 x 5 = 10\n",
            "2 x 6 = 12\n",
            "2 x 7 = 14\n",
            "2 x 8 = 16\n",
            "2 x 9 = 18\n",
            "2 x 10 = 20\n"
          ]
        }
      ]
    },
    {
      "cell_type": "code",
      "source": [
        "n = int(input(\"Tabuada de: \"))\n",
        "inicio = int(input(\"De: \"))\n",
        "fim = int(input(\"Até: \"))\n",
        "x = inicio\n",
        "while x <= fim:\n",
        "    print(f\"{n} x {x} = {n * x}\")\n",
        "    x = x + 1"
      ],
      "metadata": {
        "colab": {
          "base_uri": "https://localhost:8080/"
        },
        "id": "FatiDKBMN7sA",
        "outputId": "fa63fcdf-8371-405c-8ac7-7f381b4cbac2"
      },
      "execution_count": null,
      "outputs": [
        {
          "output_type": "stream",
          "name": "stdout",
          "text": [
            "Tabuada de: 5\n",
            "De: 0\n",
            "Até: 10\n",
            "5 x 0 = 0\n",
            "5 x 1 = 5\n",
            "5 x 2 = 10\n",
            "5 x 3 = 15\n",
            "5 x 4 = 20\n",
            "5 x 5 = 25\n",
            "5 x 6 = 30\n",
            "5 x 7 = 35\n",
            "5 x 8 = 40\n",
            "5 x 9 = 45\n",
            "5 x 10 = 50\n"
          ]
        }
      ]
    },
    {
      "cell_type": "markdown",
      "source": [
        "Usando format"
      ],
      "metadata": {
        "id": "AAr2lnB2RBT9"
      }
    },
    {
      "cell_type": "code",
      "source": [
        "pi = 3.14159265\n",
        "mensagem = \"O valor de pi é: {:.2f}\".format(x)\n",
        "print(mensagem)"
      ],
      "metadata": {
        "colab": {
          "base_uri": "https://localhost:8080/"
        },
        "id": "PtOzRLebQeKG",
        "outputId": "be58b102-4c9d-4010-81e4-43fd5b6448c3"
      },
      "execution_count": null,
      "outputs": [
        {
          "output_type": "stream",
          "name": "stdout",
          "text": [
            "O valor de pi é: 3.14\n"
          ]
        }
      ]
    },
    {
      "cell_type": "markdown",
      "source": [
        "Usando break "
      ],
      "metadata": {
        "id": "jtcpacjCRqwt"
      }
    },
    {
      "cell_type": "code",
      "source": [
        "i = 0\n",
        "while i < 10:\n",
        "    if i == 5:\n",
        "        break\n",
        "    print(i)\n",
        "    i += 1"
      ],
      "metadata": {
        "colab": {
          "base_uri": "https://localhost:8080/"
        },
        "id": "up3uPJ05Rs9_",
        "outputId": "f240fcac-6889-4d06-fa83-1c993335c738"
      },
      "execution_count": null,
      "outputs": [
        {
          "output_type": "stream",
          "name": "stdout",
          "text": [
            "0\n",
            "1\n",
            "2\n",
            "3\n",
            "4\n"
          ]
        }
      ]
    },
    {
      "cell_type": "markdown",
      "source": [
        "Usando listas"
      ],
      "metadata": {
        "id": "eizVg3xARcYb"
      }
    },
    {
      "cell_type": "code",
      "source": [
        "Z = [15,8,9]\n",
        "Z [0]"
      ],
      "metadata": {
        "colab": {
          "base_uri": "https://localhost:8080/"
        },
        "id": "o060-AZtReZV",
        "outputId": "6a0334ed-4854-4052-afec-d9aa19eed2f5"
      },
      "execution_count": null,
      "outputs": [
        {
          "output_type": "execute_result",
          "data": {
            "text/plain": [
              "15"
            ]
          },
          "metadata": {},
          "execution_count": 9
        }
      ]
    },
    {
      "cell_type": "code",
      "source": [
        "z = [15,8,9]\n",
        "z [0]\n",
        "z [0]= 7\n",
        "z [0]\n",
        "z"
      ],
      "metadata": {
        "colab": {
          "base_uri": "https://localhost:8080/"
        },
        "id": "G2qieuzeShuO",
        "outputId": "ee966c7d-0ad2-458c-9732-03ff1a1671a9"
      },
      "execution_count": null,
      "outputs": [
        {
          "output_type": "execute_result",
          "data": {
            "text/plain": [
              "[7, 8, 9]"
            ]
          },
          "metadata": {},
          "execution_count": 10
        }
      ]
    },
    {
      "cell_type": "code",
      "source": [
        "# calculo da media\n",
        "notas = [5,6,7,8,9]\n",
        "soma = 0\n",
        "x = 0\n",
        "while x < 5:\n",
        "  soma += notas [x]\n",
        "  x += 1\n",
        "print(\"media: %5.2f\" % (soma/x))  "
      ],
      "metadata": {
        "colab": {
          "base_uri": "https://localhost:8080/"
        },
        "id": "OvU6iWV6TFu6",
        "outputId": "116cfd75-94a6-4409-e360-6693b3deaa9d"
      },
      "execution_count": null,
      "outputs": [
        {
          "output_type": "stream",
          "name": "stdout",
          "text": [
            "media:  7.00\n"
          ]
        }
      ]
    },
    {
      "cell_type": "code",
      "source": [
        "# cálculo da média com 5 notas digitadas\n",
        "notas = [0,0,0,0,0]\n",
        "soma = 0\n",
        "x = 0\n",
        "while x < 5:\n",
        "  notas [x] = float(input(\"digite a nota: \"))\n",
        "  soma += notas [x]\n",
        "  x += 1\n",
        "x = 0\n",
        "while x < 5:\n",
        "  print(\"nota %d: %6.2f\" % (x, notas [x]))\n",
        "  x += 1\n",
        "print(\"média: %5.2f\" % (soma/x))"
      ],
      "metadata": {
        "colab": {
          "base_uri": "https://localhost:8080/"
        },
        "id": "Oj51yXRRyRoz",
        "outputId": "98b140ce-7a2a-4da6-9439-d2efc8c3b63a"
      },
      "execution_count": null,
      "outputs": [
        {
          "output_type": "stream",
          "name": "stdout",
          "text": [
            "digite a nota: 6\n",
            "digite a nota: 7\n",
            "digite a nota: 8\n",
            "digite a nota: 9\n",
            "digite a nota: 10\n",
            "nota 0:   6.00\n",
            "nota 1:   7.00\n",
            "nota 2:   8.00\n",
            "nota 3:   9.00\n",
            "nota 4:  10.00\n",
            "média:  8.00\n"
          ]
        }
      ]
    },
    {
      "cell_type": "code",
      "source": [
        "# cálculo da média com 7 notas digitadas\n",
        "notas = [0,0,0,0,0,0,0]\n",
        "soma = 0\n",
        "x = 0\n",
        "while x < 7:\n",
        "  notas [x] = float(input(\"digite a nota: \"))\n",
        "  soma += notas [x]\n",
        "  x += 1\n",
        "x = 0\n",
        "while x < 7:\n",
        "  print(\"nota %d: %6.2f\" % (x, notas [x]))\n",
        "  x += 1\n",
        "print(\"média: %5.2f\" % (soma/x))"
      ],
      "metadata": {
        "colab": {
          "base_uri": "https://localhost:8080/"
        },
        "id": "L-nNUg8Pzmew",
        "outputId": "88bf30f8-9626-48ec-9338-0f6c9b7dbe70"
      },
      "execution_count": null,
      "outputs": [
        {
          "output_type": "stream",
          "name": "stdout",
          "text": [
            "digite a nota: 6\n",
            "digite a nota: 7\n",
            "digite a nota: 6\n",
            "digite a nota: 8\n",
            "digite a nota: 7\n",
            "digite a nota: 9\n",
            "digite a nota: 10\n",
            "nota 0:   6.00\n",
            "nota 1:   7.00\n",
            "nota 2:   6.00\n",
            "nota 3:   8.00\n",
            "nota 4:   7.00\n",
            "nota 5:   9.00\n",
            "nota 6:  10.00\n",
            "média:  7.57\n"
          ]
        }
      ]
    },
    {
      "cell_type": "code",
      "source": [
        "# apresentação de números\n",
        "números = [0,0,0,0,0]\n",
        "x = 0\n",
        "while x < 5:\n",
        "  números [x] = int(input(\"número %d\" % (x+1)))\n",
        "  x += 1\n",
        "while True:\n",
        "  escolhido = int(input(\"que posicao voce quer imprimir (0 para sair): \"))\n",
        "  if escolhido == 0:\n",
        "    break\n",
        "  print(\"voce escolheu o numero: %d\" % (números[escolhido -1]))"
      ],
      "metadata": {
        "colab": {
          "base_uri": "https://localhost:8080/"
        },
        "id": "PdPJwLicz9m5",
        "outputId": "4af8b5f5-7545-41c0-e9a0-77d46db7f62c"
      },
      "execution_count": null,
      "outputs": [
        {
          "name": "stdout",
          "output_type": "stream",
          "text": [
            "número 115\n",
            "número 212\n",
            "número 35\n",
            "número 47\n",
            "número 59\n",
            "que posicao voce quer imprimir (0 para sair): 3\n",
            "voce escolheu o numero: 5\n",
            "que posicao voce quer imprimir (0 para sair): 2\n",
            "voce escolheu o numero: 12\n",
            "que posicao voce quer imprimir (0 para sair): 0\n"
          ]
        }
      ]
    },
    {
      "cell_type": "code",
      "source": [
        "L = [1,2,3,4,5]\n",
        "V = L [:]\n",
        "V [0] = 6\n",
        "V"
      ],
      "metadata": {
        "colab": {
          "base_uri": "https://localhost:8080/"
        },
        "id": "xFgOuTN_DZTF",
        "outputId": "9c520ed0-68db-47df-b799-9583c1f4f88a"
      },
      "execution_count": 4,
      "outputs": [
        {
          "output_type": "execute_result",
          "data": {
            "text/plain": [
              "[6, 2, 3, 4, 5]"
            ]
          },
          "metadata": {},
          "execution_count": 4
        }
      ]
    },
    {
      "cell_type": "code",
      "source": [
        "# fatiamento de listas, utilizar os dois pontos [:] para fatiar as listas\n",
        "L = [1,2,3,4,5]\n",
        "L [0:5]\n",
        "L [:5]"
      ],
      "metadata": {
        "colab": {
          "base_uri": "https://localhost:8080/"
        },
        "id": "3eBSkCFfEFNy",
        "outputId": "236b817b-652e-4067-89b7-9f2a8f0373c6"
      },
      "execution_count": 7,
      "outputs": [
        {
          "output_type": "execute_result",
          "data": {
            "text/plain": [
              "[1, 2, 3, 4, 5]"
            ]
          },
          "metadata": {},
          "execution_count": 7
        }
      ]
    },
    {
      "cell_type": "code",
      "source": [
        "L = [1,2,3,4,5]\n",
        "L [:-1]"
      ],
      "metadata": {
        "colab": {
          "base_uri": "https://localhost:8080/"
        },
        "id": "nCOI4w31EmIF",
        "outputId": "4f7f0a1d-d65b-4838-f78a-4a19ef622881"
      },
      "execution_count": 8,
      "outputs": [
        {
          "output_type": "execute_result",
          "data": {
            "text/plain": [
              "[1, 2, 3, 4]"
            ]
          },
          "metadata": {},
          "execution_count": 8
        }
      ]
    },
    {
      "cell_type": "code",
      "source": [
        "L = [1,2,3,4,5]\n",
        "L [1:3]"
      ],
      "metadata": {
        "colab": {
          "base_uri": "https://localhost:8080/"
        },
        "id": "0En0akfDErto",
        "outputId": "eef34ec0-cdd2-435b-c5dc-99de87a9a31f"
      },
      "execution_count": 9,
      "outputs": [
        {
          "output_type": "execute_result",
          "data": {
            "text/plain": [
              "[2, 3]"
            ]
          },
          "metadata": {},
          "execution_count": 9
        }
      ]
    },
    {
      "cell_type": "code",
      "source": [
        "L = [1,2,3,4,5]\n",
        "L [3:]"
      ],
      "metadata": {
        "colab": {
          "base_uri": "https://localhost:8080/"
        },
        "id": "ruGtQ0JWEwZn",
        "outputId": "ae3267bf-d000-44a3-b5f4-70b80bbcc9b1"
      },
      "execution_count": 10,
      "outputs": [
        {
          "output_type": "execute_result",
          "data": {
            "text/plain": [
              "[4, 5]"
            ]
          },
          "metadata": {},
          "execution_count": 10
        }
      ]
    },
    {
      "cell_type": "code",
      "source": [
        "L = [1,2,3,4,5]\n",
        "L [-1]"
      ],
      "metadata": {
        "colab": {
          "base_uri": "https://localhost:8080/"
        },
        "id": "fVibQnZoE2sm",
        "outputId": "a4498507-847f-4440-b0af-ec7b2d249a38"
      },
      "execution_count": 13,
      "outputs": [
        {
          "output_type": "execute_result",
          "data": {
            "text/plain": [
              "5"
            ]
          },
          "metadata": {},
          "execution_count": 13
        }
      ]
    }
  ]
}