{
  "nbformat": 4,
  "nbformat_minor": 0,
  "metadata": {
    "colab": {
      "provenance": [],
      "authorship_tag": "ABX9TyNPbtu7vq6VFwDyeIhZEu7X",
      "include_colab_link": true
    },
    "kernelspec": {
      "name": "python3",
      "display_name": "Python 3"
    },
    "language_info": {
      "name": "python"
    }
  },
  "cells": [
    {
      "cell_type": "markdown",
      "metadata": {
        "id": "view-in-github",
        "colab_type": "text"
      },
      "source": [
        "<a href=\"https://colab.research.google.com/github/GabrielaSchubert/GabrielaSchubert/blob/main/Lista_de_Exercicios_Python_Brasil.ipynb\" target=\"_parent\"><img src=\"https://colab.research.google.com/assets/colab-badge.svg\" alt=\"Open In Colab\"/></a>"
      ]
    },
    {
      "cell_type": "markdown",
      "source": [
        "Exercicio 1"
      ],
      "metadata": {
        "id": "0_VChuMTItPm"
      }
    },
    {
      "cell_type": "code",
      "source": [
        "print(\" Alo Mundo \")"
      ],
      "metadata": {
        "colab": {
          "base_uri": "https://localhost:8080/"
        },
        "id": "iNZ_dlLnIxqM",
        "outputId": "1b60e654-413c-49b2-85d4-e39232a6dcda"
      },
      "execution_count": null,
      "outputs": [
        {
          "output_type": "stream",
          "name": "stdout",
          "text": [
            " Alo Mundo \n"
          ]
        }
      ]
    },
    {
      "cell_type": "markdown",
      "source": [
        "Exercicio 2"
      ],
      "metadata": {
        "id": "os1TWa-hI9in"
      }
    },
    {
      "cell_type": "code",
      "source": [
        "num= int(input( \" digite o numero: \"))\n",
        "print(\"o numero informado foi\", num)"
      ],
      "metadata": {
        "colab": {
          "base_uri": "https://localhost:8080/"
        },
        "id": "hbs4fWlQJAZf",
        "outputId": "2414935b-52da-4168-f328-675d11f08d37"
      },
      "execution_count": null,
      "outputs": [
        {
          "output_type": "stream",
          "name": "stdout",
          "text": [
            " digite o numero: 8\n",
            "o numero informado foi 8\n"
          ]
        }
      ]
    },
    {
      "cell_type": "markdown",
      "source": [
        "Exercicio 3"
      ],
      "metadata": {
        "id": "t1p9o4BFJYY4"
      }
    },
    {
      "cell_type": "code",
      "source": [
        "num1= int(input(\" digite o numero: \"))\n",
        "num2= int(input(\" digite outro numero: \"))\n",
        "soma= num1+num2\n",
        "print(\"soma dos dois\", soma)"
      ],
      "metadata": {
        "colab": {
          "base_uri": "https://localhost:8080/"
        },
        "id": "g37NYSZKJaLA",
        "outputId": "357c184a-2db5-44a6-ab2b-0d71a13edc71"
      },
      "execution_count": null,
      "outputs": [
        {
          "output_type": "stream",
          "name": "stdout",
          "text": [
            " digite o numero: 5\n",
            " digite outro numero: 5\n",
            "soma dos dois 10\n"
          ]
        }
      ]
    },
    {
      "cell_type": "markdown",
      "source": [
        "Exercicio 4"
      ],
      "metadata": {
        "id": "BjZYJvlVJ-jT"
      }
    },
    {
      "cell_type": "code",
      "source": [
        "prinota= float(input( \" digite a nota: \"))\n",
        "segnota= float(input(\" digite outra nota: \"))\n",
        "trinota= float(input(\" digite mais nota: \"))\n",
        "quanota= float(input(\" digite nota: \"))\n",
        "media1= (prinota+segnota+trinota+quanota) /4\n",
        "print(\"sua media foi\", media1)"
      ],
      "metadata": {
        "colab": {
          "base_uri": "https://localhost:8080/"
        },
        "id": "JRjy91giKB1U",
        "outputId": "74f1ed46-4df3-448c-bbed-df4b6c67cb48"
      },
      "execution_count": null,
      "outputs": [
        {
          "output_type": "stream",
          "name": "stdout",
          "text": [
            " digite a nota: 6.5\n",
            " digite outra nota: 7.5\n",
            " digite mais nota: 8.5\n",
            " digite nota: 9.5\n",
            "sua media foi 8.0\n"
          ]
        }
      ]
    },
    {
      "cell_type": "markdown",
      "source": [
        "Exercicio 5"
      ],
      "metadata": {
        "id": "X8UwbsBlNOuA"
      }
    },
    {
      "cell_type": "code",
      "source": [
        "met= float(input(\" digite o metro: \"))\n",
        "cen= met*100\n",
        "print(\"cm\", cen)\n"
      ],
      "metadata": {
        "colab": {
          "base_uri": "https://localhost:8080/"
        },
        "id": "1tiWU7oSNRv_",
        "outputId": "91dace7a-f3b8-44c5-9e0f-0e3cd1e38f92"
      },
      "execution_count": null,
      "outputs": [
        {
          "output_type": "stream",
          "name": "stdout",
          "text": [
            " digite o metro: 1.5\n",
            "cm 150.0\n"
          ]
        }
      ]
    },
    {
      "cell_type": "markdown",
      "source": [
        "Exercicio 6"
      ],
      "metadata": {
        "id": "fG1Hk-HEQWRR"
      }
    },
    {
      "cell_type": "code",
      "source": [
        "raio= int(input(\" digite o raio do circulo: \"))\n",
        "area= 3.14*raio**2\n",
        "print(\"sua area\", area)\n"
      ],
      "metadata": {
        "id": "I9R4VJVkQYxp",
        "colab": {
          "base_uri": "https://localhost:8080/"
        },
        "outputId": "8ff73528-a603-4c06-bda5-3a75eeaf3c2c"
      },
      "execution_count": null,
      "outputs": [
        {
          "output_type": "stream",
          "name": "stdout",
          "text": [
            " digite o raio do circulo: 6\n",
            "sua area 113.04\n"
          ]
        }
      ]
    },
    {
      "cell_type": "markdown",
      "source": [
        "Exercicio 7"
      ],
      "metadata": {
        "id": "c-kHwxq0R8PI"
      }
    },
    {
      "cell_type": "code",
      "source": [
        "lado= float(input( \" digite o lado do quadrado: \"))\n",
        "area= lado*lado\n",
        "dobro= area*2\n",
        "print(\" resultado da area\", area)\n",
        "print(\" resultado do dobro\", dobro)"
      ],
      "metadata": {
        "id": "yUOeyxkJT0ae",
        "colab": {
          "base_uri": "https://localhost:8080/"
        },
        "outputId": "c188728a-4ea2-49d9-f8dd-97945b5065ee"
      },
      "execution_count": null,
      "outputs": [
        {
          "output_type": "stream",
          "name": "stdout",
          "text": [
            " digite o lado do quadrado: 6\n",
            " resultado da area 36.0\n",
            " resultado do dobro 72.0\n"
          ]
        }
      ]
    },
    {
      "cell_type": "markdown",
      "source": [
        "Exercicio 8"
      ],
      "metadata": {
        "id": "1I4LI6QhmMfR"
      }
    },
    {
      "cell_type": "code",
      "source": [
        "ganho_hora= float(input( \" digite o valor ganho por hora: \"))\n",
        "horas_trabalhadas= int(input(\" digite as horas trabalhadas no mes: \"))\n",
        "salario= ganho_hora*horas_trabalhadas\n",
        "print(\" total do salario\", salario)\n"
      ],
      "metadata": {
        "colab": {
          "base_uri": "https://localhost:8080/"
        },
        "id": "y2mxEPUmmOcB",
        "outputId": "a6a8e696-2449-4b5b-d237-398f94a978e4"
      },
      "execution_count": null,
      "outputs": [
        {
          "output_type": "stream",
          "name": "stdout",
          "text": [
            " digite o valor ganho por hora: 10.5\n",
            " digite as horas trabalhadas no mes: 200\n",
            " total do salario 2100.0\n"
          ]
        }
      ]
    },
    {
      "cell_type": "markdown",
      "source": [
        "Exercicio 9"
      ],
      "metadata": {
        "id": "hRpHgZhpp7LP"
      }
    },
    {
      "cell_type": "code",
      "source": [
        "f= float(input('Informe a temperatura em Farenheit: '))\n",
        "c= (5 * (f - 32) / 9)\n",
        "print(\"temperatura convertida para Celsius\", c)"
      ],
      "metadata": {
        "colab": {
          "base_uri": "https://localhost:8080/"
        },
        "id": "Xe1HGtIBbwUD",
        "outputId": "90aa2c87-22b0-454e-f4c3-a024ddc4b39a"
      },
      "execution_count": null,
      "outputs": [
        {
          "output_type": "stream",
          "name": "stdout",
          "text": [
            "Informe a temperatura em Farenheit: 22.3\n",
            "temperatura convertida para Celsius -5.388888888888889\n"
          ]
        }
      ]
    },
    {
      "cell_type": "markdown",
      "source": [
        "Exercicio 10"
      ],
      "metadata": {
        "id": "L5oZd6FtfSJF"
      }
    },
    {
      "cell_type": "code",
      "source": [
        "c= int(input(\" informe a temperatura em celsius \"))\n",
        "f= (5*(f - 32) /9 )\n",
        "print(\" temperatura convertida em farenheit\", f)"
      ],
      "metadata": {
        "colab": {
          "base_uri": "https://localhost:8080/"
        },
        "id": "X54jUYfifWKW",
        "outputId": "eba6e334-370b-455d-e4a2-e18c4f74af8c"
      },
      "execution_count": null,
      "outputs": [
        {
          "output_type": "stream",
          "name": "stdout",
          "text": [
            " informe a temperatura em celsius 20\n",
            " temperatura convertida em farenheit -5.388888888888889\n"
          ]
        }
      ]
    },
    {
      "cell_type": "markdown",
      "source": [
        "Exercicio 11"
      ],
      "metadata": {
        "id": "FNGouSmwgjB6"
      }
    },
    {
      "cell_type": "code",
      "source": [
        "num1= int(input( \" insira o numero: \"))\n",
        "num2= int(input(\" insira outro numero: \"))\n",
        "num3= float(input(\" insira mais esse numero: \"))\n",
        "n1= num1 *2* (num2/2)\n",
        "print(\" o produto do dobro do primeiro com metade do segundo\", n1)\n",
        "n2= num1*3 + num3\n",
        "print(\" a soma do triplo do primeiro com o terceiro\", n2)\n",
        "n3= num3**3\n",
        "print(\" o terceiro elevado ao cubo\", n3)\n",
        "\n"
      ],
      "metadata": {
        "colab": {
          "base_uri": "https://localhost:8080/"
        },
        "id": "g85SIe9zgmBf",
        "outputId": "b3d8b78c-d14b-47c3-c84c-b646f46146c1"
      },
      "execution_count": null,
      "outputs": [
        {
          "output_type": "stream",
          "name": "stdout",
          "text": [
            " insira o numero: 6\n",
            " insira outro numero: 8\n",
            " insira mais esse numero: 6.5\n",
            " o produto do dobro do primeiro com metade do segundo 48.0\n",
            " a soma do triplo do primeiro com o terceiro 24.5\n",
            " o terceiro elevado ao cubo 274.625\n"
          ]
        }
      ]
    },
    {
      "cell_type": "markdown",
      "source": [
        "Exercicio 12"
      ],
      "metadata": {
        "id": "6wvGpmD5jaLA"
      }
    },
    {
      "cell_type": "code",
      "source": [
        "altura = float(input('Informe sua altura: '))\n",
        "peso = (72.7 * altura) - 58\n",
        "print('Seu peso ideal', peso)"
      ],
      "metadata": {
        "colab": {
          "base_uri": "https://localhost:8080/"
        },
        "id": "1pZ1InBiJiRp",
        "outputId": "1b8093a3-0436-4e76-9bb5-d579a6d91596"
      },
      "execution_count": null,
      "outputs": [
        {
          "output_type": "stream",
          "name": "stdout",
          "text": [
            "Informe sua altura: 1.68\n",
            "Seu peso ideal 64.136\n"
          ]
        }
      ]
    },
    {
      "cell_type": "markdown",
      "source": [
        "Exercicio 15"
      ],
      "metadata": {
        "id": "BO2R2EKSnd44"
      }
    },
    {
      "cell_type": "code",
      "source": [
        "ganho_p_hora= float( input(\" digite o valor ganho por hora: \"))\n",
        "horas_mes= float(input(\" digite as horas trabalhadas no mes: \"))\n",
        "sal_bruto= ganho_p_hora* horas_mes\n",
        "im_renda= sal_bruto*11/100\n",
        "inss= sal_bruto*8/100\n",
        "sindi= sal_bruto*5/100\n",
        "descontos= (im_renda + inss + sindi)\n",
        "sal_liq= sal_bruto - descontos\n",
        "print(\"seu salario bruto\", sal_bruto)\n",
        "print(\"Valor dos impostos\",descontos)\n",
        "print(\" valor pago no imposto de renda\", im_renda)\n",
        "print(\"valor pago ao inss\", inss)\n",
        "print(\"valor pago ao sindicato\", sindi)\n",
        "print(\" seu salario liquido\", sal_liq)"
      ],
      "metadata": {
        "id": "0-FUrCJenfth",
        "colab": {
          "base_uri": "https://localhost:8080/"
        },
        "outputId": "3ebc0ed9-bfde-4f08-e616-226938fbbcf4"
      },
      "execution_count": null,
      "outputs": [
        {
          "output_type": "stream",
          "name": "stdout",
          "text": [
            " digite o valor ganho por hora: 45.5\n",
            " digite as horas trabalhadas no mes: 180\n",
            "seu salario bruto 8190.0\n",
            "Valor dos impostos 1965.6\n",
            " valor pago no imposto de renda 900.9\n",
            "valor pago ao inss 655.2\n",
            "valor pago ao sindicato 409.5\n",
            " seu salario liquido 6224.4\n"
          ]
        }
      ]
    },
    {
      "cell_type": "markdown",
      "source": [
        "Exercicio 16"
      ],
      "metadata": {
        "id": "wGvbyYNoQLv1"
      }
    },
    {
      "cell_type": "code",
      "source": [
        "import math\n",
        "metros = float(input(\"metros quadrados: \"))\n",
        "litros = metros / 3\n",
        "latas = math.ceil(litros / 18)\n",
        "preco = latas * 80\n",
        "print(\"Quantidade de latas: %.0f\" %latas)\n",
        "print(\"R$%.2f\" %preco)"
      ],
      "metadata": {
        "colab": {
          "base_uri": "https://localhost:8080/"
        },
        "id": "Y2BohoALWYj6",
        "outputId": "777cce7e-43d9-4ee8-a7c9-f2f665abf317"
      },
      "execution_count": null,
      "outputs": [
        {
          "output_type": "stream",
          "name": "stdout",
          "text": [
            "metros quadrados: 8.5\n",
            "Quantidade de latas: 1\n",
            "R$80.00\n"
          ]
        }
      ]
    },
    {
      "cell_type": "markdown",
      "source": [
        "Exercicio 17"
      ],
      "metadata": {
        "id": "iVjnMhd7WiTB"
      }
    },
    {
      "cell_type": "markdown",
      "source": [
        "Exercicio 18"
      ],
      "metadata": {
        "id": "_SLEjPxHH1Mp"
      }
    },
    {
      "cell_type": "code",
      "source": [
        "tam = float(input('tamanho do arquivo em mb: '))\n",
        "vel = float(input('velocidade da internet em mbps: '))\n",
        "print('Tempo aproximado de download: %.0f minutos ' %((tam / vel) * 60))"
      ],
      "metadata": {
        "colab": {
          "base_uri": "https://localhost:8080/"
        },
        "id": "mlMyzOoTNJ9m",
        "outputId": "d46ceaba-c8aa-45c9-f63e-aa0432de6fc3"
      },
      "execution_count": null,
      "outputs": [
        {
          "output_type": "stream",
          "name": "stdout",
          "text": [
            "Tamanho do arquivo (MB): 5.6\n",
            "Velocidade de Internet (MBps): 3.1\n",
            "Tempo aproximado de download: 108 Minutos \n"
          ]
        }
      ]
    }
  ]
}